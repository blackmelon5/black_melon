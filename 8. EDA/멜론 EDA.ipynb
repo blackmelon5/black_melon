{
 "cells": [
  {
   "cell_type": "code",
   "execution_count": 15,
   "metadata": {},
   "outputs": [],
   "source": [
    "import pandas as pd\n",
    "%matplotlib inline\n",
    "import seaborn as sns\n",
    "import plotly as plt"
   ]
  },
  {
   "cell_type": "code",
   "execution_count": 2,
   "metadata": {},
   "outputs": [],
   "source": [
    "melon = pd.read_csv('./melon_chart.csv')"
   ]
  },
  {
   "cell_type": "code",
   "execution_count": 3,
   "metadata": {},
   "outputs": [],
   "source": [
    "all = pd.read_csv('./melon_chart_all.csv')"
   ]
  },
  {
   "cell_type": "code",
   "execution_count": 4,
   "metadata": {},
   "outputs": [
    {
     "data": {
      "text/html": [
       "<div>\n",
       "<style scoped>\n",
       "    .dataframe tbody tr th:only-of-type {\n",
       "        vertical-align: middle;\n",
       "    }\n",
       "\n",
       "    .dataframe tbody tr th {\n",
       "        vertical-align: top;\n",
       "    }\n",
       "\n",
       "    .dataframe thead th {\n",
       "        text-align: right;\n",
       "    }\n",
       "</style>\n",
       "<table border=\"1\" class=\"dataframe\">\n",
       "  <thead>\n",
       "    <tr style=\"text-align: right;\">\n",
       "      <th></th>\n",
       "      <th>index</th>\n",
       "      <th>year</th>\n",
       "      <th>month</th>\n",
       "      <th>week</th>\n",
       "      <th>rank</th>\n",
       "      <th>song_id</th>\n",
       "      <th>title</th>\n",
       "      <th>artist</th>\n",
       "      <th>album</th>\n",
       "      <th>genre</th>\n",
       "      <th>album_id</th>\n",
       "      <th>album_score</th>\n",
       "      <th>album_score_count</th>\n",
       "      <th>album_reply</th>\n",
       "      <th>artist_id</th>\n",
       "      <th>fan</th>\n",
       "      <th>like</th>\n",
       "      <th>reply</th>\n",
       "    </tr>\n",
       "  </thead>\n",
       "  <tbody>\n",
       "    <tr>\n",
       "      <th>0</th>\n",
       "      <td>0</td>\n",
       "      <td>2018</td>\n",
       "      <td>04월</td>\n",
       "      <td>04.02~04.08</td>\n",
       "      <td>1</td>\n",
       "      <td>30989550</td>\n",
       "      <td>바코드 (Prod. GroovyRoom)</td>\n",
       "      <td>['김하온 (HAON)', ' 빈첸 (VINXEN)']</td>\n",
       "      <td>고등래퍼2 팀대항전 Part 3</td>\n",
       "      <td>['랩/힙합']</td>\n",
       "      <td>10153531</td>\n",
       "      <td>3.6</td>\n",
       "      <td>6524</td>\n",
       "      <td>3876</td>\n",
       "      <td>['2112493', '2113204']</td>\n",
       "      <td>['48578', '54257']</td>\n",
       "      <td>139311</td>\n",
       "      <td>1390</td>\n",
       "    </tr>\n",
       "    <tr>\n",
       "      <th>1</th>\n",
       "      <td>1</td>\n",
       "      <td>2018</td>\n",
       "      <td>04월</td>\n",
       "      <td>04.02~04.08</td>\n",
       "      <td>2</td>\n",
       "      <td>30948698</td>\n",
       "      <td>꽃 길</td>\n",
       "      <td>['BIGBANG']</td>\n",
       "      <td>꽃 길</td>\n",
       "      <td>['R&amp;B/Soul']</td>\n",
       "      <td>10147314</td>\n",
       "      <td>4.2</td>\n",
       "      <td>23974</td>\n",
       "      <td>34939</td>\n",
       "      <td>['198094']</td>\n",
       "      <td>['301825']</td>\n",
       "      <td>181778</td>\n",
       "      <td>2571</td>\n",
       "    </tr>\n",
       "    <tr>\n",
       "      <th>2</th>\n",
       "      <td>2</td>\n",
       "      <td>2018</td>\n",
       "      <td>04월</td>\n",
       "      <td>04.02~04.08</td>\n",
       "      <td>3</td>\n",
       "      <td>30937275</td>\n",
       "      <td>별이 빛나는 밤</td>\n",
       "      <td>['마마무(Mamamoo)']</td>\n",
       "      <td>Yellow Flower</td>\n",
       "      <td>['댄스']</td>\n",
       "      <td>10145303</td>\n",
       "      <td>4.0</td>\n",
       "      <td>17652</td>\n",
       "      <td>34803</td>\n",
       "      <td>['750053']</td>\n",
       "      <td>['219494']</td>\n",
       "      <td>159528</td>\n",
       "      <td>1552</td>\n",
       "    </tr>\n",
       "    <tr>\n",
       "      <th>3</th>\n",
       "      <td>3</td>\n",
       "      <td>2018</td>\n",
       "      <td>04월</td>\n",
       "      <td>04.02~04.08</td>\n",
       "      <td>4</td>\n",
       "      <td>30859584</td>\n",
       "      <td>사랑을 했다 (LOVE SCENARIO)</td>\n",
       "      <td>['iKON']</td>\n",
       "      <td>Return</td>\n",
       "      <td>['랩/힙합']</td>\n",
       "      <td>10132945</td>\n",
       "      <td>3.9</td>\n",
       "      <td>36710</td>\n",
       "      <td>96712</td>\n",
       "      <td>['895741']</td>\n",
       "      <td>['128191']</td>\n",
       "      <td>288511</td>\n",
       "      <td>5016</td>\n",
       "    </tr>\n",
       "    <tr>\n",
       "      <th>4</th>\n",
       "      <td>4</td>\n",
       "      <td>2018</td>\n",
       "      <td>04월</td>\n",
       "      <td>04.02~04.08</td>\n",
       "      <td>5</td>\n",
       "      <td>30997649</td>\n",
       "      <td>EVERYDAY</td>\n",
       "      <td>['WINNER']</td>\n",
       "      <td>EVERYD4Y</td>\n",
       "      <td>['랩/힙합']</td>\n",
       "      <td>10154916</td>\n",
       "      <td>4.5</td>\n",
       "      <td>32479</td>\n",
       "      <td>31202</td>\n",
       "      <td>['775197']</td>\n",
       "      <td>['211842']</td>\n",
       "      <td>136798</td>\n",
       "      <td>1482</td>\n",
       "    </tr>\n",
       "  </tbody>\n",
       "</table>\n",
       "</div>"
      ],
      "text/plain": [
       "   index  year month         week  rank   song_id                   title  \\\n",
       "0      0  2018   04월  04.02~04.08     1  30989550  바코드 (Prod. GroovyRoom)   \n",
       "1      1  2018   04월  04.02~04.08     2  30948698                     꽃 길   \n",
       "2      2  2018   04월  04.02~04.08     3  30937275                별이 빛나는 밤   \n",
       "3      3  2018   04월  04.02~04.08     4  30859584  사랑을 했다 (LOVE SCENARIO)   \n",
       "4      4  2018   04월  04.02~04.08     5  30997649                EVERYDAY   \n",
       "\n",
       "                           artist              album         genre  album_id  \\\n",
       "0  ['김하온 (HAON)', ' 빈첸 (VINXEN)']  고등래퍼2 팀대항전 Part 3      ['랩/힙합']  10153531   \n",
       "1                     ['BIGBANG']                꽃 길  ['R&B/Soul']  10147314   \n",
       "2                ['마마무(Mamamoo)']      Yellow Flower        ['댄스']  10145303   \n",
       "3                        ['iKON']             Return      ['랩/힙합']  10132945   \n",
       "4                      ['WINNER']           EVERYD4Y      ['랩/힙합']  10154916   \n",
       "\n",
       "   album_score  album_score_count  album_reply               artist_id  \\\n",
       "0          3.6               6524         3876  ['2112493', '2113204']   \n",
       "1          4.2              23974        34939              ['198094']   \n",
       "2          4.0              17652        34803              ['750053']   \n",
       "3          3.9              36710        96712              ['895741']   \n",
       "4          4.5              32479        31202              ['775197']   \n",
       "\n",
       "                  fan    like  reply  \n",
       "0  ['48578', '54257']  139311   1390  \n",
       "1          ['301825']  181778   2571  \n",
       "2          ['219494']  159528   1552  \n",
       "3          ['128191']  288511   5016  \n",
       "4          ['211842']  136798   1482  "
      ]
     },
     "execution_count": 4,
     "metadata": {},
     "output_type": "execute_result"
    }
   ],
   "source": [
    "all.head()"
   ]
  },
  {
   "cell_type": "code",
   "execution_count": 6,
   "metadata": {},
   "outputs": [
    {
     "data": {
      "text/html": [
       "<div>\n",
       "<style scoped>\n",
       "    .dataframe tbody tr th:only-of-type {\n",
       "        vertical-align: middle;\n",
       "    }\n",
       "\n",
       "    .dataframe tbody tr th {\n",
       "        vertical-align: top;\n",
       "    }\n",
       "\n",
       "    .dataframe thead th {\n",
       "        text-align: right;\n",
       "    }\n",
       "</style>\n",
       "<table border=\"1\" class=\"dataframe\">\n",
       "  <thead>\n",
       "    <tr style=\"text-align: right;\">\n",
       "      <th></th>\n",
       "      <th>index</th>\n",
       "      <th>year</th>\n",
       "      <th>rank</th>\n",
       "      <th>song_id</th>\n",
       "      <th>album_id</th>\n",
       "      <th>album_score</th>\n",
       "      <th>album_score_count</th>\n",
       "      <th>album_reply</th>\n",
       "      <th>like</th>\n",
       "      <th>reply</th>\n",
       "    </tr>\n",
       "  </thead>\n",
       "  <tbody>\n",
       "    <tr>\n",
       "      <th>count</th>\n",
       "      <td>8500.000000</td>\n",
       "      <td>8500.000000</td>\n",
       "      <td>8500.000000</td>\n",
       "      <td>8.500000e+03</td>\n",
       "      <td>8.500000e+03</td>\n",
       "      <td>8500.000000</td>\n",
       "      <td>8500.000000</td>\n",
       "      <td>8500.000000</td>\n",
       "      <td>8500.000000</td>\n",
       "      <td>8500.000000</td>\n",
       "    </tr>\n",
       "    <tr>\n",
       "      <th>mean</th>\n",
       "      <td>4249.500000</td>\n",
       "      <td>2018.541176</td>\n",
       "      <td>50.500000</td>\n",
       "      <td>3.037899e+07</td>\n",
       "      <td>9.894233e+06</td>\n",
       "      <td>3.786235</td>\n",
       "      <td>23808.436118</td>\n",
       "      <td>29272.152824</td>\n",
       "      <td>137752.446471</td>\n",
       "      <td>1474.379882</td>\n",
       "    </tr>\n",
       "    <tr>\n",
       "      <th>std</th>\n",
       "      <td>2453.882977</td>\n",
       "      <td>0.498331</td>\n",
       "      <td>28.867768</td>\n",
       "      <td>4.700161e+06</td>\n",
       "      <td>1.528327e+06</td>\n",
       "      <td>0.794072</td>\n",
       "      <td>25396.016511</td>\n",
       "      <td>41378.292033</td>\n",
       "      <td>82349.839522</td>\n",
       "      <td>1860.456970</td>\n",
       "    </tr>\n",
       "    <tr>\n",
       "      <th>min</th>\n",
       "      <td>0.000000</td>\n",
       "      <td>2018.000000</td>\n",
       "      <td>1.000000</td>\n",
       "      <td>1.477600e+04</td>\n",
       "      <td>8.290000e+02</td>\n",
       "      <td>0.900000</td>\n",
       "      <td>465.000000</td>\n",
       "      <td>101.000000</td>\n",
       "      <td>5253.000000</td>\n",
       "      <td>22.000000</td>\n",
       "    </tr>\n",
       "    <tr>\n",
       "      <th>25%</th>\n",
       "      <td>2124.750000</td>\n",
       "      <td>2018.000000</td>\n",
       "      <td>25.750000</td>\n",
       "      <td>3.096253e+07</td>\n",
       "      <td>1.014949e+07</td>\n",
       "      <td>3.600000</td>\n",
       "      <td>5365.000000</td>\n",
       "      <td>2128.000000</td>\n",
       "      <td>76706.000000</td>\n",
       "      <td>390.000000</td>\n",
       "    </tr>\n",
       "    <tr>\n",
       "      <th>50%</th>\n",
       "      <td>4249.500000</td>\n",
       "      <td>2019.000000</td>\n",
       "      <td>50.500000</td>\n",
       "      <td>3.130620e+07</td>\n",
       "      <td>1.020396e+07</td>\n",
       "      <td>3.900000</td>\n",
       "      <td>13180.000000</td>\n",
       "      <td>8879.000000</td>\n",
       "      <td>131941.000000</td>\n",
       "      <td>835.000000</td>\n",
       "    </tr>\n",
       "    <tr>\n",
       "      <th>75%</th>\n",
       "      <td>6374.250000</td>\n",
       "      <td>2019.000000</td>\n",
       "      <td>75.250000</td>\n",
       "      <td>3.166642e+07</td>\n",
       "      <td>1.026086e+07</td>\n",
       "      <td>4.300000</td>\n",
       "      <td>32042.000000</td>\n",
       "      <td>40199.000000</td>\n",
       "      <td>178502.000000</td>\n",
       "      <td>1875.000000</td>\n",
       "    </tr>\n",
       "    <tr>\n",
       "      <th>max</th>\n",
       "      <td>8499.000000</td>\n",
       "      <td>2019.000000</td>\n",
       "      <td>100.000000</td>\n",
       "      <td>3.217594e+07</td>\n",
       "      <td>1.035189e+07</td>\n",
       "      <td>4.900000</td>\n",
       "      <td>121533.000000</td>\n",
       "      <td>262324.000000</td>\n",
       "      <td>440396.000000</td>\n",
       "      <td>12127.000000</td>\n",
       "    </tr>\n",
       "  </tbody>\n",
       "</table>\n",
       "</div>"
      ],
      "text/plain": [
       "             index         year         rank       song_id      album_id  \\\n",
       "count  8500.000000  8500.000000  8500.000000  8.500000e+03  8.500000e+03   \n",
       "mean   4249.500000  2018.541176    50.500000  3.037899e+07  9.894233e+06   \n",
       "std    2453.882977     0.498331    28.867768  4.700161e+06  1.528327e+06   \n",
       "min       0.000000  2018.000000     1.000000  1.477600e+04  8.290000e+02   \n",
       "25%    2124.750000  2018.000000    25.750000  3.096253e+07  1.014949e+07   \n",
       "50%    4249.500000  2019.000000    50.500000  3.130620e+07  1.020396e+07   \n",
       "75%    6374.250000  2019.000000    75.250000  3.166642e+07  1.026086e+07   \n",
       "max    8499.000000  2019.000000   100.000000  3.217594e+07  1.035189e+07   \n",
       "\n",
       "       album_score  album_score_count    album_reply           like  \\\n",
       "count  8500.000000        8500.000000    8500.000000    8500.000000   \n",
       "mean      3.786235       23808.436118   29272.152824  137752.446471   \n",
       "std       0.794072       25396.016511   41378.292033   82349.839522   \n",
       "min       0.900000         465.000000     101.000000    5253.000000   \n",
       "25%       3.600000        5365.000000    2128.000000   76706.000000   \n",
       "50%       3.900000       13180.000000    8879.000000  131941.000000   \n",
       "75%       4.300000       32042.000000   40199.000000  178502.000000   \n",
       "max       4.900000      121533.000000  262324.000000  440396.000000   \n",
       "\n",
       "              reply  \n",
       "count   8500.000000  \n",
       "mean    1474.379882  \n",
       "std     1860.456970  \n",
       "min       22.000000  \n",
       "25%      390.000000  \n",
       "50%      835.000000  \n",
       "75%     1875.000000  \n",
       "max    12127.000000  "
      ]
     },
     "execution_count": 6,
     "metadata": {},
     "output_type": "execute_result"
    }
   ],
   "source": [
    "all.describe()"
   ]
  },
  {
   "cell_type": "markdown",
   "metadata": {},
   "source": [
    "## 알수 있는 것\n",
    "* 8500개의 data\n",
    "* '앨범 평점'의 5점만점에 평균은 3.78 중앙값은 3.9 (비슷) -> 하위의 곡들을 찾아보자\n",
    "* '앨범 댓글 수'는 평균적으로 29272번 중앙값은 8879로 볼때 매우 극단적인 분포임을 알수 있음 -> 어떤곡이 상위인지 하위인지 알아보자 ^_^\n",
    "* '곡 좋아요'평균적으로 137752번 중앙값은 131941번 (비슷) \n",
    "* '앨범 좋아요' 는 평균 1474번 중앙값은 835번 극단적인 분포임을 알수 있다 -> 어떤앨범이 상위인지 하위인지 알아보자"
   ]
  },
  {
   "cell_type": "markdown",
   "metadata": {},
   "source": [
    "# 앨범 평점"
   ]
  },
  {
   "cell_type": "markdown",
   "metadata": {},
   "source": [
    "## 1.앨범평점의 분포"
   ]
  },
  {
   "cell_type": "code",
   "execution_count": 8,
   "metadata": {},
   "outputs": [
    {
     "data": {
      "text/plain": [
       "<matplotlib.axes._subplots.AxesSubplot at 0x10db0c610>"
      ]
     },
     "execution_count": 8,
     "metadata": {},
     "output_type": "execute_result"
    },
    {
     "data": {
      "image/png": "[encoded data removed]",
      "text/plain": [
       "<Figure size 432x288 with 1 Axes>"
      ]
     },
     "metadata": {
      "needs_background": "light"
     },
     "output_type": "display_data"
    }
   ],
   "source": [
    "all['album_score'].plot(kind='box')"
   ]
  },
  {
   "cell_type": "code",
   "execution_count": 17,
   "metadata": {},
   "outputs": [
    {
     "data": {
      "text/plain": [
       "<matplotlib.axes._subplots.AxesSubplot at 0x124e041d0>"
      ]
     },
     "execution_count": 17,
     "metadata": {},
     "output_type": "execute_result"
    },
    {
     "data": {
      "image/png": "[encoded data removed]",
      "text/plain": [
       "<Figure size 432x288 with 1 Axes>"
      ]
     },
     "metadata": {
      "needs_background": "light"
     },
     "output_type": "display_data"
    }
   ],
   "source": [
    "all['album_score'].hist()"
   ]
  },
  {
   "cell_type": "code",
   "execution_count": 25,
   "metadata": {},
   "outputs": [],
   "source": [
    "low_score = all[all['album_score'] < 1.5]"
   ]
  },
  {
   "cell_type": "code",
   "execution_count": 29,
   "metadata": {},
   "outputs": [
    {
     "data": {
      "text/plain": [
       "1.4    105\n",
       "1.0     87\n",
       "1.1     65\n",
       "0.9     30\n",
       "1.2     23\n",
       "1.3     15\n",
       "Name: album_score, dtype: int64"
      ]
     },
     "execution_count": 29,
     "metadata": {},
     "output_type": "execute_result"
    }
   ],
   "source": [
    "low_score['album_score'].value_counts()"
   ]
  },
  {
   "cell_type": "code",
   "execution_count": 26,
   "metadata": {},
   "outputs": [
    {
     "data": {
      "text/plain": [
       "<matplotlib.axes._subplots.AxesSubplot at 0x12567e190>"
      ]
     },
     "execution_count": 26,
     "metadata": {},
     "output_type": "execute_result"
    },
    {
     "data": {
      "image/png": "[encoded data removed]",
      "text/plain": [
       "<Figure size 432x288 with 1 Axes>"
      ]
     },
     "metadata": {
      "needs_background": "light"
     },
     "output_type": "display_data"
    }
   ],
   "source": [
    "low_score['album_score'].hist()"
   ]
  },
  {
   "cell_type": "code",
   "execution_count": 33,
   "metadata": {},
   "outputs": [
    {
     "data": {
      "text/plain": [
       "title\n",
       "지나오다                               70\n",
       "Way Back Home                      69\n",
       "넋두리                                35\n",
       "이 노래가 클럽에서 나온다면                    30\n",
       "내 안부                               18\n",
       "대충 입고 나와                           17\n",
       "알았다면                               16\n",
       "비행운                                14\n",
       "미운 날                               12\n",
       "조금 취했어 (Prod. 2soo)                 8\n",
       "지각                                  6\n",
       "있어줘요                                6\n",
       "이별행동                                6\n",
       "시작됐나, 봄                             5\n",
       "사랑에 연습이 있었다면 (답가)                   5\n",
       "스무살이 왜이리 능글맞아 (Feat. 숀 (SHAUN))     4\n",
       "혼코노 (Honkono)                       4\n",
       "dtype: int64"
      ]
     },
     "execution_count": 33,
     "metadata": {},
     "output_type": "execute_result"
    }
   ],
   "source": [
    "low_score.groupby('title').size().sort_values(ascending = False)"
   ]
  },
  {
   "cell_type": "code",
   "execution_count": 67,
   "metadata": {},
   "outputs": [
    {
     "data": {
      "text/html": [
       "<div>\n",
       "<style scoped>\n",
       "    .dataframe tbody tr th:only-of-type {\n",
       "        vertical-align: middle;\n",
       "    }\n",
       "\n",
       "    .dataframe tbody tr th {\n",
       "        vertical-align: top;\n",
       "    }\n",
       "\n",
       "    .dataframe thead th {\n",
       "        text-align: right;\n",
       "    }\n",
       "</style>\n",
       "<table border=\"1\" class=\"dataframe\">\n",
       "  <thead>\n",
       "    <tr style=\"text-align: right;\">\n",
       "      <th></th>\n",
       "      <th>index</th>\n",
       "      <th>year</th>\n",
       "      <th>rank</th>\n",
       "      <th>song_id</th>\n",
       "      <th>album_id</th>\n",
       "      <th>album_score</th>\n",
       "      <th>album_score_count</th>\n",
       "      <th>album_reply</th>\n",
       "      <th>like</th>\n",
       "      <th>reply</th>\n",
       "    </tr>\n",
       "    <tr>\n",
       "      <th>title</th>\n",
       "      <th></th>\n",
       "      <th></th>\n",
       "      <th></th>\n",
       "      <th></th>\n",
       "      <th></th>\n",
       "      <th></th>\n",
       "      <th></th>\n",
       "      <th></th>\n",
       "      <th></th>\n",
       "      <th></th>\n",
       "    </tr>\n",
       "  </thead>\n",
       "  <tbody>\n",
       "    <tr>\n",
       "      <th>이 노래가 클럽에서 나온다면</th>\n",
       "      <td>5786.133333</td>\n",
       "      <td>2019.000000</td>\n",
       "      <td>37.133333</td>\n",
       "      <td>31576009.0</td>\n",
       "      <td>10245121.0</td>\n",
       "      <td>0.9</td>\n",
       "      <td>43561.0</td>\n",
       "      <td>32450.0</td>\n",
       "      <td>111849.0</td>\n",
       "      <td>3414.0</td>\n",
       "    </tr>\n",
       "    <tr>\n",
       "      <th>대충 입고 나와</th>\n",
       "      <td>6849.294118</td>\n",
       "      <td>2019.000000</td>\n",
       "      <td>50.294118</td>\n",
       "      <td>31835421.0</td>\n",
       "      <td>10291606.0</td>\n",
       "      <td>1.0</td>\n",
       "      <td>10500.0</td>\n",
       "      <td>2860.0</td>\n",
       "      <td>43848.0</td>\n",
       "      <td>337.0</td>\n",
       "    </tr>\n",
       "    <tr>\n",
       "      <th>지나오다</th>\n",
       "      <td>3482.842857</td>\n",
       "      <td>2018.442857</td>\n",
       "      <td>33.842857</td>\n",
       "      <td>30699142.0</td>\n",
       "      <td>10106853.0</td>\n",
       "      <td>1.0</td>\n",
       "      <td>92899.0</td>\n",
       "      <td>120742.0</td>\n",
       "      <td>216379.0</td>\n",
       "      <td>9616.0</td>\n",
       "    </tr>\n",
       "    <tr>\n",
       "      <th>미운 날</th>\n",
       "      <td>5305.750000</td>\n",
       "      <td>2019.000000</td>\n",
       "      <td>56.750000</td>\n",
       "      <td>31629490.0</td>\n",
       "      <td>10254316.0</td>\n",
       "      <td>1.1</td>\n",
       "      <td>18499.0</td>\n",
       "      <td>6249.0</td>\n",
       "      <td>37485.0</td>\n",
       "      <td>856.0</td>\n",
       "    </tr>\n",
       "    <tr>\n",
       "      <th>조금 취했어 (Prod. 2soo)</th>\n",
       "      <td>8054.375000</td>\n",
       "      <td>2019.000000</td>\n",
       "      <td>5.375000</td>\n",
       "      <td>32059630.0</td>\n",
       "      <td>10331499.0</td>\n",
       "      <td>1.1</td>\n",
       "      <td>19859.0</td>\n",
       "      <td>11555.0</td>\n",
       "      <td>73970.0</td>\n",
       "      <td>1351.0</td>\n",
       "    </tr>\n",
       "    <tr>\n",
       "      <th>있어줘요</th>\n",
       "      <td>8157.500000</td>\n",
       "      <td>2019.000000</td>\n",
       "      <td>8.500000</td>\n",
       "      <td>32085144.0</td>\n",
       "      <td>10336518.0</td>\n",
       "      <td>1.1</td>\n",
       "      <td>15613.0</td>\n",
       "      <td>4357.0</td>\n",
       "      <td>51733.0</td>\n",
       "      <td>361.0</td>\n",
       "    </tr>\n",
       "    <tr>\n",
       "      <th>스무살이 왜이리 능글맞아 (Feat. 숀 (SHAUN))</th>\n",
       "      <td>2229.500000</td>\n",
       "      <td>2018.000000</td>\n",
       "      <td>80.500000</td>\n",
       "      <td>31257764.0</td>\n",
       "      <td>10196005.0</td>\n",
       "      <td>1.1</td>\n",
       "      <td>12615.0</td>\n",
       "      <td>4743.0</td>\n",
       "      <td>30702.0</td>\n",
       "      <td>615.0</td>\n",
       "    </tr>\n",
       "    <tr>\n",
       "      <th>넋두리</th>\n",
       "      <td>1742.400000</td>\n",
       "      <td>2018.000000</td>\n",
       "      <td>43.400000</td>\n",
       "      <td>9642570.0</td>\n",
       "      <td>2710553.0</td>\n",
       "      <td>1.1</td>\n",
       "      <td>15441.0</td>\n",
       "      <td>1649.0</td>\n",
       "      <td>103605.0</td>\n",
       "      <td>430.0</td>\n",
       "    </tr>\n",
       "    <tr>\n",
       "      <th>내 안부</th>\n",
       "      <td>7599.055556</td>\n",
       "      <td>2019.000000</td>\n",
       "      <td>50.055556</td>\n",
       "      <td>31929663.0</td>\n",
       "      <td>10307772.0</td>\n",
       "      <td>1.2</td>\n",
       "      <td>4970.0</td>\n",
       "      <td>1063.0</td>\n",
       "      <td>47818.0</td>\n",
       "      <td>178.0</td>\n",
       "    </tr>\n",
       "    <tr>\n",
       "      <th>사랑에 연습이 있었다면 (답가)</th>\n",
       "      <td>6382.800000</td>\n",
       "      <td>2019.000000</td>\n",
       "      <td>83.800000</td>\n",
       "      <td>31843364.0</td>\n",
       "      <td>10292824.0</td>\n",
       "      <td>1.2</td>\n",
       "      <td>3482.0</td>\n",
       "      <td>927.0</td>\n",
       "      <td>20494.0</td>\n",
       "      <td>193.0</td>\n",
       "    </tr>\n",
       "    <tr>\n",
       "      <th>시작됐나, 봄</th>\n",
       "      <td>5054.400000</td>\n",
       "      <td>2019.000000</td>\n",
       "      <td>55.400000</td>\n",
       "      <td>31646298.0</td>\n",
       "      <td>10257142.0</td>\n",
       "      <td>1.3</td>\n",
       "      <td>6897.0</td>\n",
       "      <td>1021.0</td>\n",
       "      <td>20763.0</td>\n",
       "      <td>135.0</td>\n",
       "    </tr>\n",
       "    <tr>\n",
       "      <th>혼코노 (Honkono)</th>\n",
       "      <td>8239.250000</td>\n",
       "      <td>2019.000000</td>\n",
       "      <td>90.250000</td>\n",
       "      <td>32104350.0</td>\n",
       "      <td>10340024.0</td>\n",
       "      <td>1.3</td>\n",
       "      <td>3422.0</td>\n",
       "      <td>587.0</td>\n",
       "      <td>11407.0</td>\n",
       "      <td>96.0</td>\n",
       "    </tr>\n",
       "    <tr>\n",
       "      <th>이별행동</th>\n",
       "      <td>8198.000000</td>\n",
       "      <td>2019.000000</td>\n",
       "      <td>49.000000</td>\n",
       "      <td>32080223.0</td>\n",
       "      <td>10335543.0</td>\n",
       "      <td>1.3</td>\n",
       "      <td>3946.0</td>\n",
       "      <td>695.0</td>\n",
       "      <td>23820.0</td>\n",
       "      <td>94.0</td>\n",
       "    </tr>\n",
       "    <tr>\n",
       "      <th>알았다면</th>\n",
       "      <td>4498.375000</td>\n",
       "      <td>2018.875000</td>\n",
       "      <td>49.375000</td>\n",
       "      <td>31510409.0</td>\n",
       "      <td>10235477.0</td>\n",
       "      <td>1.4</td>\n",
       "      <td>10540.0</td>\n",
       "      <td>2415.0</td>\n",
       "      <td>42070.0</td>\n",
       "      <td>220.0</td>\n",
       "    </tr>\n",
       "    <tr>\n",
       "      <th>비행운</th>\n",
       "      <td>699.857143</td>\n",
       "      <td>2018.000000</td>\n",
       "      <td>50.857143</td>\n",
       "      <td>30086173.0</td>\n",
       "      <td>10013929.0</td>\n",
       "      <td>1.4</td>\n",
       "      <td>24465.0</td>\n",
       "      <td>8867.0</td>\n",
       "      <td>200873.0</td>\n",
       "      <td>1961.0</td>\n",
       "    </tr>\n",
       "    <tr>\n",
       "      <th>지각</th>\n",
       "      <td>1717.500000</td>\n",
       "      <td>2018.000000</td>\n",
       "      <td>68.500000</td>\n",
       "      <td>31172274.0</td>\n",
       "      <td>10182691.0</td>\n",
       "      <td>1.4</td>\n",
       "      <td>8469.0</td>\n",
       "      <td>2137.0</td>\n",
       "      <td>32466.0</td>\n",
       "      <td>135.0</td>\n",
       "    </tr>\n",
       "    <tr>\n",
       "      <th>Way Back Home</th>\n",
       "      <td>4832.333333</td>\n",
       "      <td>2018.637681</td>\n",
       "      <td>33.333333</td>\n",
       "      <td>31151836.0</td>\n",
       "      <td>10179508.0</td>\n",
       "      <td>1.4</td>\n",
       "      <td>67137.0</td>\n",
       "      <td>99392.0</td>\n",
       "      <td>283480.0</td>\n",
       "      <td>12127.0</td>\n",
       "    </tr>\n",
       "  </tbody>\n",
       "</table>\n",
       "</div>"
      ],
      "text/plain": [
       "                                       index         year       rank  \\\n",
       "title                                                                  \n",
       "이 노래가 클럽에서 나온다면                  5786.133333  2019.000000  37.133333   \n",
       "대충 입고 나와                         6849.294118  2019.000000  50.294118   \n",
       "지나오다                             3482.842857  2018.442857  33.842857   \n",
       "미운 날                             5305.750000  2019.000000  56.750000   \n",
       "조금 취했어 (Prod. 2soo)              8054.375000  2019.000000   5.375000   \n",
       "있어줘요                             8157.500000  2019.000000   8.500000   \n",
       "스무살이 왜이리 능글맞아 (Feat. 숀 (SHAUN))  2229.500000  2018.000000  80.500000   \n",
       "넋두리                              1742.400000  2018.000000  43.400000   \n",
       "내 안부                             7599.055556  2019.000000  50.055556   \n",
       "사랑에 연습이 있었다면 (답가)                6382.800000  2019.000000  83.800000   \n",
       "시작됐나, 봄                          5054.400000  2019.000000  55.400000   \n",
       "혼코노 (Honkono)                    8239.250000  2019.000000  90.250000   \n",
       "이별행동                             8198.000000  2019.000000  49.000000   \n",
       "알았다면                             4498.375000  2018.875000  49.375000   \n",
       "비행운                               699.857143  2018.000000  50.857143   \n",
       "지각                               1717.500000  2018.000000  68.500000   \n",
       "Way Back Home                    4832.333333  2018.637681  33.333333   \n",
       "\n",
       "                                    song_id    album_id  album_score  \\\n",
       "title                                                                  \n",
       "이 노래가 클럽에서 나온다면                  31576009.0  10245121.0          0.9   \n",
       "대충 입고 나와                         31835421.0  10291606.0          1.0   \n",
       "지나오다                             30699142.0  10106853.0          1.0   \n",
       "미운 날                             31629490.0  10254316.0          1.1   \n",
       "조금 취했어 (Prod. 2soo)              32059630.0  10331499.0          1.1   \n",
       "있어줘요                             32085144.0  10336518.0          1.1   \n",
       "스무살이 왜이리 능글맞아 (Feat. 숀 (SHAUN))  31257764.0  10196005.0          1.1   \n",
       "넋두리                               9642570.0   2710553.0          1.1   \n",
       "내 안부                             31929663.0  10307772.0          1.2   \n",
       "사랑에 연습이 있었다면 (답가)                31843364.0  10292824.0          1.2   \n",
       "시작됐나, 봄                          31646298.0  10257142.0          1.3   \n",
       "혼코노 (Honkono)                    32104350.0  10340024.0          1.3   \n",
       "이별행동                             32080223.0  10335543.0          1.3   \n",
       "알았다면                             31510409.0  10235477.0          1.4   \n",
       "비행운                              30086173.0  10013929.0          1.4   \n",
       "지각                               31172274.0  10182691.0          1.4   \n",
       "Way Back Home                    31151836.0  10179508.0          1.4   \n",
       "\n",
       "                                 album_score_count  album_reply      like  \\\n",
       "title                                                                       \n",
       "이 노래가 클럽에서 나온다면                            43561.0      32450.0  111849.0   \n",
       "대충 입고 나와                                   10500.0       2860.0   43848.0   \n",
       "지나오다                                       92899.0     120742.0  216379.0   \n",
       "미운 날                                       18499.0       6249.0   37485.0   \n",
       "조금 취했어 (Prod. 2soo)                        19859.0      11555.0   73970.0   \n",
       "있어줘요                                       15613.0       4357.0   51733.0   \n",
       "스무살이 왜이리 능글맞아 (Feat. 숀 (SHAUN))            12615.0       4743.0   30702.0   \n",
       "넋두리                                        15441.0       1649.0  103605.0   \n",
       "내 안부                                        4970.0       1063.0   47818.0   \n",
       "사랑에 연습이 있었다면 (답가)                           3482.0        927.0   20494.0   \n",
       "시작됐나, 봄                                     6897.0       1021.0   20763.0   \n",
       "혼코노 (Honkono)                               3422.0        587.0   11407.0   \n",
       "이별행동                                        3946.0        695.0   23820.0   \n",
       "알았다면                                       10540.0       2415.0   42070.0   \n",
       "비행운                                        24465.0       8867.0  200873.0   \n",
       "지각                                          8469.0       2137.0   32466.0   \n",
       "Way Back Home                              67137.0      99392.0  283480.0   \n",
       "\n",
       "                                   reply  \n",
       "title                                     \n",
       "이 노래가 클럽에서 나온다면                   3414.0  \n",
       "대충 입고 나와                           337.0  \n",
       "지나오다                              9616.0  \n",
       "미운 날                               856.0  \n",
       "조금 취했어 (Prod. 2soo)               1351.0  \n",
       "있어줘요                               361.0  \n",
       "스무살이 왜이리 능글맞아 (Feat. 숀 (SHAUN))    615.0  \n",
       "넋두리                                430.0  \n",
       "내 안부                               178.0  \n",
       "사랑에 연습이 있었다면 (답가)                  193.0  \n",
       "시작됐나, 봄                            135.0  \n",
       "혼코노 (Honkono)                       96.0  \n",
       "이별행동                                94.0  \n",
       "알았다면                               220.0  \n",
       "비행운                               1961.0  \n",
       "지각                                 135.0  \n",
       "Way Back Home                    12127.0  "
      ]
     },
     "execution_count": 67,
     "metadata": {},
     "output_type": "execute_result"
    }
   ],
   "source": [
    "low_score.groupby('title').mean().sort_values(by='album_score',ascending=True)"
   ]
  },
  {
   "cell_type": "markdown",
   "metadata": {},
   "source": [
    "## 2.앨범평점과 앨범좋아요 수의 연관성및 분포"
   ]
  },
  {
   "cell_type": "code",
   "execution_count": 69,
   "metadata": {},
   "outputs": [
    {
     "data": {
      "text/plain": [
       "<seaborn.axisgrid.JointGrid at 0x127128610>"
      ]
     },
     "execution_count": 69,
     "metadata": {},
     "output_type": "execute_result"
    },
    {
     "data": {
      "image/png": "[encoded data removed]",
      "text/plain": [
       "<Figure size 432x432 with 3 Axes>"
      ]
     },
     "metadata": {
      "needs_background": "light"
     },
     "output_type": "display_data"
    }
   ],
   "source": [
    "#조인트플롯\n",
    "sns.jointplot(data = all, x='album_score', y='like')"
   ]
  },
  {
   "cell_type": "code",
   "execution_count": 70,
   "metadata": {},
   "outputs": [
    {
     "data": {
      "text/plain": [
       "<matplotlib.axes._subplots.AxesSubplot at 0x12709e410>"
      ]
     },
     "execution_count": 70,
     "metadata": {},
     "output_type": "execute_result"
    },
    {
     "data": {
      "image/png": "[encoded data removed]",
      "text/plain": [
       "<Figure size 432x288 with 1 Axes>"
      ]
     },
     "metadata": {
      "needs_background": "light"
     },
     "output_type": "display_data"
    }
   ],
   "source": [
    "all.plot(kind ='scatter', x='album_score', y='like')"
   ]
  },
  {
   "cell_type": "code",
   "execution_count": 76,
   "metadata": {},
   "outputs": [
    {
     "data": {
      "text/html": [
       "<div>\n",
       "<style scoped>\n",
       "    .dataframe tbody tr th:only-of-type {\n",
       "        vertical-align: middle;\n",
       "    }\n",
       "\n",
       "    .dataframe tbody tr th {\n",
       "        vertical-align: top;\n",
       "    }\n",
       "\n",
       "    .dataframe thead th {\n",
       "        text-align: right;\n",
       "    }\n",
       "</style>\n",
       "<table border=\"1\" class=\"dataframe\">\n",
       "  <thead>\n",
       "    <tr style=\"text-align: right;\">\n",
       "      <th></th>\n",
       "      <th>index</th>\n",
       "      <th>year</th>\n",
       "      <th>rank</th>\n",
       "      <th>song_id</th>\n",
       "      <th>album_id</th>\n",
       "      <th>album_score</th>\n",
       "      <th>album_score_count</th>\n",
       "      <th>album_reply</th>\n",
       "      <th>like</th>\n",
       "      <th>reply</th>\n",
       "    </tr>\n",
       "  </thead>\n",
       "  <tbody>\n",
       "    <tr>\n",
       "      <th>index</th>\n",
       "      <td>1.000000</td>\n",
       "      <td>0.863084</td>\n",
       "      <td>0.011764</td>\n",
       "      <td>0.137383</td>\n",
       "      <td>0.113490</td>\n",
       "      <td>-0.056799</td>\n",
       "      <td>-0.168097</td>\n",
       "      <td>-0.193391</td>\n",
       "      <td>-0.186582</td>\n",
       "      <td>-0.040597</td>\n",
       "    </tr>\n",
       "    <tr>\n",
       "      <th>year</th>\n",
       "      <td>0.863084</td>\n",
       "      <td>1.000000</td>\n",
       "      <td>0.000000</td>\n",
       "      <td>0.131082</td>\n",
       "      <td>0.109998</td>\n",
       "      <td>-0.050691</td>\n",
       "      <td>-0.147372</td>\n",
       "      <td>-0.173155</td>\n",
       "      <td>-0.145582</td>\n",
       "      <td>-0.018315</td>\n",
       "    </tr>\n",
       "    <tr>\n",
       "      <th>rank</th>\n",
       "      <td>0.011764</td>\n",
       "      <td>0.000000</td>\n",
       "      <td>1.000000</td>\n",
       "      <td>-0.056989</td>\n",
       "      <td>-0.058849</td>\n",
       "      <td>0.183930</td>\n",
       "      <td>0.108473</td>\n",
       "      <td>0.057896</td>\n",
       "      <td>-0.199482</td>\n",
       "      <td>-0.110381</td>\n",
       "    </tr>\n",
       "    <tr>\n",
       "      <th>song_id</th>\n",
       "      <td>0.137383</td>\n",
       "      <td>0.131082</td>\n",
       "      <td>-0.056989</td>\n",
       "      <td>1.000000</td>\n",
       "      <td>0.976659</td>\n",
       "      <td>-0.047489</td>\n",
       "      <td>0.091627</td>\n",
       "      <td>0.091159</td>\n",
       "      <td>-0.113758</td>\n",
       "      <td>0.080404</td>\n",
       "    </tr>\n",
       "    <tr>\n",
       "      <th>album_id</th>\n",
       "      <td>0.113490</td>\n",
       "      <td>0.109998</td>\n",
       "      <td>-0.058849</td>\n",
       "      <td>0.976659</td>\n",
       "      <td>1.000000</td>\n",
       "      <td>-0.050128</td>\n",
       "      <td>0.111398</td>\n",
       "      <td>0.111807</td>\n",
       "      <td>-0.085742</td>\n",
       "      <td>0.098117</td>\n",
       "    </tr>\n",
       "    <tr>\n",
       "      <th>album_score</th>\n",
       "      <td>-0.056799</td>\n",
       "      <td>-0.050691</td>\n",
       "      <td>0.183930</td>\n",
       "      <td>-0.047489</td>\n",
       "      <td>-0.050128</td>\n",
       "      <td>1.000000</td>\n",
       "      <td>-0.202275</td>\n",
       "      <td>-0.137428</td>\n",
       "      <td>-0.062278</td>\n",
       "      <td>-0.331228</td>\n",
       "    </tr>\n",
       "    <tr>\n",
       "      <th>album_score_count</th>\n",
       "      <td>-0.168097</td>\n",
       "      <td>-0.147372</td>\n",
       "      <td>0.108473</td>\n",
       "      <td>0.091627</td>\n",
       "      <td>0.111398</td>\n",
       "      <td>-0.202275</td>\n",
       "      <td>1.000000</td>\n",
       "      <td>0.826339</td>\n",
       "      <td>0.467847</td>\n",
       "      <td>0.642276</td>\n",
       "    </tr>\n",
       "    <tr>\n",
       "      <th>album_reply</th>\n",
       "      <td>-0.193391</td>\n",
       "      <td>-0.173155</td>\n",
       "      <td>0.057896</td>\n",
       "      <td>0.091159</td>\n",
       "      <td>0.111807</td>\n",
       "      <td>-0.137428</td>\n",
       "      <td>0.826339</td>\n",
       "      <td>1.000000</td>\n",
       "      <td>0.478947</td>\n",
       "      <td>0.679723</td>\n",
       "    </tr>\n",
       "    <tr>\n",
       "      <th>like</th>\n",
       "      <td>-0.186582</td>\n",
       "      <td>-0.145582</td>\n",
       "      <td>-0.199482</td>\n",
       "      <td>-0.113758</td>\n",
       "      <td>-0.085742</td>\n",
       "      <td>-0.062278</td>\n",
       "      <td>0.467847</td>\n",
       "      <td>0.478947</td>\n",
       "      <td>1.000000</td>\n",
       "      <td>0.600689</td>\n",
       "    </tr>\n",
       "    <tr>\n",
       "      <th>reply</th>\n",
       "      <td>-0.040597</td>\n",
       "      <td>-0.018315</td>\n",
       "      <td>-0.110381</td>\n",
       "      <td>0.080404</td>\n",
       "      <td>0.098117</td>\n",
       "      <td>-0.331228</td>\n",
       "      <td>0.642276</td>\n",
       "      <td>0.679723</td>\n",
       "      <td>0.600689</td>\n",
       "      <td>1.000000</td>\n",
       "    </tr>\n",
       "  </tbody>\n",
       "</table>\n",
       "</div>"
      ],
      "text/plain": [
       "                      index      year      rank   song_id  album_id  \\\n",
       "index              1.000000  0.863084  0.011764  0.137383  0.113490   \n",
       "year               0.863084  1.000000  0.000000  0.131082  0.109998   \n",
       "rank               0.011764  0.000000  1.000000 -0.056989 -0.058849   \n",
       "song_id            0.137383  0.131082 -0.056989  1.000000  0.976659   \n",
       "album_id           0.113490  0.109998 -0.058849  0.976659  1.000000   \n",
       "album_score       -0.056799 -0.050691  0.183930 -0.047489 -0.050128   \n",
       "album_score_count -0.168097 -0.147372  0.108473  0.091627  0.111398   \n",
       "album_reply       -0.193391 -0.173155  0.057896  0.091159  0.111807   \n",
       "like              -0.186582 -0.145582 -0.199482 -0.113758 -0.085742   \n",
       "reply             -0.040597 -0.018315 -0.110381  0.080404  0.098117   \n",
       "\n",
       "                   album_score  album_score_count  album_reply      like  \\\n",
       "index                -0.056799          -0.168097    -0.193391 -0.186582   \n",
       "year                 -0.050691          -0.147372    -0.173155 -0.145582   \n",
       "rank                  0.183930           0.108473     0.057896 -0.199482   \n",
       "song_id              -0.047489           0.091627     0.091159 -0.113758   \n",
       "album_id             -0.050128           0.111398     0.111807 -0.085742   \n",
       "album_score           1.000000          -0.202275    -0.137428 -0.062278   \n",
       "album_score_count    -0.202275           1.000000     0.826339  0.467847   \n",
       "album_reply          -0.137428           0.826339     1.000000  0.478947   \n",
       "like                 -0.062278           0.467847     0.478947  1.000000   \n",
       "reply                -0.331228           0.642276     0.679723  0.600689   \n",
       "\n",
       "                      reply  \n",
       "index             -0.040597  \n",
       "year              -0.018315  \n",
       "rank              -0.110381  \n",
       "song_id            0.080404  \n",
       "album_id           0.098117  \n",
       "album_score       -0.331228  \n",
       "album_score_count  0.642276  \n",
       "album_reply        0.679723  \n",
       "like               0.600689  \n",
       "reply              1.000000  "
      ]
     },
     "execution_count": 76,
     "metadata": {},
     "output_type": "execute_result"
    }
   ],
   "source": [
    "all.corr()"
   ]
  },
  {
   "cell_type": "code",
   "execution_count": 77,
   "metadata": {},
   "outputs": [
    {
     "data": {
      "text/plain": [
       "<matplotlib.axes._subplots.AxesSubplot at 0x12735ad10>"
      ]
     },
     "execution_count": 77,
     "metadata": {},
     "output_type": "execute_result"
    },
    {
     "data": {
      "image/png": "[encoded data removed]",
      "text/plain": [
       "<Figure size 432x288 with 2 Axes>"
      ]
     },
     "metadata": {
      "needs_background": "light"
     },
     "output_type": "display_data"
    }
   ],
   "source": [
    "sns.heatmap(all.corr())"
   ]
  },
  {
   "cell_type": "code",
   "execution_count": 78,
   "metadata": {},
   "outputs": [],
   "source": [
    "#sns.catplot(data=all, x='album_score', y='like', kind ='scatter', hue ='genre')"
   ]
  },
  {
   "cell_type": "code",
   "execution_count": null,
   "metadata": {},
   "outputs": [],
   "source": []
  },
  {
   "cell_type": "code",
   "execution_count": null,
   "metadata": {},
   "outputs": [],
   "source": []
  },
  {
   "cell_type": "code",
   "execution_count": null,
   "metadata": {},
   "outputs": [],
   "source": []
  },
  {
   "cell_type": "code",
   "execution_count": null,
   "metadata": {},
   "outputs": [],
   "source": []
  },
  {
   "cell_type": "code",
   "execution_count": null,
   "metadata": {},
   "outputs": [],
   "source": []
  },
  {
   "cell_type": "code",
   "execution_count": null,
   "metadata": {},
   "outputs": [],
   "source": []
  },
  {
   "cell_type": "code",
   "execution_count": null,
   "metadata": {},
   "outputs": [],
   "source": []
  },
  {
   "cell_type": "code",
   "execution_count": null,
   "metadata": {},
   "outputs": [],
   "source": []
  },
  {
   "cell_type": "code",
   "execution_count": null,
   "metadata": {},
   "outputs": [],
   "source": []
  },
  {
   "cell_type": "code",
   "execution_count": null,
   "metadata": {},
   "outputs": [],
   "source": []
  },
  {
   "cell_type": "code",
   "execution_count": null,
   "metadata": {},
   "outputs": [],
   "source": []
  },
  {
   "cell_type": "code",
   "execution_count": null,
   "metadata": {},
   "outputs": [],
   "source": []
  },
  {
   "cell_type": "code",
   "execution_count": null,
   "metadata": {},
   "outputs": [],
   "source": []
  },
  {
   "cell_type": "code",
   "execution_count": null,
   "metadata": {},
   "outputs": [],
   "source": []
  },
  {
   "cell_type": "code",
   "execution_count": null,
   "metadata": {},
   "outputs": [],
   "source": []
  },
  {
   "cell_type": "code",
   "execution_count": null,
   "metadata": {},
   "outputs": [],
   "source": []
  },
  {
   "cell_type": "code",
   "execution_count": null,
   "metadata": {},
   "outputs": [],
   "source": []
  },
  {
   "cell_type": "markdown",
   "metadata": {},
   "source": [
    "# 노래제목/장르/가수별 빈도수(2018~2019)"
   ]
  },
  {
   "cell_type": "code",
   "execution_count": 4,
   "metadata": {},
   "outputs": [
    {
     "data": {
      "text/plain": [
       "봄날                                       85\n",
       "모든 날, 모든 순간 (Every day, Every Moment)    85\n",
       "비                                        78\n",
       "지나오다                                     70\n",
       "Way Back Home                            69\n",
       "                                         ..\n",
       "우린 어디에나                                   1\n",
       "눈이 내린다                                    1\n",
       "GOTT (Feat. MOON, 우원재 & Jvcki Wai)        1\n",
       "상상속에서                                     1\n",
       "남아있는 노래처럼                                 1\n",
       "Name: title, Length: 740, dtype: int64"
      ]
     },
     "execution_count": 4,
     "metadata": {},
     "output_type": "execute_result"
    }
   ],
   "source": [
    "melon['title'].value_counts()"
   ]
  },
  {
   "cell_type": "code",
   "execution_count": 5,
   "metadata": {},
   "outputs": [
    {
     "data": {
      "text/plain": [
       "발라드                2383\n",
       "댄스                 1753\n",
       "랩/힙합               1626\n",
       "R&B/Soul            748\n",
       "발라드, 국내드라마          484\n",
       "POP                 419\n",
       "발라드, 인디음악           188\n",
       "인디음악, 록/메탈          173\n",
       "록/메탈                169\n",
       "인디음악, 포크/블루스        136\n",
       "인디음악, 일렉트로니카         80\n",
       "랩/힙합, 인디음악           67\n",
       "POP, 국외영화            56\n",
       "POP, 록/메탈            53\n",
       "록/메탈, 국내드라마          32\n",
       "R&B/Soul, 인디음악       24\n",
       "성인가요                 22\n",
       "일렉트로니카               19\n",
       "포크/블루스               15\n",
       "랩/힙합, 국내드라마          13\n",
       "R&B/Soul, 국내드라마      11\n",
       "Flac 16/24bit         7\n",
       "Flac 16bit            7\n",
       "게임                    6\n",
       "일렉트로니카, EDM           4\n",
       "댄스, 국내드라마             2\n",
       "재즈, 애시드/퓨전/팝          2\n",
       "포크/블루스, 국내드라마         1\n",
       "Name: genre, dtype: int64"
      ]
     },
     "execution_count": 5,
     "metadata": {},
     "output_type": "execute_result"
    }
   ],
   "source": [
    "melon['genre'].value_counts()"
   ]
  },
  {
   "cell_type": "code",
   "execution_count": 6,
   "metadata": {},
   "outputs": [
    {
     "data": {
      "text/plain": [
       "방탄소년단              779\n",
       "폴킴                 283\n",
       "Wanna One (워너원)    274\n",
       "EXO                271\n",
       "TWICE (트와이스)       202\n",
       "                  ... \n",
       "반하나                  1\n",
       "규현 (KYUHYUN)         1\n",
       "카더가든                 1\n",
       "SummerWish           1\n",
       "40                   1\n",
       "Name: artist, Length: 258, dtype: int64"
      ]
     },
     "execution_count": 6,
     "metadata": {},
     "output_type": "execute_result"
    }
   ],
   "source": [
    "melon['artist'].value_counts()"
   ]
  },
  {
   "cell_type": "code",
   "execution_count": 7,
   "metadata": {},
   "outputs": [
    {
     "data": {
      "text/plain": [
       "방탄소년단              779\n",
       "폴킴                 283\n",
       "Wanna One (워너원)    274\n",
       "EXO                271\n",
       "TWICE (트와이스)       202\n",
       "                  ... \n",
       "반하나                  1\n",
       "규현 (KYUHYUN)         1\n",
       "카더가든                 1\n",
       "SummerWish           1\n",
       "40                   1\n",
       "Name: artist, Length: 258, dtype: int64"
      ]
     },
     "execution_count": 7,
     "metadata": {},
     "output_type": "execute_result"
    }
   ],
   "source": [
    "melon['artist'].value_counts()"
   ]
  },
  {
   "cell_type": "markdown",
   "metadata": {},
   "source": [
    "## 발라드에서 2018-2019년동안 가장 많이 등장한 가수는?"
   ]
  },
  {
   "cell_type": "code",
   "execution_count": 8,
   "metadata": {},
   "outputs": [
    {
     "data": {
      "text/plain": [
       "artist\n",
       "비투비             155\n",
       "닐로(Nilo)        128\n",
       "벤               118\n",
       "엠씨더맥스            89\n",
       "폴킴               84\n",
       "               ... \n",
       "핑클 (Fin.K.L)      1\n",
       "백지영               1\n",
       "헨리 (HENRY)        1\n",
       "신용재 (포맨)          1\n",
       "육성재               1\n",
       "Length: 88, dtype: int64"
      ]
     },
     "execution_count": 8,
     "metadata": {},
     "output_type": "execute_result"
    }
   ],
   "source": [
    "melon[melon['genre'] =='발라드'].groupby('artist').size().sort_values(ascending = False)"
   ]
  },
  {
   "cell_type": "markdown",
   "metadata": {},
   "source": [
    "### 비투비는 어떤노래로 그럼 차트를 많이 차지했을까?"
   ]
  },
  {
   "cell_type": "code",
   "execution_count": 9,
   "metadata": {},
   "outputs": [
    {
     "data": {
      "text/plain": [
       "title\n",
       "그리워하다                          63\n",
       "너 없인 안 된다                      52\n",
       "아름답고도 아프구나                     31\n",
       "Friend                          7\n",
       "The Feeling                     6\n",
       "Blue Moon                       3\n",
       "제발                              1\n",
       "미안해 (Song by 서은광, 이민혁, 이창섭)     1\n",
       "Call me                         1\n",
       "dtype: int64"
      ]
     },
     "execution_count": 9,
     "metadata": {},
     "output_type": "execute_result"
    }
   ],
   "source": [
    "melon[melon['artist']=='비투비'].groupby('title').size().sort_values(ascending = False)"
   ]
  },
  {
   "cell_type": "markdown",
   "metadata": {},
   "source": [
    "## 댄스에서 2018-2019년동안 가장 많이 등장한 가수는?"
   ]
  },
  {
   "cell_type": "code",
   "execution_count": 10,
   "metadata": {},
   "outputs": [
    {
     "data": {
      "text/plain": [
       "artist\n",
       "TWICE (트와이스)                199\n",
       "Wanna One (워너원)             198\n",
       "EXO                         161\n",
       "청하                          108\n",
       "Red Velvet (레드벨벳)           103\n",
       "마마무(Mamamoo)                 75\n",
       "세븐틴                          70\n",
       "WINNER                       68\n",
       "BLACKPINK                    61\n",
       "여자친구 (GFRIEND)               58\n",
       "선미                           57\n",
       "ITZY (있지)                    55\n",
       "(여자)아이들                      49\n",
       "EXO-CBX (첸백시)                48\n",
       "모모랜드 (MOMOLAND)              48\n",
       "IZ*ONE (아이즈원)                46\n",
       "방탄소년단                        32\n",
       "Apink (에이핑크)                 31\n",
       "X1 (엑스원)                     28\n",
       "화사(Hwa Sa)                   25\n",
       "오마이걸                         25\n",
       "승리                           20\n",
       "Wanna One (워너원) - 트리플포지션     19\n",
       "AOA                          18\n",
       "이하이                          15\n",
       "iKON                         15\n",
       "뉴이스트 W                       11\n",
       "Wanna One (워너원) - 남바완        10\n",
       "전소미                          10\n",
       "EXID                          9\n",
       "소녀시대-Oh!GG                    8\n",
       "갓츄 (GOT U)                    7\n",
       "SIXC (6 crazy)                5\n",
       "크레파스                          5\n",
       "태연 (TAEYEON)                  5\n",
       "국.슈 (국프의 핫이슈)                 4\n",
       "비투비                           4\n",
       "아이유                           4\n",
       "뉴이스트                          3\n",
       "태민 (TAEMIN)                   3\n",
       "민현 (뉴이스트)                     3\n",
       "브라운아이드걸스                      3\n",
       "PRODUCE X 101                 2\n",
       "AB6IX (에이비식스)                 2\n",
       "하성운                           2\n",
       "에일리                           2\n",
       "용준형                           2\n",
       "소유 (SOYOU)                    2\n",
       "god                           2\n",
       "기억 조작단                        2\n",
       "현아                            2\n",
       "슬기 (SEULGI)                   2\n",
       "SummerWish                    1\n",
       "동방신기 (TVXQ!)                  1\n",
       "투모로우바이투게더                     1\n",
       "러브포션                          1\n",
       "하이라이트 (Highlight)             1\n",
       "약속                            1\n",
       "러블리즈                          1\n",
       "dtype: int64"
      ]
     },
     "execution_count": 10,
     "metadata": {},
     "output_type": "execute_result"
    }
   ],
   "source": [
    "melon[melon['genre'] =='댄스'].groupby('artist').size().sort_values(ascending = False)"
   ]
  },
  {
   "cell_type": "markdown",
   "metadata": {},
   "source": [
    "### 트와이스는 어떤노래로 그럼 차트를 많이 차지했을까?"
   ]
  },
  {
   "cell_type": "code",
   "execution_count": 11,
   "metadata": {},
   "outputs": [
    {
     "data": {
      "text/plain": [
       "title\n",
       "Dance The Night Away    57\n",
       "YES or YES              39\n",
       "FANCY                   30\n",
       "What is Love?           29\n",
       "Heart Shaker            21\n",
       "LIKEY                   15\n",
       "Feel Special             8\n",
       "올해 제일 잘한 일               2\n",
       "CHILLAX                  1\n",
       "dtype: int64"
      ]
     },
     "execution_count": 11,
     "metadata": {},
     "output_type": "execute_result"
    }
   ],
   "source": [
    "melon[melon['artist']=='TWICE (트와이스)'].groupby('title').size().sort_values(ascending = False)"
   ]
  },
  {
   "cell_type": "markdown",
   "metadata": {},
   "source": [
    "## 랩/힙합에서 2018-2019년동안 가장 많이 등장한 가수는?"
   ]
  },
  {
   "cell_type": "code",
   "execution_count": 77,
   "metadata": {},
   "outputs": [
    {
     "data": {
      "text/plain": [
       "artist\n",
       "방탄소년단                699\n",
       "기리보이                  84\n",
       "BLACKPINK             75\n",
       "김하온 (HAON)            66\n",
       "iKON                  48\n",
       "pH-1                  41\n",
       "로꼬                    38\n",
       "창모 (CHANGMO)          34\n",
       "제니 (JENNIE)           33\n",
       "Rohann (이로한)          30\n",
       "MINO (송민호)            29\n",
       "저스디스 (JUSTHIS)        27\n",
       "에픽하이 (EPIK HIGH)      27\n",
       "WINNER                25\n",
       "빈첸 (VINXEN)           24\n",
       "Jvcki Wai             24\n",
       "우원재                   23\n",
       "수퍼비                   22\n",
       "MC몽                   20\n",
       "염따                    18\n",
       "강현준 (Lil tachi)       18\n",
       "지코 (ZICO)             17\n",
       "루피(Loopy)             16\n",
       "BewhY (비와이)           16\n",
       "헤이즈 (Heize)           15\n",
       "오반                    14\n",
       "쿠기 (Coogie)           14\n",
       "펜타곤                   13\n",
       "스윙스                   12\n",
       "사이먼 도미닉               11\n",
       "(여자)아이들                9\n",
       "이영지                    7\n",
       "나플라(nafla)             6\n",
       "김민규 (Young Kay)        6\n",
       "Woodie Gochild         5\n",
       "세훈&찬열                  5\n",
       "윤비 (YunB)              5\n",
       "그루비룸 (GroovyRoom)      4\n",
       "Kid Milli              4\n",
       "마미손                    4\n",
       "찬열 (CHANYEOL)          4\n",
       "오담률 (CHIN CHILLA)      4\n",
       "빈지노 (Beenzino)         3\n",
       "펀치넬로 (punchnello)      3\n",
       "백현 (BAEKHYUN)          3\n",
       "김효은                    3\n",
       "NCT DREAM              2\n",
       "BIG Naughty (서동현)      2\n",
       "개리                     2\n",
       "다이나믹 듀오                2\n",
       "OLNL (오르내림)            1\n",
       "보이비                    1\n",
       "식케이 (Sik-K)            1\n",
       "영비                     1\n",
       "박준호 (PULLIK)           1\n",
       "GRAY (그레이)             1\n",
       "EK                     1\n",
       "Zion.T                 1\n",
       "박재범                    1\n",
       "효린                     1\n",
       "dtype: int64"
      ]
     },
     "execution_count": 77,
     "metadata": {},
     "output_type": "execute_result"
    }
   ],
   "source": [
    "melon[melon['genre'] =='랩/힙합'].groupby('artist').size().sort_values(ascending = False)"
   ]
  },
  {
   "cell_type": "markdown",
   "metadata": {},
   "source": [
    "### 방탄소년단은 어떤노래로 그럼 차트를 많이 차지했을까?"
   ]
  },
  {
   "cell_type": "code",
   "execution_count": 72,
   "metadata": {},
   "outputs": [
    {
     "data": {
      "text/plain": [
       "title\n",
       "봄날                                         85\n",
       "IDOL                                       65\n",
       "DNA                                        54\n",
       "FAKE LOVE                                  51\n",
       "전하지 못한 진심 (Feat. Steve Aoki)               45\n",
       "Anpanman                                   37\n",
       "Euphoria                                   34\n",
       "I`m Fine                                   34\n",
       "Answer : Love Myself                       34\n",
       "작은 것들을 위한 시 (Boy With Luv) feat. Halsey    32\n",
       "Airplane pt.2                              25\n",
       "소우주 (Mikrokosmos)                          25\n",
       "Epiphany                                   24\n",
       "Make It Right                              22\n",
       "Dionysus                                   21\n",
       "Magic Shop                                 17\n",
       "HOME                                       15\n",
       "134340                                     15\n",
       "낙원                                         15\n",
       "Love Maze                                  15\n",
       "So What                                    14\n",
       "Intro : Singularity                        14\n",
       "Outro : Tear                               13\n",
       "Trivia 轉 : Seesaw                          12\n",
       "Jamais Vu                                  12\n",
       "Trivia 起 : Just Dance                      10\n",
       "Intro : Persona                             9\n",
       "Trivia 承 : Love                             9\n",
       "고민보다 Go                                     7\n",
       "FAKE LOVE (Rocking Vibe Mix)                5\n",
       "Dream Glow (BTS WORLD OST Part.1)           4\n",
       "Heartbeat                                   1\n",
       "Make It Right (feat. Lauv)                  1\n",
       "Serendipity (Full Length Edition)           1\n",
       "MIC Drop                                    1\n",
       "A Brand New Day (BTS WORLD OST Part.2)      1\n",
       "dtype: int64"
      ]
     },
     "execution_count": 72,
     "metadata": {},
     "output_type": "execute_result"
    }
   ],
   "source": [
    "melon[melon['artist']=='방탄소년단'].groupby('title').size().sort_values(ascending = False)"
   ]
  },
  {
   "cell_type": "markdown",
   "metadata": {},
   "source": [
    "# 2018년의 빈도수"
   ]
  },
  {
   "cell_type": "code",
   "execution_count": 28,
   "metadata": {},
   "outputs": [],
   "source": [
    "year2018 = melon[melon['year'] == 2018]"
   ]
  },
  {
   "cell_type": "code",
   "execution_count": 31,
   "metadata": {},
   "outputs": [
    {
     "data": {
      "text/plain": [
       "선물                      39\n",
       "에너제틱 (Energetic)        39\n",
       "지나오다                    39\n",
       "미안해                     39\n",
       "Beautiful               39\n",
       "                        ..\n",
       "Last Christmas           1\n",
       "Call me                  1\n",
       "아름다운 (Feat. 헤이즈)         1\n",
       "팔레트 (Feat. G-DRAGON)     1\n",
       "그날의 너                    1\n",
       "Name: title, Length: 381, dtype: int64"
      ]
     },
     "execution_count": 31,
     "metadata": {},
     "output_type": "execute_result"
    }
   ],
   "source": [
    "year2018['title'].value_counts()"
   ]
  },
  {
   "cell_type": "code",
   "execution_count": 34,
   "metadata": {},
   "outputs": [
    {
     "data": {
      "text/plain": [
       "방탄소년단              433\n",
       "Wanna One (워너원)    235\n",
       "멜로망스               143\n",
       "EXO                132\n",
       "TWICE (트와이스)       101\n",
       "                  ... \n",
       "육성재                  1\n",
       "러블리즈                 1\n",
       "황치열                  1\n",
       "god                  1\n",
       "40                   1\n",
       "Name: artist, Length: 161, dtype: int64"
      ]
     },
     "execution_count": 34,
     "metadata": {},
     "output_type": "execute_result"
    }
   ],
   "source": [
    "year2018['artist'].value_counts()"
   ]
  },
  {
   "cell_type": "code",
   "execution_count": 35,
   "metadata": {},
   "outputs": [
    {
     "data": {
      "text/plain": [
       "발라드                967\n",
       "댄스                 966\n",
       "랩/힙합               874\n",
       "R&B/Soul           369\n",
       "발라드, 국내드라마         203\n",
       "POP                183\n",
       "발라드, 인디음악           82\n",
       "인디음악, 록/메탈          65\n",
       "인디음악, 포크/블루스        47\n",
       "POP, 록/메탈           30\n",
       "인디음악, 일렉트로니카        25\n",
       "록/메탈                21\n",
       "일렉트로니카              19\n",
       "록/메탈, 국내드라마         10\n",
       "랩/힙합, 국내드라마          9\n",
       "R&B/Soul, 국내드라마      7\n",
       "Flac 16bit           7\n",
       "Flac 16/24bit        7\n",
       "일렉트로니카, EDM          4\n",
       "랩/힙합, 인디음악           3\n",
       "포크/블루스, 국내드라마        1\n",
       "포크/블루스               1\n",
       "Name: genre, dtype: int64"
      ]
     },
     "execution_count": 35,
     "metadata": {},
     "output_type": "execute_result"
    }
   ],
   "source": [
    "year2018['genre'].value_counts()"
   ]
  },
  {
   "cell_type": "code",
   "execution_count": 57,
   "metadata": {},
   "outputs": [
    {
     "data": {
      "text/html": [
       "<div>\n",
       "<style scoped>\n",
       "    .dataframe tbody tr th:only-of-type {\n",
       "        vertical-align: middle;\n",
       "    }\n",
       "\n",
       "    .dataframe tbody tr th {\n",
       "        vertical-align: top;\n",
       "    }\n",
       "\n",
       "    .dataframe thead th {\n",
       "        text-align: right;\n",
       "    }\n",
       "</style>\n",
       "<table border=\"1\" class=\"dataframe\">\n",
       "  <thead>\n",
       "    <tr style=\"text-align: right;\">\n",
       "      <th></th>\n",
       "      <th>year</th>\n",
       "      <th>month</th>\n",
       "      <th>week</th>\n",
       "      <th>rank</th>\n",
       "      <th>song_id</th>\n",
       "      <th>title</th>\n",
       "      <th>artist</th>\n",
       "      <th>album</th>\n",
       "      <th>genre</th>\n",
       "    </tr>\n",
       "  </thead>\n",
       "  <tbody>\n",
       "    <tr>\n",
       "      <th>300</th>\n",
       "      <td>2018</td>\n",
       "      <td>04월</td>\n",
       "      <td>04.23~04.29</td>\n",
       "      <td>1</td>\n",
       "      <td>31035061</td>\n",
       "      <td>주지마</td>\n",
       "      <td>로꼬</td>\n",
       "      <td>2018.04.21</td>\n",
       "      <td>Flac 16bit</td>\n",
       "    </tr>\n",
       "    <tr>\n",
       "      <th>301</th>\n",
       "      <td>2018</td>\n",
       "      <td>04월</td>\n",
       "      <td>04.23~04.29</td>\n",
       "      <td>2</td>\n",
       "      <td>30699142</td>\n",
       "      <td>지나오다</td>\n",
       "      <td>닐로(Nilo)</td>\n",
       "      <td>2017.10.31</td>\n",
       "      <td>Flac 16bit</td>\n",
       "    </tr>\n",
       "    <tr>\n",
       "      <th>304</th>\n",
       "      <td>2018</td>\n",
       "      <td>04월</td>\n",
       "      <td>04.23~04.29</td>\n",
       "      <td>5</td>\n",
       "      <td>30849733</td>\n",
       "      <td>You</td>\n",
       "      <td>멜로망스</td>\n",
       "      <td>2018.01.22</td>\n",
       "      <td>Flac 16bit</td>\n",
       "    </tr>\n",
       "    <tr>\n",
       "      <th>306</th>\n",
       "      <td>2018</td>\n",
       "      <td>04월</td>\n",
       "      <td>04.23~04.29</td>\n",
       "      <td>7</td>\n",
       "      <td>30989550</td>\n",
       "      <td>바코드 (Prod. GroovyRoom)</td>\n",
       "      <td>김하온 (HAON)</td>\n",
       "      <td>2018.03.31</td>\n",
       "      <td>Flac 16bit</td>\n",
       "    </tr>\n",
       "    <tr>\n",
       "      <th>307</th>\n",
       "      <td>2018</td>\n",
       "      <td>04월</td>\n",
       "      <td>04.23~04.29</td>\n",
       "      <td>8</td>\n",
       "      <td>30859584</td>\n",
       "      <td>사랑을 했다 (LOVE SCENARIO)</td>\n",
       "      <td>iKON</td>\n",
       "      <td>2018.01.25</td>\n",
       "      <td>Flac 16bit</td>\n",
       "    </tr>\n",
       "    <tr>\n",
       "      <th>308</th>\n",
       "      <td>2018</td>\n",
       "      <td>04월</td>\n",
       "      <td>04.23~04.29</td>\n",
       "      <td>9</td>\n",
       "      <td>30948698</td>\n",
       "      <td>꽃 길</td>\n",
       "      <td>BIGBANG</td>\n",
       "      <td>2018.03.13</td>\n",
       "      <td>Flac 16bit</td>\n",
       "    </tr>\n",
       "    <tr>\n",
       "      <th>310</th>\n",
       "      <td>2018</td>\n",
       "      <td>04월</td>\n",
       "      <td>04.23~04.29</td>\n",
       "      <td>11</td>\n",
       "      <td>30997649</td>\n",
       "      <td>EVERYDAY</td>\n",
       "      <td>WINNER</td>\n",
       "      <td>2018.04.04</td>\n",
       "      <td>Flac 16bit</td>\n",
       "    </tr>\n",
       "  </tbody>\n",
       "</table>\n",
       "</div>"
      ],
      "text/plain": [
       "     year month         week  rank   song_id                   title  \\\n",
       "300  2018   04월  04.23~04.29     1  31035061                     주지마   \n",
       "301  2018   04월  04.23~04.29     2  30699142                    지나오다   \n",
       "304  2018   04월  04.23~04.29     5  30849733                     You   \n",
       "306  2018   04월  04.23~04.29     7  30989550  바코드 (Prod. GroovyRoom)   \n",
       "307  2018   04월  04.23~04.29     8  30859584  사랑을 했다 (LOVE SCENARIO)   \n",
       "308  2018   04월  04.23~04.29     9  30948698                     꽃 길   \n",
       "310  2018   04월  04.23~04.29    11  30997649                EVERYDAY   \n",
       "\n",
       "         artist       album       genre  \n",
       "300          로꼬  2018.04.21  Flac 16bit  \n",
       "301    닐로(Nilo)  2017.10.31  Flac 16bit  \n",
       "304        멜로망스  2018.01.22  Flac 16bit  \n",
       "306  김하온 (HAON)  2018.03.31  Flac 16bit  \n",
       "307        iKON  2018.01.25  Flac 16bit  \n",
       "308     BIGBANG  2018.03.13  Flac 16bit  \n",
       "310      WINNER  2018.04.04  Flac 16bit  "
      ]
     },
     "execution_count": 57,
     "metadata": {},
     "output_type": "execute_result"
    }
   ],
   "source": [
    "year2018[year2018['genre'] == 'Flac 16bit']"
   ]
  },
  {
   "cell_type": "code",
   "execution_count": 58,
   "metadata": {},
   "outputs": [
    {
     "data": {
      "text/html": [
       "<div>\n",
       "<style scoped>\n",
       "    .dataframe tbody tr th:only-of-type {\n",
       "        vertical-align: middle;\n",
       "    }\n",
       "\n",
       "    .dataframe tbody tr th {\n",
       "        vertical-align: top;\n",
       "    }\n",
       "\n",
       "    .dataframe thead th {\n",
       "        text-align: right;\n",
       "    }\n",
       "</style>\n",
       "<table border=\"1\" class=\"dataframe\">\n",
       "  <thead>\n",
       "    <tr style=\"text-align: right;\">\n",
       "      <th></th>\n",
       "      <th>year</th>\n",
       "      <th>month</th>\n",
       "      <th>week</th>\n",
       "      <th>rank</th>\n",
       "      <th>song_id</th>\n",
       "      <th>title</th>\n",
       "      <th>artist</th>\n",
       "      <th>album</th>\n",
       "      <th>genre</th>\n",
       "    </tr>\n",
       "  </thead>\n",
       "  <tbody>\n",
       "    <tr>\n",
       "      <th>302</th>\n",
       "      <td>2018</td>\n",
       "      <td>04월</td>\n",
       "      <td>04.23~04.29</td>\n",
       "      <td>3</td>\n",
       "      <td>31006730</td>\n",
       "      <td>What is Love?</td>\n",
       "      <td>TWICE (트와이스)</td>\n",
       "      <td>2018.04.09</td>\n",
       "      <td>Flac 16/24bit</td>\n",
       "    </tr>\n",
       "    <tr>\n",
       "      <th>303</th>\n",
       "      <td>2018</td>\n",
       "      <td>04월</td>\n",
       "      <td>04.23~04.29</td>\n",
       "      <td>4</td>\n",
       "      <td>31019584</td>\n",
       "      <td>붕붕 (Feat. 식케이) (Prod. GroovyRoom)</td>\n",
       "      <td>김하온 (HAON)</td>\n",
       "      <td>2018.04.14</td>\n",
       "      <td>Flac 16/24bit</td>\n",
       "    </tr>\n",
       "    <tr>\n",
       "      <th>305</th>\n",
       "      <td>2018</td>\n",
       "      <td>04월</td>\n",
       "      <td>04.23~04.29</td>\n",
       "      <td>6</td>\n",
       "      <td>30937275</td>\n",
       "      <td>별이 빛나는 밤</td>\n",
       "      <td>마마무(Mamamoo)</td>\n",
       "      <td>2018.03.07</td>\n",
       "      <td>Flac 16/24bit</td>\n",
       "    </tr>\n",
       "    <tr>\n",
       "      <th>309</th>\n",
       "      <td>2018</td>\n",
       "      <td>04월</td>\n",
       "      <td>04.23~04.29</td>\n",
       "      <td>10</td>\n",
       "      <td>30721801</td>\n",
       "      <td>My Way</td>\n",
       "      <td>이수 (엠씨 더 맥스)</td>\n",
       "      <td>2017.11.11</td>\n",
       "      <td>Flac 16/24bit</td>\n",
       "    </tr>\n",
       "    <tr>\n",
       "      <th>311</th>\n",
       "      <td>2018</td>\n",
       "      <td>04월</td>\n",
       "      <td>04.23~04.29</td>\n",
       "      <td>12</td>\n",
       "      <td>30816860</td>\n",
       "      <td>뿜뿜</td>\n",
       "      <td>모모랜드 (MOMOLAND)</td>\n",
       "      <td>2018.01.03</td>\n",
       "      <td>Flac 16/24bit</td>\n",
       "    </tr>\n",
       "    <tr>\n",
       "      <th>312</th>\n",
       "      <td>2018</td>\n",
       "      <td>04월</td>\n",
       "      <td>04.23~04.29</td>\n",
       "      <td>13</td>\n",
       "      <td>30755375</td>\n",
       "      <td>그날처럼</td>\n",
       "      <td>장덕철</td>\n",
       "      <td>2017.11.28</td>\n",
       "      <td>Flac 16/24bit</td>\n",
       "    </tr>\n",
       "    <tr>\n",
       "      <th>313</th>\n",
       "      <td>2018</td>\n",
       "      <td>04월</td>\n",
       "      <td>04.23~04.29</td>\n",
       "      <td>14</td>\n",
       "      <td>31019586</td>\n",
       "      <td>전혀 (Feat. 우원재) (Prod. GroovyRoom)</td>\n",
       "      <td>빈첸 (VINXEN)</td>\n",
       "      <td>2018.04.14</td>\n",
       "      <td>Flac 16/24bit</td>\n",
       "    </tr>\n",
       "  </tbody>\n",
       "</table>\n",
       "</div>"
      ],
      "text/plain": [
       "     year month         week  rank   song_id  \\\n",
       "302  2018   04월  04.23~04.29     3  31006730   \n",
       "303  2018   04월  04.23~04.29     4  31019584   \n",
       "305  2018   04월  04.23~04.29     6  30937275   \n",
       "309  2018   04월  04.23~04.29    10  30721801   \n",
       "311  2018   04월  04.23~04.29    12  30816860   \n",
       "312  2018   04월  04.23~04.29    13  30755375   \n",
       "313  2018   04월  04.23~04.29    14  31019586   \n",
       "\n",
       "                                 title           artist       album  \\\n",
       "302                      What is Love?     TWICE (트와이스)  2018.04.09   \n",
       "303  붕붕 (Feat. 식케이) (Prod. GroovyRoom)       김하온 (HAON)  2018.04.14   \n",
       "305                           별이 빛나는 밤     마마무(Mamamoo)  2018.03.07   \n",
       "309                             My Way     이수 (엠씨 더 맥스)  2017.11.11   \n",
       "311                                 뿜뿜  모모랜드 (MOMOLAND)  2018.01.03   \n",
       "312                               그날처럼              장덕철  2017.11.28   \n",
       "313  전혀 (Feat. 우원재) (Prod. GroovyRoom)      빈첸 (VINXEN)  2018.04.14   \n",
       "\n",
       "             genre  \n",
       "302  Flac 16/24bit  \n",
       "303  Flac 16/24bit  \n",
       "305  Flac 16/24bit  \n",
       "309  Flac 16/24bit  \n",
       "311  Flac 16/24bit  \n",
       "312  Flac 16/24bit  \n",
       "313  Flac 16/24bit  "
      ]
     },
     "execution_count": 58,
     "metadata": {},
     "output_type": "execute_result"
    }
   ],
   "source": [
    "year2018[year2018['genre'] == 'Flac 16/24bit']"
   ]
  },
  {
   "cell_type": "markdown",
   "metadata": {},
   "source": [
    "# 2019년의 빈도수"
   ]
  },
  {
   "cell_type": "code",
   "execution_count": 30,
   "metadata": {},
   "outputs": [],
   "source": [
    "year2019 = melon[melon['year'] == 2019]"
   ]
  },
  {
   "cell_type": "code",
   "execution_count": 32,
   "metadata": {},
   "outputs": [
    {
     "data": {
      "text/plain": [
       "IDOL                                     46\n",
       "비                                        46\n",
       "너를 만나                                    46\n",
       "모든 날, 모든 순간 (Every day, Every Moment)    46\n",
       "사계 (하루살이)                                46\n",
       "                                         ..\n",
       "미안해 (Song by 서은광, 이민혁, 이창섭)               1\n",
       "차가워진 이 바람엔 우리가 써있어(Bad Love)              1\n",
       "불면 (不眠)                                   1\n",
       "미리 메리 크리스마스 (Feat. 천둥 Of MBLAQ)           1\n",
       "럽미 (Love Me)                              1\n",
       "Name: title, Length: 459, dtype: int64"
      ]
     },
     "execution_count": 32,
     "metadata": {},
     "output_type": "execute_result"
    }
   ],
   "source": [
    "year2019['title'].value_counts()"
   ]
  },
  {
   "cell_type": "code",
   "execution_count": 36,
   "metadata": {},
   "outputs": [
    {
     "data": {
      "text/plain": [
       "방탄소년단                346\n",
       "폴킴                   198\n",
       "EXO                  139\n",
       "볼빨간사춘기               116\n",
       "TWICE (트와이스)         101\n",
       "                    ... \n",
       "피아노맨                   1\n",
       "EXID                   1\n",
       "그루비룸 (GroovyRoom)      1\n",
       "핑클 (Fin.K.L)           1\n",
       "스탠딩 에그                 1\n",
       "Name: artist, Length: 190, dtype: int64"
      ]
     },
     "execution_count": 36,
     "metadata": {},
     "output_type": "execute_result"
    }
   ],
   "source": [
    "year2019['artist'].value_counts()"
   ]
  },
  {
   "cell_type": "code",
   "execution_count": 37,
   "metadata": {},
   "outputs": [
    {
     "data": {
      "text/plain": [
       "발라드                1416\n",
       "댄스                  787\n",
       "랩/힙합                752\n",
       "R&B/Soul            379\n",
       "발라드, 국내드라마          281\n",
       "POP                 236\n",
       "록/메탈                148\n",
       "인디음악, 록/메탈          108\n",
       "발라드, 인디음악           106\n",
       "인디음악, 포크/블루스         89\n",
       "랩/힙합, 인디음악           64\n",
       "POP, 국외영화            56\n",
       "인디음악, 일렉트로니카         55\n",
       "R&B/Soul, 인디음악       24\n",
       "POP, 록/메탈            23\n",
       "록/메탈, 국내드라마          22\n",
       "성인가요                 22\n",
       "포크/블루스               14\n",
       "게임                    6\n",
       "랩/힙합, 국내드라마           4\n",
       "R&B/Soul, 국내드라마       4\n",
       "댄스, 국내드라마             2\n",
       "재즈, 애시드/퓨전/팝          2\n",
       "Name: genre, dtype: int64"
      ]
     },
     "execution_count": 37,
     "metadata": {},
     "output_type": "execute_result"
    }
   ],
   "source": [
    "year2019['genre'].value_counts()"
   ]
  },
  {
   "cell_type": "code",
   "execution_count": 43,
   "metadata": {
    "scrolled": true
   },
   "outputs": [
    {
     "data": {
      "text/html": [
       "<div>\n",
       "<style scoped>\n",
       "    .dataframe tbody tr th:only-of-type {\n",
       "        vertical-align: middle;\n",
       "    }\n",
       "\n",
       "    .dataframe tbody tr th {\n",
       "        vertical-align: top;\n",
       "    }\n",
       "\n",
       "    .dataframe thead th {\n",
       "        text-align: right;\n",
       "    }\n",
       "</style>\n",
       "<table border=\"1\" class=\"dataframe\">\n",
       "  <thead>\n",
       "    <tr style=\"text-align: right;\">\n",
       "      <th></th>\n",
       "      <th>year</th>\n",
       "      <th>month</th>\n",
       "      <th>week</th>\n",
       "      <th>rank</th>\n",
       "      <th>song_id</th>\n",
       "      <th>title</th>\n",
       "      <th>artist</th>\n",
       "      <th>album</th>\n",
       "      <th>genre</th>\n",
       "    </tr>\n",
       "  </thead>\n",
       "  <tbody>\n",
       "    <tr>\n",
       "      <th>4093</th>\n",
       "      <td>2019</td>\n",
       "      <td>01월</td>\n",
       "      <td>01.07~01.13</td>\n",
       "      <td>94</td>\n",
       "      <td>31486544</td>\n",
       "      <td>We all lie</td>\n",
       "      <td>하진</td>\n",
       "      <td>SKY 캐슬 OST Part.4</td>\n",
       "      <td>록/메탈, 국내드라마</td>\n",
       "    </tr>\n",
       "    <tr>\n",
       "      <th>4149</th>\n",
       "      <td>2019</td>\n",
       "      <td>01월</td>\n",
       "      <td>01.14~01.20</td>\n",
       "      <td>50</td>\n",
       "      <td>31486544</td>\n",
       "      <td>We all lie</td>\n",
       "      <td>하진</td>\n",
       "      <td>SKY 캐슬 OST Part.4</td>\n",
       "      <td>록/메탈, 국내드라마</td>\n",
       "    </tr>\n",
       "    <tr>\n",
       "      <th>4233</th>\n",
       "      <td>2019</td>\n",
       "      <td>01월</td>\n",
       "      <td>01.21~01.27</td>\n",
       "      <td>34</td>\n",
       "      <td>31486544</td>\n",
       "      <td>We all lie</td>\n",
       "      <td>하진</td>\n",
       "      <td>SKY 캐슬 OST Part.4</td>\n",
       "      <td>록/메탈, 국내드라마</td>\n",
       "    </tr>\n",
       "    <tr>\n",
       "      <th>4326</th>\n",
       "      <td>2019</td>\n",
       "      <td>01월</td>\n",
       "      <td>01.28~02.03</td>\n",
       "      <td>27</td>\n",
       "      <td>31486544</td>\n",
       "      <td>We all lie</td>\n",
       "      <td>하진</td>\n",
       "      <td>SKY 캐슬 OST Part.4</td>\n",
       "      <td>록/메탈, 국내드라마</td>\n",
       "    </tr>\n",
       "    <tr>\n",
       "      <th>4426</th>\n",
       "      <td>2019</td>\n",
       "      <td>02월</td>\n",
       "      <td>02.04~02.10</td>\n",
       "      <td>27</td>\n",
       "      <td>31486544</td>\n",
       "      <td>We all lie</td>\n",
       "      <td>하진</td>\n",
       "      <td>SKY 캐슬 OST Part.4</td>\n",
       "      <td>록/메탈, 국내드라마</td>\n",
       "    </tr>\n",
       "    <tr>\n",
       "      <th>4536</th>\n",
       "      <td>2019</td>\n",
       "      <td>02월</td>\n",
       "      <td>02.11~02.17</td>\n",
       "      <td>37</td>\n",
       "      <td>31486544</td>\n",
       "      <td>We all lie</td>\n",
       "      <td>하진</td>\n",
       "      <td>SKY 캐슬 OST Part.4</td>\n",
       "      <td>록/메탈, 국내드라마</td>\n",
       "    </tr>\n",
       "    <tr>\n",
       "      <th>4649</th>\n",
       "      <td>2019</td>\n",
       "      <td>02월</td>\n",
       "      <td>02.18~02.24</td>\n",
       "      <td>50</td>\n",
       "      <td>31486544</td>\n",
       "      <td>We all lie</td>\n",
       "      <td>하진</td>\n",
       "      <td>SKY 캐슬 OST Part.4</td>\n",
       "      <td>록/메탈, 국내드라마</td>\n",
       "    </tr>\n",
       "    <tr>\n",
       "      <th>4760</th>\n",
       "      <td>2019</td>\n",
       "      <td>02월</td>\n",
       "      <td>02.25~03.03</td>\n",
       "      <td>61</td>\n",
       "      <td>31486544</td>\n",
       "      <td>We all lie</td>\n",
       "      <td>하진</td>\n",
       "      <td>SKY 캐슬 OST Part.4</td>\n",
       "      <td>록/메탈, 국내드라마</td>\n",
       "    </tr>\n",
       "    <tr>\n",
       "      <th>4873</th>\n",
       "      <td>2019</td>\n",
       "      <td>03월</td>\n",
       "      <td>03.04~03.10</td>\n",
       "      <td>74</td>\n",
       "      <td>31486544</td>\n",
       "      <td>We all lie</td>\n",
       "      <td>하진</td>\n",
       "      <td>SKY 캐슬 OST Part.4</td>\n",
       "      <td>록/메탈, 국내드라마</td>\n",
       "    </tr>\n",
       "    <tr>\n",
       "      <th>4995</th>\n",
       "      <td>2019</td>\n",
       "      <td>03월</td>\n",
       "      <td>03.11~03.17</td>\n",
       "      <td>96</td>\n",
       "      <td>31486544</td>\n",
       "      <td>We all lie</td>\n",
       "      <td>하진</td>\n",
       "      <td>SKY 캐슬 OST Part.4</td>\n",
       "      <td>록/메탈, 국내드라마</td>\n",
       "    </tr>\n",
       "    <tr>\n",
       "      <th>7343</th>\n",
       "      <td>2019</td>\n",
       "      <td>08월</td>\n",
       "      <td>08.26~09.01</td>\n",
       "      <td>44</td>\n",
       "      <td>32003395</td>\n",
       "      <td>흔들리는 꽃들 속에서 네 샴푸향이 느껴진거야</td>\n",
       "      <td>장범준</td>\n",
       "      <td>멜로가 체질 OST Part 3</td>\n",
       "      <td>록/메탈, 국내드라마</td>\n",
       "    </tr>\n",
       "    <tr>\n",
       "      <th>7428</th>\n",
       "      <td>2019</td>\n",
       "      <td>09월</td>\n",
       "      <td>09.02~09.08</td>\n",
       "      <td>29</td>\n",
       "      <td>32003395</td>\n",
       "      <td>흔들리는 꽃들 속에서 네 샴푸향이 느껴진거야</td>\n",
       "      <td>장범준</td>\n",
       "      <td>멜로가 체질 OST Part 3</td>\n",
       "      <td>록/메탈, 국내드라마</td>\n",
       "    </tr>\n",
       "    <tr>\n",
       "      <th>7517</th>\n",
       "      <td>2019</td>\n",
       "      <td>09월</td>\n",
       "      <td>09.09~09.15</td>\n",
       "      <td>18</td>\n",
       "      <td>32003395</td>\n",
       "      <td>흔들리는 꽃들 속에서 네 샴푸향이 느껴진거야</td>\n",
       "      <td>장범준</td>\n",
       "      <td>멜로가 체질 OST Part 3</td>\n",
       "      <td>록/메탈, 국내드라마</td>\n",
       "    </tr>\n",
       "    <tr>\n",
       "      <th>7607</th>\n",
       "      <td>2019</td>\n",
       "      <td>09월</td>\n",
       "      <td>09.16~09.22</td>\n",
       "      <td>8</td>\n",
       "      <td>32003395</td>\n",
       "      <td>흔들리는 꽃들 속에서 네 샴푸향이 느껴진거야</td>\n",
       "      <td>장범준</td>\n",
       "      <td>멜로가 체질 OST Part 3</td>\n",
       "      <td>록/메탈, 국내드라마</td>\n",
       "    </tr>\n",
       "    <tr>\n",
       "      <th>7700</th>\n",
       "      <td>2019</td>\n",
       "      <td>09월</td>\n",
       "      <td>09.23~09.29</td>\n",
       "      <td>1</td>\n",
       "      <td>32003395</td>\n",
       "      <td>흔들리는 꽃들 속에서 네 샴푸향이 느껴진거야</td>\n",
       "      <td>장범준</td>\n",
       "      <td>멜로가 체질 OST Part 3</td>\n",
       "      <td>록/메탈, 국내드라마</td>\n",
       "    </tr>\n",
       "    <tr>\n",
       "      <th>7801</th>\n",
       "      <td>2019</td>\n",
       "      <td>10월</td>\n",
       "      <td>09.30~10.06</td>\n",
       "      <td>2</td>\n",
       "      <td>32003395</td>\n",
       "      <td>흔들리는 꽃들 속에서 네 샴푸향이 느껴진거야</td>\n",
       "      <td>장범준</td>\n",
       "      <td>멜로가 체질 OST Part 3</td>\n",
       "      <td>록/메탈, 국내드라마</td>\n",
       "    </tr>\n",
       "    <tr>\n",
       "      <th>7901</th>\n",
       "      <td>2019</td>\n",
       "      <td>10월</td>\n",
       "      <td>10.07~10.13</td>\n",
       "      <td>2</td>\n",
       "      <td>32003395</td>\n",
       "      <td>흔들리는 꽃들 속에서 네 샴푸향이 느껴진거야</td>\n",
       "      <td>장범준</td>\n",
       "      <td>멜로가 체질 OST Part 3</td>\n",
       "      <td>록/메탈, 국내드라마</td>\n",
       "    </tr>\n",
       "    <tr>\n",
       "      <th>8001</th>\n",
       "      <td>2019</td>\n",
       "      <td>10월</td>\n",
       "      <td>10.14~10.20</td>\n",
       "      <td>2</td>\n",
       "      <td>32003395</td>\n",
       "      <td>흔들리는 꽃들 속에서 네 샴푸향이 느껴진거야</td>\n",
       "      <td>장범준</td>\n",
       "      <td>멜로가 체질 OST Part 3</td>\n",
       "      <td>록/메탈, 국내드라마</td>\n",
       "    </tr>\n",
       "    <tr>\n",
       "      <th>8101</th>\n",
       "      <td>2019</td>\n",
       "      <td>10월</td>\n",
       "      <td>10.21~10.27</td>\n",
       "      <td>2</td>\n",
       "      <td>32003395</td>\n",
       "      <td>흔들리는 꽃들 속에서 네 샴푸향이 느껴진거야</td>\n",
       "      <td>장범준</td>\n",
       "      <td>멜로가 체질 OST Part 3</td>\n",
       "      <td>록/메탈, 국내드라마</td>\n",
       "    </tr>\n",
       "    <tr>\n",
       "      <th>8204</th>\n",
       "      <td>2019</td>\n",
       "      <td>10월</td>\n",
       "      <td>10.28~11.03</td>\n",
       "      <td>5</td>\n",
       "      <td>32003395</td>\n",
       "      <td>흔들리는 꽃들 속에서 네 샴푸향이 느껴진거야</td>\n",
       "      <td>장범준</td>\n",
       "      <td>멜로가 체질 OST Part 3</td>\n",
       "      <td>록/메탈, 국내드라마</td>\n",
       "    </tr>\n",
       "    <tr>\n",
       "      <th>8305</th>\n",
       "      <td>2019</td>\n",
       "      <td>11월</td>\n",
       "      <td>11.04~11.10</td>\n",
       "      <td>6</td>\n",
       "      <td>32003395</td>\n",
       "      <td>흔들리는 꽃들 속에서 네 샴푸향이 느껴진거야</td>\n",
       "      <td>장범준</td>\n",
       "      <td>멜로가 체질 OST Part 3</td>\n",
       "      <td>록/메탈, 국내드라마</td>\n",
       "    </tr>\n",
       "    <tr>\n",
       "      <th>8406</th>\n",
       "      <td>2019</td>\n",
       "      <td>11월</td>\n",
       "      <td>11.11~11.17</td>\n",
       "      <td>7</td>\n",
       "      <td>32003395</td>\n",
       "      <td>흔들리는 꽃들 속에서 네 샴푸향이 느껴진거야</td>\n",
       "      <td>장범준</td>\n",
       "      <td>멜로가 체질 OST Part 3</td>\n",
       "      <td>록/메탈, 국내드라마</td>\n",
       "    </tr>\n",
       "  </tbody>\n",
       "</table>\n",
       "</div>"
      ],
      "text/plain": [
       "      year month         week  rank   song_id                     title  \\\n",
       "4093  2019   01월  01.07~01.13    94  31486544                We all lie   \n",
       "4149  2019   01월  01.14~01.20    50  31486544                We all lie   \n",
       "4233  2019   01월  01.21~01.27    34  31486544                We all lie   \n",
       "4326  2019   01월  01.28~02.03    27  31486544                We all lie   \n",
       "4426  2019   02월  02.04~02.10    27  31486544                We all lie   \n",
       "4536  2019   02월  02.11~02.17    37  31486544                We all lie   \n",
       "4649  2019   02월  02.18~02.24    50  31486544                We all lie   \n",
       "4760  2019   02월  02.25~03.03    61  31486544                We all lie   \n",
       "4873  2019   03월  03.04~03.10    74  31486544                We all lie   \n",
       "4995  2019   03월  03.11~03.17    96  31486544                We all lie   \n",
       "7343  2019   08월  08.26~09.01    44  32003395  흔들리는 꽃들 속에서 네 샴푸향이 느껴진거야   \n",
       "7428  2019   09월  09.02~09.08    29  32003395  흔들리는 꽃들 속에서 네 샴푸향이 느껴진거야   \n",
       "7517  2019   09월  09.09~09.15    18  32003395  흔들리는 꽃들 속에서 네 샴푸향이 느껴진거야   \n",
       "7607  2019   09월  09.16~09.22     8  32003395  흔들리는 꽃들 속에서 네 샴푸향이 느껴진거야   \n",
       "7700  2019   09월  09.23~09.29     1  32003395  흔들리는 꽃들 속에서 네 샴푸향이 느껴진거야   \n",
       "7801  2019   10월  09.30~10.06     2  32003395  흔들리는 꽃들 속에서 네 샴푸향이 느껴진거야   \n",
       "7901  2019   10월  10.07~10.13     2  32003395  흔들리는 꽃들 속에서 네 샴푸향이 느껴진거야   \n",
       "8001  2019   10월  10.14~10.20     2  32003395  흔들리는 꽃들 속에서 네 샴푸향이 느껴진거야   \n",
       "8101  2019   10월  10.21~10.27     2  32003395  흔들리는 꽃들 속에서 네 샴푸향이 느껴진거야   \n",
       "8204  2019   10월  10.28~11.03     5  32003395  흔들리는 꽃들 속에서 네 샴푸향이 느껴진거야   \n",
       "8305  2019   11월  11.04~11.10     6  32003395  흔들리는 꽃들 속에서 네 샴푸향이 느껴진거야   \n",
       "8406  2019   11월  11.11~11.17     7  32003395  흔들리는 꽃들 속에서 네 샴푸향이 느껴진거야   \n",
       "\n",
       "     artist              album        genre  \n",
       "4093     하진  SKY 캐슬 OST Part.4  록/메탈, 국내드라마  \n",
       "4149     하진  SKY 캐슬 OST Part.4  록/메탈, 국내드라마  \n",
       "4233     하진  SKY 캐슬 OST Part.4  록/메탈, 국내드라마  \n",
       "4326     하진  SKY 캐슬 OST Part.4  록/메탈, 국내드라마  \n",
       "4426     하진  SKY 캐슬 OST Part.4  록/메탈, 국내드라마  \n",
       "4536     하진  SKY 캐슬 OST Part.4  록/메탈, 국내드라마  \n",
       "4649     하진  SKY 캐슬 OST Part.4  록/메탈, 국내드라마  \n",
       "4760     하진  SKY 캐슬 OST Part.4  록/메탈, 국내드라마  \n",
       "4873     하진  SKY 캐슬 OST Part.4  록/메탈, 국내드라마  \n",
       "4995     하진  SKY 캐슬 OST Part.4  록/메탈, 국내드라마  \n",
       "7343    장범준  멜로가 체질 OST Part 3  록/메탈, 국내드라마  \n",
       "7428    장범준  멜로가 체질 OST Part 3  록/메탈, 국내드라마  \n",
       "7517    장범준  멜로가 체질 OST Part 3  록/메탈, 국내드라마  \n",
       "7607    장범준  멜로가 체질 OST Part 3  록/메탈, 국내드라마  \n",
       "7700    장범준  멜로가 체질 OST Part 3  록/메탈, 국내드라마  \n",
       "7801    장범준  멜로가 체질 OST Part 3  록/메탈, 국내드라마  \n",
       "7901    장범준  멜로가 체질 OST Part 3  록/메탈, 국내드라마  \n",
       "8001    장범준  멜로가 체질 OST Part 3  록/메탈, 국내드라마  \n",
       "8101    장범준  멜로가 체질 OST Part 3  록/메탈, 국내드라마  \n",
       "8204    장범준  멜로가 체질 OST Part 3  록/메탈, 국내드라마  \n",
       "8305    장범준  멜로가 체질 OST Part 3  록/메탈, 국내드라마  \n",
       "8406    장범준  멜로가 체질 OST Part 3  록/메탈, 국내드라마  "
      ]
     },
     "execution_count": 43,
     "metadata": {},
     "output_type": "execute_result"
    }
   ],
   "source": [
    "year2019[year2019['genre'] == '록/메탈, 국내드라마']"
   ]
  },
  {
   "cell_type": "markdown",
   "metadata": {},
   "source": [
    "## 피쳐링"
   ]
  },
  {
   "cell_type": "code",
   "execution_count": 90,
   "metadata": {},
   "outputs": [
    {
     "data": {
      "text/plain": [
       "title\n",
       "4시 44분 (feat. 휘인 of 마마무)                    1\n",
       "Make It Right (feat. Lauv)                  1\n",
       "Waste It On Me (feat. BTS (방탄소년단))          4\n",
       "동화 (feat. 아이유)                              9\n",
       "별(feat.김종완 of 넬)(prod.BOYCOLD)              1\n",
       "봄 (feat. 산다라박)                             16\n",
       "서울 밤 (feat. 빈지노)                           15\n",
       "작은 것들을 위한 시 (Boy With Luv) feat. Halsey    32\n",
       "하루살이 (feat. 설리, Rad Museum)                 2\n",
       "허물 (feat.서리 (Seori))                        1\n",
       "희미해서 (feat. 헤이즈)                            1\n",
       "dtype: int64"
      ]
     },
     "execution_count": 90,
     "metadata": {},
     "output_type": "execute_result"
    }
   ],
   "source": [
    "#feat 단어가 포함된 모든 데이터 뽑기\n",
    "melon[melon['title'].str.contains('feat')].groupby('title').size()"
   ]
  },
  {
   "cell_type": "code",
   "execution_count": 89,
   "metadata": {},
   "outputs": [
    {
     "data": {
      "text/plain": [
       "title\n",
       "119 (Feat. GRAY)                          2\n",
       "Blue (Feat. Crush, SOLE)                  1\n",
       "Blurry (Feat. Dbo) (Prod. By PEEJAY)      1\n",
       "Cereal (Feat. ZICO)                       8\n",
       "Change (Feat. GRAY) (Prod. 코드 쿤스트)        3\n",
       "                                         ..\n",
       "패 (Feat. 넉살, 딥플로우)                        2\n",
       "한강의 밤 (Feat. 로코베리)                        1\n",
       "행성 (This Night) (Feat. Blue.D, Jhnovr)    1\n",
       "호랑이소굴 (Feat. Jvcki Wai)                   5\n",
       "호불호 (Feat. 기리보이) (Prod. By GRAY)          5\n",
       "Length: 106, dtype: int64"
      ]
     },
     "execution_count": 89,
     "metadata": {},
     "output_type": "execute_result"
    }
   ],
   "source": [
    "#Feat 단어가 포함된 모든 데이터 뽑기\n",
    "melon[melon['title'].str.contains('Feat')].groupby('title').size()"
   ]
  },
  {
   "cell_type": "code",
   "execution_count": null,
   "metadata": {},
   "outputs": [],
   "source": []
  }
 ],
 "metadata": {
  "kernelspec": {
   "display_name": "Python 3",
   "language": "python",
   "name": "python3"
  },
  "language_info": {
   "codemirror_mode": {
    "name": "ipython",
    "version": 3
   },
   "file_extension": ".py",
   "mimetype": "text/x-python",
   "name": "python",
   "nbconvert_exporter": "python",
   "pygments_lexer": "ipython3",
   "version": "3.7.5"
  }
 },
 "nbformat": 4,
 "nbformat_minor": 2
}
