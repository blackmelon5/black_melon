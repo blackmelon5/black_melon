{
 "cells": [
  {
   "cell_type": "markdown",
   "metadata": {},
   "source": [
    "# title 내 피쳐 추출\n",
    "    1. 피쳐링 \n",
    "    피쳐링: feat, Feat 기준\n",
    "    \n",
    "    2. 프로듀서 있는 곡 따로 빼기\n",
    "    프로듀서: prod, Prod\n",
    "    \n",
    "    3. Duet???\n",
    "    "
   ]
  },
  {
   "cell_type": "code",
   "execution_count": 1,
   "metadata": {},
   "outputs": [],
   "source": [
    "import pandas as pd"
   ]
  },
  {
   "cell_type": "code",
   "execution_count": 2,
   "metadata": {},
   "outputs": [
    {
     "data": {
      "text/html": [
       "<div>\n",
       "<style scoped>\n",
       "    .dataframe tbody tr th:only-of-type {\n",
       "        vertical-align: middle;\n",
       "    }\n",
       "\n",
       "    .dataframe tbody tr th {\n",
       "        vertical-align: top;\n",
       "    }\n",
       "\n",
       "    .dataframe thead th {\n",
       "        text-align: right;\n",
       "    }\n",
       "</style>\n",
       "<table border=\"1\" class=\"dataframe\">\n",
       "  <thead>\n",
       "    <tr style=\"text-align: right;\">\n",
       "      <th></th>\n",
       "      <th>year</th>\n",
       "      <th>month</th>\n",
       "      <th>week</th>\n",
       "      <th>rank</th>\n",
       "      <th>song_id</th>\n",
       "      <th>title</th>\n",
       "      <th>like</th>\n",
       "      <th>reply</th>\n",
       "      <th>genre</th>\n",
       "      <th>artist_id</th>\n",
       "      <th>...</th>\n",
       "      <th>재즈</th>\n",
       "      <th>록/메탈</th>\n",
       "      <th>클래식</th>\n",
       "      <th>애니메이션/웹툰</th>\n",
       "      <th>만화</th>\n",
       "      <th>게임</th>\n",
       "      <th>뉴에이지</th>\n",
       "      <th>국내드라마</th>\n",
       "      <th>포크/블루스</th>\n",
       "      <th>main_genre</th>\n",
       "    </tr>\n",
       "  </thead>\n",
       "  <tbody>\n",
       "    <tr>\n",
       "      <th>0</th>\n",
       "      <td>2010</td>\n",
       "      <td>1</td>\n",
       "      <td>01.03~01.09</td>\n",
       "      <td>1</td>\n",
       "      <td>2511561</td>\n",
       "      <td>우리 사랑하게 됐어요.</td>\n",
       "      <td>22821.0</td>\n",
       "      <td>57.0</td>\n",
       "      <td>['댄스']</td>\n",
       "      <td>[428821, 434621]</td>\n",
       "      <td>...</td>\n",
       "      <td>False</td>\n",
       "      <td>False</td>\n",
       "      <td>False</td>\n",
       "      <td>False</td>\n",
       "      <td>False</td>\n",
       "      <td>False</td>\n",
       "      <td>False</td>\n",
       "      <td>False</td>\n",
       "      <td>False</td>\n",
       "      <td>댄스</td>\n",
       "    </tr>\n",
       "    <tr>\n",
       "      <th>1</th>\n",
       "      <td>2010</td>\n",
       "      <td>1</td>\n",
       "      <td>01.03~01.09</td>\n",
       "      <td>2</td>\n",
       "      <td>2366796</td>\n",
       "      <td>너 때문에</td>\n",
       "      <td>16297.0</td>\n",
       "      <td>32.0</td>\n",
       "      <td>['댄스']</td>\n",
       "      <td>[322666]</td>\n",
       "      <td>...</td>\n",
       "      <td>False</td>\n",
       "      <td>False</td>\n",
       "      <td>False</td>\n",
       "      <td>False</td>\n",
       "      <td>False</td>\n",
       "      <td>False</td>\n",
       "      <td>False</td>\n",
       "      <td>False</td>\n",
       "      <td>False</td>\n",
       "      <td>댄스</td>\n",
       "    </tr>\n",
       "    <tr>\n",
       "      <th>2</th>\n",
       "      <td>2010</td>\n",
       "      <td>1</td>\n",
       "      <td>01.03~01.09</td>\n",
       "      <td>3</td>\n",
       "      <td>2371262</td>\n",
       "      <td>Bo Peep Bo Peep</td>\n",
       "      <td>8887.0</td>\n",
       "      <td>41.0</td>\n",
       "      <td>['댄스']</td>\n",
       "      <td>[412000]</td>\n",
       "      <td>...</td>\n",
       "      <td>False</td>\n",
       "      <td>False</td>\n",
       "      <td>False</td>\n",
       "      <td>False</td>\n",
       "      <td>False</td>\n",
       "      <td>False</td>\n",
       "      <td>False</td>\n",
       "      <td>False</td>\n",
       "      <td>False</td>\n",
       "      <td>댄스</td>\n",
       "    </tr>\n",
       "    <tr>\n",
       "      <th>3</th>\n",
       "      <td>2010</td>\n",
       "      <td>1</td>\n",
       "      <td>01.03~01.09</td>\n",
       "      <td>4</td>\n",
       "      <td>2425271</td>\n",
       "      <td>오늘 헤어졌어요</td>\n",
       "      <td>59736.0</td>\n",
       "      <td>54.0</td>\n",
       "      <td>['발라드']</td>\n",
       "      <td>[203912]</td>\n",
       "      <td>...</td>\n",
       "      <td>False</td>\n",
       "      <td>False</td>\n",
       "      <td>False</td>\n",
       "      <td>False</td>\n",
       "      <td>False</td>\n",
       "      <td>False</td>\n",
       "      <td>False</td>\n",
       "      <td>False</td>\n",
       "      <td>False</td>\n",
       "      <td>발라드</td>\n",
       "    </tr>\n",
       "    <tr>\n",
       "      <th>4</th>\n",
       "      <td>2010</td>\n",
       "      <td>1</td>\n",
       "      <td>01.03~01.09</td>\n",
       "      <td>5</td>\n",
       "      <td>2517998</td>\n",
       "      <td>처음처럼 그때처럼 (Feat. 강민경 From Davichi)</td>\n",
       "      <td>8217.0</td>\n",
       "      <td>8.0</td>\n",
       "      <td>['발라드']</td>\n",
       "      <td>[58793]</td>\n",
       "      <td>...</td>\n",
       "      <td>False</td>\n",
       "      <td>False</td>\n",
       "      <td>False</td>\n",
       "      <td>False</td>\n",
       "      <td>False</td>\n",
       "      <td>False</td>\n",
       "      <td>False</td>\n",
       "      <td>False</td>\n",
       "      <td>False</td>\n",
       "      <td>발라드</td>\n",
       "    </tr>\n",
       "  </tbody>\n",
       "</table>\n",
       "<p>5 rows × 44 columns</p>\n",
       "</div>"
      ],
      "text/plain": [
       "   year  month         week  rank  song_id  \\\n",
       "0  2010      1  01.03~01.09     1  2511561   \n",
       "1  2010      1  01.03~01.09     2  2366796   \n",
       "2  2010      1  01.03~01.09     3  2371262   \n",
       "3  2010      1  01.03~01.09     4  2425271   \n",
       "4  2010      1  01.03~01.09     5  2517998   \n",
       "\n",
       "                                title     like  reply    genre  \\\n",
       "0                        우리 사랑하게 됐어요.  22821.0   57.0   ['댄스']   \n",
       "1                               너 때문에  16297.0   32.0   ['댄스']   \n",
       "2                     Bo Peep Bo Peep   8887.0   41.0   ['댄스']   \n",
       "3                            오늘 헤어졌어요  59736.0   54.0  ['발라드']   \n",
       "4  처음처럼 그때처럼 (Feat. 강민경 From Davichi)   8217.0    8.0  ['발라드']   \n",
       "\n",
       "          artist_id  ...     재즈   록/메탈    클래식 애니메이션/웹툰     만화     게임   뉴에이지  \\\n",
       "0  [428821, 434621]  ...  False  False  False    False  False  False  False   \n",
       "1          [322666]  ...  False  False  False    False  False  False  False   \n",
       "2          [412000]  ...  False  False  False    False  False  False  False   \n",
       "3          [203912]  ...  False  False  False    False  False  False  False   \n",
       "4           [58793]  ...  False  False  False    False  False  False  False   \n",
       "\n",
       "   국내드라마  포크/블루스  main_genre  \n",
       "0  False   False          댄스  \n",
       "1  False   False          댄스  \n",
       "2  False   False          댄스  \n",
       "3  False   False         발라드  \n",
       "4  False   False         발라드  \n",
       "\n",
       "[5 rows x 44 columns]"
      ]
     },
     "execution_count": 2,
     "metadata": {},
     "output_type": "execute_result"
    }
   ],
   "source": [
    "df = pd.read_csv(\"../data/real_final.csv\")\n",
    "df.head()"
   ]
  },
  {
   "cell_type": "markdown",
   "metadata": {},
   "source": [
    "# 1. 피쳐링 \n",
    "기준 1)Feat, 2)feat 3)피쳐링"
   ]
  },
  {
   "cell_type": "code",
   "execution_count": 168,
   "metadata": {},
   "outputs": [],
   "source": [
    "# 1) Feat로 구분\n",
    "feat = df[df['title'].str.find('Feat') != -1].set_index('song_id')\n",
    "feat = feat['title'].str.partition('Feat').drop([0, 1], axis=1).rename(columns={2:'feat_artist'})\n",
    "feat['feat_artist'] = feat['feat_artist'].str.rstrip(')').str.lstrip('. ')"
   ]
  },
  {
   "cell_type": "code",
   "execution_count": 169,
   "metadata": {},
   "outputs": [
    {
     "name": "stdout",
     "output_type": "stream",
     "text": [
      "(8678, 1)\n"
     ]
    },
    {
     "data": {
      "text/html": [
       "<div>\n",
       "<style scoped>\n",
       "    .dataframe tbody tr th:only-of-type {\n",
       "        vertical-align: middle;\n",
       "    }\n",
       "\n",
       "    .dataframe tbody tr th {\n",
       "        vertical-align: top;\n",
       "    }\n",
       "\n",
       "    .dataframe thead th {\n",
       "        text-align: right;\n",
       "    }\n",
       "</style>\n",
       "<table border=\"1\" class=\"dataframe\">\n",
       "  <thead>\n",
       "    <tr style=\"text-align: right;\">\n",
       "      <th></th>\n",
       "      <th>feat_artist</th>\n",
       "    </tr>\n",
       "    <tr>\n",
       "      <th>song_id</th>\n",
       "      <th></th>\n",
       "    </tr>\n",
       "  </thead>\n",
       "  <tbody>\n",
       "    <tr>\n",
       "      <th>2517998</th>\n",
       "      <td>강민경 From Davichi</td>\n",
       "    </tr>\n",
       "    <tr>\n",
       "      <th>2388945</th>\n",
       "      <td>미스터타이푼</td>\n",
       "    </tr>\n",
       "    <tr>\n",
       "      <th>2529931</th>\n",
       "      <td>용준형 From Beast</td>\n",
       "    </tr>\n",
       "    <tr>\n",
       "      <th>2507672</th>\n",
       "      <td>정엽</td>\n",
       "    </tr>\n",
       "    <tr>\n",
       "      <th>2388877</th>\n",
       "      <td>슈프림팀</td>\n",
       "    </tr>\n",
       "    <tr>\n",
       "      <th>...</th>\n",
       "      <td>...</td>\n",
       "    </tr>\n",
       "    <tr>\n",
       "      <th>32091615</th>\n",
       "      <td>Jvcki Wai</td>\n",
       "    </tr>\n",
       "    <tr>\n",
       "      <th>32163199</th>\n",
       "      <td>백예린) (Prod. by WOOGIE</td>\n",
       "    </tr>\n",
       "    <tr>\n",
       "      <th>32006890</th>\n",
       "      <td>염따, pH-1) (Prod. BOYCOLD</td>\n",
       "    </tr>\n",
       "    <tr>\n",
       "      <th>32128108</th>\n",
       "      <td>수란</td>\n",
       "    </tr>\n",
       "    <tr>\n",
       "      <th>31856628</th>\n",
       "      <td>Kid Milli, Lil tachi, 김승민, NO:EL, C JAMM</td>\n",
       "    </tr>\n",
       "  </tbody>\n",
       "</table>\n",
       "<p>8678 rows × 1 columns</p>\n",
       "</div>"
      ],
      "text/plain": [
       "                                       feat_artist\n",
       "song_id                                           \n",
       "2517998                           강민경 From Davichi\n",
       "2388945                                     미스터타이푼\n",
       "2529931                             용준형 From Beast\n",
       "2507672                                         정엽\n",
       "2388877                                       슈프림팀\n",
       "...                                            ...\n",
       "32091615                                 Jvcki Wai\n",
       "32163199                     백예린) (Prod. by WOOGIE\n",
       "32006890                  염따, pH-1) (Prod. BOYCOLD\n",
       "32128108                                        수란\n",
       "31856628  Kid Milli, Lil tachi, 김승민, NO:EL, C JAMM\n",
       "\n",
       "[8678 rows x 1 columns]"
      ]
     },
     "execution_count": 169,
     "metadata": {},
     "output_type": "execute_result"
    }
   ],
   "source": [
    "print(feat.shape)\n",
    "feat"
   ]
  },
  {
   "cell_type": "code",
   "execution_count": 170,
   "metadata": {},
   "outputs": [
    {
     "name": "stdout",
     "output_type": "stream",
     "text": [
      "(163, 1)\n"
     ]
    },
    {
     "data": {
      "text/html": [
       "<div>\n",
       "<style scoped>\n",
       "    .dataframe tbody tr th:only-of-type {\n",
       "        vertical-align: middle;\n",
       "    }\n",
       "\n",
       "    .dataframe tbody tr th {\n",
       "        vertical-align: top;\n",
       "    }\n",
       "\n",
       "    .dataframe thead th {\n",
       "        text-align: right;\n",
       "    }\n",
       "</style>\n",
       "<table border=\"1\" class=\"dataframe\">\n",
       "  <thead>\n",
       "    <tr style=\"text-align: right;\">\n",
       "      <th></th>\n",
       "      <th>feat_artist</th>\n",
       "    </tr>\n",
       "    <tr>\n",
       "      <th>song_id</th>\n",
       "      <th></th>\n",
       "    </tr>\n",
       "  </thead>\n",
       "  <tbody>\n",
       "    <tr>\n",
       "      <th>3574100</th>\n",
       "      <td>나얼</td>\n",
       "    </tr>\n",
       "    <tr>\n",
       "      <th>3574100</th>\n",
       "      <td>나얼</td>\n",
       "    </tr>\n",
       "    <tr>\n",
       "      <th>3584075</th>\n",
       "      <td>진실</td>\n",
       "    </tr>\n",
       "    <tr>\n",
       "      <th>3584075</th>\n",
       "      <td>진실</td>\n",
       "    </tr>\n",
       "    <tr>\n",
       "      <th>3574100</th>\n",
       "      <td>나얼</td>\n",
       "    </tr>\n",
       "    <tr>\n",
       "      <th>...</th>\n",
       "      <td>...</td>\n",
       "    </tr>\n",
       "    <tr>\n",
       "      <th>31737197</th>\n",
       "      <td>Halsey</td>\n",
       "    </tr>\n",
       "    <tr>\n",
       "      <th>32107750</th>\n",
       "      <td>Lauv</td>\n",
       "    </tr>\n",
       "    <tr>\n",
       "      <th>31737197</th>\n",
       "      <td>Halsey</td>\n",
       "    </tr>\n",
       "    <tr>\n",
       "      <th>31737197</th>\n",
       "      <td>Halsey</td>\n",
       "    </tr>\n",
       "    <tr>\n",
       "      <th>31737197</th>\n",
       "      <td>Halsey</td>\n",
       "    </tr>\n",
       "  </tbody>\n",
       "</table>\n",
       "<p>163 rows × 1 columns</p>\n",
       "</div>"
      ],
      "text/plain": [
       "         feat_artist\n",
       "song_id             \n",
       "3574100           나얼\n",
       "3574100           나얼\n",
       "3584075           진실\n",
       "3584075           진실\n",
       "3574100           나얼\n",
       "...              ...\n",
       "31737197      Halsey\n",
       "32107750        Lauv\n",
       "31737197      Halsey\n",
       "31737197      Halsey\n",
       "31737197      Halsey\n",
       "\n",
       "[163 rows x 1 columns]"
      ]
     },
     "execution_count": 170,
     "metadata": {},
     "output_type": "execute_result"
    }
   ],
   "source": [
    "# 2) feat로 구분\n",
    "feat2_F = df[df['title'].str.find('feat') != -1].set_index(['song_id'])\n",
    "feat2_F = feat2_F['title'].str.partition('feat').drop([0, 1], axis=1).rename(columns={2:'feat_artist'})\n",
    "feat2_F['feat_artist'] = feat2_F['feat_artist'].str.rstrip(')').str.lstrip('. ')\n",
    "print(feat2_F.shape)\n",
    "feat2_F"
   ]
  },
  {
   "cell_type": "code",
   "execution_count": 171,
   "metadata": {},
   "outputs": [
    {
     "name": "stdout",
     "output_type": "stream",
     "text": [
      "(11, 1)\n"
     ]
    },
    {
     "data": {
      "text/html": [
       "<div>\n",
       "<style scoped>\n",
       "    .dataframe tbody tr th:only-of-type {\n",
       "        vertical-align: middle;\n",
       "    }\n",
       "\n",
       "    .dataframe tbody tr th {\n",
       "        vertical-align: top;\n",
       "    }\n",
       "\n",
       "    .dataframe thead th {\n",
       "        text-align: right;\n",
       "    }\n",
       "</style>\n",
       "<table border=\"1\" class=\"dataframe\">\n",
       "  <thead>\n",
       "    <tr style=\"text-align: right;\">\n",
       "      <th></th>\n",
       "      <th>feat_artist</th>\n",
       "    </tr>\n",
       "    <tr>\n",
       "      <th>song_id</th>\n",
       "      <th></th>\n",
       "    </tr>\n",
       "  </thead>\n",
       "  <tbody>\n",
       "    <tr>\n",
       "      <th>3811405</th>\n",
       "      <td>윤도현 Of YB</td>\n",
       "    </tr>\n",
       "    <tr>\n",
       "      <th>3811405</th>\n",
       "      <td>윤도현 Of YB</td>\n",
       "    </tr>\n",
       "    <tr>\n",
       "      <th>3812103</th>\n",
       "      <td>조현아 Of 어반자카파</td>\n",
       "    </tr>\n",
       "    <tr>\n",
       "      <th>3812104</th>\n",
       "      <td>정인, 쌈디 Of 슈프림팀, 바비킴 Of 부가킹즈</td>\n",
       "    </tr>\n",
       "    <tr>\n",
       "      <th>3812139</th>\n",
       "      <td>쥬비 Of 부가킹즈</td>\n",
       "    </tr>\n",
       "    <tr>\n",
       "      <th>3812087</th>\n",
       "      <td>정인</td>\n",
       "    </tr>\n",
       "    <tr>\n",
       "      <th>3811405</th>\n",
       "      <td>윤도현 Of YB</td>\n",
       "    </tr>\n",
       "    <tr>\n",
       "      <th>3811405</th>\n",
       "      <td>윤도현 Of YB</td>\n",
       "    </tr>\n",
       "    <tr>\n",
       "      <th>3811405</th>\n",
       "      <td>윤도현 Of YB</td>\n",
       "    </tr>\n",
       "    <tr>\n",
       "      <th>3811405</th>\n",
       "      <td>윤도현 Of YB</td>\n",
       "    </tr>\n",
       "    <tr>\n",
       "      <th>3811405</th>\n",
       "      <td>윤도현 Of YB</td>\n",
       "    </tr>\n",
       "  </tbody>\n",
       "</table>\n",
       "</div>"
      ],
      "text/plain": [
       "                         feat_artist\n",
       "song_id                             \n",
       "3811405                    윤도현 Of YB\n",
       "3811405                    윤도현 Of YB\n",
       "3812103                 조현아 Of 어반자카파\n",
       "3812104  정인, 쌈디 Of 슈프림팀, 바비킴 Of 부가킹즈\n",
       "3812139                   쥬비 Of 부가킹즈\n",
       "3812087                           정인\n",
       "3811405                    윤도현 Of YB\n",
       "3811405                    윤도현 Of YB\n",
       "3811405                    윤도현 Of YB\n",
       "3811405                    윤도현 Of YB\n",
       "3811405                    윤도현 Of YB"
      ]
     },
     "execution_count": 171,
     "metadata": {},
     "output_type": "execute_result"
    }
   ],
   "source": [
    "# 3) 피쳐링로 구분\n",
    "feat3_F = df[df['title'].str.find('피쳐링') != -1].set_index(['song_id'])\n",
    "feat3_F = feat3_F['title'].str.partition('피쳐링').drop([0, 1], axis=1).rename(columns={2:'feat_artist'})\n",
    "feat3_F['feat_artist'] = feat3_F['feat_artist'].str.rstrip(')').str.lstrip('. ')\n",
    "print(feat3_F.shape)\n",
    "feat3_F"
   ]
  },
  {
   "cell_type": "code",
   "execution_count": 172,
   "metadata": {},
   "outputs": [
    {
     "name": "stdout",
     "output_type": "stream",
     "text": [
      "(8852, 1)\n"
     ]
    },
    {
     "data": {
      "text/html": [
       "<div>\n",
       "<style scoped>\n",
       "    .dataframe tbody tr th:only-of-type {\n",
       "        vertical-align: middle;\n",
       "    }\n",
       "\n",
       "    .dataframe tbody tr th {\n",
       "        vertical-align: top;\n",
       "    }\n",
       "\n",
       "    .dataframe thead th {\n",
       "        text-align: right;\n",
       "    }\n",
       "</style>\n",
       "<table border=\"1\" class=\"dataframe\">\n",
       "  <thead>\n",
       "    <tr style=\"text-align: right;\">\n",
       "      <th></th>\n",
       "      <th>feat_artist</th>\n",
       "    </tr>\n",
       "    <tr>\n",
       "      <th>song_id</th>\n",
       "      <th></th>\n",
       "    </tr>\n",
       "  </thead>\n",
       "  <tbody>\n",
       "    <tr>\n",
       "      <th>2517998</th>\n",
       "      <td>강민경 From Davichi</td>\n",
       "    </tr>\n",
       "    <tr>\n",
       "      <th>2388945</th>\n",
       "      <td>미스터타이푼</td>\n",
       "    </tr>\n",
       "    <tr>\n",
       "      <th>2529931</th>\n",
       "      <td>용준형 From Beast</td>\n",
       "    </tr>\n",
       "    <tr>\n",
       "      <th>2507672</th>\n",
       "      <td>정엽</td>\n",
       "    </tr>\n",
       "    <tr>\n",
       "      <th>2388877</th>\n",
       "      <td>슈프림팀</td>\n",
       "    </tr>\n",
       "  </tbody>\n",
       "</table>\n",
       "</div>"
      ],
      "text/plain": [
       "              feat_artist\n",
       "song_id                  \n",
       "2517998  강민경 From Davichi\n",
       "2388945            미스터타이푼\n",
       "2529931    용준형 From Beast\n",
       "2507672                정엽\n",
       "2388877              슈프림팀"
      ]
     },
     "execution_count": 172,
     "metadata": {},
     "output_type": "execute_result"
    }
   ],
   "source": [
    "# 3. 합치기\n",
    "feat_artist = pd.concat([feat, feat2_F,feat3_F])\n",
    "print(feat_artist.shape)\n",
    "feat_artist.head()"
   ]
  },
  {
   "cell_type": "code",
   "execution_count": 173,
   "metadata": {},
   "outputs": [],
   "source": [
    "col = ['song_id','title']\n",
    "title = df[col]"
   ]
  },
  {
   "cell_type": "code",
   "execution_count": 174,
   "metadata": {},
   "outputs": [
    {
     "data": {
      "text/html": [
       "<div>\n",
       "<style scoped>\n",
       "    .dataframe tbody tr th:only-of-type {\n",
       "        vertical-align: middle;\n",
       "    }\n",
       "\n",
       "    .dataframe tbody tr th {\n",
       "        vertical-align: top;\n",
       "    }\n",
       "\n",
       "    .dataframe thead th {\n",
       "        text-align: right;\n",
       "    }\n",
       "</style>\n",
       "<table border=\"1\" class=\"dataframe\">\n",
       "  <thead>\n",
       "    <tr style=\"text-align: right;\">\n",
       "      <th></th>\n",
       "      <th>feat_artist</th>\n",
       "    </tr>\n",
       "    <tr>\n",
       "      <th>song_id</th>\n",
       "      <th></th>\n",
       "    </tr>\n",
       "  </thead>\n",
       "  <tbody>\n",
       "    <tr>\n",
       "      <th>2517998</th>\n",
       "      <td>강민경 From Davichi</td>\n",
       "    </tr>\n",
       "    <tr>\n",
       "      <th>2388945</th>\n",
       "      <td>미스터타이푼</td>\n",
       "    </tr>\n",
       "    <tr>\n",
       "      <th>2529931</th>\n",
       "      <td>용준형 From Beast</td>\n",
       "    </tr>\n",
       "    <tr>\n",
       "      <th>2507672</th>\n",
       "      <td>정엽</td>\n",
       "    </tr>\n",
       "    <tr>\n",
       "      <th>2388877</th>\n",
       "      <td>슈프림팀</td>\n",
       "    </tr>\n",
       "    <tr>\n",
       "      <th>...</th>\n",
       "      <td>...</td>\n",
       "    </tr>\n",
       "    <tr>\n",
       "      <th>3811405</th>\n",
       "      <td>윤도현 Of YB</td>\n",
       "    </tr>\n",
       "    <tr>\n",
       "      <th>3811405</th>\n",
       "      <td>윤도현 Of YB</td>\n",
       "    </tr>\n",
       "    <tr>\n",
       "      <th>3811405</th>\n",
       "      <td>윤도현 Of YB</td>\n",
       "    </tr>\n",
       "    <tr>\n",
       "      <th>3811405</th>\n",
       "      <td>윤도현 Of YB</td>\n",
       "    </tr>\n",
       "    <tr>\n",
       "      <th>3811405</th>\n",
       "      <td>윤도현 Of YB</td>\n",
       "    </tr>\n",
       "  </tbody>\n",
       "</table>\n",
       "<p>8852 rows × 1 columns</p>\n",
       "</div>"
      ],
      "text/plain": [
       "              feat_artist\n",
       "song_id                  \n",
       "2517998  강민경 From Davichi\n",
       "2388945            미스터타이푼\n",
       "2529931    용준형 From Beast\n",
       "2507672                정엽\n",
       "2388877              슈프림팀\n",
       "...                   ...\n",
       "3811405         윤도현 Of YB\n",
       "3811405         윤도현 Of YB\n",
       "3811405         윤도현 Of YB\n",
       "3811405         윤도현 Of YB\n",
       "3811405         윤도현 Of YB\n",
       "\n",
       "[8852 rows x 1 columns]"
      ]
     },
     "execution_count": 174,
     "metadata": {},
     "output_type": "execute_result"
    }
   ],
   "source": [
    "feat_artist"
   ]
  },
  {
   "cell_type": "code",
   "execution_count": 256,
   "metadata": {},
   "outputs": [],
   "source": [
    "title = title.drop_duplicates()"
   ]
  },
  {
   "cell_type": "code",
   "execution_count": 257,
   "metadata": {},
   "outputs": [
    {
     "data": {
      "text/plain": [
       "Index(['song_id', 'title'], dtype='object')"
      ]
     },
     "execution_count": 257,
     "metadata": {},
     "output_type": "execute_result"
    }
   ],
   "source": [
    "title.columns"
   ]
  },
  {
   "cell_type": "code",
   "execution_count": 258,
   "metadata": {},
   "outputs": [],
   "source": [
    "피쳐링가수 = pd.merge(feat_artist, title, how ='left', left_index=True, right_on='song_id')"
   ]
  },
  {
   "cell_type": "code",
   "execution_count": 259,
   "metadata": {},
   "outputs": [
    {
     "data": {
      "text/html": [
       "<div>\n",
       "<style scoped>\n",
       "    .dataframe tbody tr th:only-of-type {\n",
       "        vertical-align: middle;\n",
       "    }\n",
       "\n",
       "    .dataframe tbody tr th {\n",
       "        vertical-align: top;\n",
       "    }\n",
       "\n",
       "    .dataframe thead th {\n",
       "        text-align: right;\n",
       "    }\n",
       "</style>\n",
       "<table border=\"1\" class=\"dataframe\">\n",
       "  <thead>\n",
       "    <tr style=\"text-align: right;\">\n",
       "      <th></th>\n",
       "      <th>feat_artist</th>\n",
       "      <th>song_id</th>\n",
       "      <th>title</th>\n",
       "    </tr>\n",
       "  </thead>\n",
       "  <tbody>\n",
       "    <tr>\n",
       "      <th>4</th>\n",
       "      <td>강민경 From Davichi</td>\n",
       "      <td>2517998</td>\n",
       "      <td>처음처럼 그때처럼 (Feat. 강민경 From Davichi)</td>\n",
       "    </tr>\n",
       "    <tr>\n",
       "      <th>9</th>\n",
       "      <td>미스터타이푼</td>\n",
       "      <td>2388945</td>\n",
       "      <td>싸이렌 (Siren) (Feat. 미스터타이푼)</td>\n",
       "    </tr>\n",
       "    <tr>\n",
       "      <th>10</th>\n",
       "      <td>용준형 From Beast</td>\n",
       "      <td>2529931</td>\n",
       "      <td>Change (Feat. 용준형 From Beast)</td>\n",
       "    </tr>\n",
       "    <tr>\n",
       "      <th>22</th>\n",
       "      <td>정엽</td>\n",
       "      <td>2507672</td>\n",
       "      <td>넌 나를 왜 (Feat. 정엽)</td>\n",
       "    </tr>\n",
       "    <tr>\n",
       "      <th>35</th>\n",
       "      <td>슈프림팀</td>\n",
       "      <td>2388877</td>\n",
       "      <td>내 여자 (Feat. 슈프림팀)</td>\n",
       "    </tr>\n",
       "    <tr>\n",
       "      <th>...</th>\n",
       "      <td>...</td>\n",
       "      <td>...</td>\n",
       "      <td>...</td>\n",
       "    </tr>\n",
       "    <tr>\n",
       "      <th>12234</th>\n",
       "      <td>윤도현 Of YB</td>\n",
       "      <td>3811405</td>\n",
       "      <td>Someday (피쳐링. 윤도현 Of YB)</td>\n",
       "    </tr>\n",
       "    <tr>\n",
       "      <th>12234</th>\n",
       "      <td>윤도현 Of YB</td>\n",
       "      <td>3811405</td>\n",
       "      <td>Someday (피쳐링. 윤도현 Of YB)</td>\n",
       "    </tr>\n",
       "    <tr>\n",
       "      <th>12234</th>\n",
       "      <td>윤도현 Of YB</td>\n",
       "      <td>3811405</td>\n",
       "      <td>Someday (피쳐링. 윤도현 Of YB)</td>\n",
       "    </tr>\n",
       "    <tr>\n",
       "      <th>12234</th>\n",
       "      <td>윤도현 Of YB</td>\n",
       "      <td>3811405</td>\n",
       "      <td>Someday (피쳐링. 윤도현 Of YB)</td>\n",
       "    </tr>\n",
       "    <tr>\n",
       "      <th>12234</th>\n",
       "      <td>윤도현 Of YB</td>\n",
       "      <td>3811405</td>\n",
       "      <td>Someday (피쳐링. 윤도현 Of YB)</td>\n",
       "    </tr>\n",
       "  </tbody>\n",
       "</table>\n",
       "<p>8852 rows × 3 columns</p>\n",
       "</div>"
      ],
      "text/plain": [
       "            feat_artist  song_id                               title\n",
       "4      강민경 From Davichi  2517998  처음처럼 그때처럼 (Feat. 강민경 From Davichi)\n",
       "9                미스터타이푼  2388945          싸이렌 (Siren) (Feat. 미스터타이푼)\n",
       "10       용준형 From Beast  2529931       Change (Feat. 용준형 From Beast)\n",
       "22                   정엽  2507672                   넌 나를 왜 (Feat. 정엽)\n",
       "35                 슈프림팀  2388877                   내 여자 (Feat. 슈프림팀)\n",
       "...                 ...      ...                                 ...\n",
       "12234         윤도현 Of YB  3811405            Someday (피쳐링. 윤도현 Of YB)\n",
       "12234         윤도현 Of YB  3811405            Someday (피쳐링. 윤도현 Of YB)\n",
       "12234         윤도현 Of YB  3811405            Someday (피쳐링. 윤도현 Of YB)\n",
       "12234         윤도현 Of YB  3811405            Someday (피쳐링. 윤도현 Of YB)\n",
       "12234         윤도현 Of YB  3811405            Someday (피쳐링. 윤도현 Of YB)\n",
       "\n",
       "[8852 rows x 3 columns]"
      ]
     },
     "execution_count": 259,
     "metadata": {},
     "output_type": "execute_result"
    }
   ],
   "source": [
    "피쳐링가수 "
   ]
  },
  {
   "cell_type": "code",
   "execution_count": 180,
   "metadata": {},
   "outputs": [],
   "source": [
    "피쳐링가수.to_csv('피쳐링가수.csv')"
   ]
  },
  {
   "cell_type": "markdown",
   "metadata": {},
   "source": [
    "# 피쳐링 가수로 분석 시작"
   ]
  },
  {
   "cell_type": "code",
   "execution_count": 5,
   "metadata": {},
   "outputs": [],
   "source": [
    "피쳐링 = pd.read_csv('./피쳐링가수.csv')"
   ]
  },
  {
   "cell_type": "code",
   "execution_count": 6,
   "metadata": {},
   "outputs": [
    {
     "data": {
      "text/html": [
       "<div>\n",
       "<style scoped>\n",
       "    .dataframe tbody tr th:only-of-type {\n",
       "        vertical-align: middle;\n",
       "    }\n",
       "\n",
       "    .dataframe tbody tr th {\n",
       "        vertical-align: top;\n",
       "    }\n",
       "\n",
       "    .dataframe thead th {\n",
       "        text-align: right;\n",
       "    }\n",
       "</style>\n",
       "<table border=\"1\" class=\"dataframe\">\n",
       "  <thead>\n",
       "    <tr style=\"text-align: right;\">\n",
       "      <th></th>\n",
       "      <th>Unnamed: 0</th>\n",
       "      <th>feat_artist</th>\n",
       "      <th>song_id</th>\n",
       "      <th>title</th>\n",
       "    </tr>\n",
       "  </thead>\n",
       "  <tbody>\n",
       "    <tr>\n",
       "      <th>0</th>\n",
       "      <td>4</td>\n",
       "      <td>강민경 From Davichi</td>\n",
       "      <td>2517998</td>\n",
       "      <td>처음처럼 그때처럼 (Feat. 강민경 From Davichi)</td>\n",
       "    </tr>\n",
       "    <tr>\n",
       "      <th>1</th>\n",
       "      <td>9</td>\n",
       "      <td>미스터타이푼</td>\n",
       "      <td>2388945</td>\n",
       "      <td>싸이렌 (Siren) (Feat. 미스터타이푼)</td>\n",
       "    </tr>\n",
       "    <tr>\n",
       "      <th>2</th>\n",
       "      <td>10</td>\n",
       "      <td>용준형 From Beast</td>\n",
       "      <td>2529931</td>\n",
       "      <td>Change (Feat. 용준형 From Beast)</td>\n",
       "    </tr>\n",
       "    <tr>\n",
       "      <th>3</th>\n",
       "      <td>22</td>\n",
       "      <td>정엽</td>\n",
       "      <td>2507672</td>\n",
       "      <td>넌 나를 왜 (Feat. 정엽)</td>\n",
       "    </tr>\n",
       "    <tr>\n",
       "      <th>4</th>\n",
       "      <td>35</td>\n",
       "      <td>슈프림팀</td>\n",
       "      <td>2388877</td>\n",
       "      <td>내 여자 (Feat. 슈프림팀)</td>\n",
       "    </tr>\n",
       "    <tr>\n",
       "      <th>...</th>\n",
       "      <td>...</td>\n",
       "      <td>...</td>\n",
       "      <td>...</td>\n",
       "      <td>...</td>\n",
       "    </tr>\n",
       "    <tr>\n",
       "      <th>8847</th>\n",
       "      <td>12234</td>\n",
       "      <td>윤도현 Of YB</td>\n",
       "      <td>3811405</td>\n",
       "      <td>Someday (피쳐링. 윤도현 Of YB)</td>\n",
       "    </tr>\n",
       "    <tr>\n",
       "      <th>8848</th>\n",
       "      <td>12234</td>\n",
       "      <td>윤도현 Of YB</td>\n",
       "      <td>3811405</td>\n",
       "      <td>Someday (피쳐링. 윤도현 Of YB)</td>\n",
       "    </tr>\n",
       "    <tr>\n",
       "      <th>8849</th>\n",
       "      <td>12234</td>\n",
       "      <td>윤도현 Of YB</td>\n",
       "      <td>3811405</td>\n",
       "      <td>Someday (피쳐링. 윤도현 Of YB)</td>\n",
       "    </tr>\n",
       "    <tr>\n",
       "      <th>8850</th>\n",
       "      <td>12234</td>\n",
       "      <td>윤도현 Of YB</td>\n",
       "      <td>3811405</td>\n",
       "      <td>Someday (피쳐링. 윤도현 Of YB)</td>\n",
       "    </tr>\n",
       "    <tr>\n",
       "      <th>8851</th>\n",
       "      <td>12234</td>\n",
       "      <td>윤도현 Of YB</td>\n",
       "      <td>3811405</td>\n",
       "      <td>Someday (피쳐링. 윤도현 Of YB)</td>\n",
       "    </tr>\n",
       "  </tbody>\n",
       "</table>\n",
       "<p>8852 rows × 4 columns</p>\n",
       "</div>"
      ],
      "text/plain": [
       "      Unnamed: 0       feat_artist  song_id  \\\n",
       "0              4  강민경 From Davichi  2517998   \n",
       "1              9            미스터타이푼  2388945   \n",
       "2             10    용준형 From Beast  2529931   \n",
       "3             22                정엽  2507672   \n",
       "4             35              슈프림팀  2388877   \n",
       "...          ...               ...      ...   \n",
       "8847       12234         윤도현 Of YB  3811405   \n",
       "8848       12234         윤도현 Of YB  3811405   \n",
       "8849       12234         윤도현 Of YB  3811405   \n",
       "8850       12234         윤도현 Of YB  3811405   \n",
       "8851       12234         윤도현 Of YB  3811405   \n",
       "\n",
       "                                   title  \n",
       "0     처음처럼 그때처럼 (Feat. 강민경 From Davichi)  \n",
       "1             싸이렌 (Siren) (Feat. 미스터타이푼)  \n",
       "2          Change (Feat. 용준형 From Beast)  \n",
       "3                      넌 나를 왜 (Feat. 정엽)  \n",
       "4                      내 여자 (Feat. 슈프림팀)  \n",
       "...                                  ...  \n",
       "8847            Someday (피쳐링. 윤도현 Of YB)  \n",
       "8848            Someday (피쳐링. 윤도현 Of YB)  \n",
       "8849            Someday (피쳐링. 윤도현 Of YB)  \n",
       "8850            Someday (피쳐링. 윤도현 Of YB)  \n",
       "8851            Someday (피쳐링. 윤도현 Of YB)  \n",
       "\n",
       "[8852 rows x 4 columns]"
      ]
     },
     "execution_count": 6,
     "metadata": {},
     "output_type": "execute_result"
    }
   ],
   "source": [
    "피쳐링"
   ]
  },
  {
   "cell_type": "code",
   "execution_count": 7,
   "metadata": {},
   "outputs": [],
   "source": [
    "피쳐링 = 피쳐링.iloc[: ,1:4]"
   ]
  },
  {
   "cell_type": "code",
   "execution_count": 8,
   "metadata": {},
   "outputs": [
    {
     "data": {
      "text/html": [
       "<div>\n",
       "<style scoped>\n",
       "    .dataframe tbody tr th:only-of-type {\n",
       "        vertical-align: middle;\n",
       "    }\n",
       "\n",
       "    .dataframe tbody tr th {\n",
       "        vertical-align: top;\n",
       "    }\n",
       "\n",
       "    .dataframe thead th {\n",
       "        text-align: right;\n",
       "    }\n",
       "</style>\n",
       "<table border=\"1\" class=\"dataframe\">\n",
       "  <thead>\n",
       "    <tr style=\"text-align: right;\">\n",
       "      <th></th>\n",
       "      <th>feat_artist</th>\n",
       "      <th>song_id</th>\n",
       "      <th>title</th>\n",
       "    </tr>\n",
       "  </thead>\n",
       "  <tbody>\n",
       "    <tr>\n",
       "      <th>0</th>\n",
       "      <td>강민경 From Davichi</td>\n",
       "      <td>2517998</td>\n",
       "      <td>처음처럼 그때처럼 (Feat. 강민경 From Davichi)</td>\n",
       "    </tr>\n",
       "    <tr>\n",
       "      <th>1</th>\n",
       "      <td>미스터타이푼</td>\n",
       "      <td>2388945</td>\n",
       "      <td>싸이렌 (Siren) (Feat. 미스터타이푼)</td>\n",
       "    </tr>\n",
       "    <tr>\n",
       "      <th>2</th>\n",
       "      <td>용준형 From Beast</td>\n",
       "      <td>2529931</td>\n",
       "      <td>Change (Feat. 용준형 From Beast)</td>\n",
       "    </tr>\n",
       "    <tr>\n",
       "      <th>3</th>\n",
       "      <td>정엽</td>\n",
       "      <td>2507672</td>\n",
       "      <td>넌 나를 왜 (Feat. 정엽)</td>\n",
       "    </tr>\n",
       "    <tr>\n",
       "      <th>4</th>\n",
       "      <td>슈프림팀</td>\n",
       "      <td>2388877</td>\n",
       "      <td>내 여자 (Feat. 슈프림팀)</td>\n",
       "    </tr>\n",
       "    <tr>\n",
       "      <th>...</th>\n",
       "      <td>...</td>\n",
       "      <td>...</td>\n",
       "      <td>...</td>\n",
       "    </tr>\n",
       "    <tr>\n",
       "      <th>8847</th>\n",
       "      <td>윤도현 Of YB</td>\n",
       "      <td>3811405</td>\n",
       "      <td>Someday (피쳐링. 윤도현 Of YB)</td>\n",
       "    </tr>\n",
       "    <tr>\n",
       "      <th>8848</th>\n",
       "      <td>윤도현 Of YB</td>\n",
       "      <td>3811405</td>\n",
       "      <td>Someday (피쳐링. 윤도현 Of YB)</td>\n",
       "    </tr>\n",
       "    <tr>\n",
       "      <th>8849</th>\n",
       "      <td>윤도현 Of YB</td>\n",
       "      <td>3811405</td>\n",
       "      <td>Someday (피쳐링. 윤도현 Of YB)</td>\n",
       "    </tr>\n",
       "    <tr>\n",
       "      <th>8850</th>\n",
       "      <td>윤도현 Of YB</td>\n",
       "      <td>3811405</td>\n",
       "      <td>Someday (피쳐링. 윤도현 Of YB)</td>\n",
       "    </tr>\n",
       "    <tr>\n",
       "      <th>8851</th>\n",
       "      <td>윤도현 Of YB</td>\n",
       "      <td>3811405</td>\n",
       "      <td>Someday (피쳐링. 윤도현 Of YB)</td>\n",
       "    </tr>\n",
       "  </tbody>\n",
       "</table>\n",
       "<p>8852 rows × 3 columns</p>\n",
       "</div>"
      ],
      "text/plain": [
       "           feat_artist  song_id                               title\n",
       "0     강민경 From Davichi  2517998  처음처럼 그때처럼 (Feat. 강민경 From Davichi)\n",
       "1               미스터타이푼  2388945          싸이렌 (Siren) (Feat. 미스터타이푼)\n",
       "2       용준형 From Beast  2529931       Change (Feat. 용준형 From Beast)\n",
       "3                   정엽  2507672                   넌 나를 왜 (Feat. 정엽)\n",
       "4                 슈프림팀  2388877                   내 여자 (Feat. 슈프림팀)\n",
       "...                ...      ...                                 ...\n",
       "8847         윤도현 Of YB  3811405            Someday (피쳐링. 윤도현 Of YB)\n",
       "8848         윤도현 Of YB  3811405            Someday (피쳐링. 윤도현 Of YB)\n",
       "8849         윤도현 Of YB  3811405            Someday (피쳐링. 윤도현 Of YB)\n",
       "8850         윤도현 Of YB  3811405            Someday (피쳐링. 윤도현 Of YB)\n",
       "8851         윤도현 Of YB  3811405            Someday (피쳐링. 윤도현 Of YB)\n",
       "\n",
       "[8852 rows x 3 columns]"
      ]
     },
     "execution_count": 8,
     "metadata": {},
     "output_type": "execute_result"
    }
   ],
   "source": [
    "피쳐링"
   ]
  },
  {
   "cell_type": "code",
   "execution_count": 9,
   "metadata": {},
   "outputs": [
    {
     "data": {
      "text/plain": [
       "feat_artist    37\n",
       "song_id        37\n",
       "title          37\n",
       "dtype: int64"
      ]
     },
     "execution_count": 9,
     "metadata": {},
     "output_type": "execute_result"
    }
   ],
   "source": [
    "피쳐링[피쳐링['feat_artist'] == 'ZICO'].count()"
   ]
  },
  {
   "cell_type": "code",
   "execution_count": 10,
   "metadata": {},
   "outputs": [],
   "source": [
    "list_of_series = 피쳐링.groupby('feat_artist').size().sort_values(ascending = False)"
   ]
  },
  {
   "cell_type": "code",
   "execution_count": 11,
   "metadata": {},
   "outputs": [
    {
     "data": {
      "text/html": [
       "<div>\n",
       "<style scoped>\n",
       "    .dataframe tbody tr th:only-of-type {\n",
       "        vertical-align: middle;\n",
       "    }\n",
       "\n",
       "    .dataframe tbody tr th {\n",
       "        vertical-align: top;\n",
       "    }\n",
       "\n",
       "    .dataframe thead th {\n",
       "        text-align: right;\n",
       "    }\n",
       "</style>\n",
       "<table border=\"1\" class=\"dataframe\">\n",
       "  <thead>\n",
       "    <tr style=\"text-align: right;\">\n",
       "      <th></th>\n",
       "      <th>0</th>\n",
       "    </tr>\n",
       "    <tr>\n",
       "      <th>feat_artist</th>\n",
       "      <th></th>\n",
       "    </tr>\n",
       "  </thead>\n",
       "  <tbody>\n",
       "    <tr>\n",
       "      <th>개코</th>\n",
       "      <td>118</td>\n",
       "    </tr>\n",
       "    <tr>\n",
       "      <th>용준형 Of 비스트</th>\n",
       "      <td>111</td>\n",
       "    </tr>\n",
       "    <tr>\n",
       "      <th>Crush</th>\n",
       "      <td>109</td>\n",
       "    </tr>\n",
       "    <tr>\n",
       "      <th>김창완</th>\n",
       "      <td>98</td>\n",
       "    </tr>\n",
       "    <tr>\n",
       "      <th>장이정 Of HISTORY</th>\n",
       "      <td>96</td>\n",
       "    </tr>\n",
       "    <tr>\n",
       "      <th>...</th>\n",
       "      <td>...</td>\n",
       "    </tr>\n",
       "    <tr>\n",
       "      <th>김종완 of 넬)(prod.BOYCOLD</th>\n",
       "      <td>1</td>\n",
       "    </tr>\n",
       "    <tr>\n",
       "      <th>수빈 Of 달샤벳</th>\n",
       "      <td>1</td>\n",
       "    </tr>\n",
       "    <tr>\n",
       "      <th>수빈, 리디아</th>\n",
       "      <td>1</td>\n",
       "    </tr>\n",
       "    <tr>\n",
       "      <th>HYNN(박혜원</th>\n",
       "      <td>1</td>\n",
       "    </tr>\n",
       "    <tr>\n",
       "      <th>소유 of 씨스타</th>\n",
       "      <td>1</td>\n",
       "    </tr>\n",
       "  </tbody>\n",
       "</table>\n",
       "<p>919 rows × 1 columns</p>\n",
       "</div>"
      ],
      "text/plain": [
       "                          0\n",
       "feat_artist                \n",
       "개코                      118\n",
       "용준형 Of 비스트              111\n",
       "Crush                   109\n",
       "김창완                      98\n",
       "장이정 Of HISTORY           96\n",
       "...                     ...\n",
       "김종완 of 넬)(prod.BOYCOLD    1\n",
       "수빈 Of 달샤벳                 1\n",
       "수빈, 리디아                   1\n",
       "HYNN(박혜원                  1\n",
       "소유 of 씨스타                 1\n",
       "\n",
       "[919 rows x 1 columns]"
      ]
     },
     "execution_count": 11,
     "metadata": {},
     "output_type": "execute_result"
    }
   ],
   "source": [
    "feat_number = pd.DataFrame(list_of_series)\n",
    "feat_number"
   ]
  },
  {
   "cell_type": "code",
   "execution_count": 12,
   "metadata": {},
   "outputs": [],
   "source": [
    "feat_number.rename(columns= {0: '차트진입횟수'} ,inplace= True)\n",
    "feat_num = feat_number.reset_index()"
   ]
  },
  {
   "cell_type": "code",
   "execution_count": 13,
   "metadata": {},
   "outputs": [
    {
     "data": {
      "text/plain": [
       "Index(['feat_artist', '차트진입횟수'], dtype='object')"
      ]
     },
     "execution_count": 13,
     "metadata": {},
     "output_type": "execute_result"
    }
   ],
   "source": [
    "feat_num.columns"
   ]
  },
  {
   "cell_type": "code",
   "execution_count": 20,
   "metadata": {},
   "outputs": [],
   "source": [
    "import plotly.express as px   #정형화된 데이터여야함\n",
    "import plotly.graph_objects as go   #비정형화 데이터도 가능"
   ]
  },
  {
   "cell_type": "code",
   "execution_count": 15,
   "metadata": {},
   "outputs": [],
   "source": [
    "top15 = feat_num.iloc[:15]"
   ]
  },
  {
   "cell_type": "code",
   "execution_count": 26,
   "metadata": {},
   "outputs": [
    {
     "ename": "ValueError",
     "evalue": "\n    Invalid element(s) received for the 'data' property of \n        Invalid elements include: [Figure({\n    'data': [{'alignmentgroup': 'True',\n              'hoverlabel': {'namelength': 0},\n              'hovertemplate': 'feat_artist=%{x}<br>차트진입횟수=%{y}',\n              'legendgroup': '',\n              'marker': {'color': '#636efa'},\n              'name': '',\n              'offsetgroup': '',\n              'orientation': 'v',\n              'showlegend': False,\n              'textposition': 'auto',\n              'type': 'bar',\n              'x': array(['개코', '용준형 Of 비스트', 'Crush', '김창완', '장이정 Of HISTORY', 'Halsey',\n                          'Zion.T', '에일리', '버벌진트', 'Dynamic Duo', '하림', 'G-DRAGON', '신용재',\n                          '릴보이 Of 긱스', '박재범'], dtype=object),\n              'xaxis': 'x',\n              'y': array([118, 111, 109,  98,  96,  92,  91,  91,  86,  81,  77,  70,  68,  68,\n                           66]),\n              'yaxis': 'y'}],\n    'layout': {'barmode': 'relative',\n               'height': 600,\n               'legend': {'tracegroupgap': 0},\n               'margin': {'t': 60},\n               'template': '...',\n               'xaxis': {'anchor': 'y', 'domain': [0.0, 1.0], 'title': {'text': 'feat_artist'}},\n               'yaxis': {'anchor': 'x', 'domain': [0.0, 1.0], 'title': {'text': '차트진입횟수'}}}\n})]\n\n    The 'data' property is a tuple of trace instances\n    that may be specified as:\n      - A list or tuple of trace instances\n        (e.g. [Scatter(...), Bar(...)])\n      - A single trace instance\n        (e.g. Scatter(...), Bar(...), etc.)\n      - A list or tuple of dicts of string/value properties where:\n        - The 'type' property specifies the trace type\n            One of: ['area', 'bar', 'barpolar', 'box',\n                     'candlestick', 'carpet', 'choropleth',\n                     'choroplethmapbox', 'cone', 'contour',\n                     'contourcarpet', 'densitymapbox', 'funnel',\n                     'funnelarea', 'heatmap', 'heatmapgl',\n                     'histogram', 'histogram2d',\n                     'histogram2dcontour', 'image', 'indicator',\n                     'isosurface', 'mesh3d', 'ohlc', 'parcats',\n                     'parcoords', 'pie', 'pointcloud', 'sankey',\n                     'scatter', 'scatter3d', 'scattercarpet',\n                     'scattergeo', 'scattergl', 'scattermapbox',\n                     'scatterpolar', 'scatterpolargl',\n                     'scatterternary', 'splom', 'streamtube',\n                     'sunburst', 'surface', 'table', 'treemap',\n                     'violin', 'volume', 'waterfall']\n\n        - All remaining properties are passed to the constructor of\n          the specified trace type\n\n        (e.g. [{'type': 'scatter', ...}, {'type': 'bar, ...}])",
     "output_type": "error",
     "traceback": [
      "\u001b[0;31m---------------------------------------------------------------------------\u001b[0m",
      "\u001b[0;31mValueError\u001b[0m                                Traceback (most recent call last)",
      "\u001b[0;32m<ipython-input-26-1c00fd15cf60>\u001b[0m in \u001b[0;36m<module>\u001b[0;34m\u001b[0m\n\u001b[1;32m      1\u001b[0m \u001b[0mfig\u001b[0m \u001b[0;34m=\u001b[0m \u001b[0mgo\u001b[0m\u001b[0;34m.\u001b[0m\u001b[0mFigure\u001b[0m\u001b[0;34m(\u001b[0m\u001b[0;34m)\u001b[0m\u001b[0;34m\u001b[0m\u001b[0;34m\u001b[0m\u001b[0m\n\u001b[1;32m      2\u001b[0m \u001b[0;34m\u001b[0m\u001b[0m\n\u001b[0;32m----> 3\u001b[0;31m \u001b[0mfig\u001b[0m\u001b[0;34m.\u001b[0m\u001b[0madd_traces\u001b[0m\u001b[0;34m(\u001b[0m\u001b[0mpx\u001b[0m\u001b[0;34m.\u001b[0m\u001b[0mbar\u001b[0m\u001b[0;34m(\u001b[0m\u001b[0mtop15\u001b[0m\u001b[0;34m,\u001b[0m \u001b[0mx\u001b[0m\u001b[0;34m=\u001b[0m\u001b[0;34m'feat_artist'\u001b[0m\u001b[0;34m,\u001b[0m \u001b[0my\u001b[0m\u001b[0;34m=\u001b[0m\u001b[0;34m'차트진입횟수'\u001b[0m\u001b[0;34m)\u001b[0m\u001b[0;34m)\u001b[0m\u001b[0;34m\u001b[0m\u001b[0;34m\u001b[0m\u001b[0m\n\u001b[0m\u001b[1;32m      4\u001b[0m \u001b[0;34m\u001b[0m\u001b[0m\n\u001b[1;32m      5\u001b[0m \u001b[0mfig\u001b[0m\u001b[0;34m.\u001b[0m\u001b[0mupdate_layout\u001b[0m\u001b[0;34m(\u001b[0m\u001b[0mwidth\u001b[0m\u001b[0;34m=\u001b[0m\u001b[0;36m450\u001b[0m\u001b[0;34m,\u001b[0m \u001b[0mheight\u001b[0m\u001b[0;34m=\u001b[0m\u001b[0;36m450\u001b[0m\u001b[0;34m,\u001b[0m \u001b[0mplot_bgcolor\u001b[0m\u001b[0;34m=\u001b[0m\u001b[0;34m'rgb(255,255,255)'\u001b[0m\u001b[0;34m)\u001b[0m\u001b[0;34m\u001b[0m\u001b[0;34m\u001b[0m\u001b[0m\n",
      "\u001b[0;32m/usr/local/lib/python3.7/site-packages/plotly/basedatatypes.py\u001b[0m in \u001b[0;36madd_traces\u001b[0;34m(self, data, rows, cols, secondary_ys)\u001b[0m\n\u001b[1;32m   1674\u001b[0m \u001b[0;34m\u001b[0m\u001b[0m\n\u001b[1;32m   1675\u001b[0m         \u001b[0;31m# Validate traces\u001b[0m\u001b[0;34m\u001b[0m\u001b[0;34m\u001b[0m\u001b[0;34m\u001b[0m\u001b[0m\n\u001b[0;32m-> 1676\u001b[0;31m         \u001b[0mdata\u001b[0m \u001b[0;34m=\u001b[0m \u001b[0mself\u001b[0m\u001b[0;34m.\u001b[0m\u001b[0m_data_validator\u001b[0m\u001b[0;34m.\u001b[0m\u001b[0mvalidate_coerce\u001b[0m\u001b[0;34m(\u001b[0m\u001b[0mdata\u001b[0m\u001b[0;34m)\u001b[0m\u001b[0;34m\u001b[0m\u001b[0;34m\u001b[0m\u001b[0m\n\u001b[0m\u001b[1;32m   1677\u001b[0m \u001b[0;34m\u001b[0m\u001b[0m\n\u001b[1;32m   1678\u001b[0m         \u001b[0;31m# Set trace indexes\u001b[0m\u001b[0;34m\u001b[0m\u001b[0;34m\u001b[0m\u001b[0;34m\u001b[0m\u001b[0m\n",
      "\u001b[0;32m/usr/local/lib/python3.7/site-packages/_plotly_utils/basevalidators.py\u001b[0m in \u001b[0;36mvalidate_coerce\u001b[0;34m(self, v, skip_invalid)\u001b[0m\n\u001b[1;32m   2656\u001b[0m \u001b[0;34m\u001b[0m\u001b[0m\n\u001b[1;32m   2657\u001b[0m             \u001b[0;32mif\u001b[0m \u001b[0minvalid_els\u001b[0m\u001b[0;34m:\u001b[0m\u001b[0;34m\u001b[0m\u001b[0;34m\u001b[0m\u001b[0m\n\u001b[0;32m-> 2658\u001b[0;31m                 \u001b[0mself\u001b[0m\u001b[0;34m.\u001b[0m\u001b[0mraise_invalid_elements\u001b[0m\u001b[0;34m(\u001b[0m\u001b[0minvalid_els\u001b[0m\u001b[0;34m)\u001b[0m\u001b[0;34m\u001b[0m\u001b[0;34m\u001b[0m\u001b[0m\n\u001b[0m\u001b[1;32m   2659\u001b[0m \u001b[0;34m\u001b[0m\u001b[0m\n\u001b[1;32m   2660\u001b[0m             \u001b[0mv\u001b[0m \u001b[0;34m=\u001b[0m \u001b[0mto_scalar_or_list\u001b[0m\u001b[0;34m(\u001b[0m\u001b[0mres\u001b[0m\u001b[0;34m)\u001b[0m\u001b[0;34m\u001b[0m\u001b[0;34m\u001b[0m\u001b[0m\n",
      "\u001b[0;32m/usr/local/lib/python3.7/site-packages/_plotly_utils/basevalidators.py\u001b[0m in \u001b[0;36mraise_invalid_elements\u001b[0;34m(self, invalid_els)\u001b[0m\n\u001b[1;32m    296\u001b[0m                     \u001b[0mpname\u001b[0m\u001b[0;34m=\u001b[0m\u001b[0mself\u001b[0m\u001b[0;34m.\u001b[0m\u001b[0mparent_name\u001b[0m\u001b[0;34m,\u001b[0m\u001b[0;34m\u001b[0m\u001b[0;34m\u001b[0m\u001b[0m\n\u001b[1;32m    297\u001b[0m                     \u001b[0minvalid\u001b[0m\u001b[0;34m=\u001b[0m\u001b[0minvalid_els\u001b[0m\u001b[0;34m[\u001b[0m\u001b[0;34m:\u001b[0m\u001b[0;36m10\u001b[0m\u001b[0;34m]\u001b[0m\u001b[0;34m,\u001b[0m\u001b[0;34m\u001b[0m\u001b[0;34m\u001b[0m\u001b[0m\n\u001b[0;32m--> 298\u001b[0;31m                     \u001b[0mvalid_clr_desc\u001b[0m\u001b[0;34m=\u001b[0m\u001b[0mself\u001b[0m\u001b[0;34m.\u001b[0m\u001b[0mdescription\u001b[0m\u001b[0;34m(\u001b[0m\u001b[0;34m)\u001b[0m\u001b[0;34m,\u001b[0m\u001b[0;34m\u001b[0m\u001b[0;34m\u001b[0m\u001b[0m\n\u001b[0m\u001b[1;32m    299\u001b[0m                 )\n\u001b[1;32m    300\u001b[0m             )\n",
      "\u001b[0;31mValueError\u001b[0m: \n    Invalid element(s) received for the 'data' property of \n        Invalid elements include: [Figure({\n    'data': [{'alignmentgroup': 'True',\n              'hoverlabel': {'namelength': 0},\n              'hovertemplate': 'feat_artist=%{x}<br>차트진입횟수=%{y}',\n              'legendgroup': '',\n              'marker': {'color': '#636efa'},\n              'name': '',\n              'offsetgroup': '',\n              'orientation': 'v',\n              'showlegend': False,\n              'textposition': 'auto',\n              'type': 'bar',\n              'x': array(['개코', '용준형 Of 비스트', 'Crush', '김창완', '장이정 Of HISTORY', 'Halsey',\n                          'Zion.T', '에일리', '버벌진트', 'Dynamic Duo', '하림', 'G-DRAGON', '신용재',\n                          '릴보이 Of 긱스', '박재범'], dtype=object),\n              'xaxis': 'x',\n              'y': array([118, 111, 109,  98,  96,  92,  91,  91,  86,  81,  77,  70,  68,  68,\n                           66]),\n              'yaxis': 'y'}],\n    'layout': {'barmode': 'relative',\n               'height': 600,\n               'legend': {'tracegroupgap': 0},\n               'margin': {'t': 60},\n               'template': '...',\n               'xaxis': {'anchor': 'y', 'domain': [0.0, 1.0], 'title': {'text': 'feat_artist'}},\n               'yaxis': {'anchor': 'x', 'domain': [0.0, 1.0], 'title': {'text': '차트진입횟수'}}}\n})]\n\n    The 'data' property is a tuple of trace instances\n    that may be specified as:\n      - A list or tuple of trace instances\n        (e.g. [Scatter(...), Bar(...)])\n      - A single trace instance\n        (e.g. Scatter(...), Bar(...), etc.)\n      - A list or tuple of dicts of string/value properties where:\n        - The 'type' property specifies the trace type\n            One of: ['area', 'bar', 'barpolar', 'box',\n                     'candlestick', 'carpet', 'choropleth',\n                     'choroplethmapbox', 'cone', 'contour',\n                     'contourcarpet', 'densitymapbox', 'funnel',\n                     'funnelarea', 'heatmap', 'heatmapgl',\n                     'histogram', 'histogram2d',\n                     'histogram2dcontour', 'image', 'indicator',\n                     'isosurface', 'mesh3d', 'ohlc', 'parcats',\n                     'parcoords', 'pie', 'pointcloud', 'sankey',\n                     'scatter', 'scatter3d', 'scattercarpet',\n                     'scattergeo', 'scattergl', 'scattermapbox',\n                     'scatterpolar', 'scatterpolargl',\n                     'scatterternary', 'splom', 'streamtube',\n                     'sunburst', 'surface', 'table', 'treemap',\n                     'violin', 'volume', 'waterfall']\n\n        - All remaining properties are passed to the constructor of\n          the specified trace type\n\n        (e.g. [{'type': 'scatter', ...}, {'type': 'bar, ...}])"
     ]
    }
   ],
   "source": [
    "fig = go.Figure()\n",
    "\n",
    "fig.add_traces(px.bar(top15, x='feat_artist', y='차트진입횟수'))\n",
    "\n",
    "fig.update_layout(width=450, height=450, plot_bgcolor='rgb(255,255,255)')\n",
    "fig.show()"
   ]
  },
  {
   "cell_type": "markdown",
   "metadata": {},
   "source": [
    "# 2. 프로듀서 있는 곡 따로 빼기\n",
    "프로듀서: 1) prod, 2) Prod"
   ]
  },
  {
   "cell_type": "code",
   "execution_count": 260,
   "metadata": {},
   "outputs": [
    {
     "data": {
      "text/html": [
       "<div>\n",
       "<style scoped>\n",
       "    .dataframe tbody tr th:only-of-type {\n",
       "        vertical-align: middle;\n",
       "    }\n",
       "\n",
       "    .dataframe tbody tr th {\n",
       "        vertical-align: top;\n",
       "    }\n",
       "\n",
       "    .dataframe thead th {\n",
       "        text-align: right;\n",
       "    }\n",
       "</style>\n",
       "<table border=\"1\" class=\"dataframe\">\n",
       "  <thead>\n",
       "    <tr style=\"text-align: right;\">\n",
       "      <th></th>\n",
       "      <th>year</th>\n",
       "      <th>month</th>\n",
       "      <th>week</th>\n",
       "      <th>rank</th>\n",
       "      <th>song_id</th>\n",
       "      <th>title</th>\n",
       "      <th>like</th>\n",
       "      <th>reply</th>\n",
       "      <th>genre</th>\n",
       "      <th>artist_id</th>\n",
       "      <th>...</th>\n",
       "      <th>R&amp;B/Soul</th>\n",
       "      <th>재즈</th>\n",
       "      <th>록/메탈</th>\n",
       "      <th>클래식</th>\n",
       "      <th>애니메이션/웹툰</th>\n",
       "      <th>만화</th>\n",
       "      <th>게임</th>\n",
       "      <th>뉴에이지</th>\n",
       "      <th>국내드라마</th>\n",
       "      <th>포크/블루스</th>\n",
       "    </tr>\n",
       "  </thead>\n",
       "  <tbody>\n",
       "    <tr>\n",
       "      <th>45261</th>\n",
       "      <td>2018</td>\n",
       "      <td>9</td>\n",
       "      <td>09.17~09.23</td>\n",
       "      <td>70</td>\n",
       "      <td>31312442</td>\n",
       "      <td>별(feat.김종완 of 넬)(prod.BOYCOLD)</td>\n",
       "      <td>25862.0</td>\n",
       "      <td>170.0</td>\n",
       "      <td>['랩/힙합']</td>\n",
       "      <td>['2113204']</td>\n",
       "      <td>...</td>\n",
       "      <td>False</td>\n",
       "      <td>False</td>\n",
       "      <td>False</td>\n",
       "      <td>False</td>\n",
       "      <td>False</td>\n",
       "      <td>False</td>\n",
       "      <td>False</td>\n",
       "      <td>False</td>\n",
       "      <td>False</td>\n",
       "      <td>False</td>\n",
       "    </tr>\n",
       "    <tr>\n",
       "      <th>45267</th>\n",
       "      <td>2018</td>\n",
       "      <td>9</td>\n",
       "      <td>09.17~09.23</td>\n",
       "      <td>76</td>\n",
       "      <td>31312443</td>\n",
       "      <td>유재석(prod.진대호)</td>\n",
       "      <td>39178.0</td>\n",
       "      <td>256.0</td>\n",
       "      <td>['랩/힙합']</td>\n",
       "      <td>['2113204']</td>\n",
       "      <td>...</td>\n",
       "      <td>False</td>\n",
       "      <td>False</td>\n",
       "      <td>False</td>\n",
       "      <td>False</td>\n",
       "      <td>False</td>\n",
       "      <td>False</td>\n",
       "      <td>False</td>\n",
       "      <td>False</td>\n",
       "      <td>False</td>\n",
       "      <td>False</td>\n",
       "    </tr>\n",
       "    <tr>\n",
       "      <th>45376</th>\n",
       "      <td>2018</td>\n",
       "      <td>9</td>\n",
       "      <td>09.24~09.30</td>\n",
       "      <td>85</td>\n",
       "      <td>31312443</td>\n",
       "      <td>유재석(prod.진대호)</td>\n",
       "      <td>39178.0</td>\n",
       "      <td>256.0</td>\n",
       "      <td>['랩/힙합']</td>\n",
       "      <td>['2113204']</td>\n",
       "      <td>...</td>\n",
       "      <td>False</td>\n",
       "      <td>False</td>\n",
       "      <td>False</td>\n",
       "      <td>False</td>\n",
       "      <td>False</td>\n",
       "      <td>False</td>\n",
       "      <td>False</td>\n",
       "      <td>False</td>\n",
       "      <td>False</td>\n",
       "      <td>False</td>\n",
       "    </tr>\n",
       "  </tbody>\n",
       "</table>\n",
       "<p>3 rows × 43 columns</p>\n",
       "</div>"
      ],
      "text/plain": [
       "       year  month         week  rank   song_id  \\\n",
       "45261  2018      9  09.17~09.23    70  31312442   \n",
       "45267  2018      9  09.17~09.23    76  31312443   \n",
       "45376  2018      9  09.24~09.30    85  31312443   \n",
       "\n",
       "                                title     like  reply     genre    artist_id  \\\n",
       "45261  별(feat.김종완 of 넬)(prod.BOYCOLD)  25862.0  170.0  ['랩/힙합']  ['2113204']   \n",
       "45267                   유재석(prod.진대호)  39178.0  256.0  ['랩/힙합']  ['2113204']   \n",
       "45376                   유재석(prod.진대호)  39178.0  256.0  ['랩/힙합']  ['2113204']   \n",
       "\n",
       "       ... R&B/Soul     재즈   록/메탈    클래식 애니메이션/웹툰     만화     게임   뉴에이지  국내드라마  \\\n",
       "45261  ...    False  False  False  False    False  False  False  False  False   \n",
       "45267  ...    False  False  False  False    False  False  False  False  False   \n",
       "45376  ...    False  False  False  False    False  False  False  False  False   \n",
       "\n",
       "       포크/블루스  \n",
       "45261   False  \n",
       "45267   False  \n",
       "45376   False  \n",
       "\n",
       "[3 rows x 43 columns]"
      ]
     },
     "execution_count": 260,
     "metadata": {},
     "output_type": "execute_result"
    }
   ],
   "source": [
    "# 1) prod 구분 -> 없음\n",
    "#prod = \n",
    "df[df['title'].str.find('prod') != -1] #.set_index('song_id')\n",
    "#prod = prod['title'].str.partition('prod.').drop([0, 1], axis=1).rename(columns={2:'prod_artist'})\n",
    "#prod['prod_artist'] = prod['prod_artist'].str.rstrip(')')\n",
    "#prod"
   ]
  },
  {
   "cell_type": "code",
   "execution_count": 261,
   "metadata": {},
   "outputs": [],
   "source": [
    "# 2) Prod \n",
    "prod = df[df['title'].str.find('Prod') != -1].set_index('song_id')\n",
    "prod = prod['title'].str.partition('Prod').drop([0, 1], axis=1).rename(columns={2:'Prod_artist'}).reset_index()\n",
    "prod['Prod_artist'] = prod['Prod_artist'].str.partition(')')\n",
    "prod['Prod_artist'] = prod['Prod_artist'].str.lstrip('.')\n",
    "prod['Prod_artist'] = prod['Prod_artist'].str.lstrip(' by ').str.lstrip('by ').str.lstrip('.').str.lstrip('By')"
   ]
  },
  {
   "cell_type": "code",
   "execution_count": 262,
   "metadata": {},
   "outputs": [
    {
     "name": "stderr",
     "output_type": "stream",
     "text": [
      "/usr/local/lib/python3.7/site-packages/ipykernel_launcher.py:1: SettingWithCopyWarning:\n",
      "\n",
      "\n",
      "A value is trying to be set on a copy of a slice from a DataFrame\n",
      "\n",
      "See the caveats in the documentation: http://pandas.pydata.org/pandas-docs/stable/user_guide/indexing.html#returning-a-view-versus-a-copy\n",
      "\n",
      "/usr/local/lib/python3.7/site-packages/ipykernel_launcher.py:2: SettingWithCopyWarning:\n",
      "\n",
      "\n",
      "A value is trying to be set on a copy of a slice from a DataFrame\n",
      "\n",
      "See the caveats in the documentation: http://pandas.pydata.org/pandas-docs/stable/user_guide/indexing.html#returning-a-view-versus-a-copy\n",
      "\n",
      "/usr/local/lib/python3.7/site-packages/ipykernel_launcher.py:3: SettingWithCopyWarning:\n",
      "\n",
      "\n",
      "A value is trying to be set on a copy of a slice from a DataFrame\n",
      "\n",
      "See the caveats in the documentation: http://pandas.pydata.org/pandas-docs/stable/user_guide/indexing.html#returning-a-view-versus-a-copy\n",
      "\n"
     ]
    }
   ],
   "source": [
    "prod['Prod_artist'][30:32] = 'BewhY'\n",
    "prod['Prod_artist'][35:37] = 'DEAN'\n",
    "prod['Prod_artist'][37:38] = '진영(B1A4)'"
   ]
  },
  {
   "cell_type": "code",
   "execution_count": 263,
   "metadata": {},
   "outputs": [
    {
     "data": {
      "text/html": [
       "<div>\n",
       "<style scoped>\n",
       "    .dataframe tbody tr th:only-of-type {\n",
       "        vertical-align: middle;\n",
       "    }\n",
       "\n",
       "    .dataframe tbody tr th {\n",
       "        vertical-align: top;\n",
       "    }\n",
       "\n",
       "    .dataframe thead th {\n",
       "        text-align: right;\n",
       "    }\n",
       "</style>\n",
       "<table border=\"1\" class=\"dataframe\">\n",
       "  <thead>\n",
       "    <tr style=\"text-align: right;\">\n",
       "      <th></th>\n",
       "      <th>song_id</th>\n",
       "      <th>title</th>\n",
       "    </tr>\n",
       "  </thead>\n",
       "  <tbody>\n",
       "    <tr>\n",
       "      <th>0</th>\n",
       "      <td>2511561</td>\n",
       "      <td>우리 사랑하게 됐어요.</td>\n",
       "    </tr>\n",
       "    <tr>\n",
       "      <th>1</th>\n",
       "      <td>2366796</td>\n",
       "      <td>너 때문에</td>\n",
       "    </tr>\n",
       "    <tr>\n",
       "      <th>2</th>\n",
       "      <td>2371262</td>\n",
       "      <td>Bo Peep Bo Peep</td>\n",
       "    </tr>\n",
       "    <tr>\n",
       "      <th>3</th>\n",
       "      <td>2425271</td>\n",
       "      <td>오늘 헤어졌어요</td>\n",
       "    </tr>\n",
       "    <tr>\n",
       "      <th>4</th>\n",
       "      <td>2517998</td>\n",
       "      <td>처음처럼 그때처럼 (Feat. 강민경 From Davichi)</td>\n",
       "    </tr>\n",
       "    <tr>\n",
       "      <th>...</th>\n",
       "      <td>...</td>\n",
       "      <td>...</td>\n",
       "    </tr>\n",
       "    <tr>\n",
       "      <th>51255</th>\n",
       "      <td>32159599</td>\n",
       "      <td>을 (Feat. BIG Naughty (서동현))</td>\n",
       "    </tr>\n",
       "    <tr>\n",
       "      <th>51270</th>\n",
       "      <td>32163199</td>\n",
       "      <td>낙서 (Feat. 백예린) (Prod. by WOOGIE)</td>\n",
       "    </tr>\n",
       "    <tr>\n",
       "      <th>51273</th>\n",
       "      <td>32159598</td>\n",
       "      <td>이혼서류</td>\n",
       "    </tr>\n",
       "    <tr>\n",
       "      <th>51280</th>\n",
       "      <td>32170701</td>\n",
       "      <td>운명이 내게 말해요</td>\n",
       "    </tr>\n",
       "    <tr>\n",
       "      <th>51285</th>\n",
       "      <td>32118105</td>\n",
       "      <td>Lose You To Love Me</td>\n",
       "    </tr>\n",
       "  </tbody>\n",
       "</table>\n",
       "<p>7000 rows × 2 columns</p>\n",
       "</div>"
      ],
      "text/plain": [
       "        song_id                               title\n",
       "0       2511561                        우리 사랑하게 됐어요.\n",
       "1       2366796                               너 때문에\n",
       "2       2371262                     Bo Peep Bo Peep\n",
       "3       2425271                            오늘 헤어졌어요\n",
       "4       2517998  처음처럼 그때처럼 (Feat. 강민경 From Davichi)\n",
       "...         ...                                 ...\n",
       "51255  32159599         을 (Feat. BIG Naughty (서동현))\n",
       "51270  32163199    낙서 (Feat. 백예린) (Prod. by WOOGIE)\n",
       "51273  32159598                                이혼서류\n",
       "51280  32170701                          운명이 내게 말해요\n",
       "51285  32118105                 Lose You To Love Me\n",
       "\n",
       "[7000 rows x 2 columns]"
      ]
     },
     "execution_count": 263,
     "metadata": {},
     "output_type": "execute_result"
    }
   ],
   "source": [
    "title"
   ]
  },
  {
   "cell_type": "code",
   "execution_count": 267,
   "metadata": {},
   "outputs": [
    {
     "data": {
      "text/plain": [
       "Index(['song_id', 'Prod_artist'], dtype='object')"
      ]
     },
     "execution_count": 267,
     "metadata": {},
     "output_type": "execute_result"
    }
   ],
   "source": [
    "prod.columns"
   ]
  },
  {
   "cell_type": "code",
   "execution_count": 268,
   "metadata": {},
   "outputs": [
    {
     "data": {
      "text/html": [
       "<div>\n",
       "<style scoped>\n",
       "    .dataframe tbody tr th:only-of-type {\n",
       "        vertical-align: middle;\n",
       "    }\n",
       "\n",
       "    .dataframe tbody tr th {\n",
       "        vertical-align: top;\n",
       "    }\n",
       "\n",
       "    .dataframe thead th {\n",
       "        text-align: right;\n",
       "    }\n",
       "</style>\n",
       "<table border=\"1\" class=\"dataframe\">\n",
       "  <thead>\n",
       "    <tr style=\"text-align: right;\">\n",
       "      <th></th>\n",
       "      <th>song_id</th>\n",
       "      <th>Prod_artist</th>\n",
       "      <th>title</th>\n",
       "    </tr>\n",
       "  </thead>\n",
       "  <tbody>\n",
       "    <tr>\n",
       "      <th>0</th>\n",
       "      <td>5582180</td>\n",
       "      <td>ZICO</td>\n",
       "      <td>밤샜지 (Prod. By ZICO)</td>\n",
       "    </tr>\n",
       "    <tr>\n",
       "      <th>1</th>\n",
       "      <td>5592623</td>\n",
       "      <td>버벌진트</td>\n",
       "      <td>My Type (Prod. By 버벌진트)</td>\n",
       "    </tr>\n",
       "    <tr>\n",
       "      <th>2</th>\n",
       "      <td>5582180</td>\n",
       "      <td>ZICO</td>\n",
       "      <td>밤샜지 (Prod. By ZICO)</td>\n",
       "    </tr>\n",
       "    <tr>\n",
       "      <th>3</th>\n",
       "      <td>5592623</td>\n",
       "      <td>버벌진트</td>\n",
       "      <td>My Type (Prod. By 버벌진트)</td>\n",
       "    </tr>\n",
       "    <tr>\n",
       "      <th>4</th>\n",
       "      <td>5582180</td>\n",
       "      <td>ZICO</td>\n",
       "      <td>밤샜지 (Prod. By ZICO)</td>\n",
       "    </tr>\n",
       "    <tr>\n",
       "      <th>...</th>\n",
       "      <td>...</td>\n",
       "      <td>...</td>\n",
       "      <td>...</td>\n",
       "    </tr>\n",
       "    <tr>\n",
       "      <th>982</th>\n",
       "      <td>32059630</td>\n",
       "      <td>2soo</td>\n",
       "      <td>조금 취했어 (Prod. 2soo)</td>\n",
       "    </tr>\n",
       "    <tr>\n",
       "      <th>983</th>\n",
       "      <td>31324607</td>\n",
       "      <td>2soo</td>\n",
       "      <td>사랑에 연습이 있었다면 (Prod. 2soo)</td>\n",
       "    </tr>\n",
       "    <tr>\n",
       "      <th>984</th>\n",
       "      <td>32028531</td>\n",
       "      <td>정키</td>\n",
       "      <td>헤어지자 (Prod. 정키)</td>\n",
       "    </tr>\n",
       "    <tr>\n",
       "      <th>985</th>\n",
       "      <td>32163199</td>\n",
       "      <td>WOOGIE</td>\n",
       "      <td>낙서 (Feat. 백예린) (Prod. by WOOGIE)</td>\n",
       "    </tr>\n",
       "    <tr>\n",
       "      <th>986</th>\n",
       "      <td>32006890</td>\n",
       "      <td>OYCOLD</td>\n",
       "      <td>담아 (Feat. 염따, pH-1) (Prod. BOYCOLD)</td>\n",
       "    </tr>\n",
       "  </tbody>\n",
       "</table>\n",
       "<p>987 rows × 3 columns</p>\n",
       "</div>"
      ],
      "text/plain": [
       "      song_id Prod_artist                                title\n",
       "0     5582180        ZICO                  밤샜지 (Prod. By ZICO)\n",
       "1     5592623        버벌진트              My Type (Prod. By 버벌진트)\n",
       "2     5582180        ZICO                  밤샜지 (Prod. By ZICO)\n",
       "3     5592623        버벌진트              My Type (Prod. By 버벌진트)\n",
       "4     5582180        ZICO                  밤샜지 (Prod. By ZICO)\n",
       "..        ...         ...                                  ...\n",
       "982  32059630        2soo                  조금 취했어 (Prod. 2soo)\n",
       "983  31324607        2soo            사랑에 연습이 있었다면 (Prod. 2soo)\n",
       "984  32028531          정키                      헤어지자 (Prod. 정키)\n",
       "985  32163199      WOOGIE     낙서 (Feat. 백예린) (Prod. by WOOGIE)\n",
       "986  32006890      OYCOLD  담아 (Feat. 염따, pH-1) (Prod. BOYCOLD)\n",
       "\n",
       "[987 rows x 3 columns]"
      ]
     },
     "execution_count": 268,
     "metadata": {},
     "output_type": "execute_result"
    }
   ],
   "source": [
    "prod2 = pd.merge(prod, title, how = 'left', on='song_id')\n",
    "prod2"
   ]
  },
  {
   "cell_type": "code",
   "execution_count": 269,
   "metadata": {},
   "outputs": [
    {
     "data": {
      "text/html": [
       "<div>\n",
       "<style scoped>\n",
       "    .dataframe tbody tr th:only-of-type {\n",
       "        vertical-align: middle;\n",
       "    }\n",
       "\n",
       "    .dataframe tbody tr th {\n",
       "        vertical-align: top;\n",
       "    }\n",
       "\n",
       "    .dataframe thead th {\n",
       "        text-align: right;\n",
       "    }\n",
       "</style>\n",
       "<table border=\"1\" class=\"dataframe\">\n",
       "  <thead>\n",
       "    <tr style=\"text-align: right;\">\n",
       "      <th></th>\n",
       "      <th>song_id</th>\n",
       "      <th>Prod_artist</th>\n",
       "      <th>title</th>\n",
       "    </tr>\n",
       "  </thead>\n",
       "  <tbody>\n",
       "    <tr>\n",
       "      <th>0</th>\n",
       "      <td>5582180</td>\n",
       "      <td>ZICO</td>\n",
       "      <td>밤샜지 (Prod. By ZICO)</td>\n",
       "    </tr>\n",
       "    <tr>\n",
       "      <th>1</th>\n",
       "      <td>5592623</td>\n",
       "      <td>버벌진트</td>\n",
       "      <td>My Type (Prod. By 버벌진트)</td>\n",
       "    </tr>\n",
       "    <tr>\n",
       "      <th>2</th>\n",
       "      <td>5582180</td>\n",
       "      <td>ZICO</td>\n",
       "      <td>밤샜지 (Prod. By ZICO)</td>\n",
       "    </tr>\n",
       "    <tr>\n",
       "      <th>3</th>\n",
       "      <td>5592623</td>\n",
       "      <td>버벌진트</td>\n",
       "      <td>My Type (Prod. By 버벌진트)</td>\n",
       "    </tr>\n",
       "    <tr>\n",
       "      <th>4</th>\n",
       "      <td>5582180</td>\n",
       "      <td>ZICO</td>\n",
       "      <td>밤샜지 (Prod. By ZICO)</td>\n",
       "    </tr>\n",
       "  </tbody>\n",
       "</table>\n",
       "</div>"
      ],
      "text/plain": [
       "   song_id Prod_artist                    title\n",
       "0  5582180        ZICO      밤샜지 (Prod. By ZICO)\n",
       "1  5592623        버벌진트  My Type (Prod. By 버벌진트)\n",
       "2  5582180        ZICO      밤샜지 (Prod. By ZICO)\n",
       "3  5592623        버벌진트  My Type (Prod. By 버벌진트)\n",
       "4  5582180        ZICO      밤샜지 (Prod. By ZICO)"
      ]
     },
     "execution_count": 269,
     "metadata": {},
     "output_type": "execute_result"
    }
   ],
   "source": [
    "prod2.to_csv('프로듀싱.csv')\n",
    "prod2.head()"
   ]
  },
  {
   "cell_type": "code",
   "execution_count": 270,
   "metadata": {},
   "outputs": [
    {
     "data": {
      "text/plain": [
       "(987, 3)"
      ]
     },
     "execution_count": 270,
     "metadata": {},
     "output_type": "execute_result"
    }
   ],
   "source": [
    "prod2.shape"
   ]
  },
  {
   "cell_type": "code",
   "execution_count": 271,
   "metadata": {},
   "outputs": [],
   "source": [
    "프로듀싱 = pd.read_csv('./프로듀싱.csv')"
   ]
  },
  {
   "cell_type": "code",
   "execution_count": 277,
   "metadata": {},
   "outputs": [],
   "source": [
    "프로듀싱 = 프로듀싱.iloc[:,2:4]"
   ]
  },
  {
   "cell_type": "code",
   "execution_count": 285,
   "metadata": {},
   "outputs": [
    {
     "data": {
      "text/html": [
       "<div>\n",
       "<style scoped>\n",
       "    .dataframe tbody tr th:only-of-type {\n",
       "        vertical-align: middle;\n",
       "    }\n",
       "\n",
       "    .dataframe tbody tr th {\n",
       "        vertical-align: top;\n",
       "    }\n",
       "\n",
       "    .dataframe thead th {\n",
       "        text-align: right;\n",
       "    }\n",
       "</style>\n",
       "<table border=\"1\" class=\"dataframe\">\n",
       "  <thead>\n",
       "    <tr style=\"text-align: right;\">\n",
       "      <th></th>\n",
       "      <th>0</th>\n",
       "    </tr>\n",
       "    <tr>\n",
       "      <th>Prod_artist</th>\n",
       "      <th></th>\n",
       "    </tr>\n",
       "  </thead>\n",
       "  <tbody>\n",
       "    <tr>\n",
       "      <th>GroovyRoom</th>\n",
       "      <td>89</td>\n",
       "    </tr>\n",
       "    <tr>\n",
       "      <th>코드 쿤스트</th>\n",
       "      <td>61</td>\n",
       "    </tr>\n",
       "    <tr>\n",
       "      <th>기리보이</th>\n",
       "      <td>59</td>\n",
       "    </tr>\n",
       "    <tr>\n",
       "      <th>SUGA</th>\n",
       "      <td>58</td>\n",
       "    </tr>\n",
       "    <tr>\n",
       "      <th>GRAY</th>\n",
       "      <td>55</td>\n",
       "    </tr>\n",
       "    <tr>\n",
       "      <th>...</th>\n",
       "      <td>...</td>\n",
       "    </tr>\n",
       "    <tr>\n",
       "      <th>WOOGIE</th>\n",
       "      <td>1</td>\n",
       "    </tr>\n",
       "    <tr>\n",
       "      <th>YDG</th>\n",
       "      <td>1</td>\n",
       "    </tr>\n",
       "    <tr>\n",
       "      <th>PEEJAY</th>\n",
       "      <td>1</td>\n",
       "    </tr>\n",
       "    <tr>\n",
       "      <th>길 Of Magic Mansion</th>\n",
       "      <td>1</td>\n",
       "    </tr>\n",
       "    <tr>\n",
       "      <th>진영(B1A4)</th>\n",
       "      <td>1</td>\n",
       "    </tr>\n",
       "  </tbody>\n",
       "</table>\n",
       "<p>66 rows × 1 columns</p>\n",
       "</div>"
      ],
      "text/plain": [
       "                     0\n",
       "Prod_artist           \n",
       "GroovyRoom          89\n",
       "코드 쿤스트              61\n",
       " 기리보이               59\n",
       "SUGA                58\n",
       " GRAY               55\n",
       "...                 ..\n",
       "WOOGIE               1\n",
       "YDG                  1\n",
       " PEEJAY              1\n",
       "길 Of Magic Mansion   1\n",
       "진영(B1A4)             1\n",
       "\n",
       "[66 rows x 1 columns]"
      ]
     },
     "execution_count": 285,
     "metadata": {},
     "output_type": "execute_result"
    }
   ],
   "source": [
    "list_of_series2 = 프로듀싱.groupby('Prod_artist').size().sort_values(ascending = False)\n",
    "Prod_number = pd.DataFrame(list_of_series2)\n",
    "Prod_number"
   ]
  },
  {
   "cell_type": "code",
   "execution_count": 286,
   "metadata": {},
   "outputs": [],
   "source": [
    "Prod_number.rename(columns= {0: '차트진입횟수'} ,inplace= True)\n",
    "Prod_num = Prod_number.reset_index()"
   ]
  },
  {
   "cell_type": "code",
   "execution_count": 287,
   "metadata": {},
   "outputs": [
    {
     "data": {
      "text/plain": [
       "Index(['Prod_artist', '차트진입횟수'], dtype='object')"
      ]
     },
     "execution_count": 287,
     "metadata": {},
     "output_type": "execute_result"
    }
   ],
   "source": [
    "Prod_num.columns"
   ]
  },
  {
   "cell_type": "code",
   "execution_count": 288,
   "metadata": {},
   "outputs": [
    {
     "data": {
      "text/html": [
       "<div>\n",
       "<style scoped>\n",
       "    .dataframe tbody tr th:only-of-type {\n",
       "        vertical-align: middle;\n",
       "    }\n",
       "\n",
       "    .dataframe tbody tr th {\n",
       "        vertical-align: top;\n",
       "    }\n",
       "\n",
       "    .dataframe thead th {\n",
       "        text-align: right;\n",
       "    }\n",
       "</style>\n",
       "<table border=\"1\" class=\"dataframe\">\n",
       "  <thead>\n",
       "    <tr style=\"text-align: right;\">\n",
       "      <th></th>\n",
       "      <th>Prod_artist</th>\n",
       "      <th>차트진입횟수</th>\n",
       "    </tr>\n",
       "  </thead>\n",
       "  <tbody>\n",
       "    <tr>\n",
       "      <th>0</th>\n",
       "      <td>GroovyRoom</td>\n",
       "      <td>89</td>\n",
       "    </tr>\n",
       "    <tr>\n",
       "      <th>1</th>\n",
       "      <td>코드 쿤스트</td>\n",
       "      <td>61</td>\n",
       "    </tr>\n",
       "    <tr>\n",
       "      <th>2</th>\n",
       "      <td>기리보이</td>\n",
       "      <td>59</td>\n",
       "    </tr>\n",
       "    <tr>\n",
       "      <th>3</th>\n",
       "      <td>SUGA</td>\n",
       "      <td>58</td>\n",
       "    </tr>\n",
       "    <tr>\n",
       "      <th>4</th>\n",
       "      <td>GRAY</td>\n",
       "      <td>55</td>\n",
       "    </tr>\n",
       "    <tr>\n",
       "      <th>...</th>\n",
       "      <td>...</td>\n",
       "      <td>...</td>\n",
       "    </tr>\n",
       "    <tr>\n",
       "      <th>61</th>\n",
       "      <td>WOOGIE</td>\n",
       "      <td>1</td>\n",
       "    </tr>\n",
       "    <tr>\n",
       "      <th>62</th>\n",
       "      <td>YDG</td>\n",
       "      <td>1</td>\n",
       "    </tr>\n",
       "    <tr>\n",
       "      <th>63</th>\n",
       "      <td>PEEJAY</td>\n",
       "      <td>1</td>\n",
       "    </tr>\n",
       "    <tr>\n",
       "      <th>64</th>\n",
       "      <td>길 Of Magic Mansion</td>\n",
       "      <td>1</td>\n",
       "    </tr>\n",
       "    <tr>\n",
       "      <th>65</th>\n",
       "      <td>진영(B1A4)</td>\n",
       "      <td>1</td>\n",
       "    </tr>\n",
       "  </tbody>\n",
       "</table>\n",
       "<p>66 rows × 2 columns</p>\n",
       "</div>"
      ],
      "text/plain": [
       "           Prod_artist  차트진입횟수\n",
       "0           GroovyRoom      89\n",
       "1               코드 쿤스트      61\n",
       "2                 기리보이      59\n",
       "3                 SUGA      58\n",
       "4                 GRAY      55\n",
       "..                 ...     ...\n",
       "61              WOOGIE       1\n",
       "62                 YDG       1\n",
       "63              PEEJAY       1\n",
       "64  길 Of Magic Mansion       1\n",
       "65            진영(B1A4)       1\n",
       "\n",
       "[66 rows x 2 columns]"
      ]
     },
     "execution_count": 288,
     "metadata": {},
     "output_type": "execute_result"
    }
   ],
   "source": [
    "Prod_num"
   ]
  },
  {
   "cell_type": "code",
   "execution_count": 294,
   "metadata": {},
   "outputs": [],
   "source": [
    "TOP15 = Prod_num[:16]"
   ]
  },
  {
   "cell_type": "code",
   "execution_count": 295,
   "metadata": {},
   "outputs": [
    {
     "data": {
      "application/vnd.plotly.v1+json": {
       "config": {
        "plotlyServerURL": "https://plot.ly"
       },
       "data": [
        {
         "alignmentgroup": "True",
         "hoverlabel": {
          "namelength": 0
         },
         "hovertemplate": "Prod_artist=%{x}<br>차트진입횟수=%{y}",
         "legendgroup": "",
         "marker": {
          "color": "#636efa"
         },
         "name": "",
         "offsetgroup": "",
         "orientation": "v",
         "showlegend": false,
         "textposition": "auto",
         "type": "bar",
         "x": [
          "GroovyRoom",
          "코드 쿤스트",
          " 기리보이",
          "SUGA",
          " GRAY",
          "박근태",
          "GRAY",
          "2soo",
          " 버벌진트",
          " ZICO",
          "ZICO",
          "OYCOLD",
          "기리보이",
          "라이머",
          "ewhY",
          "RLLNT"
         ],
         "xaxis": "x",
         "y": [
          89,
          61,
          59,
          58,
          55,
          50,
          45,
          42,
          36,
          33,
          29,
          28,
          26,
          23,
          19,
          18
         ],
         "yaxis": "y"
        }
       ],
       "layout": {
        "barmode": "relative",
        "height": 600,
        "legend": {
         "tracegroupgap": 0
        },
        "margin": {
         "t": 60
        },
        "template": {
         "data": {
          "bar": [
           {
            "error_x": {
             "color": "#2a3f5f"
            },
            "error_y": {
             "color": "#2a3f5f"
            },
            "marker": {
             "line": {
              "color": "#E5ECF6",
              "width": 0.5
             }
            },
            "type": "bar"
           }
          ],
          "barpolar": [
           {
            "marker": {
             "line": {
              "color": "#E5ECF6",
              "width": 0.5
             }
            },
            "type": "barpolar"
           }
          ],
          "carpet": [
           {
            "aaxis": {
             "endlinecolor": "#2a3f5f",
             "gridcolor": "white",
             "linecolor": "white",
             "minorgridcolor": "white",
             "startlinecolor": "#2a3f5f"
            },
            "baxis": {
             "endlinecolor": "#2a3f5f",
             "gridcolor": "white",
             "linecolor": "white",
             "minorgridcolor": "white",
             "startlinecolor": "#2a3f5f"
            },
            "type": "carpet"
           }
          ],
          "choropleth": [
           {
            "colorbar": {
             "outlinewidth": 0,
             "ticks": ""
            },
            "type": "choropleth"
           }
          ],
          "contour": [
           {
            "colorbar": {
             "outlinewidth": 0,
             "ticks": ""
            },
            "colorscale": [
             [
              0,
              "#0d0887"
             ],
             [
              0.1111111111111111,
              "#46039f"
             ],
             [
              0.2222222222222222,
              "#7201a8"
             ],
             [
              0.3333333333333333,
              "#9c179e"
             ],
             [
              0.4444444444444444,
              "#bd3786"
             ],
             [
              0.5555555555555556,
              "#d8576b"
             ],
             [
              0.6666666666666666,
              "#ed7953"
             ],
             [
              0.7777777777777778,
              "#fb9f3a"
             ],
             [
              0.8888888888888888,
              "#fdca26"
             ],
             [
              1,
              "#f0f921"
             ]
            ],
            "type": "contour"
           }
          ],
          "contourcarpet": [
           {
            "colorbar": {
             "outlinewidth": 0,
             "ticks": ""
            },
            "type": "contourcarpet"
           }
          ],
          "heatmap": [
           {
            "colorbar": {
             "outlinewidth": 0,
             "ticks": ""
            },
            "colorscale": [
             [
              0,
              "#0d0887"
             ],
             [
              0.1111111111111111,
              "#46039f"
             ],
             [
              0.2222222222222222,
              "#7201a8"
             ],
             [
              0.3333333333333333,
              "#9c179e"
             ],
             [
              0.4444444444444444,
              "#bd3786"
             ],
             [
              0.5555555555555556,
              "#d8576b"
             ],
             [
              0.6666666666666666,
              "#ed7953"
             ],
             [
              0.7777777777777778,
              "#fb9f3a"
             ],
             [
              0.8888888888888888,
              "#fdca26"
             ],
             [
              1,
              "#f0f921"
             ]
            ],
            "type": "heatmap"
           }
          ],
          "heatmapgl": [
           {
            "colorbar": {
             "outlinewidth": 0,
             "ticks": ""
            },
            "colorscale": [
             [
              0,
              "#0d0887"
             ],
             [
              0.1111111111111111,
              "#46039f"
             ],
             [
              0.2222222222222222,
              "#7201a8"
             ],
             [
              0.3333333333333333,
              "#9c179e"
             ],
             [
              0.4444444444444444,
              "#bd3786"
             ],
             [
              0.5555555555555556,
              "#d8576b"
             ],
             [
              0.6666666666666666,
              "#ed7953"
             ],
             [
              0.7777777777777778,
              "#fb9f3a"
             ],
             [
              0.8888888888888888,
              "#fdca26"
             ],
             [
              1,
              "#f0f921"
             ]
            ],
            "type": "heatmapgl"
           }
          ],
          "histogram": [
           {
            "marker": {
             "colorbar": {
              "outlinewidth": 0,
              "ticks": ""
             }
            },
            "type": "histogram"
           }
          ],
          "histogram2d": [
           {
            "colorbar": {
             "outlinewidth": 0,
             "ticks": ""
            },
            "colorscale": [
             [
              0,
              "#0d0887"
             ],
             [
              0.1111111111111111,
              "#46039f"
             ],
             [
              0.2222222222222222,
              "#7201a8"
             ],
             [
              0.3333333333333333,
              "#9c179e"
             ],
             [
              0.4444444444444444,
              "#bd3786"
             ],
             [
              0.5555555555555556,
              "#d8576b"
             ],
             [
              0.6666666666666666,
              "#ed7953"
             ],
             [
              0.7777777777777778,
              "#fb9f3a"
             ],
             [
              0.8888888888888888,
              "#fdca26"
             ],
             [
              1,
              "#f0f921"
             ]
            ],
            "type": "histogram2d"
           }
          ],
          "histogram2dcontour": [
           {
            "colorbar": {
             "outlinewidth": 0,
             "ticks": ""
            },
            "colorscale": [
             [
              0,
              "#0d0887"
             ],
             [
              0.1111111111111111,
              "#46039f"
             ],
             [
              0.2222222222222222,
              "#7201a8"
             ],
             [
              0.3333333333333333,
              "#9c179e"
             ],
             [
              0.4444444444444444,
              "#bd3786"
             ],
             [
              0.5555555555555556,
              "#d8576b"
             ],
             [
              0.6666666666666666,
              "#ed7953"
             ],
             [
              0.7777777777777778,
              "#fb9f3a"
             ],
             [
              0.8888888888888888,
              "#fdca26"
             ],
             [
              1,
              "#f0f921"
             ]
            ],
            "type": "histogram2dcontour"
           }
          ],
          "mesh3d": [
           {
            "colorbar": {
             "outlinewidth": 0,
             "ticks": ""
            },
            "type": "mesh3d"
           }
          ],
          "parcoords": [
           {
            "line": {
             "colorbar": {
              "outlinewidth": 0,
              "ticks": ""
             }
            },
            "type": "parcoords"
           }
          ],
          "pie": [
           {
            "automargin": true,
            "type": "pie"
           }
          ],
          "scatter": [
           {
            "marker": {
             "colorbar": {
              "outlinewidth": 0,
              "ticks": ""
             }
            },
            "type": "scatter"
           }
          ],
          "scatter3d": [
           {
            "line": {
             "colorbar": {
              "outlinewidth": 0,
              "ticks": ""
             }
            },
            "marker": {
             "colorbar": {
              "outlinewidth": 0,
              "ticks": ""
             }
            },
            "type": "scatter3d"
           }
          ],
          "scattercarpet": [
           {
            "marker": {
             "colorbar": {
              "outlinewidth": 0,
              "ticks": ""
             }
            },
            "type": "scattercarpet"
           }
          ],
          "scattergeo": [
           {
            "marker": {
             "colorbar": {
              "outlinewidth": 0,
              "ticks": ""
             }
            },
            "type": "scattergeo"
           }
          ],
          "scattergl": [
           {
            "marker": {
             "colorbar": {
              "outlinewidth": 0,
              "ticks": ""
             }
            },
            "type": "scattergl"
           }
          ],
          "scattermapbox": [
           {
            "marker": {
             "colorbar": {
              "outlinewidth": 0,
              "ticks": ""
             }
            },
            "type": "scattermapbox"
           }
          ],
          "scatterpolar": [
           {
            "marker": {
             "colorbar": {
              "outlinewidth": 0,
              "ticks": ""
             }
            },
            "type": "scatterpolar"
           }
          ],
          "scatterpolargl": [
           {
            "marker": {
             "colorbar": {
              "outlinewidth": 0,
              "ticks": ""
             }
            },
            "type": "scatterpolargl"
           }
          ],
          "scatterternary": [
           {
            "marker": {
             "colorbar": {
              "outlinewidth": 0,
              "ticks": ""
             }
            },
            "type": "scatterternary"
           }
          ],
          "surface": [
           {
            "colorbar": {
             "outlinewidth": 0,
             "ticks": ""
            },
            "colorscale": [
             [
              0,
              "#0d0887"
             ],
             [
              0.1111111111111111,
              "#46039f"
             ],
             [
              0.2222222222222222,
              "#7201a8"
             ],
             [
              0.3333333333333333,
              "#9c179e"
             ],
             [
              0.4444444444444444,
              "#bd3786"
             ],
             [
              0.5555555555555556,
              "#d8576b"
             ],
             [
              0.6666666666666666,
              "#ed7953"
             ],
             [
              0.7777777777777778,
              "#fb9f3a"
             ],
             [
              0.8888888888888888,
              "#fdca26"
             ],
             [
              1,
              "#f0f921"
             ]
            ],
            "type": "surface"
           }
          ],
          "table": [
           {
            "cells": {
             "fill": {
              "color": "#EBF0F8"
             },
             "line": {
              "color": "white"
             }
            },
            "header": {
             "fill": {
              "color": "#C8D4E3"
             },
             "line": {
              "color": "white"
             }
            },
            "type": "table"
           }
          ]
         },
         "layout": {
          "annotationdefaults": {
           "arrowcolor": "#2a3f5f",
           "arrowhead": 0,
           "arrowwidth": 1
          },
          "coloraxis": {
           "colorbar": {
            "outlinewidth": 0,
            "ticks": ""
           }
          },
          "colorscale": {
           "diverging": [
            [
             0,
             "#8e0152"
            ],
            [
             0.1,
             "#c51b7d"
            ],
            [
             0.2,
             "#de77ae"
            ],
            [
             0.3,
             "#f1b6da"
            ],
            [
             0.4,
             "#fde0ef"
            ],
            [
             0.5,
             "#f7f7f7"
            ],
            [
             0.6,
             "#e6f5d0"
            ],
            [
             0.7,
             "#b8e186"
            ],
            [
             0.8,
             "#7fbc41"
            ],
            [
             0.9,
             "#4d9221"
            ],
            [
             1,
             "#276419"
            ]
           ],
           "sequential": [
            [
             0,
             "#0d0887"
            ],
            [
             0.1111111111111111,
             "#46039f"
            ],
            [
             0.2222222222222222,
             "#7201a8"
            ],
            [
             0.3333333333333333,
             "#9c179e"
            ],
            [
             0.4444444444444444,
             "#bd3786"
            ],
            [
             0.5555555555555556,
             "#d8576b"
            ],
            [
             0.6666666666666666,
             "#ed7953"
            ],
            [
             0.7777777777777778,
             "#fb9f3a"
            ],
            [
             0.8888888888888888,
             "#fdca26"
            ],
            [
             1,
             "#f0f921"
            ]
           ],
           "sequentialminus": [
            [
             0,
             "#0d0887"
            ],
            [
             0.1111111111111111,
             "#46039f"
            ],
            [
             0.2222222222222222,
             "#7201a8"
            ],
            [
             0.3333333333333333,
             "#9c179e"
            ],
            [
             0.4444444444444444,
             "#bd3786"
            ],
            [
             0.5555555555555556,
             "#d8576b"
            ],
            [
             0.6666666666666666,
             "#ed7953"
            ],
            [
             0.7777777777777778,
             "#fb9f3a"
            ],
            [
             0.8888888888888888,
             "#fdca26"
            ],
            [
             1,
             "#f0f921"
            ]
           ]
          },
          "colorway": [
           "#636efa",
           "#EF553B",
           "#00cc96",
           "#ab63fa",
           "#FFA15A",
           "#19d3f3",
           "#FF6692",
           "#B6E880",
           "#FF97FF",
           "#FECB52"
          ],
          "font": {
           "color": "#2a3f5f"
          },
          "geo": {
           "bgcolor": "white",
           "lakecolor": "white",
           "landcolor": "#E5ECF6",
           "showlakes": true,
           "showland": true,
           "subunitcolor": "white"
          },
          "hoverlabel": {
           "align": "left"
          },
          "hovermode": "closest",
          "mapbox": {
           "style": "light"
          },
          "paper_bgcolor": "white",
          "plot_bgcolor": "#E5ECF6",
          "polar": {
           "angularaxis": {
            "gridcolor": "white",
            "linecolor": "white",
            "ticks": ""
           },
           "bgcolor": "#E5ECF6",
           "radialaxis": {
            "gridcolor": "white",
            "linecolor": "white",
            "ticks": ""
           }
          },
          "scene": {
           "xaxis": {
            "backgroundcolor": "#E5ECF6",
            "gridcolor": "white",
            "gridwidth": 2,
            "linecolor": "white",
            "showbackground": true,
            "ticks": "",
            "zerolinecolor": "white"
           },
           "yaxis": {
            "backgroundcolor": "#E5ECF6",
            "gridcolor": "white",
            "gridwidth": 2,
            "linecolor": "white",
            "showbackground": true,
            "ticks": "",
            "zerolinecolor": "white"
           },
           "zaxis": {
            "backgroundcolor": "#E5ECF6",
            "gridcolor": "white",
            "gridwidth": 2,
            "linecolor": "white",
            "showbackground": true,
            "ticks": "",
            "zerolinecolor": "white"
           }
          },
          "shapedefaults": {
           "line": {
            "color": "#2a3f5f"
           }
          },
          "ternary": {
           "aaxis": {
            "gridcolor": "white",
            "linecolor": "white",
            "ticks": ""
           },
           "baxis": {
            "gridcolor": "white",
            "linecolor": "white",
            "ticks": ""
           },
           "bgcolor": "#E5ECF6",
           "caxis": {
            "gridcolor": "white",
            "linecolor": "white",
            "ticks": ""
           }
          },
          "title": {
           "x": 0.05
          },
          "xaxis": {
           "automargin": true,
           "gridcolor": "white",
           "linecolor": "white",
           "ticks": "",
           "title": {
            "standoff": 15
           },
           "zerolinecolor": "white",
           "zerolinewidth": 2
          },
          "yaxis": {
           "automargin": true,
           "gridcolor": "white",
           "linecolor": "white",
           "ticks": "",
           "title": {
            "standoff": 15
           },
           "zerolinecolor": "white",
           "zerolinewidth": 2
          }
         }
        },
        "xaxis": {
         "anchor": "y",
         "domain": [
          0,
          1
         ],
         "title": {
          "text": "Prod_artist"
         }
        },
        "yaxis": {
         "anchor": "x",
         "domain": [
          0,
          1
         ],
         "title": {
          "text": "차트진입횟수"
         }
        }
       }
      },
      "text/html": [
       "<div>\n",
       "        \n",
       "        \n",
       "            <div id=\"a7f6de58-ff36-487f-a7ef-7c404cd1bf43\" class=\"plotly-graph-div\" style=\"height:600px; width:100%;\"></div>\n",
       "            <script type=\"text/javascript\">\n",
       "                require([\"plotly\"], function(Plotly) {\n",
       "                    window.PLOTLYENV=window.PLOTLYENV || {};\n",
       "                    \n",
       "                if (document.getElementById(\"a7f6de58-ff36-487f-a7ef-7c404cd1bf43\")) {\n",
       "                    Plotly.newPlot(\n",
       "                        'a7f6de58-ff36-487f-a7ef-7c404cd1bf43',\n",
       "                        [{\"alignmentgroup\": \"True\", \"hoverlabel\": {\"namelength\": 0}, \"hovertemplate\": \"Prod_artist=%{x}<br>\\ucc28\\ud2b8\\uc9c4\\uc785\\ud69f\\uc218=%{y}\", \"legendgroup\": \"\", \"marker\": {\"color\": \"#636efa\"}, \"name\": \"\", \"offsetgroup\": \"\", \"orientation\": \"v\", \"showlegend\": false, \"textposition\": \"auto\", \"type\": \"bar\", \"x\": [\"GroovyRoom\", \"\\ucf54\\ub4dc \\ucfe4\\uc2a4\\ud2b8\", \" \\uae30\\ub9ac\\ubcf4\\uc774\", \"SUGA\", \" GRAY\", \"\\ubc15\\uadfc\\ud0dc\", \"GRAY\", \"2soo\", \" \\ubc84\\ubc8c\\uc9c4\\ud2b8\", \" ZICO\", \"ZICO\", \"OYCOLD\", \"\\uae30\\ub9ac\\ubcf4\\uc774\", \"\\ub77c\\uc774\\uba38\", \"ewhY\", \"RLLNT\"], \"xaxis\": \"x\", \"y\": [89, 61, 59, 58, 55, 50, 45, 42, 36, 33, 29, 28, 26, 23, 19, 18], \"yaxis\": \"y\"}],\n",
       "                        {\"barmode\": \"relative\", \"height\": 600, \"legend\": {\"tracegroupgap\": 0}, \"margin\": {\"t\": 60}, \"template\": {\"data\": {\"bar\": [{\"error_x\": {\"color\": \"#2a3f5f\"}, \"error_y\": {\"color\": \"#2a3f5f\"}, \"marker\": {\"line\": {\"color\": \"#E5ECF6\", \"width\": 0.5}}, \"type\": \"bar\"}], \"barpolar\": [{\"marker\": {\"line\": {\"color\": \"#E5ECF6\", \"width\": 0.5}}, \"type\": \"barpolar\"}], \"carpet\": [{\"aaxis\": {\"endlinecolor\": \"#2a3f5f\", \"gridcolor\": \"white\", \"linecolor\": \"white\", \"minorgridcolor\": \"white\", \"startlinecolor\": \"#2a3f5f\"}, \"baxis\": {\"endlinecolor\": \"#2a3f5f\", \"gridcolor\": \"white\", \"linecolor\": \"white\", \"minorgridcolor\": \"white\", \"startlinecolor\": \"#2a3f5f\"}, \"type\": \"carpet\"}], \"choropleth\": [{\"colorbar\": {\"outlinewidth\": 0, \"ticks\": \"\"}, \"type\": \"choropleth\"}], \"contour\": [{\"colorbar\": {\"outlinewidth\": 0, \"ticks\": \"\"}, \"colorscale\": [[0.0, \"#0d0887\"], [0.1111111111111111, \"#46039f\"], [0.2222222222222222, \"#7201a8\"], [0.3333333333333333, \"#9c179e\"], [0.4444444444444444, \"#bd3786\"], [0.5555555555555556, \"#d8576b\"], [0.6666666666666666, \"#ed7953\"], [0.7777777777777778, \"#fb9f3a\"], [0.8888888888888888, \"#fdca26\"], [1.0, \"#f0f921\"]], \"type\": \"contour\"}], \"contourcarpet\": [{\"colorbar\": {\"outlinewidth\": 0, \"ticks\": \"\"}, \"type\": \"contourcarpet\"}], \"heatmap\": [{\"colorbar\": {\"outlinewidth\": 0, \"ticks\": \"\"}, \"colorscale\": [[0.0, \"#0d0887\"], [0.1111111111111111, \"#46039f\"], [0.2222222222222222, \"#7201a8\"], [0.3333333333333333, \"#9c179e\"], [0.4444444444444444, \"#bd3786\"], [0.5555555555555556, \"#d8576b\"], [0.6666666666666666, \"#ed7953\"], [0.7777777777777778, \"#fb9f3a\"], [0.8888888888888888, \"#fdca26\"], [1.0, \"#f0f921\"]], \"type\": \"heatmap\"}], \"heatmapgl\": [{\"colorbar\": {\"outlinewidth\": 0, \"ticks\": \"\"}, \"colorscale\": [[0.0, \"#0d0887\"], [0.1111111111111111, \"#46039f\"], [0.2222222222222222, \"#7201a8\"], [0.3333333333333333, \"#9c179e\"], [0.4444444444444444, \"#bd3786\"], [0.5555555555555556, \"#d8576b\"], [0.6666666666666666, \"#ed7953\"], [0.7777777777777778, \"#fb9f3a\"], [0.8888888888888888, \"#fdca26\"], [1.0, \"#f0f921\"]], \"type\": \"heatmapgl\"}], \"histogram\": [{\"marker\": {\"colorbar\": {\"outlinewidth\": 0, \"ticks\": \"\"}}, \"type\": \"histogram\"}], \"histogram2d\": [{\"colorbar\": {\"outlinewidth\": 0, \"ticks\": \"\"}, \"colorscale\": [[0.0, \"#0d0887\"], [0.1111111111111111, \"#46039f\"], [0.2222222222222222, \"#7201a8\"], [0.3333333333333333, \"#9c179e\"], [0.4444444444444444, \"#bd3786\"], [0.5555555555555556, \"#d8576b\"], [0.6666666666666666, \"#ed7953\"], [0.7777777777777778, \"#fb9f3a\"], [0.8888888888888888, \"#fdca26\"], [1.0, \"#f0f921\"]], \"type\": \"histogram2d\"}], \"histogram2dcontour\": [{\"colorbar\": {\"outlinewidth\": 0, \"ticks\": \"\"}, \"colorscale\": [[0.0, \"#0d0887\"], [0.1111111111111111, \"#46039f\"], [0.2222222222222222, \"#7201a8\"], [0.3333333333333333, \"#9c179e\"], [0.4444444444444444, \"#bd3786\"], [0.5555555555555556, \"#d8576b\"], [0.6666666666666666, \"#ed7953\"], [0.7777777777777778, \"#fb9f3a\"], [0.8888888888888888, \"#fdca26\"], [1.0, \"#f0f921\"]], \"type\": \"histogram2dcontour\"}], \"mesh3d\": [{\"colorbar\": {\"outlinewidth\": 0, \"ticks\": \"\"}, \"type\": \"mesh3d\"}], \"parcoords\": [{\"line\": {\"colorbar\": {\"outlinewidth\": 0, \"ticks\": \"\"}}, \"type\": \"parcoords\"}], \"pie\": [{\"automargin\": true, \"type\": \"pie\"}], \"scatter\": [{\"marker\": {\"colorbar\": {\"outlinewidth\": 0, \"ticks\": \"\"}}, \"type\": \"scatter\"}], \"scatter3d\": [{\"line\": {\"colorbar\": {\"outlinewidth\": 0, \"ticks\": \"\"}}, \"marker\": {\"colorbar\": {\"outlinewidth\": 0, \"ticks\": \"\"}}, \"type\": \"scatter3d\"}], \"scattercarpet\": [{\"marker\": {\"colorbar\": {\"outlinewidth\": 0, \"ticks\": \"\"}}, \"type\": \"scattercarpet\"}], \"scattergeo\": [{\"marker\": {\"colorbar\": {\"outlinewidth\": 0, \"ticks\": \"\"}}, \"type\": \"scattergeo\"}], \"scattergl\": [{\"marker\": {\"colorbar\": {\"outlinewidth\": 0, \"ticks\": \"\"}}, \"type\": \"scattergl\"}], \"scattermapbox\": [{\"marker\": {\"colorbar\": {\"outlinewidth\": 0, \"ticks\": \"\"}}, \"type\": \"scattermapbox\"}], \"scatterpolar\": [{\"marker\": {\"colorbar\": {\"outlinewidth\": 0, \"ticks\": \"\"}}, \"type\": \"scatterpolar\"}], \"scatterpolargl\": [{\"marker\": {\"colorbar\": {\"outlinewidth\": 0, \"ticks\": \"\"}}, \"type\": \"scatterpolargl\"}], \"scatterternary\": [{\"marker\": {\"colorbar\": {\"outlinewidth\": 0, \"ticks\": \"\"}}, \"type\": \"scatterternary\"}], \"surface\": [{\"colorbar\": {\"outlinewidth\": 0, \"ticks\": \"\"}, \"colorscale\": [[0.0, \"#0d0887\"], [0.1111111111111111, \"#46039f\"], [0.2222222222222222, \"#7201a8\"], [0.3333333333333333, \"#9c179e\"], [0.4444444444444444, \"#bd3786\"], [0.5555555555555556, \"#d8576b\"], [0.6666666666666666, \"#ed7953\"], [0.7777777777777778, \"#fb9f3a\"], [0.8888888888888888, \"#fdca26\"], [1.0, \"#f0f921\"]], \"type\": \"surface\"}], \"table\": [{\"cells\": {\"fill\": {\"color\": \"#EBF0F8\"}, \"line\": {\"color\": \"white\"}}, \"header\": {\"fill\": {\"color\": \"#C8D4E3\"}, \"line\": {\"color\": \"white\"}}, \"type\": \"table\"}]}, \"layout\": {\"annotationdefaults\": {\"arrowcolor\": \"#2a3f5f\", \"arrowhead\": 0, \"arrowwidth\": 1}, \"coloraxis\": {\"colorbar\": {\"outlinewidth\": 0, \"ticks\": \"\"}}, \"colorscale\": {\"diverging\": [[0, \"#8e0152\"], [0.1, \"#c51b7d\"], [0.2, \"#de77ae\"], [0.3, \"#f1b6da\"], [0.4, \"#fde0ef\"], [0.5, \"#f7f7f7\"], [0.6, \"#e6f5d0\"], [0.7, \"#b8e186\"], [0.8, \"#7fbc41\"], [0.9, \"#4d9221\"], [1, \"#276419\"]], \"sequential\": [[0.0, \"#0d0887\"], [0.1111111111111111, \"#46039f\"], [0.2222222222222222, \"#7201a8\"], [0.3333333333333333, \"#9c179e\"], [0.4444444444444444, \"#bd3786\"], [0.5555555555555556, \"#d8576b\"], [0.6666666666666666, \"#ed7953\"], [0.7777777777777778, \"#fb9f3a\"], [0.8888888888888888, \"#fdca26\"], [1.0, \"#f0f921\"]], \"sequentialminus\": [[0.0, \"#0d0887\"], [0.1111111111111111, \"#46039f\"], [0.2222222222222222, \"#7201a8\"], [0.3333333333333333, \"#9c179e\"], [0.4444444444444444, \"#bd3786\"], [0.5555555555555556, \"#d8576b\"], [0.6666666666666666, \"#ed7953\"], [0.7777777777777778, \"#fb9f3a\"], [0.8888888888888888, \"#fdca26\"], [1.0, \"#f0f921\"]]}, \"colorway\": [\"#636efa\", \"#EF553B\", \"#00cc96\", \"#ab63fa\", \"#FFA15A\", \"#19d3f3\", \"#FF6692\", \"#B6E880\", \"#FF97FF\", \"#FECB52\"], \"font\": {\"color\": \"#2a3f5f\"}, \"geo\": {\"bgcolor\": \"white\", \"lakecolor\": \"white\", \"landcolor\": \"#E5ECF6\", \"showlakes\": true, \"showland\": true, \"subunitcolor\": \"white\"}, \"hoverlabel\": {\"align\": \"left\"}, \"hovermode\": \"closest\", \"mapbox\": {\"style\": \"light\"}, \"paper_bgcolor\": \"white\", \"plot_bgcolor\": \"#E5ECF6\", \"polar\": {\"angularaxis\": {\"gridcolor\": \"white\", \"linecolor\": \"white\", \"ticks\": \"\"}, \"bgcolor\": \"#E5ECF6\", \"radialaxis\": {\"gridcolor\": \"white\", \"linecolor\": \"white\", \"ticks\": \"\"}}, \"scene\": {\"xaxis\": {\"backgroundcolor\": \"#E5ECF6\", \"gridcolor\": \"white\", \"gridwidth\": 2, \"linecolor\": \"white\", \"showbackground\": true, \"ticks\": \"\", \"zerolinecolor\": \"white\"}, \"yaxis\": {\"backgroundcolor\": \"#E5ECF6\", \"gridcolor\": \"white\", \"gridwidth\": 2, \"linecolor\": \"white\", \"showbackground\": true, \"ticks\": \"\", \"zerolinecolor\": \"white\"}, \"zaxis\": {\"backgroundcolor\": \"#E5ECF6\", \"gridcolor\": \"white\", \"gridwidth\": 2, \"linecolor\": \"white\", \"showbackground\": true, \"ticks\": \"\", \"zerolinecolor\": \"white\"}}, \"shapedefaults\": {\"line\": {\"color\": \"#2a3f5f\"}}, \"ternary\": {\"aaxis\": {\"gridcolor\": \"white\", \"linecolor\": \"white\", \"ticks\": \"\"}, \"baxis\": {\"gridcolor\": \"white\", \"linecolor\": \"white\", \"ticks\": \"\"}, \"bgcolor\": \"#E5ECF6\", \"caxis\": {\"gridcolor\": \"white\", \"linecolor\": \"white\", \"ticks\": \"\"}}, \"title\": {\"x\": 0.05}, \"xaxis\": {\"automargin\": true, \"gridcolor\": \"white\", \"linecolor\": \"white\", \"ticks\": \"\", \"title\": {\"standoff\": 15}, \"zerolinecolor\": \"white\", \"zerolinewidth\": 2}, \"yaxis\": {\"automargin\": true, \"gridcolor\": \"white\", \"linecolor\": \"white\", \"ticks\": \"\", \"title\": {\"standoff\": 15}, \"zerolinecolor\": \"white\", \"zerolinewidth\": 2}}}, \"xaxis\": {\"anchor\": \"y\", \"domain\": [0.0, 1.0], \"title\": {\"text\": \"Prod_artist\"}}, \"yaxis\": {\"anchor\": \"x\", \"domain\": [0.0, 1.0], \"title\": {\"text\": \"\\ucc28\\ud2b8\\uc9c4\\uc785\\ud69f\\uc218\"}}},\n",
       "                        {\"responsive\": true}\n",
       "                    ).then(function(){\n",
       "                            \n",
       "var gd = document.getElementById('a7f6de58-ff36-487f-a7ef-7c404cd1bf43');\n",
       "var x = new MutationObserver(function (mutations, observer) {{\n",
       "        var display = window.getComputedStyle(gd).display;\n",
       "        if (!display || display === 'none') {{\n",
       "            console.log([gd, 'removed!']);\n",
       "            Plotly.purge(gd);\n",
       "            observer.disconnect();\n",
       "        }}\n",
       "}});\n",
       "\n",
       "// Listen for the removal of the full notebook cells\n",
       "var notebookContainer = gd.closest('#notebook-container');\n",
       "if (notebookContainer) {{\n",
       "    x.observe(notebookContainer, {childList: true});\n",
       "}}\n",
       "\n",
       "// Listen for the clearing of the current output cell\n",
       "var outputEl = gd.closest('.output');\n",
       "if (outputEl) {{\n",
       "    x.observe(outputEl, {childList: true});\n",
       "}}\n",
       "\n",
       "                        })\n",
       "                };\n",
       "                });\n",
       "            </script>\n",
       "        </div>"
      ]
     },
     "metadata": {},
     "output_type": "display_data"
    }
   ],
   "source": [
    "px.bar(TOP15 , x='Prod_artist', y='차트진입횟수')"
   ]
  },
  {
   "cell_type": "markdown",
   "metadata": {},
   "source": [
    "# 3. Duet\n",
    "    한숨이 늘었어 (Duet With 이진우).."
   ]
  },
  {
   "cell_type": "code",
   "execution_count": 305,
   "metadata": {},
   "outputs": [
    {
     "data": {
      "text/html": [
       "<div>\n",
       "<style scoped>\n",
       "    .dataframe tbody tr th:only-of-type {\n",
       "        vertical-align: middle;\n",
       "    }\n",
       "\n",
       "    .dataframe tbody tr th {\n",
       "        vertical-align: top;\n",
       "    }\n",
       "\n",
       "    .dataframe thead th {\n",
       "        text-align: right;\n",
       "    }\n",
       "</style>\n",
       "<table border=\"1\" class=\"dataframe\">\n",
       "  <thead>\n",
       "    <tr style=\"text-align: right;\">\n",
       "      <th></th>\n",
       "      <th>year</th>\n",
       "      <th>month</th>\n",
       "      <th>week</th>\n",
       "      <th>rank</th>\n",
       "      <th>song_id</th>\n",
       "      <th>title</th>\n",
       "      <th>like</th>\n",
       "      <th>reply</th>\n",
       "      <th>genre</th>\n",
       "      <th>artist_id</th>\n",
       "      <th>...</th>\n",
       "      <th>R&amp;B/Soul</th>\n",
       "      <th>재즈</th>\n",
       "      <th>록/메탈</th>\n",
       "      <th>클래식</th>\n",
       "      <th>애니메이션/웹툰</th>\n",
       "      <th>만화</th>\n",
       "      <th>게임</th>\n",
       "      <th>뉴에이지</th>\n",
       "      <th>국내드라마</th>\n",
       "      <th>포크/블루스</th>\n",
       "    </tr>\n",
       "  </thead>\n",
       "  <tbody>\n",
       "    <tr>\n",
       "      <th>6406</th>\n",
       "      <td>2011</td>\n",
       "      <td>3</td>\n",
       "      <td>03.27~04.02</td>\n",
       "      <td>11</td>\n",
       "      <td>3337774</td>\n",
       "      <td>Dash (with YB)</td>\n",
       "      <td>1552.0</td>\n",
       "      <td>2.0</td>\n",
       "      <td>['록/메탈']</td>\n",
       "      <td>[923]</td>\n",
       "      <td>...</td>\n",
       "      <td>False</td>\n",
       "      <td>False</td>\n",
       "      <td>True</td>\n",
       "      <td>False</td>\n",
       "      <td>False</td>\n",
       "      <td>False</td>\n",
       "      <td>False</td>\n",
       "      <td>False</td>\n",
       "      <td>False</td>\n",
       "      <td>False</td>\n",
       "    </tr>\n",
       "    <tr>\n",
       "      <th>6513</th>\n",
       "      <td>2011</td>\n",
       "      <td>4</td>\n",
       "      <td>04.03~04.09</td>\n",
       "      <td>18</td>\n",
       "      <td>3337774</td>\n",
       "      <td>Dash (with YB)</td>\n",
       "      <td>1552.0</td>\n",
       "      <td>2.0</td>\n",
       "      <td>['록/메탈']</td>\n",
       "      <td>[923]</td>\n",
       "      <td>...</td>\n",
       "      <td>False</td>\n",
       "      <td>False</td>\n",
       "      <td>True</td>\n",
       "      <td>False</td>\n",
       "      <td>False</td>\n",
       "      <td>False</td>\n",
       "      <td>False</td>\n",
       "      <td>False</td>\n",
       "      <td>False</td>\n",
       "      <td>False</td>\n",
       "    </tr>\n",
       "    <tr>\n",
       "      <th>6627</th>\n",
       "      <td>2011</td>\n",
       "      <td>4</td>\n",
       "      <td>04.10~04.16</td>\n",
       "      <td>32</td>\n",
       "      <td>3337774</td>\n",
       "      <td>Dash (with YB)</td>\n",
       "      <td>1552.0</td>\n",
       "      <td>2.0</td>\n",
       "      <td>['록/메탈']</td>\n",
       "      <td>[923]</td>\n",
       "      <td>...</td>\n",
       "      <td>False</td>\n",
       "      <td>False</td>\n",
       "      <td>True</td>\n",
       "      <td>False</td>\n",
       "      <td>False</td>\n",
       "      <td>False</td>\n",
       "      <td>False</td>\n",
       "      <td>False</td>\n",
       "      <td>False</td>\n",
       "      <td>False</td>\n",
       "    </tr>\n",
       "    <tr>\n",
       "      <th>6766</th>\n",
       "      <td>2011</td>\n",
       "      <td>5</td>\n",
       "      <td>05.01~05.07</td>\n",
       "      <td>71</td>\n",
       "      <td>3337774</td>\n",
       "      <td>Dash (with YB)</td>\n",
       "      <td>1552.0</td>\n",
       "      <td>2.0</td>\n",
       "      <td>['록/메탈']</td>\n",
       "      <td>[923]</td>\n",
       "      <td>...</td>\n",
       "      <td>False</td>\n",
       "      <td>False</td>\n",
       "      <td>True</td>\n",
       "      <td>False</td>\n",
       "      <td>False</td>\n",
       "      <td>False</td>\n",
       "      <td>False</td>\n",
       "      <td>False</td>\n",
       "      <td>False</td>\n",
       "      <td>False</td>\n",
       "    </tr>\n",
       "    <tr>\n",
       "      <th>6875</th>\n",
       "      <td>2011</td>\n",
       "      <td>5</td>\n",
       "      <td>05.08~05.14</td>\n",
       "      <td>80</td>\n",
       "      <td>3337774</td>\n",
       "      <td>Dash (with YB)</td>\n",
       "      <td>1552.0</td>\n",
       "      <td>2.0</td>\n",
       "      <td>['록/메탈']</td>\n",
       "      <td>[923]</td>\n",
       "      <td>...</td>\n",
       "      <td>False</td>\n",
       "      <td>False</td>\n",
       "      <td>True</td>\n",
       "      <td>False</td>\n",
       "      <td>False</td>\n",
       "      <td>False</td>\n",
       "      <td>False</td>\n",
       "      <td>False</td>\n",
       "      <td>False</td>\n",
       "      <td>False</td>\n",
       "    </tr>\n",
       "    <tr>\n",
       "      <th>6985</th>\n",
       "      <td>2011</td>\n",
       "      <td>5</td>\n",
       "      <td>05.15~05.21</td>\n",
       "      <td>90</td>\n",
       "      <td>3337774</td>\n",
       "      <td>Dash (with YB)</td>\n",
       "      <td>1552.0</td>\n",
       "      <td>2.0</td>\n",
       "      <td>['록/메탈']</td>\n",
       "      <td>[923]</td>\n",
       "      <td>...</td>\n",
       "      <td>False</td>\n",
       "      <td>False</td>\n",
       "      <td>True</td>\n",
       "      <td>False</td>\n",
       "      <td>False</td>\n",
       "      <td>False</td>\n",
       "      <td>False</td>\n",
       "      <td>False</td>\n",
       "      <td>False</td>\n",
       "      <td>False</td>\n",
       "    </tr>\n",
       "    <tr>\n",
       "      <th>7093</th>\n",
       "      <td>2011</td>\n",
       "      <td>5</td>\n",
       "      <td>05.22~05.28</td>\n",
       "      <td>98</td>\n",
       "      <td>3337774</td>\n",
       "      <td>Dash (with YB)</td>\n",
       "      <td>1552.0</td>\n",
       "      <td>2.0</td>\n",
       "      <td>['록/메탈']</td>\n",
       "      <td>[923]</td>\n",
       "      <td>...</td>\n",
       "      <td>False</td>\n",
       "      <td>False</td>\n",
       "      <td>True</td>\n",
       "      <td>False</td>\n",
       "      <td>False</td>\n",
       "      <td>False</td>\n",
       "      <td>False</td>\n",
       "      <td>False</td>\n",
       "      <td>False</td>\n",
       "      <td>False</td>\n",
       "    </tr>\n",
       "    <tr>\n",
       "      <th>8138</th>\n",
       "      <td>2011</td>\n",
       "      <td>8</td>\n",
       "      <td>08.07~08.13</td>\n",
       "      <td>43</td>\n",
       "      <td>3520670</td>\n",
       "      <td>래퍼들이 헤어지는 방법 Part.2 (with. 걸스데이 민아)</td>\n",
       "      <td>5931.0</td>\n",
       "      <td>19.0</td>\n",
       "      <td>['랩/힙합']</td>\n",
       "      <td>[7567]</td>\n",
       "      <td>...</td>\n",
       "      <td>False</td>\n",
       "      <td>False</td>\n",
       "      <td>False</td>\n",
       "      <td>False</td>\n",
       "      <td>False</td>\n",
       "      <td>False</td>\n",
       "      <td>False</td>\n",
       "      <td>False</td>\n",
       "      <td>False</td>\n",
       "      <td>False</td>\n",
       "    </tr>\n",
       "    <tr>\n",
       "      <th>8248</th>\n",
       "      <td>2011</td>\n",
       "      <td>8</td>\n",
       "      <td>08.14~08.20</td>\n",
       "      <td>53</td>\n",
       "      <td>3520670</td>\n",
       "      <td>래퍼들이 헤어지는 방법 Part.2 (with. 걸스데이 민아)</td>\n",
       "      <td>5931.0</td>\n",
       "      <td>19.0</td>\n",
       "      <td>['랩/힙합']</td>\n",
       "      <td>[7567]</td>\n",
       "      <td>...</td>\n",
       "      <td>False</td>\n",
       "      <td>False</td>\n",
       "      <td>False</td>\n",
       "      <td>False</td>\n",
       "      <td>False</td>\n",
       "      <td>False</td>\n",
       "      <td>False</td>\n",
       "      <td>False</td>\n",
       "      <td>False</td>\n",
       "      <td>False</td>\n",
       "    </tr>\n",
       "    <tr>\n",
       "      <th>8364</th>\n",
       "      <td>2011</td>\n",
       "      <td>8</td>\n",
       "      <td>08.21~08.27</td>\n",
       "      <td>69</td>\n",
       "      <td>3520670</td>\n",
       "      <td>래퍼들이 헤어지는 방법 Part.2 (with. 걸스데이 민아)</td>\n",
       "      <td>5931.0</td>\n",
       "      <td>19.0</td>\n",
       "      <td>['랩/힙합']</td>\n",
       "      <td>[7567]</td>\n",
       "      <td>...</td>\n",
       "      <td>False</td>\n",
       "      <td>False</td>\n",
       "      <td>False</td>\n",
       "      <td>False</td>\n",
       "      <td>False</td>\n",
       "      <td>False</td>\n",
       "      <td>False</td>\n",
       "      <td>False</td>\n",
       "      <td>False</td>\n",
       "      <td>False</td>\n",
       "    </tr>\n",
       "    <tr>\n",
       "      <th>8477</th>\n",
       "      <td>2011</td>\n",
       "      <td>9</td>\n",
       "      <td>08.28~09.03</td>\n",
       "      <td>82</td>\n",
       "      <td>3520670</td>\n",
       "      <td>래퍼들이 헤어지는 방법 Part.2 (with. 걸스데이 민아)</td>\n",
       "      <td>5931.0</td>\n",
       "      <td>19.0</td>\n",
       "      <td>['랩/힙합']</td>\n",
       "      <td>[7567]</td>\n",
       "      <td>...</td>\n",
       "      <td>False</td>\n",
       "      <td>False</td>\n",
       "      <td>False</td>\n",
       "      <td>False</td>\n",
       "      <td>False</td>\n",
       "      <td>False</td>\n",
       "      <td>False</td>\n",
       "      <td>False</td>\n",
       "      <td>False</td>\n",
       "      <td>False</td>\n",
       "    </tr>\n",
       "    <tr>\n",
       "      <th>8580</th>\n",
       "      <td>2011</td>\n",
       "      <td>9</td>\n",
       "      <td>09.04~09.10</td>\n",
       "      <td>85</td>\n",
       "      <td>3520670</td>\n",
       "      <td>래퍼들이 헤어지는 방법 Part.2 (with. 걸스데이 민아)</td>\n",
       "      <td>5931.0</td>\n",
       "      <td>19.0</td>\n",
       "      <td>['랩/힙합']</td>\n",
       "      <td>[7567]</td>\n",
       "      <td>...</td>\n",
       "      <td>False</td>\n",
       "      <td>False</td>\n",
       "      <td>False</td>\n",
       "      <td>False</td>\n",
       "      <td>False</td>\n",
       "      <td>False</td>\n",
       "      <td>False</td>\n",
       "      <td>False</td>\n",
       "      <td>False</td>\n",
       "      <td>False</td>\n",
       "    </tr>\n",
       "    <tr>\n",
       "      <th>8687</th>\n",
       "      <td>2011</td>\n",
       "      <td>9</td>\n",
       "      <td>09.11~09.17</td>\n",
       "      <td>92</td>\n",
       "      <td>3520670</td>\n",
       "      <td>래퍼들이 헤어지는 방법 Part.2 (with. 걸스데이 민아)</td>\n",
       "      <td>5931.0</td>\n",
       "      <td>19.0</td>\n",
       "      <td>['랩/힙합']</td>\n",
       "      <td>[7567]</td>\n",
       "      <td>...</td>\n",
       "      <td>False</td>\n",
       "      <td>False</td>\n",
       "      <td>False</td>\n",
       "      <td>False</td>\n",
       "      <td>False</td>\n",
       "      <td>False</td>\n",
       "      <td>False</td>\n",
       "      <td>False</td>\n",
       "      <td>False</td>\n",
       "      <td>False</td>\n",
       "    </tr>\n",
       "    <tr>\n",
       "      <th>14988</th>\n",
       "      <td>2012</td>\n",
       "      <td>11</td>\n",
       "      <td>11.26~12.02</td>\n",
       "      <td>94</td>\n",
       "      <td>3975560</td>\n",
       "      <td>LOVE JAM (with Bebop)</td>\n",
       "      <td>7888.0</td>\n",
       "      <td>3.0</td>\n",
       "      <td>['인디음악', '일렉트로니카']</td>\n",
       "      <td>[61280]</td>\n",
       "      <td>...</td>\n",
       "      <td>False</td>\n",
       "      <td>False</td>\n",
       "      <td>False</td>\n",
       "      <td>False</td>\n",
       "      <td>False</td>\n",
       "      <td>False</td>\n",
       "      <td>False</td>\n",
       "      <td>False</td>\n",
       "      <td>False</td>\n",
       "      <td>False</td>\n",
       "    </tr>\n",
       "    <tr>\n",
       "      <th>15045</th>\n",
       "      <td>2012</td>\n",
       "      <td>12</td>\n",
       "      <td>12.03~12.09</td>\n",
       "      <td>51</td>\n",
       "      <td>3975560</td>\n",
       "      <td>LOVE JAM (with Bebop)</td>\n",
       "      <td>7888.0</td>\n",
       "      <td>3.0</td>\n",
       "      <td>['인디음악', '일렉트로니카']</td>\n",
       "      <td>[61280]</td>\n",
       "      <td>...</td>\n",
       "      <td>False</td>\n",
       "      <td>False</td>\n",
       "      <td>False</td>\n",
       "      <td>False</td>\n",
       "      <td>False</td>\n",
       "      <td>False</td>\n",
       "      <td>False</td>\n",
       "      <td>False</td>\n",
       "      <td>False</td>\n",
       "      <td>False</td>\n",
       "    </tr>\n",
       "    <tr>\n",
       "      <th>15185</th>\n",
       "      <td>2012</td>\n",
       "      <td>12</td>\n",
       "      <td>12.10~12.16</td>\n",
       "      <td>91</td>\n",
       "      <td>3975560</td>\n",
       "      <td>LOVE JAM (with Bebop)</td>\n",
       "      <td>7888.0</td>\n",
       "      <td>3.0</td>\n",
       "      <td>['인디음악', '일렉트로니카']</td>\n",
       "      <td>[61280]</td>\n",
       "      <td>...</td>\n",
       "      <td>False</td>\n",
       "      <td>False</td>\n",
       "      <td>False</td>\n",
       "      <td>False</td>\n",
       "      <td>False</td>\n",
       "      <td>False</td>\n",
       "      <td>False</td>\n",
       "      <td>False</td>\n",
       "      <td>False</td>\n",
       "      <td>False</td>\n",
       "    </tr>\n",
       "    <tr>\n",
       "      <th>19577</th>\n",
       "      <td>2013</td>\n",
       "      <td>10</td>\n",
       "      <td>10.14~10.20</td>\n",
       "      <td>83</td>\n",
       "      <td>4280881</td>\n",
       "      <td>내가 많이 변했어 (with 최자 Of 다이나믹듀오)</td>\n",
       "      <td>4829.0</td>\n",
       "      <td>4.0</td>\n",
       "      <td>['발라드']</td>\n",
       "      <td>[25]</td>\n",
       "      <td>...</td>\n",
       "      <td>False</td>\n",
       "      <td>False</td>\n",
       "      <td>False</td>\n",
       "      <td>False</td>\n",
       "      <td>False</td>\n",
       "      <td>False</td>\n",
       "      <td>False</td>\n",
       "      <td>False</td>\n",
       "      <td>False</td>\n",
       "      <td>False</td>\n",
       "    </tr>\n",
       "    <tr>\n",
       "      <th>19663</th>\n",
       "      <td>2013</td>\n",
       "      <td>10</td>\n",
       "      <td>10.21~10.27</td>\n",
       "      <td>69</td>\n",
       "      <td>4280881</td>\n",
       "      <td>내가 많이 변했어 (with 최자 Of 다이나믹듀오)</td>\n",
       "      <td>4829.0</td>\n",
       "      <td>4.0</td>\n",
       "      <td>['발라드']</td>\n",
       "      <td>[25]</td>\n",
       "      <td>...</td>\n",
       "      <td>False</td>\n",
       "      <td>False</td>\n",
       "      <td>False</td>\n",
       "      <td>False</td>\n",
       "      <td>False</td>\n",
       "      <td>False</td>\n",
       "      <td>False</td>\n",
       "      <td>False</td>\n",
       "      <td>False</td>\n",
       "      <td>False</td>\n",
       "    </tr>\n",
       "    <tr>\n",
       "      <th>30655</th>\n",
       "      <td>2015</td>\n",
       "      <td>12</td>\n",
       "      <td>11.30~12.06</td>\n",
       "      <td>61</td>\n",
       "      <td>7956309</td>\n",
       "      <td>SING (PSYmix) (with Ed Sheeran)</td>\n",
       "      <td>4433.0</td>\n",
       "      <td>10.0</td>\n",
       "      <td>['댄스']</td>\n",
       "      <td>[3865]</td>\n",
       "      <td>...</td>\n",
       "      <td>False</td>\n",
       "      <td>False</td>\n",
       "      <td>False</td>\n",
       "      <td>False</td>\n",
       "      <td>False</td>\n",
       "      <td>False</td>\n",
       "      <td>False</td>\n",
       "      <td>False</td>\n",
       "      <td>False</td>\n",
       "      <td>False</td>\n",
       "    </tr>\n",
       "    <tr>\n",
       "      <th>48686</th>\n",
       "      <td>2019</td>\n",
       "      <td>5</td>\n",
       "      <td>05.13~05.19</td>\n",
       "      <td>95</td>\n",
       "      <td>31796684</td>\n",
       "      <td>그게 좋은거야 (Time with you)</td>\n",
       "      <td>14042.0</td>\n",
       "      <td>145.0</td>\n",
       "      <td>['발라드']</td>\n",
       "      <td>['205880']</td>\n",
       "      <td>...</td>\n",
       "      <td>False</td>\n",
       "      <td>False</td>\n",
       "      <td>False</td>\n",
       "      <td>False</td>\n",
       "      <td>False</td>\n",
       "      <td>False</td>\n",
       "      <td>False</td>\n",
       "      <td>False</td>\n",
       "      <td>False</td>\n",
       "      <td>False</td>\n",
       "    </tr>\n",
       "  </tbody>\n",
       "</table>\n",
       "<p>20 rows × 43 columns</p>\n",
       "</div>"
      ],
      "text/plain": [
       "       year  month         week  rank   song_id  \\\n",
       "6406   2011      3  03.27~04.02    11   3337774   \n",
       "6513   2011      4  04.03~04.09    18   3337774   \n",
       "6627   2011      4  04.10~04.16    32   3337774   \n",
       "6766   2011      5  05.01~05.07    71   3337774   \n",
       "6875   2011      5  05.08~05.14    80   3337774   \n",
       "6985   2011      5  05.15~05.21    90   3337774   \n",
       "7093   2011      5  05.22~05.28    98   3337774   \n",
       "8138   2011      8  08.07~08.13    43   3520670   \n",
       "8248   2011      8  08.14~08.20    53   3520670   \n",
       "8364   2011      8  08.21~08.27    69   3520670   \n",
       "8477   2011      9  08.28~09.03    82   3520670   \n",
       "8580   2011      9  09.04~09.10    85   3520670   \n",
       "8687   2011      9  09.11~09.17    92   3520670   \n",
       "14988  2012     11  11.26~12.02    94   3975560   \n",
       "15045  2012     12  12.03~12.09    51   3975560   \n",
       "15185  2012     12  12.10~12.16    91   3975560   \n",
       "19577  2013     10  10.14~10.20    83   4280881   \n",
       "19663  2013     10  10.21~10.27    69   4280881   \n",
       "30655  2015     12  11.30~12.06    61   7956309   \n",
       "48686  2019      5  05.13~05.19    95  31796684   \n",
       "\n",
       "                                     title     like  reply  \\\n",
       "6406                        Dash (with YB)   1552.0    2.0   \n",
       "6513                        Dash (with YB)   1552.0    2.0   \n",
       "6627                        Dash (with YB)   1552.0    2.0   \n",
       "6766                        Dash (with YB)   1552.0    2.0   \n",
       "6875                        Dash (with YB)   1552.0    2.0   \n",
       "6985                        Dash (with YB)   1552.0    2.0   \n",
       "7093                        Dash (with YB)   1552.0    2.0   \n",
       "8138   래퍼들이 헤어지는 방법 Part.2 (with. 걸스데이 민아)   5931.0   19.0   \n",
       "8248   래퍼들이 헤어지는 방법 Part.2 (with. 걸스데이 민아)   5931.0   19.0   \n",
       "8364   래퍼들이 헤어지는 방법 Part.2 (with. 걸스데이 민아)   5931.0   19.0   \n",
       "8477   래퍼들이 헤어지는 방법 Part.2 (with. 걸스데이 민아)   5931.0   19.0   \n",
       "8580   래퍼들이 헤어지는 방법 Part.2 (with. 걸스데이 민아)   5931.0   19.0   \n",
       "8687   래퍼들이 헤어지는 방법 Part.2 (with. 걸스데이 민아)   5931.0   19.0   \n",
       "14988                LOVE JAM (with Bebop)   7888.0    3.0   \n",
       "15045                LOVE JAM (with Bebop)   7888.0    3.0   \n",
       "15185                LOVE JAM (with Bebop)   7888.0    3.0   \n",
       "19577        내가 많이 변했어 (with 최자 Of 다이나믹듀오)   4829.0    4.0   \n",
       "19663        내가 많이 변했어 (with 최자 Of 다이나믹듀오)   4829.0    4.0   \n",
       "30655      SING (PSYmix) (with Ed Sheeran)   4433.0   10.0   \n",
       "48686              그게 좋은거야 (Time with you)  14042.0  145.0   \n",
       "\n",
       "                    genre   artist_id  ... R&B/Soul     재즈   록/메탈    클래식  \\\n",
       "6406             ['록/메탈']       [923]  ...    False  False   True  False   \n",
       "6513             ['록/메탈']       [923]  ...    False  False   True  False   \n",
       "6627             ['록/메탈']       [923]  ...    False  False   True  False   \n",
       "6766             ['록/메탈']       [923]  ...    False  False   True  False   \n",
       "6875             ['록/메탈']       [923]  ...    False  False   True  False   \n",
       "6985             ['록/메탈']       [923]  ...    False  False   True  False   \n",
       "7093             ['록/메탈']       [923]  ...    False  False   True  False   \n",
       "8138             ['랩/힙합']      [7567]  ...    False  False  False  False   \n",
       "8248             ['랩/힙합']      [7567]  ...    False  False  False  False   \n",
       "8364             ['랩/힙합']      [7567]  ...    False  False  False  False   \n",
       "8477             ['랩/힙합']      [7567]  ...    False  False  False  False   \n",
       "8580             ['랩/힙합']      [7567]  ...    False  False  False  False   \n",
       "8687             ['랩/힙합']      [7567]  ...    False  False  False  False   \n",
       "14988  ['인디음악', '일렉트로니카']     [61280]  ...    False  False  False  False   \n",
       "15045  ['인디음악', '일렉트로니카']     [61280]  ...    False  False  False  False   \n",
       "15185  ['인디음악', '일렉트로니카']     [61280]  ...    False  False  False  False   \n",
       "19577             ['발라드']        [25]  ...    False  False  False  False   \n",
       "19663             ['발라드']        [25]  ...    False  False  False  False   \n",
       "30655              ['댄스']      [3865]  ...    False  False  False  False   \n",
       "48686             ['발라드']  ['205880']  ...    False  False  False  False   \n",
       "\n",
       "      애니메이션/웹툰     만화     게임   뉴에이지  국내드라마  포크/블루스  \n",
       "6406     False  False  False  False  False   False  \n",
       "6513     False  False  False  False  False   False  \n",
       "6627     False  False  False  False  False   False  \n",
       "6766     False  False  False  False  False   False  \n",
       "6875     False  False  False  False  False   False  \n",
       "6985     False  False  False  False  False   False  \n",
       "7093     False  False  False  False  False   False  \n",
       "8138     False  False  False  False  False   False  \n",
       "8248     False  False  False  False  False   False  \n",
       "8364     False  False  False  False  False   False  \n",
       "8477     False  False  False  False  False   False  \n",
       "8580     False  False  False  False  False   False  \n",
       "8687     False  False  False  False  False   False  \n",
       "14988    False  False  False  False  False   False  \n",
       "15045    False  False  False  False  False   False  \n",
       "15185    False  False  False  False  False   False  \n",
       "19577    False  False  False  False  False   False  \n",
       "19663    False  False  False  False  False   False  \n",
       "30655    False  False  False  False  False   False  \n",
       "48686    False  False  False  False  False   False  \n",
       "\n",
       "[20 rows x 43 columns]"
      ]
     },
     "execution_count": 305,
     "metadata": {},
     "output_type": "execute_result"
    }
   ],
   "source": [
    "df[df['title'].str.contains('with')]"
   ]
  },
  {
   "cell_type": "code",
   "execution_count": 306,
   "metadata": {},
   "outputs": [],
   "source": [
    "# 1) Duet로 구분\n",
    "Duet = df[df['title'].str.find('Duet') != -1].set_index('song_id')\n",
    "Duet = Duet['title'].str.partition('Duet').drop([0, 1], axis=1).rename(columns={2:'Duet_artist'})\n",
    "Duet['Duet_artist'] = Duet['Duet_artist'].str.rstrip(')').str.lstrip('. ')"
   ]
  },
  {
   "cell_type": "code",
   "execution_count": 307,
   "metadata": {},
   "outputs": [
    {
     "name": "stdout",
     "output_type": "stream",
     "text": [
      "         Duet_artist\n",
      "song_id             \n",
      "2508660           환희\n",
      "2508660           환희\n",
      "2508660           환희\n",
      "2578249         태사비애\n",
      "2579348         태사비애\n",
      "...              ...\n",
      "31771251        10cm\n",
      "31771251        10cm\n",
      "32140355         정은지\n",
      "32140355         정은지\n",
      "32140355         정은지\n",
      "\n",
      "[114 rows x 1 columns]\n"
     ]
    },
    {
     "data": {
      "text/html": [
       "<div>\n",
       "<style scoped>\n",
       "    .dataframe tbody tr th:only-of-type {\n",
       "        vertical-align: middle;\n",
       "    }\n",
       "\n",
       "    .dataframe tbody tr th {\n",
       "        vertical-align: top;\n",
       "    }\n",
       "\n",
       "    .dataframe thead th {\n",
       "        text-align: right;\n",
       "    }\n",
       "</style>\n",
       "<table border=\"1\" class=\"dataframe\">\n",
       "  <thead>\n",
       "    <tr style=\"text-align: right;\">\n",
       "      <th></th>\n",
       "      <th>Duet_artist</th>\n",
       "    </tr>\n",
       "    <tr>\n",
       "      <th>song_id</th>\n",
       "      <th></th>\n",
       "    </tr>\n",
       "  </thead>\n",
       "  <tbody>\n",
       "    <tr>\n",
       "      <th>2508660</th>\n",
       "      <td>환희</td>\n",
       "    </tr>\n",
       "    <tr>\n",
       "      <th>2508660</th>\n",
       "      <td>환희</td>\n",
       "    </tr>\n",
       "    <tr>\n",
       "      <th>2508660</th>\n",
       "      <td>환희</td>\n",
       "    </tr>\n",
       "    <tr>\n",
       "      <th>2578249</th>\n",
       "      <td>태사비애</td>\n",
       "    </tr>\n",
       "    <tr>\n",
       "      <th>2579348</th>\n",
       "      <td>태사비애</td>\n",
       "    </tr>\n",
       "    <tr>\n",
       "      <th>...</th>\n",
       "      <td>...</td>\n",
       "    </tr>\n",
       "    <tr>\n",
       "      <th>31771251</th>\n",
       "      <td>10cm</td>\n",
       "    </tr>\n",
       "    <tr>\n",
       "      <th>31771251</th>\n",
       "      <td>10cm</td>\n",
       "    </tr>\n",
       "    <tr>\n",
       "      <th>32140355</th>\n",
       "      <td>정은지</td>\n",
       "    </tr>\n",
       "    <tr>\n",
       "      <th>32140355</th>\n",
       "      <td>정은지</td>\n",
       "    </tr>\n",
       "    <tr>\n",
       "      <th>32140355</th>\n",
       "      <td>정은지</td>\n",
       "    </tr>\n",
       "  </tbody>\n",
       "</table>\n",
       "<p>114 rows × 1 columns</p>\n",
       "</div>"
      ],
      "text/plain": [
       "         Duet_artist\n",
       "song_id             \n",
       "2508660           환희\n",
       "2508660           환희\n",
       "2508660           환희\n",
       "2578249         태사비애\n",
       "2579348         태사비애\n",
       "...              ...\n",
       "31771251        10cm\n",
       "31771251        10cm\n",
       "32140355         정은지\n",
       "32140355         정은지\n",
       "32140355         정은지\n",
       "\n",
       "[114 rows x 1 columns]"
      ]
     },
     "execution_count": 307,
     "metadata": {},
     "output_type": "execute_result"
    }
   ],
   "source": [
    "print(Duet)\n",
    "Duet"
   ]
  },
  {
   "cell_type": "code",
   "execution_count": 308,
   "metadata": {},
   "outputs": [],
   "source": [
    "# 2) with로 구분\n",
    "Duet2 = df[df['title'].str.find('with') != -1].set_index('song_id')\n",
    "Duet2 = Duet2['title'].str.partition('with').drop([0, 1], axis=1).rename(columns={2:'Duet_artist'})\n",
    "Duet2['Duet_artist'] = Duet2['Duet_artist'].str.rstrip(')').str.lstrip('. ')"
   ]
  },
  {
   "cell_type": "code",
   "execution_count": 309,
   "metadata": {},
   "outputs": [
    {
     "name": "stdout",
     "output_type": "stream",
     "text": [
      "           Duet_artist\n",
      "song_id               \n",
      "3337774             YB\n",
      "3337774             YB\n",
      "3337774             YB\n",
      "3337774             YB\n",
      "3337774             YB\n",
      "3337774             YB\n",
      "3337774             YB\n",
      "3520670        걸스데이 민아\n",
      "3520670        걸스데이 민아\n",
      "3520670        걸스데이 민아\n",
      "3520670        걸스데이 민아\n",
      "3520670        걸스데이 민아\n",
      "3520670        걸스데이 민아\n",
      "3975560          Bebop\n",
      "3975560          Bebop\n",
      "3975560          Bebop\n",
      "4280881   최자 Of 다이나믹듀오\n",
      "4280881   최자 Of 다이나믹듀오\n",
      "7956309     Ed Sheeran\n",
      "31796684           you\n"
     ]
    },
    {
     "data": {
      "text/html": [
       "<div>\n",
       "<style scoped>\n",
       "    .dataframe tbody tr th:only-of-type {\n",
       "        vertical-align: middle;\n",
       "    }\n",
       "\n",
       "    .dataframe tbody tr th {\n",
       "        vertical-align: top;\n",
       "    }\n",
       "\n",
       "    .dataframe thead th {\n",
       "        text-align: right;\n",
       "    }\n",
       "</style>\n",
       "<table border=\"1\" class=\"dataframe\">\n",
       "  <thead>\n",
       "    <tr style=\"text-align: right;\">\n",
       "      <th></th>\n",
       "      <th>Duet_artist</th>\n",
       "    </tr>\n",
       "    <tr>\n",
       "      <th>song_id</th>\n",
       "      <th></th>\n",
       "    </tr>\n",
       "  </thead>\n",
       "  <tbody>\n",
       "    <tr>\n",
       "      <th>3337774</th>\n",
       "      <td>YB</td>\n",
       "    </tr>\n",
       "    <tr>\n",
       "      <th>3337774</th>\n",
       "      <td>YB</td>\n",
       "    </tr>\n",
       "    <tr>\n",
       "      <th>3337774</th>\n",
       "      <td>YB</td>\n",
       "    </tr>\n",
       "    <tr>\n",
       "      <th>3337774</th>\n",
       "      <td>YB</td>\n",
       "    </tr>\n",
       "    <tr>\n",
       "      <th>3337774</th>\n",
       "      <td>YB</td>\n",
       "    </tr>\n",
       "    <tr>\n",
       "      <th>3337774</th>\n",
       "      <td>YB</td>\n",
       "    </tr>\n",
       "    <tr>\n",
       "      <th>3337774</th>\n",
       "      <td>YB</td>\n",
       "    </tr>\n",
       "    <tr>\n",
       "      <th>3520670</th>\n",
       "      <td>걸스데이 민아</td>\n",
       "    </tr>\n",
       "    <tr>\n",
       "      <th>3520670</th>\n",
       "      <td>걸스데이 민아</td>\n",
       "    </tr>\n",
       "    <tr>\n",
       "      <th>3520670</th>\n",
       "      <td>걸스데이 민아</td>\n",
       "    </tr>\n",
       "    <tr>\n",
       "      <th>3520670</th>\n",
       "      <td>걸스데이 민아</td>\n",
       "    </tr>\n",
       "    <tr>\n",
       "      <th>3520670</th>\n",
       "      <td>걸스데이 민아</td>\n",
       "    </tr>\n",
       "    <tr>\n",
       "      <th>3520670</th>\n",
       "      <td>걸스데이 민아</td>\n",
       "    </tr>\n",
       "    <tr>\n",
       "      <th>3975560</th>\n",
       "      <td>Bebop</td>\n",
       "    </tr>\n",
       "    <tr>\n",
       "      <th>3975560</th>\n",
       "      <td>Bebop</td>\n",
       "    </tr>\n",
       "    <tr>\n",
       "      <th>3975560</th>\n",
       "      <td>Bebop</td>\n",
       "    </tr>\n",
       "    <tr>\n",
       "      <th>4280881</th>\n",
       "      <td>최자 Of 다이나믹듀오</td>\n",
       "    </tr>\n",
       "    <tr>\n",
       "      <th>4280881</th>\n",
       "      <td>최자 Of 다이나믹듀오</td>\n",
       "    </tr>\n",
       "    <tr>\n",
       "      <th>7956309</th>\n",
       "      <td>Ed Sheeran</td>\n",
       "    </tr>\n",
       "    <tr>\n",
       "      <th>31796684</th>\n",
       "      <td>you</td>\n",
       "    </tr>\n",
       "  </tbody>\n",
       "</table>\n",
       "</div>"
      ],
      "text/plain": [
       "           Duet_artist\n",
       "song_id               \n",
       "3337774             YB\n",
       "3337774             YB\n",
       "3337774             YB\n",
       "3337774             YB\n",
       "3337774             YB\n",
       "3337774             YB\n",
       "3337774             YB\n",
       "3520670        걸스데이 민아\n",
       "3520670        걸스데이 민아\n",
       "3520670        걸스데이 민아\n",
       "3520670        걸스데이 민아\n",
       "3520670        걸스데이 민아\n",
       "3520670        걸스데이 민아\n",
       "3975560          Bebop\n",
       "3975560          Bebop\n",
       "3975560          Bebop\n",
       "4280881   최자 Of 다이나믹듀오\n",
       "4280881   최자 Of 다이나믹듀오\n",
       "7956309     Ed Sheeran\n",
       "31796684           you"
      ]
     },
     "execution_count": 309,
     "metadata": {},
     "output_type": "execute_result"
    }
   ],
   "source": [
    "print(Duet2)\n",
    "Duet2"
   ]
  },
  {
   "cell_type": "code",
   "execution_count": 310,
   "metadata": {
    "scrolled": true
   },
   "outputs": [
    {
     "name": "stdout",
     "output_type": "stream",
     "text": [
      "(134, 1)\n"
     ]
    },
    {
     "data": {
      "text/html": [
       "<div>\n",
       "<style scoped>\n",
       "    .dataframe tbody tr th:only-of-type {\n",
       "        vertical-align: middle;\n",
       "    }\n",
       "\n",
       "    .dataframe tbody tr th {\n",
       "        vertical-align: top;\n",
       "    }\n",
       "\n",
       "    .dataframe thead th {\n",
       "        text-align: right;\n",
       "    }\n",
       "</style>\n",
       "<table border=\"1\" class=\"dataframe\">\n",
       "  <thead>\n",
       "    <tr style=\"text-align: right;\">\n",
       "      <th></th>\n",
       "      <th>Duet_artist</th>\n",
       "    </tr>\n",
       "    <tr>\n",
       "      <th>song_id</th>\n",
       "      <th></th>\n",
       "    </tr>\n",
       "  </thead>\n",
       "  <tbody>\n",
       "    <tr>\n",
       "      <th>2508660</th>\n",
       "      <td>환희</td>\n",
       "    </tr>\n",
       "    <tr>\n",
       "      <th>2508660</th>\n",
       "      <td>환희</td>\n",
       "    </tr>\n",
       "    <tr>\n",
       "      <th>2508660</th>\n",
       "      <td>환희</td>\n",
       "    </tr>\n",
       "    <tr>\n",
       "      <th>2578249</th>\n",
       "      <td>태사비애</td>\n",
       "    </tr>\n",
       "    <tr>\n",
       "      <th>2579348</th>\n",
       "      <td>태사비애</td>\n",
       "    </tr>\n",
       "  </tbody>\n",
       "</table>\n",
       "</div>"
      ],
      "text/plain": [
       "        Duet_artist\n",
       "song_id            \n",
       "2508660          환희\n",
       "2508660          환희\n",
       "2508660          환희\n",
       "2578249        태사비애\n",
       "2579348        태사비애"
      ]
     },
     "execution_count": 310,
     "metadata": {},
     "output_type": "execute_result"
    }
   ],
   "source": [
    "# 2. 합치기\n",
    "dust_artist = pd.concat([Duet, Duet2])\n",
    "print(dust_artist.shape)\n",
    "dust_artist.head()\n"
   ]
  },
  {
   "cell_type": "code",
   "execution_count": 311,
   "metadata": {},
   "outputs": [
    {
     "data": {
      "text/plain": [
       "Index(['Duet_artist'], dtype='object')"
      ]
     },
     "execution_count": 311,
     "metadata": {},
     "output_type": "execute_result"
    }
   ],
   "source": [
    "dust_artist.columns"
   ]
  },
  {
   "cell_type": "code",
   "execution_count": 312,
   "metadata": {},
   "outputs": [],
   "source": [
    "dust_artist = pd.merge(dust_artist , title, how = 'left', left_index=True, right_on='song_id')"
   ]
  },
  {
   "cell_type": "code",
   "execution_count": 313,
   "metadata": {},
   "outputs": [
    {
     "data": {
      "text/html": [
       "<div>\n",
       "<style scoped>\n",
       "    .dataframe tbody tr th:only-of-type {\n",
       "        vertical-align: middle;\n",
       "    }\n",
       "\n",
       "    .dataframe tbody tr th {\n",
       "        vertical-align: top;\n",
       "    }\n",
       "\n",
       "    .dataframe thead th {\n",
       "        text-align: right;\n",
       "    }\n",
       "</style>\n",
       "<table border=\"1\" class=\"dataframe\">\n",
       "  <thead>\n",
       "    <tr style=\"text-align: right;\">\n",
       "      <th></th>\n",
       "      <th>Duet_artist</th>\n",
       "      <th>song_id</th>\n",
       "      <th>title</th>\n",
       "    </tr>\n",
       "  </thead>\n",
       "  <tbody>\n",
       "    <tr>\n",
       "      <th>40</th>\n",
       "      <td>환희</td>\n",
       "      <td>2508660</td>\n",
       "      <td>어젠 (Duet. 환희)</td>\n",
       "    </tr>\n",
       "    <tr>\n",
       "      <th>40</th>\n",
       "      <td>환희</td>\n",
       "      <td>2508660</td>\n",
       "      <td>어젠 (Duet. 환희)</td>\n",
       "    </tr>\n",
       "    <tr>\n",
       "      <th>40</th>\n",
       "      <td>환희</td>\n",
       "      <td>2508660</td>\n",
       "      <td>어젠 (Duet. 환희)</td>\n",
       "    </tr>\n",
       "    <tr>\n",
       "      <th>676</th>\n",
       "      <td>태사비애</td>\n",
       "      <td>2578249</td>\n",
       "      <td>울어도 되나요 (Duet 태사비애)</td>\n",
       "    </tr>\n",
       "    <tr>\n",
       "      <th>694</th>\n",
       "      <td>태사비애</td>\n",
       "      <td>2579348</td>\n",
       "      <td>우리 잘 어울리죠 (Duet. 태사비애)</td>\n",
       "    </tr>\n",
       "    <tr>\n",
       "      <th>...</th>\n",
       "      <td>...</td>\n",
       "      <td>...</td>\n",
       "      <td>...</td>\n",
       "    </tr>\n",
       "    <tr>\n",
       "      <th>14988</th>\n",
       "      <td>Bebop</td>\n",
       "      <td>3975560</td>\n",
       "      <td>LOVE JAM (with Bebop)</td>\n",
       "    </tr>\n",
       "    <tr>\n",
       "      <th>19577</th>\n",
       "      <td>최자 Of 다이나믹듀오</td>\n",
       "      <td>4280881</td>\n",
       "      <td>내가 많이 변했어 (with 최자 Of 다이나믹듀오)</td>\n",
       "    </tr>\n",
       "    <tr>\n",
       "      <th>19577</th>\n",
       "      <td>최자 Of 다이나믹듀오</td>\n",
       "      <td>4280881</td>\n",
       "      <td>내가 많이 변했어 (with 최자 Of 다이나믹듀오)</td>\n",
       "    </tr>\n",
       "    <tr>\n",
       "      <th>30655</th>\n",
       "      <td>Ed Sheeran</td>\n",
       "      <td>7956309</td>\n",
       "      <td>SING (PSYmix) (with Ed Sheeran)</td>\n",
       "    </tr>\n",
       "    <tr>\n",
       "      <th>48686</th>\n",
       "      <td>you</td>\n",
       "      <td>31796684</td>\n",
       "      <td>그게 좋은거야 (Time with you)</td>\n",
       "    </tr>\n",
       "  </tbody>\n",
       "</table>\n",
       "<p>134 rows × 3 columns</p>\n",
       "</div>"
      ],
      "text/plain": [
       "        Duet_artist   song_id                            title\n",
       "40               환희   2508660                    어젠 (Duet. 환희)\n",
       "40               환희   2508660                    어젠 (Duet. 환희)\n",
       "40               환희   2508660                    어젠 (Duet. 환희)\n",
       "676            태사비애   2578249              울어도 되나요 (Duet 태사비애)\n",
       "694            태사비애   2579348           우리 잘 어울리죠 (Duet. 태사비애)\n",
       "...             ...       ...                              ...\n",
       "14988         Bebop   3975560            LOVE JAM (with Bebop)\n",
       "19577  최자 Of 다이나믹듀오   4280881    내가 많이 변했어 (with 최자 Of 다이나믹듀오)\n",
       "19577  최자 Of 다이나믹듀오   4280881    내가 많이 변했어 (with 최자 Of 다이나믹듀오)\n",
       "30655    Ed Sheeran   7956309  SING (PSYmix) (with Ed Sheeran)\n",
       "48686           you  31796684          그게 좋은거야 (Time with you)\n",
       "\n",
       "[134 rows x 3 columns]"
      ]
     },
     "execution_count": 313,
     "metadata": {},
     "output_type": "execute_result"
    }
   ],
   "source": [
    "dust_artist"
   ]
  },
  {
   "cell_type": "code",
   "execution_count": 314,
   "metadata": {},
   "outputs": [],
   "source": [
    "dust_artist.to_csv('듀엣.csv')"
   ]
  },
  {
   "cell_type": "code",
   "execution_count": 315,
   "metadata": {},
   "outputs": [],
   "source": [
    "듀엣 = pd.read_csv('./듀엣.csv')"
   ]
  },
  {
   "cell_type": "code",
   "execution_count": 333,
   "metadata": {},
   "outputs": [
    {
     "data": {
      "text/html": [
       "<div>\n",
       "<style scoped>\n",
       "    .dataframe tbody tr th:only-of-type {\n",
       "        vertical-align: middle;\n",
       "    }\n",
       "\n",
       "    .dataframe tbody tr th {\n",
       "        vertical-align: top;\n",
       "    }\n",
       "\n",
       "    .dataframe thead th {\n",
       "        text-align: right;\n",
       "    }\n",
       "</style>\n",
       "<table border=\"1\" class=\"dataframe\">\n",
       "  <thead>\n",
       "    <tr style=\"text-align: right;\">\n",
       "      <th></th>\n",
       "      <th>Duet_artist</th>\n",
       "      <th>song_id</th>\n",
       "      <th>title</th>\n",
       "    </tr>\n",
       "  </thead>\n",
       "  <tbody>\n",
       "    <tr>\n",
       "      <th>73</th>\n",
       "      <td>아이유</td>\n",
       "      <td>5439395</td>\n",
       "      <td>언제쯤이면 (Duet.아이유)</td>\n",
       "    </tr>\n",
       "    <tr>\n",
       "      <th>74</th>\n",
       "      <td>아이유</td>\n",
       "      <td>5439395</td>\n",
       "      <td>언제쯤이면 (Duet.아이유)</td>\n",
       "    </tr>\n",
       "    <tr>\n",
       "      <th>75</th>\n",
       "      <td>아이유</td>\n",
       "      <td>5439395</td>\n",
       "      <td>언제쯤이면 (Duet.아이유)</td>\n",
       "    </tr>\n",
       "    <tr>\n",
       "      <th>76</th>\n",
       "      <td>아이유</td>\n",
       "      <td>5439395</td>\n",
       "      <td>언제쯤이면 (Duet.아이유)</td>\n",
       "    </tr>\n",
       "    <tr>\n",
       "      <th>77</th>\n",
       "      <td>아이유</td>\n",
       "      <td>5439395</td>\n",
       "      <td>언제쯤이면 (Duet.아이유)</td>\n",
       "    </tr>\n",
       "    <tr>\n",
       "      <th>78</th>\n",
       "      <td>아이유</td>\n",
       "      <td>5439395</td>\n",
       "      <td>언제쯤이면 (Duet.아이유)</td>\n",
       "    </tr>\n",
       "    <tr>\n",
       "      <th>79</th>\n",
       "      <td>아이유</td>\n",
       "      <td>5439395</td>\n",
       "      <td>언제쯤이면 (Duet.아이유)</td>\n",
       "    </tr>\n",
       "    <tr>\n",
       "      <th>80</th>\n",
       "      <td>아이유</td>\n",
       "      <td>5439395</td>\n",
       "      <td>언제쯤이면 (Duet.아이유)</td>\n",
       "    </tr>\n",
       "    <tr>\n",
       "      <th>81</th>\n",
       "      <td>아이유</td>\n",
       "      <td>5439395</td>\n",
       "      <td>언제쯤이면 (Duet.아이유)</td>\n",
       "    </tr>\n",
       "    <tr>\n",
       "      <th>82</th>\n",
       "      <td>아이유</td>\n",
       "      <td>5439395</td>\n",
       "      <td>언제쯤이면 (Duet.아이유)</td>\n",
       "    </tr>\n",
       "    <tr>\n",
       "      <th>83</th>\n",
       "      <td>아이유</td>\n",
       "      <td>5439395</td>\n",
       "      <td>언제쯤이면 (Duet.아이유)</td>\n",
       "    </tr>\n",
       "    <tr>\n",
       "      <th>84</th>\n",
       "      <td>아이유</td>\n",
       "      <td>5439395</td>\n",
       "      <td>언제쯤이면 (Duet.아이유)</td>\n",
       "    </tr>\n",
       "    <tr>\n",
       "      <th>85</th>\n",
       "      <td>아이유</td>\n",
       "      <td>5439395</td>\n",
       "      <td>언제쯤이면 (Duet.아이유)</td>\n",
       "    </tr>\n",
       "    <tr>\n",
       "      <th>86</th>\n",
       "      <td>아이유</td>\n",
       "      <td>5439395</td>\n",
       "      <td>언제쯤이면 (Duet.아이유)</td>\n",
       "    </tr>\n",
       "    <tr>\n",
       "      <th>87</th>\n",
       "      <td>아이유</td>\n",
       "      <td>5439395</td>\n",
       "      <td>언제쯤이면 (Duet.아이유)</td>\n",
       "    </tr>\n",
       "    <tr>\n",
       "      <th>88</th>\n",
       "      <td>아이유</td>\n",
       "      <td>5439395</td>\n",
       "      <td>언제쯤이면 (Duet.아이유)</td>\n",
       "    </tr>\n",
       "    <tr>\n",
       "      <th>90</th>\n",
       "      <td>아이유</td>\n",
       "      <td>5439395</td>\n",
       "      <td>언제쯤이면 (Duet.아이유)</td>\n",
       "    </tr>\n",
       "    <tr>\n",
       "      <th>92</th>\n",
       "      <td>아이유</td>\n",
       "      <td>5439395</td>\n",
       "      <td>언제쯤이면 (Duet.아이유)</td>\n",
       "    </tr>\n",
       "    <tr>\n",
       "      <th>93</th>\n",
       "      <td>아이유</td>\n",
       "      <td>5439395</td>\n",
       "      <td>언제쯤이면 (Duet.아이유)</td>\n",
       "    </tr>\n",
       "    <tr>\n",
       "      <th>94</th>\n",
       "      <td>아이유</td>\n",
       "      <td>5439395</td>\n",
       "      <td>언제쯤이면 (Duet.아이유)</td>\n",
       "    </tr>\n",
       "    <tr>\n",
       "      <th>95</th>\n",
       "      <td>아이유</td>\n",
       "      <td>5439395</td>\n",
       "      <td>언제쯤이면 (Duet.아이유)</td>\n",
       "    </tr>\n",
       "    <tr>\n",
       "      <th>96</th>\n",
       "      <td>아이유</td>\n",
       "      <td>5439395</td>\n",
       "      <td>언제쯤이면 (Duet.아이유)</td>\n",
       "    </tr>\n",
       "  </tbody>\n",
       "</table>\n",
       "</div>"
      ],
      "text/plain": [
       "   Duet_artist  song_id             title\n",
       "73         아이유  5439395  언제쯤이면 (Duet.아이유)\n",
       "74         아이유  5439395  언제쯤이면 (Duet.아이유)\n",
       "75         아이유  5439395  언제쯤이면 (Duet.아이유)\n",
       "76         아이유  5439395  언제쯤이면 (Duet.아이유)\n",
       "77         아이유  5439395  언제쯤이면 (Duet.아이유)\n",
       "78         아이유  5439395  언제쯤이면 (Duet.아이유)\n",
       "79         아이유  5439395  언제쯤이면 (Duet.아이유)\n",
       "80         아이유  5439395  언제쯤이면 (Duet.아이유)\n",
       "81         아이유  5439395  언제쯤이면 (Duet.아이유)\n",
       "82         아이유  5439395  언제쯤이면 (Duet.아이유)\n",
       "83         아이유  5439395  언제쯤이면 (Duet.아이유)\n",
       "84         아이유  5439395  언제쯤이면 (Duet.아이유)\n",
       "85         아이유  5439395  언제쯤이면 (Duet.아이유)\n",
       "86         아이유  5439395  언제쯤이면 (Duet.아이유)\n",
       "87         아이유  5439395  언제쯤이면 (Duet.아이유)\n",
       "88         아이유  5439395  언제쯤이면 (Duet.아이유)\n",
       "90         아이유  5439395  언제쯤이면 (Duet.아이유)\n",
       "92         아이유  5439395  언제쯤이면 (Duet.아이유)\n",
       "93         아이유  5439395  언제쯤이면 (Duet.아이유)\n",
       "94         아이유  5439395  언제쯤이면 (Duet.아이유)\n",
       "95         아이유  5439395  언제쯤이면 (Duet.아이유)\n",
       "96         아이유  5439395  언제쯤이면 (Duet.아이유)"
      ]
     },
     "execution_count": 333,
     "metadata": {},
     "output_type": "execute_result"
    }
   ],
   "source": [
    "듀엣[듀엣['Duet_artist'] == '아이유']"
   ]
  },
  {
   "cell_type": "code",
   "execution_count": 322,
   "metadata": {},
   "outputs": [],
   "source": [
    "듀엣 = 듀엣.iloc[:,1:4]"
   ]
  },
  {
   "cell_type": "code",
   "execution_count": 323,
   "metadata": {},
   "outputs": [
    {
     "data": {
      "text/html": [
       "<div>\n",
       "<style scoped>\n",
       "    .dataframe tbody tr th:only-of-type {\n",
       "        vertical-align: middle;\n",
       "    }\n",
       "\n",
       "    .dataframe tbody tr th {\n",
       "        vertical-align: top;\n",
       "    }\n",
       "\n",
       "    .dataframe thead th {\n",
       "        text-align: right;\n",
       "    }\n",
       "</style>\n",
       "<table border=\"1\" class=\"dataframe\">\n",
       "  <thead>\n",
       "    <tr style=\"text-align: right;\">\n",
       "      <th></th>\n",
       "      <th>0</th>\n",
       "    </tr>\n",
       "    <tr>\n",
       "      <th>Duet_artist</th>\n",
       "      <th></th>\n",
       "    </tr>\n",
       "  </thead>\n",
       "  <tbody>\n",
       "    <tr>\n",
       "      <th>아이유</th>\n",
       "      <td>22</td>\n",
       "    </tr>\n",
       "    <tr>\n",
       "      <th>With 가인</th>\n",
       "      <td>10</td>\n",
       "    </tr>\n",
       "    <tr>\n",
       "      <th>드림걸스</th>\n",
       "      <td>10</td>\n",
       "    </tr>\n",
       "    <tr>\n",
       "      <th>윤하</th>\n",
       "      <td>8</td>\n",
       "    </tr>\n",
       "    <tr>\n",
       "      <th>YB</th>\n",
       "      <td>7</td>\n",
       "    </tr>\n",
       "    <tr>\n",
       "      <th>걸스데이 민아</th>\n",
       "      <td>6</td>\n",
       "    </tr>\n",
       "    <tr>\n",
       "      <th>With 정인</th>\n",
       "      <td>5</td>\n",
       "    </tr>\n",
       "    <tr>\n",
       "      <th>With 하동균</th>\n",
       "      <td>4</td>\n",
       "    </tr>\n",
       "    <tr>\n",
       "      <th>With 박정현</th>\n",
       "      <td>4</td>\n",
       "    </tr>\n",
       "    <tr>\n",
       "      <th>키썸</th>\n",
       "      <td>4</td>\n",
       "    </tr>\n",
       "    <tr>\n",
       "      <th>태사비애</th>\n",
       "      <td>4</td>\n",
       "    </tr>\n",
       "    <tr>\n",
       "      <th>With 정은지</th>\n",
       "      <td>4</td>\n",
       "    </tr>\n",
       "    <tr>\n",
       "      <th>정은지</th>\n",
       "      <td>3</td>\n",
       "    </tr>\n",
       "    <tr>\n",
       "      <th>Bebop</th>\n",
       "      <td>3</td>\n",
       "    </tr>\n",
       "    <tr>\n",
       "      <th>세정 of 구구단) (Prod. 박경</th>\n",
       "      <td>3</td>\n",
       "    </tr>\n",
       "    <tr>\n",
       "      <th>비비안</th>\n",
       "      <td>3</td>\n",
       "    </tr>\n",
       "    <tr>\n",
       "      <th>환희</th>\n",
       "      <td>3</td>\n",
       "    </tr>\n",
       "    <tr>\n",
       "      <th>Jeff Bernat</th>\n",
       "      <td>2</td>\n",
       "    </tr>\n",
       "    <tr>\n",
       "      <th>Ver.</th>\n",
       "      <td>2</td>\n",
       "    </tr>\n",
       "    <tr>\n",
       "      <th>Baby G</th>\n",
       "      <td>2</td>\n",
       "    </tr>\n",
       "    <tr>\n",
       "      <th>10cm</th>\n",
       "      <td>2</td>\n",
       "    </tr>\n",
       "    <tr>\n",
       "      <th>With 환희</th>\n",
       "      <td>2</td>\n",
       "    </tr>\n",
       "    <tr>\n",
       "      <th>홍대광</th>\n",
       "      <td>2</td>\n",
       "    </tr>\n",
       "    <tr>\n",
       "      <th>드림걸스, C-Boy</th>\n",
       "      <td>2</td>\n",
       "    </tr>\n",
       "    <tr>\n",
       "      <th>영준</th>\n",
       "      <td>2</td>\n",
       "    </tr>\n",
       "    <tr>\n",
       "      <th>오윤혜</th>\n",
       "      <td>2</td>\n",
       "    </tr>\n",
       "    <tr>\n",
       "      <th>최자 Of 다이나믹듀오</th>\n",
       "      <td>2</td>\n",
       "    </tr>\n",
       "    <tr>\n",
       "      <th>With 짙은</th>\n",
       "      <td>1</td>\n",
       "    </tr>\n",
       "    <tr>\n",
       "      <th>With 이진우</th>\n",
       "      <td>1</td>\n",
       "    </tr>\n",
       "    <tr>\n",
       "      <th>Ed Sheeran</th>\n",
       "      <td>1</td>\n",
       "    </tr>\n",
       "    <tr>\n",
       "      <th>코타 Of SunnyHill</th>\n",
       "      <td>1</td>\n",
       "    </tr>\n",
       "    <tr>\n",
       "      <th>헤이즈</th>\n",
       "      <td>1</td>\n",
       "    </tr>\n",
       "    <tr>\n",
       "      <th>2PM 준수</th>\n",
       "      <td>1</td>\n",
       "    </tr>\n",
       "    <tr>\n",
       "      <th>you</th>\n",
       "      <td>1</td>\n",
       "    </tr>\n",
       "  </tbody>\n",
       "</table>\n",
       "</div>"
      ],
      "text/plain": [
       "                       0\n",
       "Duet_artist             \n",
       "아이유                   22\n",
       "With 가인               10\n",
       "드림걸스                  10\n",
       "윤하                     8\n",
       "YB                     7\n",
       "걸스데이 민아                6\n",
       "With 정인                5\n",
       "With 하동균               4\n",
       "With 박정현               4\n",
       "키썸                     4\n",
       "태사비애                   4\n",
       "With 정은지               4\n",
       "정은지                    3\n",
       "Bebop                  3\n",
       "세정 of 구구단) (Prod. 박경   3\n",
       "비비안                    3\n",
       "환희                     3\n",
       "Jeff Bernat            2\n",
       "Ver.                   2\n",
       "Baby G                 2\n",
       "10cm                   2\n",
       "With 환희                2\n",
       "홍대광                    2\n",
       "드림걸스, C-Boy            2\n",
       "영준                     2\n",
       "오윤혜                    2\n",
       "최자 Of 다이나믹듀오           2\n",
       "With 짙은                1\n",
       "With 이진우               1\n",
       "Ed Sheeran             1\n",
       "코타 Of SunnyHill        1\n",
       "헤이즈                    1\n",
       "2PM 준수                 1\n",
       "you                    1"
      ]
     },
     "execution_count": 323,
     "metadata": {},
     "output_type": "execute_result"
    }
   ],
   "source": [
    "list_of_series3 = 듀엣.groupby('Duet_artist').size().sort_values(ascending = False)\n",
    "Duet_number = pd.DataFrame(list_of_series3)\n",
    "Duet_number"
   ]
  },
  {
   "cell_type": "code",
   "execution_count": 325,
   "metadata": {},
   "outputs": [],
   "source": [
    "Duet_number.rename(columns= {0: '차트진입횟수'} ,inplace= True)\n",
    "Duet_num = Duet_number.reset_index()"
   ]
  },
  {
   "cell_type": "code",
   "execution_count": 330,
   "metadata": {},
   "outputs": [],
   "source": [
    "top10 = Duet_num.iloc[:10]"
   ]
  },
  {
   "cell_type": "code",
   "execution_count": 331,
   "metadata": {},
   "outputs": [
    {
     "data": {
      "application/vnd.plotly.v1+json": {
       "config": {
        "plotlyServerURL": "https://plot.ly"
       },
       "data": [
        {
         "alignmentgroup": "True",
         "hoverlabel": {
          "namelength": 0
         },
         "hovertemplate": "Duet_artist=%{x}<br>차트진입횟수=%{y}",
         "legendgroup": "",
         "marker": {
          "color": "#636efa"
         },
         "name": "",
         "offsetgroup": "",
         "orientation": "v",
         "showlegend": false,
         "textposition": "auto",
         "type": "bar",
         "x": [
          "아이유",
          "With 가인",
          "드림걸스",
          "윤하",
          "YB",
          "걸스데이 민아",
          "With 정인",
          "With 하동균",
          "With 박정현",
          "키썸"
         ],
         "xaxis": "x",
         "y": [
          22,
          10,
          10,
          8,
          7,
          6,
          5,
          4,
          4,
          4
         ],
         "yaxis": "y"
        }
       ],
       "layout": {
        "barmode": "relative",
        "height": 600,
        "legend": {
         "tracegroupgap": 0
        },
        "margin": {
         "t": 60
        },
        "template": {
         "data": {
          "bar": [
           {
            "error_x": {
             "color": "#2a3f5f"
            },
            "error_y": {
             "color": "#2a3f5f"
            },
            "marker": {
             "line": {
              "color": "#E5ECF6",
              "width": 0.5
             }
            },
            "type": "bar"
           }
          ],
          "barpolar": [
           {
            "marker": {
             "line": {
              "color": "#E5ECF6",
              "width": 0.5
             }
            },
            "type": "barpolar"
           }
          ],
          "carpet": [
           {
            "aaxis": {
             "endlinecolor": "#2a3f5f",
             "gridcolor": "white",
             "linecolor": "white",
             "minorgridcolor": "white",
             "startlinecolor": "#2a3f5f"
            },
            "baxis": {
             "endlinecolor": "#2a3f5f",
             "gridcolor": "white",
             "linecolor": "white",
             "minorgridcolor": "white",
             "startlinecolor": "#2a3f5f"
            },
            "type": "carpet"
           }
          ],
          "choropleth": [
           {
            "colorbar": {
             "outlinewidth": 0,
             "ticks": ""
            },
            "type": "choropleth"
           }
          ],
          "contour": [
           {
            "colorbar": {
             "outlinewidth": 0,
             "ticks": ""
            },
            "colorscale": [
             [
              0,
              "#0d0887"
             ],
             [
              0.1111111111111111,
              "#46039f"
             ],
             [
              0.2222222222222222,
              "#7201a8"
             ],
             [
              0.3333333333333333,
              "#9c179e"
             ],
             [
              0.4444444444444444,
              "#bd3786"
             ],
             [
              0.5555555555555556,
              "#d8576b"
             ],
             [
              0.6666666666666666,
              "#ed7953"
             ],
             [
              0.7777777777777778,
              "#fb9f3a"
             ],
             [
              0.8888888888888888,
              "#fdca26"
             ],
             [
              1,
              "#f0f921"
             ]
            ],
            "type": "contour"
           }
          ],
          "contourcarpet": [
           {
            "colorbar": {
             "outlinewidth": 0,
             "ticks": ""
            },
            "type": "contourcarpet"
           }
          ],
          "heatmap": [
           {
            "colorbar": {
             "outlinewidth": 0,
             "ticks": ""
            },
            "colorscale": [
             [
              0,
              "#0d0887"
             ],
             [
              0.1111111111111111,
              "#46039f"
             ],
             [
              0.2222222222222222,
              "#7201a8"
             ],
             [
              0.3333333333333333,
              "#9c179e"
             ],
             [
              0.4444444444444444,
              "#bd3786"
             ],
             [
              0.5555555555555556,
              "#d8576b"
             ],
             [
              0.6666666666666666,
              "#ed7953"
             ],
             [
              0.7777777777777778,
              "#fb9f3a"
             ],
             [
              0.8888888888888888,
              "#fdca26"
             ],
             [
              1,
              "#f0f921"
             ]
            ],
            "type": "heatmap"
           }
          ],
          "heatmapgl": [
           {
            "colorbar": {
             "outlinewidth": 0,
             "ticks": ""
            },
            "colorscale": [
             [
              0,
              "#0d0887"
             ],
             [
              0.1111111111111111,
              "#46039f"
             ],
             [
              0.2222222222222222,
              "#7201a8"
             ],
             [
              0.3333333333333333,
              "#9c179e"
             ],
             [
              0.4444444444444444,
              "#bd3786"
             ],
             [
              0.5555555555555556,
              "#d8576b"
             ],
             [
              0.6666666666666666,
              "#ed7953"
             ],
             [
              0.7777777777777778,
              "#fb9f3a"
             ],
             [
              0.8888888888888888,
              "#fdca26"
             ],
             [
              1,
              "#f0f921"
             ]
            ],
            "type": "heatmapgl"
           }
          ],
          "histogram": [
           {
            "marker": {
             "colorbar": {
              "outlinewidth": 0,
              "ticks": ""
             }
            },
            "type": "histogram"
           }
          ],
          "histogram2d": [
           {
            "colorbar": {
             "outlinewidth": 0,
             "ticks": ""
            },
            "colorscale": [
             [
              0,
              "#0d0887"
             ],
             [
              0.1111111111111111,
              "#46039f"
             ],
             [
              0.2222222222222222,
              "#7201a8"
             ],
             [
              0.3333333333333333,
              "#9c179e"
             ],
             [
              0.4444444444444444,
              "#bd3786"
             ],
             [
              0.5555555555555556,
              "#d8576b"
             ],
             [
              0.6666666666666666,
              "#ed7953"
             ],
             [
              0.7777777777777778,
              "#fb9f3a"
             ],
             [
              0.8888888888888888,
              "#fdca26"
             ],
             [
              1,
              "#f0f921"
             ]
            ],
            "type": "histogram2d"
           }
          ],
          "histogram2dcontour": [
           {
            "colorbar": {
             "outlinewidth": 0,
             "ticks": ""
            },
            "colorscale": [
             [
              0,
              "#0d0887"
             ],
             [
              0.1111111111111111,
              "#46039f"
             ],
             [
              0.2222222222222222,
              "#7201a8"
             ],
             [
              0.3333333333333333,
              "#9c179e"
             ],
             [
              0.4444444444444444,
              "#bd3786"
             ],
             [
              0.5555555555555556,
              "#d8576b"
             ],
             [
              0.6666666666666666,
              "#ed7953"
             ],
             [
              0.7777777777777778,
              "#fb9f3a"
             ],
             [
              0.8888888888888888,
              "#fdca26"
             ],
             [
              1,
              "#f0f921"
             ]
            ],
            "type": "histogram2dcontour"
           }
          ],
          "mesh3d": [
           {
            "colorbar": {
             "outlinewidth": 0,
             "ticks": ""
            },
            "type": "mesh3d"
           }
          ],
          "parcoords": [
           {
            "line": {
             "colorbar": {
              "outlinewidth": 0,
              "ticks": ""
             }
            },
            "type": "parcoords"
           }
          ],
          "pie": [
           {
            "automargin": true,
            "type": "pie"
           }
          ],
          "scatter": [
           {
            "marker": {
             "colorbar": {
              "outlinewidth": 0,
              "ticks": ""
             }
            },
            "type": "scatter"
           }
          ],
          "scatter3d": [
           {
            "line": {
             "colorbar": {
              "outlinewidth": 0,
              "ticks": ""
             }
            },
            "marker": {
             "colorbar": {
              "outlinewidth": 0,
              "ticks": ""
             }
            },
            "type": "scatter3d"
           }
          ],
          "scattercarpet": [
           {
            "marker": {
             "colorbar": {
              "outlinewidth": 0,
              "ticks": ""
             }
            },
            "type": "scattercarpet"
           }
          ],
          "scattergeo": [
           {
            "marker": {
             "colorbar": {
              "outlinewidth": 0,
              "ticks": ""
             }
            },
            "type": "scattergeo"
           }
          ],
          "scattergl": [
           {
            "marker": {
             "colorbar": {
              "outlinewidth": 0,
              "ticks": ""
             }
            },
            "type": "scattergl"
           }
          ],
          "scattermapbox": [
           {
            "marker": {
             "colorbar": {
              "outlinewidth": 0,
              "ticks": ""
             }
            },
            "type": "scattermapbox"
           }
          ],
          "scatterpolar": [
           {
            "marker": {
             "colorbar": {
              "outlinewidth": 0,
              "ticks": ""
             }
            },
            "type": "scatterpolar"
           }
          ],
          "scatterpolargl": [
           {
            "marker": {
             "colorbar": {
              "outlinewidth": 0,
              "ticks": ""
             }
            },
            "type": "scatterpolargl"
           }
          ],
          "scatterternary": [
           {
            "marker": {
             "colorbar": {
              "outlinewidth": 0,
              "ticks": ""
             }
            },
            "type": "scatterternary"
           }
          ],
          "surface": [
           {
            "colorbar": {
             "outlinewidth": 0,
             "ticks": ""
            },
            "colorscale": [
             [
              0,
              "#0d0887"
             ],
             [
              0.1111111111111111,
              "#46039f"
             ],
             [
              0.2222222222222222,
              "#7201a8"
             ],
             [
              0.3333333333333333,
              "#9c179e"
             ],
             [
              0.4444444444444444,
              "#bd3786"
             ],
             [
              0.5555555555555556,
              "#d8576b"
             ],
             [
              0.6666666666666666,
              "#ed7953"
             ],
             [
              0.7777777777777778,
              "#fb9f3a"
             ],
             [
              0.8888888888888888,
              "#fdca26"
             ],
             [
              1,
              "#f0f921"
             ]
            ],
            "type": "surface"
           }
          ],
          "table": [
           {
            "cells": {
             "fill": {
              "color": "#EBF0F8"
             },
             "line": {
              "color": "white"
             }
            },
            "header": {
             "fill": {
              "color": "#C8D4E3"
             },
             "line": {
              "color": "white"
             }
            },
            "type": "table"
           }
          ]
         },
         "layout": {
          "annotationdefaults": {
           "arrowcolor": "#2a3f5f",
           "arrowhead": 0,
           "arrowwidth": 1
          },
          "coloraxis": {
           "colorbar": {
            "outlinewidth": 0,
            "ticks": ""
           }
          },
          "colorscale": {
           "diverging": [
            [
             0,
             "#8e0152"
            ],
            [
             0.1,
             "#c51b7d"
            ],
            [
             0.2,
             "#de77ae"
            ],
            [
             0.3,
             "#f1b6da"
            ],
            [
             0.4,
             "#fde0ef"
            ],
            [
             0.5,
             "#f7f7f7"
            ],
            [
             0.6,
             "#e6f5d0"
            ],
            [
             0.7,
             "#b8e186"
            ],
            [
             0.8,
             "#7fbc41"
            ],
            [
             0.9,
             "#4d9221"
            ],
            [
             1,
             "#276419"
            ]
           ],
           "sequential": [
            [
             0,
             "#0d0887"
            ],
            [
             0.1111111111111111,
             "#46039f"
            ],
            [
             0.2222222222222222,
             "#7201a8"
            ],
            [
             0.3333333333333333,
             "#9c179e"
            ],
            [
             0.4444444444444444,
             "#bd3786"
            ],
            [
             0.5555555555555556,
             "#d8576b"
            ],
            [
             0.6666666666666666,
             "#ed7953"
            ],
            [
             0.7777777777777778,
             "#fb9f3a"
            ],
            [
             0.8888888888888888,
             "#fdca26"
            ],
            [
             1,
             "#f0f921"
            ]
           ],
           "sequentialminus": [
            [
             0,
             "#0d0887"
            ],
            [
             0.1111111111111111,
             "#46039f"
            ],
            [
             0.2222222222222222,
             "#7201a8"
            ],
            [
             0.3333333333333333,
             "#9c179e"
            ],
            [
             0.4444444444444444,
             "#bd3786"
            ],
            [
             0.5555555555555556,
             "#d8576b"
            ],
            [
             0.6666666666666666,
             "#ed7953"
            ],
            [
             0.7777777777777778,
             "#fb9f3a"
            ],
            [
             0.8888888888888888,
             "#fdca26"
            ],
            [
             1,
             "#f0f921"
            ]
           ]
          },
          "colorway": [
           "#636efa",
           "#EF553B",
           "#00cc96",
           "#ab63fa",
           "#FFA15A",
           "#19d3f3",
           "#FF6692",
           "#B6E880",
           "#FF97FF",
           "#FECB52"
          ],
          "font": {
           "color": "#2a3f5f"
          },
          "geo": {
           "bgcolor": "white",
           "lakecolor": "white",
           "landcolor": "#E5ECF6",
           "showlakes": true,
           "showland": true,
           "subunitcolor": "white"
          },
          "hoverlabel": {
           "align": "left"
          },
          "hovermode": "closest",
          "mapbox": {
           "style": "light"
          },
          "paper_bgcolor": "white",
          "plot_bgcolor": "#E5ECF6",
          "polar": {
           "angularaxis": {
            "gridcolor": "white",
            "linecolor": "white",
            "ticks": ""
           },
           "bgcolor": "#E5ECF6",
           "radialaxis": {
            "gridcolor": "white",
            "linecolor": "white",
            "ticks": ""
           }
          },
          "scene": {
           "xaxis": {
            "backgroundcolor": "#E5ECF6",
            "gridcolor": "white",
            "gridwidth": 2,
            "linecolor": "white",
            "showbackground": true,
            "ticks": "",
            "zerolinecolor": "white"
           },
           "yaxis": {
            "backgroundcolor": "#E5ECF6",
            "gridcolor": "white",
            "gridwidth": 2,
            "linecolor": "white",
            "showbackground": true,
            "ticks": "",
            "zerolinecolor": "white"
           },
           "zaxis": {
            "backgroundcolor": "#E5ECF6",
            "gridcolor": "white",
            "gridwidth": 2,
            "linecolor": "white",
            "showbackground": true,
            "ticks": "",
            "zerolinecolor": "white"
           }
          },
          "shapedefaults": {
           "line": {
            "color": "#2a3f5f"
           }
          },
          "ternary": {
           "aaxis": {
            "gridcolor": "white",
            "linecolor": "white",
            "ticks": ""
           },
           "baxis": {
            "gridcolor": "white",
            "linecolor": "white",
            "ticks": ""
           },
           "bgcolor": "#E5ECF6",
           "caxis": {
            "gridcolor": "white",
            "linecolor": "white",
            "ticks": ""
           }
          },
          "title": {
           "x": 0.05
          },
          "xaxis": {
           "automargin": true,
           "gridcolor": "white",
           "linecolor": "white",
           "ticks": "",
           "title": {
            "standoff": 15
           },
           "zerolinecolor": "white",
           "zerolinewidth": 2
          },
          "yaxis": {
           "automargin": true,
           "gridcolor": "white",
           "linecolor": "white",
           "ticks": "",
           "title": {
            "standoff": 15
           },
           "zerolinecolor": "white",
           "zerolinewidth": 2
          }
         }
        },
        "xaxis": {
         "anchor": "y",
         "domain": [
          0,
          1
         ],
         "title": {
          "text": "Duet_artist"
         }
        },
        "yaxis": {
         "anchor": "x",
         "domain": [
          0,
          1
         ],
         "title": {
          "text": "차트진입횟수"
         }
        }
       }
      },
      "text/html": [
       "<div>\n",
       "        \n",
       "        \n",
       "            <div id=\"cb4f122c-c8fb-4b82-b727-688b05b8d8ca\" class=\"plotly-graph-div\" style=\"height:600px; width:100%;\"></div>\n",
       "            <script type=\"text/javascript\">\n",
       "                require([\"plotly\"], function(Plotly) {\n",
       "                    window.PLOTLYENV=window.PLOTLYENV || {};\n",
       "                    \n",
       "                if (document.getElementById(\"cb4f122c-c8fb-4b82-b727-688b05b8d8ca\")) {\n",
       "                    Plotly.newPlot(\n",
       "                        'cb4f122c-c8fb-4b82-b727-688b05b8d8ca',\n",
       "                        [{\"alignmentgroup\": \"True\", \"hoverlabel\": {\"namelength\": 0}, \"hovertemplate\": \"Duet_artist=%{x}<br>\\ucc28\\ud2b8\\uc9c4\\uc785\\ud69f\\uc218=%{y}\", \"legendgroup\": \"\", \"marker\": {\"color\": \"#636efa\"}, \"name\": \"\", \"offsetgroup\": \"\", \"orientation\": \"v\", \"showlegend\": false, \"textposition\": \"auto\", \"type\": \"bar\", \"x\": [\"\\uc544\\uc774\\uc720\", \"With \\uac00\\uc778\", \"\\ub4dc\\ub9bc\\uac78\\uc2a4\", \"\\uc724\\ud558\", \"YB\", \"\\uac78\\uc2a4\\ub370\\uc774 \\ubbfc\\uc544\", \"With \\uc815\\uc778\", \"With \\ud558\\ub3d9\\uade0\", \"With \\ubc15\\uc815\\ud604\", \"\\ud0a4\\uc378\"], \"xaxis\": \"x\", \"y\": [22, 10, 10, 8, 7, 6, 5, 4, 4, 4], \"yaxis\": \"y\"}],\n",
       "                        {\"barmode\": \"relative\", \"height\": 600, \"legend\": {\"tracegroupgap\": 0}, \"margin\": {\"t\": 60}, \"template\": {\"data\": {\"bar\": [{\"error_x\": {\"color\": \"#2a3f5f\"}, \"error_y\": {\"color\": \"#2a3f5f\"}, \"marker\": {\"line\": {\"color\": \"#E5ECF6\", \"width\": 0.5}}, \"type\": \"bar\"}], \"barpolar\": [{\"marker\": {\"line\": {\"color\": \"#E5ECF6\", \"width\": 0.5}}, \"type\": \"barpolar\"}], \"carpet\": [{\"aaxis\": {\"endlinecolor\": \"#2a3f5f\", \"gridcolor\": \"white\", \"linecolor\": \"white\", \"minorgridcolor\": \"white\", \"startlinecolor\": \"#2a3f5f\"}, \"baxis\": {\"endlinecolor\": \"#2a3f5f\", \"gridcolor\": \"white\", \"linecolor\": \"white\", \"minorgridcolor\": \"white\", \"startlinecolor\": \"#2a3f5f\"}, \"type\": \"carpet\"}], \"choropleth\": [{\"colorbar\": {\"outlinewidth\": 0, \"ticks\": \"\"}, \"type\": \"choropleth\"}], \"contour\": [{\"colorbar\": {\"outlinewidth\": 0, \"ticks\": \"\"}, \"colorscale\": [[0.0, \"#0d0887\"], [0.1111111111111111, \"#46039f\"], [0.2222222222222222, \"#7201a8\"], [0.3333333333333333, \"#9c179e\"], [0.4444444444444444, \"#bd3786\"], [0.5555555555555556, \"#d8576b\"], [0.6666666666666666, \"#ed7953\"], [0.7777777777777778, \"#fb9f3a\"], [0.8888888888888888, \"#fdca26\"], [1.0, \"#f0f921\"]], \"type\": \"contour\"}], \"contourcarpet\": [{\"colorbar\": {\"outlinewidth\": 0, \"ticks\": \"\"}, \"type\": \"contourcarpet\"}], \"heatmap\": [{\"colorbar\": {\"outlinewidth\": 0, \"ticks\": \"\"}, \"colorscale\": [[0.0, \"#0d0887\"], [0.1111111111111111, \"#46039f\"], [0.2222222222222222, \"#7201a8\"], [0.3333333333333333, \"#9c179e\"], [0.4444444444444444, \"#bd3786\"], [0.5555555555555556, \"#d8576b\"], [0.6666666666666666, \"#ed7953\"], [0.7777777777777778, \"#fb9f3a\"], [0.8888888888888888, \"#fdca26\"], [1.0, \"#f0f921\"]], \"type\": \"heatmap\"}], \"heatmapgl\": [{\"colorbar\": {\"outlinewidth\": 0, \"ticks\": \"\"}, \"colorscale\": [[0.0, \"#0d0887\"], [0.1111111111111111, \"#46039f\"], [0.2222222222222222, \"#7201a8\"], [0.3333333333333333, \"#9c179e\"], [0.4444444444444444, \"#bd3786\"], [0.5555555555555556, \"#d8576b\"], [0.6666666666666666, \"#ed7953\"], [0.7777777777777778, \"#fb9f3a\"], [0.8888888888888888, \"#fdca26\"], [1.0, \"#f0f921\"]], \"type\": \"heatmapgl\"}], \"histogram\": [{\"marker\": {\"colorbar\": {\"outlinewidth\": 0, \"ticks\": \"\"}}, \"type\": \"histogram\"}], \"histogram2d\": [{\"colorbar\": {\"outlinewidth\": 0, \"ticks\": \"\"}, \"colorscale\": [[0.0, \"#0d0887\"], [0.1111111111111111, \"#46039f\"], [0.2222222222222222, \"#7201a8\"], [0.3333333333333333, \"#9c179e\"], [0.4444444444444444, \"#bd3786\"], [0.5555555555555556, \"#d8576b\"], [0.6666666666666666, \"#ed7953\"], [0.7777777777777778, \"#fb9f3a\"], [0.8888888888888888, \"#fdca26\"], [1.0, \"#f0f921\"]], \"type\": \"histogram2d\"}], \"histogram2dcontour\": [{\"colorbar\": {\"outlinewidth\": 0, \"ticks\": \"\"}, \"colorscale\": [[0.0, \"#0d0887\"], [0.1111111111111111, \"#46039f\"], [0.2222222222222222, \"#7201a8\"], [0.3333333333333333, \"#9c179e\"], [0.4444444444444444, \"#bd3786\"], [0.5555555555555556, \"#d8576b\"], [0.6666666666666666, \"#ed7953\"], [0.7777777777777778, \"#fb9f3a\"], [0.8888888888888888, \"#fdca26\"], [1.0, \"#f0f921\"]], \"type\": \"histogram2dcontour\"}], \"mesh3d\": [{\"colorbar\": {\"outlinewidth\": 0, \"ticks\": \"\"}, \"type\": \"mesh3d\"}], \"parcoords\": [{\"line\": {\"colorbar\": {\"outlinewidth\": 0, \"ticks\": \"\"}}, \"type\": \"parcoords\"}], \"pie\": [{\"automargin\": true, \"type\": \"pie\"}], \"scatter\": [{\"marker\": {\"colorbar\": {\"outlinewidth\": 0, \"ticks\": \"\"}}, \"type\": \"scatter\"}], \"scatter3d\": [{\"line\": {\"colorbar\": {\"outlinewidth\": 0, \"ticks\": \"\"}}, \"marker\": {\"colorbar\": {\"outlinewidth\": 0, \"ticks\": \"\"}}, \"type\": \"scatter3d\"}], \"scattercarpet\": [{\"marker\": {\"colorbar\": {\"outlinewidth\": 0, \"ticks\": \"\"}}, \"type\": \"scattercarpet\"}], \"scattergeo\": [{\"marker\": {\"colorbar\": {\"outlinewidth\": 0, \"ticks\": \"\"}}, \"type\": \"scattergeo\"}], \"scattergl\": [{\"marker\": {\"colorbar\": {\"outlinewidth\": 0, \"ticks\": \"\"}}, \"type\": \"scattergl\"}], \"scattermapbox\": [{\"marker\": {\"colorbar\": {\"outlinewidth\": 0, \"ticks\": \"\"}}, \"type\": \"scattermapbox\"}], \"scatterpolar\": [{\"marker\": {\"colorbar\": {\"outlinewidth\": 0, \"ticks\": \"\"}}, \"type\": \"scatterpolar\"}], \"scatterpolargl\": [{\"marker\": {\"colorbar\": {\"outlinewidth\": 0, \"ticks\": \"\"}}, \"type\": \"scatterpolargl\"}], \"scatterternary\": [{\"marker\": {\"colorbar\": {\"outlinewidth\": 0, \"ticks\": \"\"}}, \"type\": \"scatterternary\"}], \"surface\": [{\"colorbar\": {\"outlinewidth\": 0, \"ticks\": \"\"}, \"colorscale\": [[0.0, \"#0d0887\"], [0.1111111111111111, \"#46039f\"], [0.2222222222222222, \"#7201a8\"], [0.3333333333333333, \"#9c179e\"], [0.4444444444444444, \"#bd3786\"], [0.5555555555555556, \"#d8576b\"], [0.6666666666666666, \"#ed7953\"], [0.7777777777777778, \"#fb9f3a\"], [0.8888888888888888, \"#fdca26\"], [1.0, \"#f0f921\"]], \"type\": \"surface\"}], \"table\": [{\"cells\": {\"fill\": {\"color\": \"#EBF0F8\"}, \"line\": {\"color\": \"white\"}}, \"header\": {\"fill\": {\"color\": \"#C8D4E3\"}, \"line\": {\"color\": \"white\"}}, \"type\": \"table\"}]}, \"layout\": {\"annotationdefaults\": {\"arrowcolor\": \"#2a3f5f\", \"arrowhead\": 0, \"arrowwidth\": 1}, \"coloraxis\": {\"colorbar\": {\"outlinewidth\": 0, \"ticks\": \"\"}}, \"colorscale\": {\"diverging\": [[0, \"#8e0152\"], [0.1, \"#c51b7d\"], [0.2, \"#de77ae\"], [0.3, \"#f1b6da\"], [0.4, \"#fde0ef\"], [0.5, \"#f7f7f7\"], [0.6, \"#e6f5d0\"], [0.7, \"#b8e186\"], [0.8, \"#7fbc41\"], [0.9, \"#4d9221\"], [1, \"#276419\"]], \"sequential\": [[0.0, \"#0d0887\"], [0.1111111111111111, \"#46039f\"], [0.2222222222222222, \"#7201a8\"], [0.3333333333333333, \"#9c179e\"], [0.4444444444444444, \"#bd3786\"], [0.5555555555555556, \"#d8576b\"], [0.6666666666666666, \"#ed7953\"], [0.7777777777777778, \"#fb9f3a\"], [0.8888888888888888, \"#fdca26\"], [1.0, \"#f0f921\"]], \"sequentialminus\": [[0.0, \"#0d0887\"], [0.1111111111111111, \"#46039f\"], [0.2222222222222222, \"#7201a8\"], [0.3333333333333333, \"#9c179e\"], [0.4444444444444444, \"#bd3786\"], [0.5555555555555556, \"#d8576b\"], [0.6666666666666666, \"#ed7953\"], [0.7777777777777778, \"#fb9f3a\"], [0.8888888888888888, \"#fdca26\"], [1.0, \"#f0f921\"]]}, \"colorway\": [\"#636efa\", \"#EF553B\", \"#00cc96\", \"#ab63fa\", \"#FFA15A\", \"#19d3f3\", \"#FF6692\", \"#B6E880\", \"#FF97FF\", \"#FECB52\"], \"font\": {\"color\": \"#2a3f5f\"}, \"geo\": {\"bgcolor\": \"white\", \"lakecolor\": \"white\", \"landcolor\": \"#E5ECF6\", \"showlakes\": true, \"showland\": true, \"subunitcolor\": \"white\"}, \"hoverlabel\": {\"align\": \"left\"}, \"hovermode\": \"closest\", \"mapbox\": {\"style\": \"light\"}, \"paper_bgcolor\": \"white\", \"plot_bgcolor\": \"#E5ECF6\", \"polar\": {\"angularaxis\": {\"gridcolor\": \"white\", \"linecolor\": \"white\", \"ticks\": \"\"}, \"bgcolor\": \"#E5ECF6\", \"radialaxis\": {\"gridcolor\": \"white\", \"linecolor\": \"white\", \"ticks\": \"\"}}, \"scene\": {\"xaxis\": {\"backgroundcolor\": \"#E5ECF6\", \"gridcolor\": \"white\", \"gridwidth\": 2, \"linecolor\": \"white\", \"showbackground\": true, \"ticks\": \"\", \"zerolinecolor\": \"white\"}, \"yaxis\": {\"backgroundcolor\": \"#E5ECF6\", \"gridcolor\": \"white\", \"gridwidth\": 2, \"linecolor\": \"white\", \"showbackground\": true, \"ticks\": \"\", \"zerolinecolor\": \"white\"}, \"zaxis\": {\"backgroundcolor\": \"#E5ECF6\", \"gridcolor\": \"white\", \"gridwidth\": 2, \"linecolor\": \"white\", \"showbackground\": true, \"ticks\": \"\", \"zerolinecolor\": \"white\"}}, \"shapedefaults\": {\"line\": {\"color\": \"#2a3f5f\"}}, \"ternary\": {\"aaxis\": {\"gridcolor\": \"white\", \"linecolor\": \"white\", \"ticks\": \"\"}, \"baxis\": {\"gridcolor\": \"white\", \"linecolor\": \"white\", \"ticks\": \"\"}, \"bgcolor\": \"#E5ECF6\", \"caxis\": {\"gridcolor\": \"white\", \"linecolor\": \"white\", \"ticks\": \"\"}}, \"title\": {\"x\": 0.05}, \"xaxis\": {\"automargin\": true, \"gridcolor\": \"white\", \"linecolor\": \"white\", \"ticks\": \"\", \"title\": {\"standoff\": 15}, \"zerolinecolor\": \"white\", \"zerolinewidth\": 2}, \"yaxis\": {\"automargin\": true, \"gridcolor\": \"white\", \"linecolor\": \"white\", \"ticks\": \"\", \"title\": {\"standoff\": 15}, \"zerolinecolor\": \"white\", \"zerolinewidth\": 2}}}, \"xaxis\": {\"anchor\": \"y\", \"domain\": [0.0, 1.0], \"title\": {\"text\": \"Duet_artist\"}}, \"yaxis\": {\"anchor\": \"x\", \"domain\": [0.0, 1.0], \"title\": {\"text\": \"\\ucc28\\ud2b8\\uc9c4\\uc785\\ud69f\\uc218\"}}},\n",
       "                        {\"responsive\": true}\n",
       "                    ).then(function(){\n",
       "                            \n",
       "var gd = document.getElementById('cb4f122c-c8fb-4b82-b727-688b05b8d8ca');\n",
       "var x = new MutationObserver(function (mutations, observer) {{\n",
       "        var display = window.getComputedStyle(gd).display;\n",
       "        if (!display || display === 'none') {{\n",
       "            console.log([gd, 'removed!']);\n",
       "            Plotly.purge(gd);\n",
       "            observer.disconnect();\n",
       "        }}\n",
       "}});\n",
       "\n",
       "// Listen for the removal of the full notebook cells\n",
       "var notebookContainer = gd.closest('#notebook-container');\n",
       "if (notebookContainer) {{\n",
       "    x.observe(notebookContainer, {childList: true});\n",
       "}}\n",
       "\n",
       "// Listen for the clearing of the current output cell\n",
       "var outputEl = gd.closest('.output');\n",
       "if (outputEl) {{\n",
       "    x.observe(outputEl, {childList: true});\n",
       "}}\n",
       "\n",
       "                        })\n",
       "                };\n",
       "                });\n",
       "            </script>\n",
       "        </div>"
      ]
     },
     "metadata": {},
     "output_type": "display_data"
    }
   ],
   "source": [
    "px.bar(top10 , x='Duet_artist', y='차트진입횟수')"
   ]
  },
  {
   "cell_type": "code",
   "execution_count": null,
   "metadata": {},
   "outputs": [],
   "source": []
  }
 ],
 "metadata": {
  "kernelspec": {
   "display_name": "Python 3",
   "language": "python",
   "name": "python3"
  },
  "language_info": {
   "codemirror_mode": {
    "name": "ipython",
    "version": 3
   },
   "file_extension": ".py",
   "mimetype": "text/x-python",
   "name": "python",
   "nbconvert_exporter": "python",
   "pygments_lexer": "ipython3",
   "version": "3.7.5"
  }
 },
 "nbformat": 4,
 "nbformat_minor": 2
}
