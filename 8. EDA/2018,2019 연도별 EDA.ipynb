{
 "cells": [
  {
   "cell_type": "code",
   "execution_count": 1,
   "metadata": {},
   "outputs": [],
   "source": [
    "import pandas as pd\n",
    "%matplotlib inline\n",
    "import seaborn as sns\n",
    "import plotly as plt"
   ]
  },
  {
   "cell_type": "code",
   "execution_count": 2,
   "metadata": {},
   "outputs": [],
   "source": [
    "all = pd.read_csv('./melon_chart_all.csv')"
   ]
  },
  {
   "cell_type": "code",
   "execution_count": 46,
   "metadata": {},
   "outputs": [
    {
     "data": {
      "text/html": [
       "<div>\n",
       "<style scoped>\n",
       "    .dataframe tbody tr th:only-of-type {\n",
       "        vertical-align: middle;\n",
       "    }\n",
       "\n",
       "    .dataframe tbody tr th {\n",
       "        vertical-align: top;\n",
       "    }\n",
       "\n",
       "    .dataframe thead th {\n",
       "        text-align: right;\n",
       "    }\n",
       "</style>\n",
       "<table border=\"1\" class=\"dataframe\">\n",
       "  <thead>\n",
       "    <tr style=\"text-align: right;\">\n",
       "      <th></th>\n",
       "      <th>index</th>\n",
       "      <th>year</th>\n",
       "      <th>rank</th>\n",
       "      <th>song_id</th>\n",
       "      <th>album_id</th>\n",
       "      <th>album_score</th>\n",
       "      <th>album_score_count</th>\n",
       "      <th>album_reply</th>\n",
       "      <th>like</th>\n",
       "      <th>reply</th>\n",
       "    </tr>\n",
       "  </thead>\n",
       "  <tbody>\n",
       "    <tr>\n",
       "      <th>count</th>\n",
       "      <td>8500.000000</td>\n",
       "      <td>8500.000000</td>\n",
       "      <td>8500.000000</td>\n",
       "      <td>8.500000e+03</td>\n",
       "      <td>8.500000e+03</td>\n",
       "      <td>8500.000000</td>\n",
       "      <td>8500.000000</td>\n",
       "      <td>8500.000000</td>\n",
       "      <td>8500.000000</td>\n",
       "      <td>8500.000000</td>\n",
       "    </tr>\n",
       "    <tr>\n",
       "      <th>mean</th>\n",
       "      <td>4249.500000</td>\n",
       "      <td>2018.541176</td>\n",
       "      <td>50.500000</td>\n",
       "      <td>3.037899e+07</td>\n",
       "      <td>9.894233e+06</td>\n",
       "      <td>3.786235</td>\n",
       "      <td>23808.436118</td>\n",
       "      <td>29272.152824</td>\n",
       "      <td>137752.446471</td>\n",
       "      <td>1474.379882</td>\n",
       "    </tr>\n",
       "    <tr>\n",
       "      <th>std</th>\n",
       "      <td>2453.882977</td>\n",
       "      <td>0.498331</td>\n",
       "      <td>28.867768</td>\n",
       "      <td>4.700161e+06</td>\n",
       "      <td>1.528327e+06</td>\n",
       "      <td>0.794072</td>\n",
       "      <td>25396.016511</td>\n",
       "      <td>41378.292033</td>\n",
       "      <td>82349.839522</td>\n",
       "      <td>1860.456970</td>\n",
       "    </tr>\n",
       "    <tr>\n",
       "      <th>min</th>\n",
       "      <td>0.000000</td>\n",
       "      <td>2018.000000</td>\n",
       "      <td>1.000000</td>\n",
       "      <td>1.477600e+04</td>\n",
       "      <td>8.290000e+02</td>\n",
       "      <td>0.900000</td>\n",
       "      <td>465.000000</td>\n",
       "      <td>101.000000</td>\n",
       "      <td>5253.000000</td>\n",
       "      <td>22.000000</td>\n",
       "    </tr>\n",
       "    <tr>\n",
       "      <th>25%</th>\n",
       "      <td>2124.750000</td>\n",
       "      <td>2018.000000</td>\n",
       "      <td>25.750000</td>\n",
       "      <td>3.096253e+07</td>\n",
       "      <td>1.014949e+07</td>\n",
       "      <td>3.600000</td>\n",
       "      <td>5365.000000</td>\n",
       "      <td>2128.000000</td>\n",
       "      <td>76706.000000</td>\n",
       "      <td>390.000000</td>\n",
       "    </tr>\n",
       "    <tr>\n",
       "      <th>50%</th>\n",
       "      <td>4249.500000</td>\n",
       "      <td>2019.000000</td>\n",
       "      <td>50.500000</td>\n",
       "      <td>3.130620e+07</td>\n",
       "      <td>1.020396e+07</td>\n",
       "      <td>3.900000</td>\n",
       "      <td>13180.000000</td>\n",
       "      <td>8879.000000</td>\n",
       "      <td>131941.000000</td>\n",
       "      <td>835.000000</td>\n",
       "    </tr>\n",
       "    <tr>\n",
       "      <th>75%</th>\n",
       "      <td>6374.250000</td>\n",
       "      <td>2019.000000</td>\n",
       "      <td>75.250000</td>\n",
       "      <td>3.166642e+07</td>\n",
       "      <td>1.026086e+07</td>\n",
       "      <td>4.300000</td>\n",
       "      <td>32042.000000</td>\n",
       "      <td>40199.000000</td>\n",
       "      <td>178502.000000</td>\n",
       "      <td>1875.000000</td>\n",
       "    </tr>\n",
       "    <tr>\n",
       "      <th>max</th>\n",
       "      <td>8499.000000</td>\n",
       "      <td>2019.000000</td>\n",
       "      <td>100.000000</td>\n",
       "      <td>3.217594e+07</td>\n",
       "      <td>1.035189e+07</td>\n",
       "      <td>4.900000</td>\n",
       "      <td>121533.000000</td>\n",
       "      <td>262324.000000</td>\n",
       "      <td>440396.000000</td>\n",
       "      <td>12127.000000</td>\n",
       "    </tr>\n",
       "  </tbody>\n",
       "</table>\n",
       "</div>"
      ],
      "text/plain": [
       "             index         year         rank       song_id      album_id  \\\n",
       "count  8500.000000  8500.000000  8500.000000  8.500000e+03  8.500000e+03   \n",
       "mean   4249.500000  2018.541176    50.500000  3.037899e+07  9.894233e+06   \n",
       "std    2453.882977     0.498331    28.867768  4.700161e+06  1.528327e+06   \n",
       "min       0.000000  2018.000000     1.000000  1.477600e+04  8.290000e+02   \n",
       "25%    2124.750000  2018.000000    25.750000  3.096253e+07  1.014949e+07   \n",
       "50%    4249.500000  2019.000000    50.500000  3.130620e+07  1.020396e+07   \n",
       "75%    6374.250000  2019.000000    75.250000  3.166642e+07  1.026086e+07   \n",
       "max    8499.000000  2019.000000   100.000000  3.217594e+07  1.035189e+07   \n",
       "\n",
       "       album_score  album_score_count    album_reply           like  \\\n",
       "count  8500.000000        8500.000000    8500.000000    8500.000000   \n",
       "mean      3.786235       23808.436118   29272.152824  137752.446471   \n",
       "std       0.794072       25396.016511   41378.292033   82349.839522   \n",
       "min       0.900000         465.000000     101.000000    5253.000000   \n",
       "25%       3.600000        5365.000000    2128.000000   76706.000000   \n",
       "50%       3.900000       13180.000000    8879.000000  131941.000000   \n",
       "75%       4.300000       32042.000000   40199.000000  178502.000000   \n",
       "max       4.900000      121533.000000  262324.000000  440396.000000   \n",
       "\n",
       "              reply  \n",
       "count   8500.000000  \n",
       "mean    1474.379882  \n",
       "std     1860.456970  \n",
       "min       22.000000  \n",
       "25%      390.000000  \n",
       "50%      835.000000  \n",
       "75%     1875.000000  \n",
       "max    12127.000000  "
      ]
     },
     "execution_count": 46,
     "metadata": {},
     "output_type": "execute_result"
    }
   ],
   "source": [
    "all.describe()"
   ]
  },
  {
   "cell_type": "markdown",
   "metadata": {},
   "source": [
    "## 알수 있는 것\n",
    "* 8500개의 data\n",
    "* '앨범 평점'의 5점만점에 평균은 3.78 중앙값은 3.9 (비슷) -> 하위의 곡들을 찾아보자\n",
    "* '앨범 댓글 수'는 평균적으로 29272번 중앙값은 8879로 볼때 매우 극단적인 분포임을 알수 있음 -> 어떤곡이 상위인지 하위인지 알아보자 ^_^\n",
    "* '곡 좋아요'평균적으로 137752번 중앙값은 131941번 (비슷) \n",
    "* '앨범 좋아요' 는 평균 1474번 중앙값은 835번 극단적인 분포임을 알수 있다 -> 어떤앨범이 상위인지 하위인지 알아보자"
   ]
  },
  {
   "cell_type": "code",
   "execution_count": 58,
   "metadata": {},
   "outputs": [
    {
     "data": {
      "text/html": [
       "<div>\n",
       "<style scoped>\n",
       "    .dataframe tbody tr th:only-of-type {\n",
       "        vertical-align: middle;\n",
       "    }\n",
       "\n",
       "    .dataframe tbody tr th {\n",
       "        vertical-align: top;\n",
       "    }\n",
       "\n",
       "    .dataframe thead th {\n",
       "        text-align: right;\n",
       "    }\n",
       "</style>\n",
       "<table border=\"1\" class=\"dataframe\">\n",
       "  <thead>\n",
       "    <tr style=\"text-align: right;\">\n",
       "      <th></th>\n",
       "      <th>index</th>\n",
       "      <th>year</th>\n",
       "      <th>rank</th>\n",
       "      <th>song_id</th>\n",
       "      <th>album_id</th>\n",
       "      <th>album_score</th>\n",
       "      <th>album_score_count</th>\n",
       "      <th>album_reply</th>\n",
       "      <th>like</th>\n",
       "      <th>reply</th>\n",
       "    </tr>\n",
       "  </thead>\n",
       "  <tbody>\n",
       "    <tr>\n",
       "      <th>index</th>\n",
       "      <td>1.000000</td>\n",
       "      <td>0.863084</td>\n",
       "      <td>0.011764</td>\n",
       "      <td>0.137383</td>\n",
       "      <td>0.113490</td>\n",
       "      <td>-0.056799</td>\n",
       "      <td>-0.168097</td>\n",
       "      <td>-0.193391</td>\n",
       "      <td>-0.186582</td>\n",
       "      <td>-0.040597</td>\n",
       "    </tr>\n",
       "    <tr>\n",
       "      <th>year</th>\n",
       "      <td>0.863084</td>\n",
       "      <td>1.000000</td>\n",
       "      <td>0.000000</td>\n",
       "      <td>0.131082</td>\n",
       "      <td>0.109998</td>\n",
       "      <td>-0.050691</td>\n",
       "      <td>-0.147372</td>\n",
       "      <td>-0.173155</td>\n",
       "      <td>-0.145582</td>\n",
       "      <td>-0.018315</td>\n",
       "    </tr>\n",
       "    <tr>\n",
       "      <th>rank</th>\n",
       "      <td>0.011764</td>\n",
       "      <td>0.000000</td>\n",
       "      <td>1.000000</td>\n",
       "      <td>-0.056989</td>\n",
       "      <td>-0.058849</td>\n",
       "      <td>0.183930</td>\n",
       "      <td>0.108473</td>\n",
       "      <td>0.057896</td>\n",
       "      <td>-0.199482</td>\n",
       "      <td>-0.110381</td>\n",
       "    </tr>\n",
       "    <tr>\n",
       "      <th>song_id</th>\n",
       "      <td>0.137383</td>\n",
       "      <td>0.131082</td>\n",
       "      <td>-0.056989</td>\n",
       "      <td>1.000000</td>\n",
       "      <td>0.976659</td>\n",
       "      <td>-0.047489</td>\n",
       "      <td>0.091627</td>\n",
       "      <td>0.091159</td>\n",
       "      <td>-0.113758</td>\n",
       "      <td>0.080404</td>\n",
       "    </tr>\n",
       "    <tr>\n",
       "      <th>album_id</th>\n",
       "      <td>0.113490</td>\n",
       "      <td>0.109998</td>\n",
       "      <td>-0.058849</td>\n",
       "      <td>0.976659</td>\n",
       "      <td>1.000000</td>\n",
       "      <td>-0.050128</td>\n",
       "      <td>0.111398</td>\n",
       "      <td>0.111807</td>\n",
       "      <td>-0.085742</td>\n",
       "      <td>0.098117</td>\n",
       "    </tr>\n",
       "    <tr>\n",
       "      <th>album_score</th>\n",
       "      <td>-0.056799</td>\n",
       "      <td>-0.050691</td>\n",
       "      <td>0.183930</td>\n",
       "      <td>-0.047489</td>\n",
       "      <td>-0.050128</td>\n",
       "      <td>1.000000</td>\n",
       "      <td>-0.202275</td>\n",
       "      <td>-0.137428</td>\n",
       "      <td>-0.062278</td>\n",
       "      <td>-0.331228</td>\n",
       "    </tr>\n",
       "    <tr>\n",
       "      <th>album_score_count</th>\n",
       "      <td>-0.168097</td>\n",
       "      <td>-0.147372</td>\n",
       "      <td>0.108473</td>\n",
       "      <td>0.091627</td>\n",
       "      <td>0.111398</td>\n",
       "      <td>-0.202275</td>\n",
       "      <td>1.000000</td>\n",
       "      <td>0.826339</td>\n",
       "      <td>0.467847</td>\n",
       "      <td>0.642276</td>\n",
       "    </tr>\n",
       "    <tr>\n",
       "      <th>album_reply</th>\n",
       "      <td>-0.193391</td>\n",
       "      <td>-0.173155</td>\n",
       "      <td>0.057896</td>\n",
       "      <td>0.091159</td>\n",
       "      <td>0.111807</td>\n",
       "      <td>-0.137428</td>\n",
       "      <td>0.826339</td>\n",
       "      <td>1.000000</td>\n",
       "      <td>0.478947</td>\n",
       "      <td>0.679723</td>\n",
       "    </tr>\n",
       "    <tr>\n",
       "      <th>like</th>\n",
       "      <td>-0.186582</td>\n",
       "      <td>-0.145582</td>\n",
       "      <td>-0.199482</td>\n",
       "      <td>-0.113758</td>\n",
       "      <td>-0.085742</td>\n",
       "      <td>-0.062278</td>\n",
       "      <td>0.467847</td>\n",
       "      <td>0.478947</td>\n",
       "      <td>1.000000</td>\n",
       "      <td>0.600689</td>\n",
       "    </tr>\n",
       "    <tr>\n",
       "      <th>reply</th>\n",
       "      <td>-0.040597</td>\n",
       "      <td>-0.018315</td>\n",
       "      <td>-0.110381</td>\n",
       "      <td>0.080404</td>\n",
       "      <td>0.098117</td>\n",
       "      <td>-0.331228</td>\n",
       "      <td>0.642276</td>\n",
       "      <td>0.679723</td>\n",
       "      <td>0.600689</td>\n",
       "      <td>1.000000</td>\n",
       "    </tr>\n",
       "  </tbody>\n",
       "</table>\n",
       "</div>"
      ],
      "text/plain": [
       "                      index      year      rank   song_id  album_id  \\\n",
       "index              1.000000  0.863084  0.011764  0.137383  0.113490   \n",
       "year               0.863084  1.000000  0.000000  0.131082  0.109998   \n",
       "rank               0.011764  0.000000  1.000000 -0.056989 -0.058849   \n",
       "song_id            0.137383  0.131082 -0.056989  1.000000  0.976659   \n",
       "album_id           0.113490  0.109998 -0.058849  0.976659  1.000000   \n",
       "album_score       -0.056799 -0.050691  0.183930 -0.047489 -0.050128   \n",
       "album_score_count -0.168097 -0.147372  0.108473  0.091627  0.111398   \n",
       "album_reply       -0.193391 -0.173155  0.057896  0.091159  0.111807   \n",
       "like              -0.186582 -0.145582 -0.199482 -0.113758 -0.085742   \n",
       "reply             -0.040597 -0.018315 -0.110381  0.080404  0.098117   \n",
       "\n",
       "                   album_score  album_score_count  album_reply      like  \\\n",
       "index                -0.056799          -0.168097    -0.193391 -0.186582   \n",
       "year                 -0.050691          -0.147372    -0.173155 -0.145582   \n",
       "rank                  0.183930           0.108473     0.057896 -0.199482   \n",
       "song_id              -0.047489           0.091627     0.091159 -0.113758   \n",
       "album_id             -0.050128           0.111398     0.111807 -0.085742   \n",
       "album_score           1.000000          -0.202275    -0.137428 -0.062278   \n",
       "album_score_count    -0.202275           1.000000     0.826339  0.467847   \n",
       "album_reply          -0.137428           0.826339     1.000000  0.478947   \n",
       "like                 -0.062278           0.467847     0.478947  1.000000   \n",
       "reply                -0.331228           0.642276     0.679723  0.600689   \n",
       "\n",
       "                      reply  \n",
       "index             -0.040597  \n",
       "year              -0.018315  \n",
       "rank              -0.110381  \n",
       "song_id            0.080404  \n",
       "album_id           0.098117  \n",
       "album_score       -0.331228  \n",
       "album_score_count  0.642276  \n",
       "album_reply        0.679723  \n",
       "like               0.600689  \n",
       "reply              1.000000  "
      ]
     },
     "execution_count": 58,
     "metadata": {},
     "output_type": "execute_result"
    }
   ],
   "source": [
    "all.corr()"
   ]
  },
  {
   "cell_type": "code",
   "execution_count": 59,
   "metadata": {},
   "outputs": [
    {
     "data": {
      "text/plain": [
       "<matplotlib.axes._subplots.AxesSubplot at 0x1190bfe90>"
      ]
     },
     "execution_count": 59,
     "metadata": {},
     "output_type": "execute_result"
    },
    {
     "data": {
      "image/png": "[encoded data removed]",
      "text/plain": [
       "<Figure size 432x288 with 2 Axes>"
      ]
     },
     "metadata": {
      "needs_background": "light"
     },
     "output_type": "display_data"
    }
   ],
   "source": [
    "sns.heatmap(all.corr())"
   ]
  },
  {
   "cell_type": "markdown",
   "metadata": {},
   "source": [
    "# 장르"
   ]
  },
  {
   "cell_type": "code",
   "execution_count": 76,
   "metadata": {},
   "outputs": [
    {
     "data": {
      "text/plain": [
       "genre\n",
       "['발라드']                2387\n",
       "['댄스']                 1756\n",
       "['랩/힙합']               1631\n",
       "['R&B/Soul']            749\n",
       "['발라드', ' 국내드라마']       485\n",
       "['POP']                 419\n",
       "['발라드', ' 인디음악']        188\n",
       "['인디음악', ' 록/메탈']       173\n",
       "['록/메탈']                169\n",
       "['인디음악', ' 포크/블루스']     136\n",
       "dtype: int64"
      ]
     },
     "execution_count": 76,
     "metadata": {},
     "output_type": "execute_result"
    }
   ],
   "source": [
    "all.groupby('genre').size().sort_values(ascending = False).head(10)"
   ]
  },
  {
   "cell_type": "code",
   "execution_count": 75,
   "metadata": {},
   "outputs": [
    {
     "data": {
      "text/plain": [
       "<matplotlib.axes._subplots.AxesSubplot at 0x1276c3c50>"
      ]
     },
     "execution_count": 75,
     "metadata": {},
     "output_type": "execute_result"
    },
    {
     "data": {
      "image/png": "[encoded data removed]",
      "text/plain": [
       "<Figure size 432x288 with 1 Axes>"
      ]
     },
     "metadata": {
      "needs_background": "light"
     },
     "output_type": "display_data"
    }
   ],
   "source": [
    "sns.countplot(x=\"genre\", data=all)"
   ]
  },
  {
   "cell_type": "code",
   "execution_count": 82,
   "metadata": {},
   "outputs": [
    {
     "ename": "ValueError",
     "evalue": "Plot kind 'scatter' is not recognized",
     "output_type": "error",
     "traceback": [
      "\u001b[0;31m---------------------------------------------------------------------------\u001b[0m",
      "\u001b[0;31mKeyError\u001b[0m                                  Traceback (most recent call last)",
      "\u001b[0;32m/usr/local/lib/python3.7/site-packages/seaborn/categorical.py\u001b[0m in \u001b[0;36mcatplot\u001b[0;34m(x, y, hue, data, row, col, col_wrap, estimator, ci, n_boot, units, order, hue_order, row_order, col_order, kind, height, aspect, orient, color, palette, legend, legend_out, sharex, sharey, margin_titles, facet_kws, **kwargs)\u001b[0m\n\u001b[1;32m   3695\u001b[0m     \u001b[0;32mtry\u001b[0m\u001b[0;34m:\u001b[0m\u001b[0;34m\u001b[0m\u001b[0;34m\u001b[0m\u001b[0m\n\u001b[0;32m-> 3696\u001b[0;31m         \u001b[0mplot_func\u001b[0m \u001b[0;34m=\u001b[0m \u001b[0mglobals\u001b[0m\u001b[0;34m(\u001b[0m\u001b[0;34m)\u001b[0m\u001b[0;34m[\u001b[0m\u001b[0mkind\u001b[0m \u001b[0;34m+\u001b[0m \u001b[0;34m\"plot\"\u001b[0m\u001b[0;34m]\u001b[0m\u001b[0;34m\u001b[0m\u001b[0;34m\u001b[0m\u001b[0m\n\u001b[0m\u001b[1;32m   3697\u001b[0m     \u001b[0;32mexcept\u001b[0m \u001b[0mKeyError\u001b[0m\u001b[0;34m:\u001b[0m\u001b[0;34m\u001b[0m\u001b[0;34m\u001b[0m\u001b[0m\n",
      "\u001b[0;31mKeyError\u001b[0m: 'scatterplot'",
      "\nDuring handling of the above exception, another exception occurred:\n",
      "\u001b[0;31mValueError\u001b[0m                                Traceback (most recent call last)",
      "\u001b[0;32m<ipython-input-82-90b3427b2fa2>\u001b[0m in \u001b[0;36m<module>\u001b[0;34m\u001b[0m\n\u001b[0;32m----> 1\u001b[0;31m \u001b[0msns\u001b[0m\u001b[0;34m.\u001b[0m\u001b[0mcatplot\u001b[0m\u001b[0;34m(\u001b[0m \u001b[0mx\u001b[0m\u001b[0;34m=\u001b[0m\u001b[0;34m'album_score'\u001b[0m\u001b[0;34m,\u001b[0m \u001b[0my\u001b[0m\u001b[0;34m=\u001b[0m\u001b[0;34m'like'\u001b[0m\u001b[0;34m,\u001b[0m\u001b[0mdata\u001b[0m \u001b[0;34m=\u001b[0m \u001b[0;34m'all'\u001b[0m \u001b[0;34m,\u001b[0m\u001b[0mkind\u001b[0m \u001b[0;34m=\u001b[0m\u001b[0;34m'scatter'\u001b[0m\u001b[0;34m,\u001b[0m \u001b[0mhue\u001b[0m \u001b[0;34m=\u001b[0m\u001b[0;34m'genre'\u001b[0m\u001b[0;34m)\u001b[0m\u001b[0;34m\u001b[0m\u001b[0;34m\u001b[0m\u001b[0m\n\u001b[0m",
      "\u001b[0;32m/usr/local/lib/python3.7/site-packages/seaborn/categorical.py\u001b[0m in \u001b[0;36mcatplot\u001b[0;34m(x, y, hue, data, row, col, col_wrap, estimator, ci, n_boot, units, order, hue_order, row_order, col_order, kind, height, aspect, orient, color, palette, legend, legend_out, sharex, sharey, margin_titles, facet_kws, **kwargs)\u001b[0m\n\u001b[1;32m   3697\u001b[0m     \u001b[0;32mexcept\u001b[0m \u001b[0mKeyError\u001b[0m\u001b[0;34m:\u001b[0m\u001b[0;34m\u001b[0m\u001b[0;34m\u001b[0m\u001b[0m\n\u001b[1;32m   3698\u001b[0m         \u001b[0merr\u001b[0m \u001b[0;34m=\u001b[0m \u001b[0;34m\"Plot kind '{}' is not recognized\"\u001b[0m\u001b[0;34m.\u001b[0m\u001b[0mformat\u001b[0m\u001b[0;34m(\u001b[0m\u001b[0mkind\u001b[0m\u001b[0;34m)\u001b[0m\u001b[0;34m\u001b[0m\u001b[0;34m\u001b[0m\u001b[0m\n\u001b[0;32m-> 3699\u001b[0;31m         \u001b[0;32mraise\u001b[0m \u001b[0mValueError\u001b[0m\u001b[0;34m(\u001b[0m\u001b[0merr\u001b[0m\u001b[0;34m)\u001b[0m\u001b[0;34m\u001b[0m\u001b[0;34m\u001b[0m\u001b[0m\n\u001b[0m\u001b[1;32m   3700\u001b[0m \u001b[0;34m\u001b[0m\u001b[0m\n\u001b[1;32m   3701\u001b[0m     \u001b[0;31m# Alias the input variables to determine categorical order and palette\u001b[0m\u001b[0;34m\u001b[0m\u001b[0;34m\u001b[0m\u001b[0;34m\u001b[0m\u001b[0m\n",
      "\u001b[0;31mValueError\u001b[0m: Plot kind 'scatter' is not recognized"
     ]
    }
   ],
   "source": [
    "sns.catplot( x='album_score', y='like',data = 'all' ,kind ='scatter', hue ='genre')"
   ]
  },
  {
   "cell_type": "markdown",
   "metadata": {},
   "source": [
    "# 앨범 평점"
   ]
  },
  {
   "cell_type": "markdown",
   "metadata": {},
   "source": [
    "## 1.앨범평점의 분포"
   ]
  },
  {
   "cell_type": "code",
   "execution_count": 50,
   "metadata": {},
   "outputs": [
    {
     "data": {
      "text/plain": [
       "<matplotlib.axes._subplots.AxesSubplot at 0x126b77450>"
      ]
     },
     "execution_count": 50,
     "metadata": {},
     "output_type": "execute_result"
    },
    {
     "data": {
      "image/png": "[encoded data removed]",
      "text/plain": [
       "<Figure size 432x288 with 1 Axes>"
      ]
     },
     "metadata": {
      "needs_background": "light"
     },
     "output_type": "display_data"
    }
   ],
   "source": [
    "all['album_score'].plot(kind='box')"
   ]
  },
  {
   "cell_type": "code",
   "execution_count": 51,
   "metadata": {},
   "outputs": [
    {
     "data": {
      "text/plain": [
       "<matplotlib.axes._subplots.AxesSubplot at 0x12688acd0>"
      ]
     },
     "execution_count": 51,
     "metadata": {},
     "output_type": "execute_result"
    },
    {
     "data": {
      "image/png": "[encoded data removed]",
      "text/plain": [
       "<Figure size 432x288 with 1 Axes>"
      ]
     },
     "metadata": {
      "needs_background": "light"
     },
     "output_type": "display_data"
    }
   ],
   "source": [
    "all['album_score'].hist()"
   ]
  },
  {
   "cell_type": "code",
   "execution_count": 52,
   "metadata": {},
   "outputs": [],
   "source": [
    "low_score = all[all['album_score'] < 1.5]"
   ]
  },
  {
   "cell_type": "code",
   "execution_count": 53,
   "metadata": {},
   "outputs": [
    {
     "data": {
      "text/plain": [
       "1.4    105\n",
       "1.0     87\n",
       "1.1     65\n",
       "0.9     30\n",
       "1.2     23\n",
       "1.3     15\n",
       "Name: album_score, dtype: int64"
      ]
     },
     "execution_count": 53,
     "metadata": {},
     "output_type": "execute_result"
    }
   ],
   "source": [
    "low_score['album_score'].value_counts()"
   ]
  },
  {
   "cell_type": "code",
   "execution_count": 54,
   "metadata": {},
   "outputs": [
    {
     "data": {
      "text/plain": [
       "<matplotlib.axes._subplots.AxesSubplot at 0x126a65290>"
      ]
     },
     "execution_count": 54,
     "metadata": {},
     "output_type": "execute_result"
    },
    {
     "data": {
      "image/png": "[encoded data removed]",
      "text/plain": [
       "<Figure size 432x288 with 1 Axes>"
      ]
     },
     "metadata": {
      "needs_background": "light"
     },
     "output_type": "display_data"
    }
   ],
   "source": [
    "low_score['album_score'].hist()"
   ]
  },
  {
   "cell_type": "markdown",
   "metadata": {},
   "source": [
    "### 평점이 낮은 곡들은 이런친구들"
   ]
  },
  {
   "cell_type": "code",
   "execution_count": 55,
   "metadata": {},
   "outputs": [
    {
     "data": {
      "text/plain": [
       "title\n",
       "지나오다                               70\n",
       "Way Back Home                      69\n",
       "넋두리                                35\n",
       "이 노래가 클럽에서 나온다면                    30\n",
       "내 안부                               18\n",
       "대충 입고 나와                           17\n",
       "알았다면                               16\n",
       "비행운                                14\n",
       "미운 날                               12\n",
       "조금 취했어 (Prod. 2soo)                 8\n",
       "지각                                  6\n",
       "있어줘요                                6\n",
       "이별행동                                6\n",
       "시작됐나, 봄                             5\n",
       "사랑에 연습이 있었다면 (답가)                   5\n",
       "스무살이 왜이리 능글맞아 (Feat. 숀 (SHAUN))     4\n",
       "혼코노 (Honkono)                       4\n",
       "dtype: int64"
      ]
     },
     "execution_count": 55,
     "metadata": {},
     "output_type": "execute_result"
    }
   ],
   "source": [
    "low_score.groupby('title').size().sort_values(ascending = False)"
   ]
  },
  {
   "cell_type": "code",
   "execution_count": 56,
   "metadata": {},
   "outputs": [
    {
     "data": {
      "text/html": [
       "<div>\n",
       "<style scoped>\n",
       "    .dataframe tbody tr th:only-of-type {\n",
       "        vertical-align: middle;\n",
       "    }\n",
       "\n",
       "    .dataframe tbody tr th {\n",
       "        vertical-align: top;\n",
       "    }\n",
       "\n",
       "    .dataframe thead th {\n",
       "        text-align: right;\n",
       "    }\n",
       "</style>\n",
       "<table border=\"1\" class=\"dataframe\">\n",
       "  <thead>\n",
       "    <tr style=\"text-align: right;\">\n",
       "      <th></th>\n",
       "      <th>index</th>\n",
       "      <th>year</th>\n",
       "      <th>rank</th>\n",
       "      <th>song_id</th>\n",
       "      <th>album_id</th>\n",
       "      <th>album_score</th>\n",
       "      <th>album_score_count</th>\n",
       "      <th>album_reply</th>\n",
       "      <th>like</th>\n",
       "      <th>reply</th>\n",
       "    </tr>\n",
       "    <tr>\n",
       "      <th>title</th>\n",
       "      <th></th>\n",
       "      <th></th>\n",
       "      <th></th>\n",
       "      <th></th>\n",
       "      <th></th>\n",
       "      <th></th>\n",
       "      <th></th>\n",
       "      <th></th>\n",
       "      <th></th>\n",
       "      <th></th>\n",
       "    </tr>\n",
       "  </thead>\n",
       "  <tbody>\n",
       "    <tr>\n",
       "      <th>이 노래가 클럽에서 나온다면</th>\n",
       "      <td>5786.133333</td>\n",
       "      <td>2019.000000</td>\n",
       "      <td>37.133333</td>\n",
       "      <td>31576009.0</td>\n",
       "      <td>10245121.0</td>\n",
       "      <td>0.9</td>\n",
       "      <td>43561.0</td>\n",
       "      <td>32450.0</td>\n",
       "      <td>111849.0</td>\n",
       "      <td>3414.0</td>\n",
       "    </tr>\n",
       "    <tr>\n",
       "      <th>대충 입고 나와</th>\n",
       "      <td>6849.294118</td>\n",
       "      <td>2019.000000</td>\n",
       "      <td>50.294118</td>\n",
       "      <td>31835421.0</td>\n",
       "      <td>10291606.0</td>\n",
       "      <td>1.0</td>\n",
       "      <td>10500.0</td>\n",
       "      <td>2860.0</td>\n",
       "      <td>43848.0</td>\n",
       "      <td>337.0</td>\n",
       "    </tr>\n",
       "    <tr>\n",
       "      <th>지나오다</th>\n",
       "      <td>3482.842857</td>\n",
       "      <td>2018.442857</td>\n",
       "      <td>33.842857</td>\n",
       "      <td>30699142.0</td>\n",
       "      <td>10106853.0</td>\n",
       "      <td>1.0</td>\n",
       "      <td>92899.0</td>\n",
       "      <td>120742.0</td>\n",
       "      <td>216379.0</td>\n",
       "      <td>9616.0</td>\n",
       "    </tr>\n",
       "    <tr>\n",
       "      <th>미운 날</th>\n",
       "      <td>5305.750000</td>\n",
       "      <td>2019.000000</td>\n",
       "      <td>56.750000</td>\n",
       "      <td>31629490.0</td>\n",
       "      <td>10254316.0</td>\n",
       "      <td>1.1</td>\n",
       "      <td>18499.0</td>\n",
       "      <td>6249.0</td>\n",
       "      <td>37485.0</td>\n",
       "      <td>856.0</td>\n",
       "    </tr>\n",
       "    <tr>\n",
       "      <th>조금 취했어 (Prod. 2soo)</th>\n",
       "      <td>8054.375000</td>\n",
       "      <td>2019.000000</td>\n",
       "      <td>5.375000</td>\n",
       "      <td>32059630.0</td>\n",
       "      <td>10331499.0</td>\n",
       "      <td>1.1</td>\n",
       "      <td>19859.0</td>\n",
       "      <td>11555.0</td>\n",
       "      <td>73970.0</td>\n",
       "      <td>1351.0</td>\n",
       "    </tr>\n",
       "    <tr>\n",
       "      <th>있어줘요</th>\n",
       "      <td>8157.500000</td>\n",
       "      <td>2019.000000</td>\n",
       "      <td>8.500000</td>\n",
       "      <td>32085144.0</td>\n",
       "      <td>10336518.0</td>\n",
       "      <td>1.1</td>\n",
       "      <td>15613.0</td>\n",
       "      <td>4357.0</td>\n",
       "      <td>51733.0</td>\n",
       "      <td>361.0</td>\n",
       "    </tr>\n",
       "    <tr>\n",
       "      <th>스무살이 왜이리 능글맞아 (Feat. 숀 (SHAUN))</th>\n",
       "      <td>2229.500000</td>\n",
       "      <td>2018.000000</td>\n",
       "      <td>80.500000</td>\n",
       "      <td>31257764.0</td>\n",
       "      <td>10196005.0</td>\n",
       "      <td>1.1</td>\n",
       "      <td>12615.0</td>\n",
       "      <td>4743.0</td>\n",
       "      <td>30702.0</td>\n",
       "      <td>615.0</td>\n",
       "    </tr>\n",
       "    <tr>\n",
       "      <th>넋두리</th>\n",
       "      <td>1742.400000</td>\n",
       "      <td>2018.000000</td>\n",
       "      <td>43.400000</td>\n",
       "      <td>9642570.0</td>\n",
       "      <td>2710553.0</td>\n",
       "      <td>1.1</td>\n",
       "      <td>15441.0</td>\n",
       "      <td>1649.0</td>\n",
       "      <td>103605.0</td>\n",
       "      <td>430.0</td>\n",
       "    </tr>\n",
       "    <tr>\n",
       "      <th>내 안부</th>\n",
       "      <td>7599.055556</td>\n",
       "      <td>2019.000000</td>\n",
       "      <td>50.055556</td>\n",
       "      <td>31929663.0</td>\n",
       "      <td>10307772.0</td>\n",
       "      <td>1.2</td>\n",
       "      <td>4970.0</td>\n",
       "      <td>1063.0</td>\n",
       "      <td>47818.0</td>\n",
       "      <td>178.0</td>\n",
       "    </tr>\n",
       "    <tr>\n",
       "      <th>사랑에 연습이 있었다면 (답가)</th>\n",
       "      <td>6382.800000</td>\n",
       "      <td>2019.000000</td>\n",
       "      <td>83.800000</td>\n",
       "      <td>31843364.0</td>\n",
       "      <td>10292824.0</td>\n",
       "      <td>1.2</td>\n",
       "      <td>3482.0</td>\n",
       "      <td>927.0</td>\n",
       "      <td>20494.0</td>\n",
       "      <td>193.0</td>\n",
       "    </tr>\n",
       "    <tr>\n",
       "      <th>시작됐나, 봄</th>\n",
       "      <td>5054.400000</td>\n",
       "      <td>2019.000000</td>\n",
       "      <td>55.400000</td>\n",
       "      <td>31646298.0</td>\n",
       "      <td>10257142.0</td>\n",
       "      <td>1.3</td>\n",
       "      <td>6897.0</td>\n",
       "      <td>1021.0</td>\n",
       "      <td>20763.0</td>\n",
       "      <td>135.0</td>\n",
       "    </tr>\n",
       "    <tr>\n",
       "      <th>혼코노 (Honkono)</th>\n",
       "      <td>8239.250000</td>\n",
       "      <td>2019.000000</td>\n",
       "      <td>90.250000</td>\n",
       "      <td>32104350.0</td>\n",
       "      <td>10340024.0</td>\n",
       "      <td>1.3</td>\n",
       "      <td>3422.0</td>\n",
       "      <td>587.0</td>\n",
       "      <td>11407.0</td>\n",
       "      <td>96.0</td>\n",
       "    </tr>\n",
       "    <tr>\n",
       "      <th>이별행동</th>\n",
       "      <td>8198.000000</td>\n",
       "      <td>2019.000000</td>\n",
       "      <td>49.000000</td>\n",
       "      <td>32080223.0</td>\n",
       "      <td>10335543.0</td>\n",
       "      <td>1.3</td>\n",
       "      <td>3946.0</td>\n",
       "      <td>695.0</td>\n",
       "      <td>23820.0</td>\n",
       "      <td>94.0</td>\n",
       "    </tr>\n",
       "    <tr>\n",
       "      <th>알았다면</th>\n",
       "      <td>4498.375000</td>\n",
       "      <td>2018.875000</td>\n",
       "      <td>49.375000</td>\n",
       "      <td>31510409.0</td>\n",
       "      <td>10235477.0</td>\n",
       "      <td>1.4</td>\n",
       "      <td>10540.0</td>\n",
       "      <td>2415.0</td>\n",
       "      <td>42070.0</td>\n",
       "      <td>220.0</td>\n",
       "    </tr>\n",
       "    <tr>\n",
       "      <th>비행운</th>\n",
       "      <td>699.857143</td>\n",
       "      <td>2018.000000</td>\n",
       "      <td>50.857143</td>\n",
       "      <td>30086173.0</td>\n",
       "      <td>10013929.0</td>\n",
       "      <td>1.4</td>\n",
       "      <td>24465.0</td>\n",
       "      <td>8867.0</td>\n",
       "      <td>200873.0</td>\n",
       "      <td>1961.0</td>\n",
       "    </tr>\n",
       "    <tr>\n",
       "      <th>지각</th>\n",
       "      <td>1717.500000</td>\n",
       "      <td>2018.000000</td>\n",
       "      <td>68.500000</td>\n",
       "      <td>31172274.0</td>\n",
       "      <td>10182691.0</td>\n",
       "      <td>1.4</td>\n",
       "      <td>8469.0</td>\n",
       "      <td>2137.0</td>\n",
       "      <td>32466.0</td>\n",
       "      <td>135.0</td>\n",
       "    </tr>\n",
       "    <tr>\n",
       "      <th>Way Back Home</th>\n",
       "      <td>4832.333333</td>\n",
       "      <td>2018.637681</td>\n",
       "      <td>33.333333</td>\n",
       "      <td>31151836.0</td>\n",
       "      <td>10179508.0</td>\n",
       "      <td>1.4</td>\n",
       "      <td>67137.0</td>\n",
       "      <td>99392.0</td>\n",
       "      <td>283480.0</td>\n",
       "      <td>12127.0</td>\n",
       "    </tr>\n",
       "  </tbody>\n",
       "</table>\n",
       "</div>"
      ],
      "text/plain": [
       "                                       index         year       rank  \\\n",
       "title                                                                  \n",
       "이 노래가 클럽에서 나온다면                  5786.133333  2019.000000  37.133333   \n",
       "대충 입고 나와                         6849.294118  2019.000000  50.294118   \n",
       "지나오다                             3482.842857  2018.442857  33.842857   \n",
       "미운 날                             5305.750000  2019.000000  56.750000   \n",
       "조금 취했어 (Prod. 2soo)              8054.375000  2019.000000   5.375000   \n",
       "있어줘요                             8157.500000  2019.000000   8.500000   \n",
       "스무살이 왜이리 능글맞아 (Feat. 숀 (SHAUN))  2229.500000  2018.000000  80.500000   \n",
       "넋두리                              1742.400000  2018.000000  43.400000   \n",
       "내 안부                             7599.055556  2019.000000  50.055556   \n",
       "사랑에 연습이 있었다면 (답가)                6382.800000  2019.000000  83.800000   \n",
       "시작됐나, 봄                          5054.400000  2019.000000  55.400000   \n",
       "혼코노 (Honkono)                    8239.250000  2019.000000  90.250000   \n",
       "이별행동                             8198.000000  2019.000000  49.000000   \n",
       "알았다면                             4498.375000  2018.875000  49.375000   \n",
       "비행운                               699.857143  2018.000000  50.857143   \n",
       "지각                               1717.500000  2018.000000  68.500000   \n",
       "Way Back Home                    4832.333333  2018.637681  33.333333   \n",
       "\n",
       "                                    song_id    album_id  album_score  \\\n",
       "title                                                                  \n",
       "이 노래가 클럽에서 나온다면                  31576009.0  10245121.0          0.9   \n",
       "대충 입고 나와                         31835421.0  10291606.0          1.0   \n",
       "지나오다                             30699142.0  10106853.0          1.0   \n",
       "미운 날                             31629490.0  10254316.0          1.1   \n",
       "조금 취했어 (Prod. 2soo)              32059630.0  10331499.0          1.1   \n",
       "있어줘요                             32085144.0  10336518.0          1.1   \n",
       "스무살이 왜이리 능글맞아 (Feat. 숀 (SHAUN))  31257764.0  10196005.0          1.1   \n",
       "넋두리                               9642570.0   2710553.0          1.1   \n",
       "내 안부                             31929663.0  10307772.0          1.2   \n",
       "사랑에 연습이 있었다면 (답가)                31843364.0  10292824.0          1.2   \n",
       "시작됐나, 봄                          31646298.0  10257142.0          1.3   \n",
       "혼코노 (Honkono)                    32104350.0  10340024.0          1.3   \n",
       "이별행동                             32080223.0  10335543.0          1.3   \n",
       "알았다면                             31510409.0  10235477.0          1.4   \n",
       "비행운                              30086173.0  10013929.0          1.4   \n",
       "지각                               31172274.0  10182691.0          1.4   \n",
       "Way Back Home                    31151836.0  10179508.0          1.4   \n",
       "\n",
       "                                 album_score_count  album_reply      like  \\\n",
       "title                                                                       \n",
       "이 노래가 클럽에서 나온다면                            43561.0      32450.0  111849.0   \n",
       "대충 입고 나와                                   10500.0       2860.0   43848.0   \n",
       "지나오다                                       92899.0     120742.0  216379.0   \n",
       "미운 날                                       18499.0       6249.0   37485.0   \n",
       "조금 취했어 (Prod. 2soo)                        19859.0      11555.0   73970.0   \n",
       "있어줘요                                       15613.0       4357.0   51733.0   \n",
       "스무살이 왜이리 능글맞아 (Feat. 숀 (SHAUN))            12615.0       4743.0   30702.0   \n",
       "넋두리                                        15441.0       1649.0  103605.0   \n",
       "내 안부                                        4970.0       1063.0   47818.0   \n",
       "사랑에 연습이 있었다면 (답가)                           3482.0        927.0   20494.0   \n",
       "시작됐나, 봄                                     6897.0       1021.0   20763.0   \n",
       "혼코노 (Honkono)                               3422.0        587.0   11407.0   \n",
       "이별행동                                        3946.0        695.0   23820.0   \n",
       "알았다면                                       10540.0       2415.0   42070.0   \n",
       "비행운                                        24465.0       8867.0  200873.0   \n",
       "지각                                          8469.0       2137.0   32466.0   \n",
       "Way Back Home                              67137.0      99392.0  283480.0   \n",
       "\n",
       "                                   reply  \n",
       "title                                     \n",
       "이 노래가 클럽에서 나온다면                   3414.0  \n",
       "대충 입고 나와                           337.0  \n",
       "지나오다                              9616.0  \n",
       "미운 날                               856.0  \n",
       "조금 취했어 (Prod. 2soo)               1351.0  \n",
       "있어줘요                               361.0  \n",
       "스무살이 왜이리 능글맞아 (Feat. 숀 (SHAUN))    615.0  \n",
       "넋두리                                430.0  \n",
       "내 안부                               178.0  \n",
       "사랑에 연습이 있었다면 (답가)                  193.0  \n",
       "시작됐나, 봄                            135.0  \n",
       "혼코노 (Honkono)                       96.0  \n",
       "이별행동                                94.0  \n",
       "알았다면                               220.0  \n",
       "비행운                               1961.0  \n",
       "지각                                 135.0  \n",
       "Way Back Home                    12127.0  "
      ]
     },
     "execution_count": 56,
     "metadata": {},
     "output_type": "execute_result"
    }
   ],
   "source": [
    "low_score.groupby('title').mean().sort_values(by='album_score',ascending=True)"
   ]
  },
  {
   "cell_type": "markdown",
   "metadata": {},
   "source": [
    "## 2.앨범평점과 앨범좋아요 수의 연관성및 분포"
   ]
  },
  {
   "cell_type": "code",
   "execution_count": 57,
   "metadata": {},
   "outputs": [
    {
     "data": {
      "text/plain": [
       "<seaborn.axisgrid.JointGrid at 0x126f29a90>"
      ]
     },
     "execution_count": 57,
     "metadata": {},
     "output_type": "execute_result"
    },
    {
     "data": {
      "image/png": "[encoded data removed]",
      "text/plain": [
       "<Figure size 432x432 with 3 Axes>"
      ]
     },
     "metadata": {
      "needs_background": "light"
     },
     "output_type": "display_data"
    }
   ],
   "source": [
    "#조인트플롯\n",
    "sns.jointplot(data = all, x='album_score', y='like')"
   ]
  },
  {
   "cell_type": "code",
   "execution_count": null,
   "metadata": {},
   "outputs": [],
   "source": []
  },
  {
   "cell_type": "markdown",
   "metadata": {},
   "source": [
    "# 앨범댓글수의 분포"
   ]
  },
  {
   "cell_type": "markdown",
   "metadata": {},
   "source": [
    "## 1.앨범댓글수의 분포"
   ]
  },
  {
   "cell_type": "code",
   "execution_count": 3,
   "metadata": {},
   "outputs": [
    {
     "data": {
      "text/plain": [
       "<matplotlib.axes._subplots.AxesSubplot at 0x123a04710>"
      ]
     },
     "execution_count": 3,
     "metadata": {},
     "output_type": "execute_result"
    },
    {
     "data": {
      "image/png": "[encoded data removed]",
      "text/plain": [
       "<Figure size 432x288 with 1 Axes>"
      ]
     },
     "metadata": {
      "needs_background": "light"
     },
     "output_type": "display_data"
    }
   ],
   "source": [
    "all['album_reply'].plot(kind='box')"
   ]
  },
  {
   "cell_type": "code",
   "execution_count": 4,
   "metadata": {},
   "outputs": [
    {
     "data": {
      "text/plain": [
       "<matplotlib.axes._subplots.AxesSubplot at 0x123a04810>"
      ]
     },
     "execution_count": 4,
     "metadata": {},
     "output_type": "execute_result"
    },
    {
     "data": {
      "image/png": "[encoded data removed]",
      "text/plain": [
       "<Figure size 432x288 with 1 Axes>"
      ]
     },
     "metadata": {
      "needs_background": "light"
     },
     "output_type": "display_data"
    }
   ],
   "source": [
    "all['album_reply'].hist()"
   ]
  },
  {
   "cell_type": "markdown",
   "metadata": {},
   "source": [
    "### 그렇다면 댓글이 엄청많이 나오는 노래를 알아보자"
   ]
  },
  {
   "cell_type": "code",
   "execution_count": 22,
   "metadata": {},
   "outputs": [],
   "source": [
    "댓글부자 = all[all['album_reply']>80000]"
   ]
  },
  {
   "cell_type": "markdown",
   "metadata": {},
   "source": [
    "* 83개의 곡이 댓글부자로 선정되었고 1위는 코코밥,2위는 여름여름해 였다\n",
    "* 팬들이 많은 곡들(사재기가 아닐거같은)이 다수있었다\n",
    "* 그렇다면 평점은낮은데 댓글이 많은걸 알아보면 사재기를 알수 있지않을까?"
   ]
  },
  {
   "cell_type": "code",
   "execution_count": 23,
   "metadata": {},
   "outputs": [
    {
     "data": {
      "text/html": [
       "<div>\n",
       "<style scoped>\n",
       "    .dataframe tbody tr th:only-of-type {\n",
       "        vertical-align: middle;\n",
       "    }\n",
       "\n",
       "    .dataframe tbody tr th {\n",
       "        vertical-align: top;\n",
       "    }\n",
       "\n",
       "    .dataframe thead th {\n",
       "        text-align: right;\n",
       "    }\n",
       "</style>\n",
       "<table border=\"1\" class=\"dataframe\">\n",
       "  <thead>\n",
       "    <tr style=\"text-align: right;\">\n",
       "      <th></th>\n",
       "      <th>index</th>\n",
       "      <th>year</th>\n",
       "      <th>rank</th>\n",
       "      <th>song_id</th>\n",
       "      <th>album_id</th>\n",
       "      <th>album_score</th>\n",
       "      <th>album_score_count</th>\n",
       "      <th>album_reply</th>\n",
       "      <th>like</th>\n",
       "      <th>reply</th>\n",
       "    </tr>\n",
       "    <tr>\n",
       "      <th>title</th>\n",
       "      <th></th>\n",
       "      <th></th>\n",
       "      <th></th>\n",
       "      <th></th>\n",
       "      <th></th>\n",
       "      <th></th>\n",
       "      <th></th>\n",
       "      <th></th>\n",
       "      <th></th>\n",
       "      <th></th>\n",
       "    </tr>\n",
       "  </thead>\n",
       "  <tbody>\n",
       "    <tr>\n",
       "      <th>Ko Ko Bop</th>\n",
       "      <td>263.666667</td>\n",
       "      <td>2018.000000</td>\n",
       "      <td>98.000000</td>\n",
       "      <td>30529996.0</td>\n",
       "      <td>10080589.0</td>\n",
       "      <td>3.7</td>\n",
       "      <td>121533.0</td>\n",
       "      <td>262324.0</td>\n",
       "      <td>322208.0</td>\n",
       "      <td>6797.0</td>\n",
       "    </tr>\n",
       "    <tr>\n",
       "      <th>여름여름해 (Sunny Summer)</th>\n",
       "      <td>2042.727273</td>\n",
       "      <td>2018.000000</td>\n",
       "      <td>43.727273</td>\n",
       "      <td>31196764.0</td>\n",
       "      <td>10186691.0</td>\n",
       "      <td>3.6</td>\n",
       "      <td>11206.0</td>\n",
       "      <td>251167.0</td>\n",
       "      <td>56148.0</td>\n",
       "      <td>939.0</td>\n",
       "    </tr>\n",
       "    <tr>\n",
       "      <th>밤 (Time for the moon night)</th>\n",
       "      <td>1728.814815</td>\n",
       "      <td>2018.000000</td>\n",
       "      <td>29.814815</td>\n",
       "      <td>31052421.0</td>\n",
       "      <td>10163106.0</td>\n",
       "      <td>3.6</td>\n",
       "      <td>20589.0</td>\n",
       "      <td>210444.0</td>\n",
       "      <td>141500.0</td>\n",
       "      <td>3571.0</td>\n",
       "    </tr>\n",
       "    <tr>\n",
       "      <th>봄날</th>\n",
       "      <td>4246.470588</td>\n",
       "      <td>2018.541176</td>\n",
       "      <td>47.470588</td>\n",
       "      <td>30244931.0</td>\n",
       "      <td>10037969.0</td>\n",
       "      <td>3.8</td>\n",
       "      <td>89222.0</td>\n",
       "      <td>200250.0</td>\n",
       "      <td>440396.0</td>\n",
       "      <td>7133.0</td>\n",
       "    </tr>\n",
       "    <tr>\n",
       "      <th>DNA</th>\n",
       "      <td>2698.722222</td>\n",
       "      <td>2018.277778</td>\n",
       "      <td>49.722222</td>\n",
       "      <td>30637982.0</td>\n",
       "      <td>10097112.0</td>\n",
       "      <td>3.7</td>\n",
       "      <td>94678.0</td>\n",
       "      <td>148901.0</td>\n",
       "      <td>355861.0</td>\n",
       "      <td>5872.0</td>\n",
       "    </tr>\n",
       "    <tr>\n",
       "      <th>고민보다 Go</th>\n",
       "      <td>389.285714</td>\n",
       "      <td>2018.000000</td>\n",
       "      <td>90.285714</td>\n",
       "      <td>30637988.0</td>\n",
       "      <td>10097112.0</td>\n",
       "      <td>3.7</td>\n",
       "      <td>94678.0</td>\n",
       "      <td>148901.0</td>\n",
       "      <td>201204.0</td>\n",
       "      <td>1066.0</td>\n",
       "    </tr>\n",
       "    <tr>\n",
       "      <th>MIC Drop</th>\n",
       "      <td>98.000000</td>\n",
       "      <td>2018.000000</td>\n",
       "      <td>99.000000</td>\n",
       "      <td>30637987.0</td>\n",
       "      <td>10097112.0</td>\n",
       "      <td>3.7</td>\n",
       "      <td>94678.0</td>\n",
       "      <td>148901.0</td>\n",
       "      <td>192565.0</td>\n",
       "      <td>1128.0</td>\n",
       "    </tr>\n",
       "    <tr>\n",
       "      <th>해야 (Sunrise)</th>\n",
       "      <td>4640.727273</td>\n",
       "      <td>2019.000000</td>\n",
       "      <td>41.727273</td>\n",
       "      <td>31556500.0</td>\n",
       "      <td>10242169.0</td>\n",
       "      <td>3.9</td>\n",
       "      <td>11461.0</td>\n",
       "      <td>131165.0</td>\n",
       "      <td>59144.0</td>\n",
       "      <td>1658.0</td>\n",
       "    </tr>\n",
       "    <tr>\n",
       "      <th>지나오다</th>\n",
       "      <td>3482.842857</td>\n",
       "      <td>2018.442857</td>\n",
       "      <td>33.842857</td>\n",
       "      <td>30699142.0</td>\n",
       "      <td>10106853.0</td>\n",
       "      <td>1.0</td>\n",
       "      <td>92899.0</td>\n",
       "      <td>120742.0</td>\n",
       "      <td>216379.0</td>\n",
       "      <td>9616.0</td>\n",
       "    </tr>\n",
       "    <tr>\n",
       "      <th>빨간 맛 (Red Flavor)</th>\n",
       "      <td>1313.500000</td>\n",
       "      <td>2018.000000</td>\n",
       "      <td>64.500000</td>\n",
       "      <td>30512671.0</td>\n",
       "      <td>10077879.0</td>\n",
       "      <td>3.9</td>\n",
       "      <td>33926.0</td>\n",
       "      <td>116821.0</td>\n",
       "      <td>216152.0</td>\n",
       "      <td>2383.0</td>\n",
       "    </tr>\n",
       "    <tr>\n",
       "      <th>그리워하다</th>\n",
       "      <td>3163.206349</td>\n",
       "      <td>2018.380952</td>\n",
       "      <td>64.206349</td>\n",
       "      <td>30672529.0</td>\n",
       "      <td>10102658.0</td>\n",
       "      <td>4.2</td>\n",
       "      <td>33712.0</td>\n",
       "      <td>114177.0</td>\n",
       "      <td>235913.0</td>\n",
       "      <td>4319.0</td>\n",
       "    </tr>\n",
       "    <tr>\n",
       "      <th>전하지 못한 진심 (Feat. Steve Aoki)</th>\n",
       "      <td>2853.355556</td>\n",
       "      <td>2018.266667</td>\n",
       "      <td>54.355556</td>\n",
       "      <td>31085238.0</td>\n",
       "      <td>10168559.0</td>\n",
       "      <td>3.8</td>\n",
       "      <td>82103.0</td>\n",
       "      <td>104928.0</td>\n",
       "      <td>222445.0</td>\n",
       "      <td>2796.0</td>\n",
       "    </tr>\n",
       "    <tr>\n",
       "      <th>Intro : Singularity</th>\n",
       "      <td>1432.142857</td>\n",
       "      <td>2018.000000</td>\n",
       "      <td>83.142857</td>\n",
       "      <td>31085236.0</td>\n",
       "      <td>10168559.0</td>\n",
       "      <td>3.8</td>\n",
       "      <td>82103.0</td>\n",
       "      <td>104928.0</td>\n",
       "      <td>114666.0</td>\n",
       "      <td>669.0</td>\n",
       "    </tr>\n",
       "    <tr>\n",
       "      <th>낙원</th>\n",
       "      <td>1361.333333</td>\n",
       "      <td>2018.000000</td>\n",
       "      <td>62.333333</td>\n",
       "      <td>31085240.0</td>\n",
       "      <td>10168559.0</td>\n",
       "      <td>3.8</td>\n",
       "      <td>82103.0</td>\n",
       "      <td>104928.0</td>\n",
       "      <td>136618.0</td>\n",
       "      <td>1049.0</td>\n",
       "    </tr>\n",
       "    <tr>\n",
       "      <th>So What</th>\n",
       "      <td>1423.214286</td>\n",
       "      <td>2018.000000</td>\n",
       "      <td>74.214286</td>\n",
       "      <td>31085245.0</td>\n",
       "      <td>10168559.0</td>\n",
       "      <td>3.8</td>\n",
       "      <td>82103.0</td>\n",
       "      <td>104928.0</td>\n",
       "      <td>125800.0</td>\n",
       "      <td>734.0</td>\n",
       "    </tr>\n",
       "    <tr>\n",
       "      <th>Magic Shop</th>\n",
       "      <td>1463.764706</td>\n",
       "      <td>2018.000000</td>\n",
       "      <td>64.764706</td>\n",
       "      <td>31085242.0</td>\n",
       "      <td>10168559.0</td>\n",
       "      <td>3.8</td>\n",
       "      <td>82103.0</td>\n",
       "      <td>104928.0</td>\n",
       "      <td>150736.0</td>\n",
       "      <td>1945.0</td>\n",
       "    </tr>\n",
       "    <tr>\n",
       "      <th>Love Maze</th>\n",
       "      <td>1362.533333</td>\n",
       "      <td>2018.000000</td>\n",
       "      <td>63.533333</td>\n",
       "      <td>31085241.0</td>\n",
       "      <td>10168559.0</td>\n",
       "      <td>3.8</td>\n",
       "      <td>82103.0</td>\n",
       "      <td>104928.0</td>\n",
       "      <td>138904.0</td>\n",
       "      <td>1182.0</td>\n",
       "    </tr>\n",
       "    <tr>\n",
       "      <th>134340</th>\n",
       "      <td>1365.866667</td>\n",
       "      <td>2018.000000</td>\n",
       "      <td>66.866667</td>\n",
       "      <td>31085239.0</td>\n",
       "      <td>10168559.0</td>\n",
       "      <td>3.8</td>\n",
       "      <td>82103.0</td>\n",
       "      <td>104928.0</td>\n",
       "      <td>130333.0</td>\n",
       "      <td>1100.0</td>\n",
       "    </tr>\n",
       "    <tr>\n",
       "      <th>Outro : Tear</th>\n",
       "      <td>1385.615385</td>\n",
       "      <td>2018.000000</td>\n",
       "      <td>86.615385</td>\n",
       "      <td>31085246.0</td>\n",
       "      <td>10168559.0</td>\n",
       "      <td>3.8</td>\n",
       "      <td>82103.0</td>\n",
       "      <td>104928.0</td>\n",
       "      <td>109862.0</td>\n",
       "      <td>1096.0</td>\n",
       "    </tr>\n",
       "    <tr>\n",
       "      <th>Airplane pt.2</th>\n",
       "      <td>1865.840000</td>\n",
       "      <td>2018.000000</td>\n",
       "      <td>66.840000</td>\n",
       "      <td>31085243.0</td>\n",
       "      <td>10168559.0</td>\n",
       "      <td>3.8</td>\n",
       "      <td>82103.0</td>\n",
       "      <td>104928.0</td>\n",
       "      <td>145436.0</td>\n",
       "      <td>1044.0</td>\n",
       "    </tr>\n",
       "    <tr>\n",
       "      <th>Anpanman</th>\n",
       "      <td>2653.945946</td>\n",
       "      <td>2018.270270</td>\n",
       "      <td>65.756757</td>\n",
       "      <td>31085244.0</td>\n",
       "      <td>10168559.0</td>\n",
       "      <td>3.8</td>\n",
       "      <td>82103.0</td>\n",
       "      <td>104928.0</td>\n",
       "      <td>166327.0</td>\n",
       "      <td>1230.0</td>\n",
       "    </tr>\n",
       "    <tr>\n",
       "      <th>FAKE LOVE</th>\n",
       "      <td>3134.333333</td>\n",
       "      <td>2018.352941</td>\n",
       "      <td>35.333333</td>\n",
       "      <td>31085237.0</td>\n",
       "      <td>10168559.0</td>\n",
       "      <td>3.8</td>\n",
       "      <td>82103.0</td>\n",
       "      <td>104928.0</td>\n",
       "      <td>292376.0</td>\n",
       "      <td>6233.0</td>\n",
       "    </tr>\n",
       "    <tr>\n",
       "      <th>Way Back Home</th>\n",
       "      <td>4832.333333</td>\n",
       "      <td>2018.637681</td>\n",
       "      <td>33.333333</td>\n",
       "      <td>31151836.0</td>\n",
       "      <td>10179508.0</td>\n",
       "      <td>1.4</td>\n",
       "      <td>67137.0</td>\n",
       "      <td>99392.0</td>\n",
       "      <td>283480.0</td>\n",
       "      <td>12127.0</td>\n",
       "    </tr>\n",
       "    <tr>\n",
       "      <th>사랑을 했다 (LOVE SCENARIO)</th>\n",
       "      <td>2440.000000</td>\n",
       "      <td>2018.204082</td>\n",
       "      <td>41.000000</td>\n",
       "      <td>30859584.0</td>\n",
       "      <td>10132945.0</td>\n",
       "      <td>3.9</td>\n",
       "      <td>36710.0</td>\n",
       "      <td>96712.0</td>\n",
       "      <td>288511.0</td>\n",
       "      <td>5016.0</td>\n",
       "    </tr>\n",
       "    <tr>\n",
       "      <th>Trivia 起 : Just Dance</th>\n",
       "      <td>2624.500000</td>\n",
       "      <td>2018.000000</td>\n",
       "      <td>75.500000</td>\n",
       "      <td>31266292.0</td>\n",
       "      <td>10197480.0</td>\n",
       "      <td>3.8</td>\n",
       "      <td>70250.0</td>\n",
       "      <td>93283.0</td>\n",
       "      <td>114920.0</td>\n",
       "      <td>1152.0</td>\n",
       "    </tr>\n",
       "    <tr>\n",
       "      <th>Answer : Love Myself</th>\n",
       "      <td>3722.176471</td>\n",
       "      <td>2018.441176</td>\n",
       "      <td>73.176471</td>\n",
       "      <td>31266291.0</td>\n",
       "      <td>10197480.0</td>\n",
       "      <td>3.8</td>\n",
       "      <td>70250.0</td>\n",
       "      <td>93283.0</td>\n",
       "      <td>173402.0</td>\n",
       "      <td>2505.0</td>\n",
       "    </tr>\n",
       "    <tr>\n",
       "      <th>Epiphany</th>\n",
       "      <td>3555.666667</td>\n",
       "      <td>2018.458333</td>\n",
       "      <td>77.500000</td>\n",
       "      <td>31266288.0</td>\n",
       "      <td>10197480.0</td>\n",
       "      <td>3.8</td>\n",
       "      <td>70250.0</td>\n",
       "      <td>93283.0</td>\n",
       "      <td>145732.0</td>\n",
       "      <td>2141.0</td>\n",
       "    </tr>\n",
       "    <tr>\n",
       "      <th>Trivia 轉 : Seesaw</th>\n",
       "      <td>2721.416667</td>\n",
       "      <td>2018.000000</td>\n",
       "      <td>72.416667</td>\n",
       "      <td>31266286.0</td>\n",
       "      <td>10197480.0</td>\n",
       "      <td>3.8</td>\n",
       "      <td>70250.0</td>\n",
       "      <td>93283.0</td>\n",
       "      <td>135883.0</td>\n",
       "      <td>2489.0</td>\n",
       "    </tr>\n",
       "    <tr>\n",
       "      <th>Euphoria</th>\n",
       "      <td>3714.088235</td>\n",
       "      <td>2018.441176</td>\n",
       "      <td>65.088235</td>\n",
       "      <td>31266282.0</td>\n",
       "      <td>10197480.0</td>\n",
       "      <td>3.8</td>\n",
       "      <td>70250.0</td>\n",
       "      <td>93283.0</td>\n",
       "      <td>184163.0</td>\n",
       "      <td>2850.0</td>\n",
       "    </tr>\n",
       "    <tr>\n",
       "      <th>Trivia 承 : Love</th>\n",
       "      <td>2579.222222</td>\n",
       "      <td>2018.000000</td>\n",
       "      <td>80.222222</td>\n",
       "      <td>31266300.0</td>\n",
       "      <td>10197480.0</td>\n",
       "      <td>3.8</td>\n",
       "      <td>70250.0</td>\n",
       "      <td>93283.0</td>\n",
       "      <td>107374.0</td>\n",
       "      <td>1306.0</td>\n",
       "    </tr>\n",
       "    <tr>\n",
       "      <th>Serendipity (Full Length Edition)</th>\n",
       "      <td>2192.000000</td>\n",
       "      <td>2018.000000</td>\n",
       "      <td>93.000000</td>\n",
       "      <td>31266295.0</td>\n",
       "      <td>10197480.0</td>\n",
       "      <td>3.8</td>\n",
       "      <td>70250.0</td>\n",
       "      <td>93283.0</td>\n",
       "      <td>100403.0</td>\n",
       "      <td>1147.0</td>\n",
       "    </tr>\n",
       "    <tr>\n",
       "      <th>I`m Fine</th>\n",
       "      <td>3702.882353</td>\n",
       "      <td>2018.441176</td>\n",
       "      <td>53.882353</td>\n",
       "      <td>31266289.0</td>\n",
       "      <td>10197480.0</td>\n",
       "      <td>3.8</td>\n",
       "      <td>70250.0</td>\n",
       "      <td>93283.0</td>\n",
       "      <td>187223.0</td>\n",
       "      <td>1935.0</td>\n",
       "    </tr>\n",
       "    <tr>\n",
       "      <th>IDOL</th>\n",
       "      <td>5242.876923</td>\n",
       "      <td>2018.707692</td>\n",
       "      <td>43.876923</td>\n",
       "      <td>31266290.0</td>\n",
       "      <td>10197480.0</td>\n",
       "      <td>3.8</td>\n",
       "      <td>70250.0</td>\n",
       "      <td>93283.0</td>\n",
       "      <td>271821.0</td>\n",
       "      <td>5055.0</td>\n",
       "    </tr>\n",
       "    <tr>\n",
       "      <th>너 없인 안 된다</th>\n",
       "      <td>3700.365385</td>\n",
       "      <td>2018.461538</td>\n",
       "      <td>51.365385</td>\n",
       "      <td>31133898.0</td>\n",
       "      <td>10175106.0</td>\n",
       "      <td>4.3</td>\n",
       "      <td>25766.0</td>\n",
       "      <td>91389.0</td>\n",
       "      <td>167561.0</td>\n",
       "      <td>2803.0</td>\n",
       "    </tr>\n",
       "    <tr>\n",
       "      <th>Call me</th>\n",
       "      <td>1199.000000</td>\n",
       "      <td>2018.000000</td>\n",
       "      <td>100.000000</td>\n",
       "      <td>31133897.0</td>\n",
       "      <td>10175106.0</td>\n",
       "      <td>4.3</td>\n",
       "      <td>25766.0</td>\n",
       "      <td>91389.0</td>\n",
       "      <td>37852.0</td>\n",
       "      <td>343.0</td>\n",
       "    </tr>\n",
       "    <tr>\n",
       "      <th>Blue Moon</th>\n",
       "      <td>1293.000000</td>\n",
       "      <td>2018.000000</td>\n",
       "      <td>94.000000</td>\n",
       "      <td>31133900.0</td>\n",
       "      <td>10175106.0</td>\n",
       "      <td>4.3</td>\n",
       "      <td>25766.0</td>\n",
       "      <td>91389.0</td>\n",
       "      <td>40344.0</td>\n",
       "      <td>705.0</td>\n",
       "    </tr>\n",
       "    <tr>\n",
       "      <th>The Feeling</th>\n",
       "      <td>1315.166667</td>\n",
       "      <td>2018.000000</td>\n",
       "      <td>66.166667</td>\n",
       "      <td>31123630.0</td>\n",
       "      <td>10175106.0</td>\n",
       "      <td>4.3</td>\n",
       "      <td>25766.0</td>\n",
       "      <td>91389.0</td>\n",
       "      <td>65981.0</td>\n",
       "      <td>1407.0</td>\n",
       "    </tr>\n",
       "    <tr>\n",
       "      <th>에너제틱 (Energetic)</th>\n",
       "      <td>2514.500000</td>\n",
       "      <td>2018.220000</td>\n",
       "      <td>65.500000</td>\n",
       "      <td>30568338.0</td>\n",
       "      <td>10085951.0</td>\n",
       "      <td>4.0</td>\n",
       "      <td>84819.0</td>\n",
       "      <td>90343.0</td>\n",
       "      <td>298166.0</td>\n",
       "      <td>4321.0</td>\n",
       "    </tr>\n",
       "    <tr>\n",
       "      <th>1도 없어</th>\n",
       "      <td>2324.904762</td>\n",
       "      <td>2018.000000</td>\n",
       "      <td>25.904762</td>\n",
       "      <td>31161280.0</td>\n",
       "      <td>10181013.0</td>\n",
       "      <td>3.9</td>\n",
       "      <td>14180.0</td>\n",
       "      <td>87016.0</td>\n",
       "      <td>100358.0</td>\n",
       "      <td>1623.0</td>\n",
       "    </tr>\n",
       "    <tr>\n",
       "      <th>Friend</th>\n",
       "      <td>3261.857143</td>\n",
       "      <td>2018.000000</td>\n",
       "      <td>62.857143</td>\n",
       "      <td>31376228.0</td>\n",
       "      <td>10215293.0</td>\n",
       "      <td>4.3</td>\n",
       "      <td>25811.0</td>\n",
       "      <td>84638.0</td>\n",
       "      <td>72168.0</td>\n",
       "      <td>1215.0</td>\n",
       "    </tr>\n",
       "    <tr>\n",
       "      <th>제발</th>\n",
       "      <td>3291.000000</td>\n",
       "      <td>2018.000000</td>\n",
       "      <td>92.000000</td>\n",
       "      <td>31417921.0</td>\n",
       "      <td>10215293.0</td>\n",
       "      <td>4.3</td>\n",
       "      <td>25811.0</td>\n",
       "      <td>84638.0</td>\n",
       "      <td>40128.0</td>\n",
       "      <td>852.0</td>\n",
       "    </tr>\n",
       "    <tr>\n",
       "      <th>아름답고도 아프구나</th>\n",
       "      <td>4746.612903</td>\n",
       "      <td>2018.774194</td>\n",
       "      <td>47.612903</td>\n",
       "      <td>31417922.0</td>\n",
       "      <td>10215293.0</td>\n",
       "      <td>4.3</td>\n",
       "      <td>25811.0</td>\n",
       "      <td>84638.0</td>\n",
       "      <td>147689.0</td>\n",
       "      <td>2952.0</td>\n",
       "    </tr>\n",
       "    <tr>\n",
       "      <th>작은 것들을 위한 시 (Boy With Luv) feat. Halsey</th>\n",
       "      <td>6866.843750</td>\n",
       "      <td>2019.000000</td>\n",
       "      <td>17.843750</td>\n",
       "      <td>31737197.0</td>\n",
       "      <td>10273641.0</td>\n",
       "      <td>3.9</td>\n",
       "      <td>68324.0</td>\n",
       "      <td>84397.0</td>\n",
       "      <td>317175.0</td>\n",
       "      <td>6588.0</td>\n",
       "    </tr>\n",
       "    <tr>\n",
       "      <th>Make It Right</th>\n",
       "      <td>6407.500000</td>\n",
       "      <td>2019.000000</td>\n",
       "      <td>58.500000</td>\n",
       "      <td>31737199.0</td>\n",
       "      <td>10273641.0</td>\n",
       "      <td>3.9</td>\n",
       "      <td>68324.0</td>\n",
       "      <td>84397.0</td>\n",
       "      <td>148827.0</td>\n",
       "      <td>1215.0</td>\n",
       "    </tr>\n",
       "    <tr>\n",
       "      <th>HOME</th>\n",
       "      <td>6063.666667</td>\n",
       "      <td>2019.000000</td>\n",
       "      <td>64.666667</td>\n",
       "      <td>31737200.0</td>\n",
       "      <td>10273641.0</td>\n",
       "      <td>3.9</td>\n",
       "      <td>68324.0</td>\n",
       "      <td>84397.0</td>\n",
       "      <td>126879.0</td>\n",
       "      <td>1219.0</td>\n",
       "    </tr>\n",
       "    <tr>\n",
       "      <th>소우주 (Mikrokosmos)</th>\n",
       "      <td>6583.320000</td>\n",
       "      <td>2019.000000</td>\n",
       "      <td>56.320000</td>\n",
       "      <td>31737198.0</td>\n",
       "      <td>10273641.0</td>\n",
       "      <td>3.9</td>\n",
       "      <td>68324.0</td>\n",
       "      <td>84397.0</td>\n",
       "      <td>165641.0</td>\n",
       "      <td>1894.0</td>\n",
       "    </tr>\n",
       "    <tr>\n",
       "      <th>Dionysus</th>\n",
       "      <td>6366.476190</td>\n",
       "      <td>2019.000000</td>\n",
       "      <td>67.476190</td>\n",
       "      <td>31737202.0</td>\n",
       "      <td>10273641.0</td>\n",
       "      <td>3.9</td>\n",
       "      <td>68324.0</td>\n",
       "      <td>84397.0</td>\n",
       "      <td>135304.0</td>\n",
       "      <td>1819.0</td>\n",
       "    </tr>\n",
       "    <tr>\n",
       "      <th>Intro : Persona</th>\n",
       "      <td>5870.444444</td>\n",
       "      <td>2019.000000</td>\n",
       "      <td>71.444444</td>\n",
       "      <td>31737196.0</td>\n",
       "      <td>10273641.0</td>\n",
       "      <td>3.9</td>\n",
       "      <td>68324.0</td>\n",
       "      <td>84397.0</td>\n",
       "      <td>112320.0</td>\n",
       "      <td>1048.0</td>\n",
       "    </tr>\n",
       "    <tr>\n",
       "      <th>Jamais Vu</th>\n",
       "      <td>5913.833333</td>\n",
       "      <td>2019.000000</td>\n",
       "      <td>64.833333</td>\n",
       "      <td>31737201.0</td>\n",
       "      <td>10273641.0</td>\n",
       "      <td>3.9</td>\n",
       "      <td>68324.0</td>\n",
       "      <td>84397.0</td>\n",
       "      <td>125905.0</td>\n",
       "      <td>1250.0</td>\n",
       "    </tr>\n",
       "  </tbody>\n",
       "</table>\n",
       "</div>"
      ],
      "text/plain": [
       "                                               index         year        rank  \\\n",
       "title                                                                           \n",
       "Ko Ko Bop                                 263.666667  2018.000000   98.000000   \n",
       "여름여름해 (Sunny Summer)                     2042.727273  2018.000000   43.727273   \n",
       "밤 (Time for the moon night)              1728.814815  2018.000000   29.814815   \n",
       "봄날                                       4246.470588  2018.541176   47.470588   \n",
       "DNA                                      2698.722222  2018.277778   49.722222   \n",
       "고민보다 Go                                   389.285714  2018.000000   90.285714   \n",
       "MIC Drop                                   98.000000  2018.000000   99.000000   \n",
       "해야 (Sunrise)                             4640.727273  2019.000000   41.727273   \n",
       "지나오다                                     3482.842857  2018.442857   33.842857   \n",
       "빨간 맛 (Red Flavor)                        1313.500000  2018.000000   64.500000   \n",
       "그리워하다                                    3163.206349  2018.380952   64.206349   \n",
       "전하지 못한 진심 (Feat. Steve Aoki)             2853.355556  2018.266667   54.355556   \n",
       "Intro : Singularity                      1432.142857  2018.000000   83.142857   \n",
       "낙원                                       1361.333333  2018.000000   62.333333   \n",
       "So What                                  1423.214286  2018.000000   74.214286   \n",
       "Magic Shop                               1463.764706  2018.000000   64.764706   \n",
       "Love Maze                                1362.533333  2018.000000   63.533333   \n",
       "134340                                   1365.866667  2018.000000   66.866667   \n",
       "Outro : Tear                             1385.615385  2018.000000   86.615385   \n",
       "Airplane pt.2                            1865.840000  2018.000000   66.840000   \n",
       "Anpanman                                 2653.945946  2018.270270   65.756757   \n",
       "FAKE LOVE                                3134.333333  2018.352941   35.333333   \n",
       "Way Back Home                            4832.333333  2018.637681   33.333333   \n",
       "사랑을 했다 (LOVE SCENARIO)                   2440.000000  2018.204082   41.000000   \n",
       "Trivia 起 : Just Dance                    2624.500000  2018.000000   75.500000   \n",
       "Answer : Love Myself                     3722.176471  2018.441176   73.176471   \n",
       "Epiphany                                 3555.666667  2018.458333   77.500000   \n",
       "Trivia 轉 : Seesaw                        2721.416667  2018.000000   72.416667   \n",
       "Euphoria                                 3714.088235  2018.441176   65.088235   \n",
       "Trivia 承 : Love                          2579.222222  2018.000000   80.222222   \n",
       "Serendipity (Full Length Edition)        2192.000000  2018.000000   93.000000   \n",
       "I`m Fine                                 3702.882353  2018.441176   53.882353   \n",
       "IDOL                                     5242.876923  2018.707692   43.876923   \n",
       "너 없인 안 된다                                3700.365385  2018.461538   51.365385   \n",
       "Call me                                  1199.000000  2018.000000  100.000000   \n",
       "Blue Moon                                1293.000000  2018.000000   94.000000   \n",
       "The Feeling                              1315.166667  2018.000000   66.166667   \n",
       "에너제틱 (Energetic)                         2514.500000  2018.220000   65.500000   \n",
       "1도 없어                                    2324.904762  2018.000000   25.904762   \n",
       "Friend                                   3261.857143  2018.000000   62.857143   \n",
       "제발                                       3291.000000  2018.000000   92.000000   \n",
       "아름답고도 아프구나                               4746.612903  2018.774194   47.612903   \n",
       "작은 것들을 위한 시 (Boy With Luv) feat. Halsey  6866.843750  2019.000000   17.843750   \n",
       "Make It Right                            6407.500000  2019.000000   58.500000   \n",
       "HOME                                     6063.666667  2019.000000   64.666667   \n",
       "소우주 (Mikrokosmos)                        6583.320000  2019.000000   56.320000   \n",
       "Dionysus                                 6366.476190  2019.000000   67.476190   \n",
       "Intro : Persona                          5870.444444  2019.000000   71.444444   \n",
       "Jamais Vu                                5913.833333  2019.000000   64.833333   \n",
       "\n",
       "                                            song_id    album_id  album_score  \\\n",
       "title                                                                          \n",
       "Ko Ko Bop                                30529996.0  10080589.0          3.7   \n",
       "여름여름해 (Sunny Summer)                     31196764.0  10186691.0          3.6   \n",
       "밤 (Time for the moon night)              31052421.0  10163106.0          3.6   \n",
       "봄날                                       30244931.0  10037969.0          3.8   \n",
       "DNA                                      30637982.0  10097112.0          3.7   \n",
       "고민보다 Go                                  30637988.0  10097112.0          3.7   \n",
       "MIC Drop                                 30637987.0  10097112.0          3.7   \n",
       "해야 (Sunrise)                             31556500.0  10242169.0          3.9   \n",
       "지나오다                                     30699142.0  10106853.0          1.0   \n",
       "빨간 맛 (Red Flavor)                        30512671.0  10077879.0          3.9   \n",
       "그리워하다                                    30672529.0  10102658.0          4.2   \n",
       "전하지 못한 진심 (Feat. Steve Aoki)             31085238.0  10168559.0          3.8   \n",
       "Intro : Singularity                      31085236.0  10168559.0          3.8   \n",
       "낙원                                       31085240.0  10168559.0          3.8   \n",
       "So What                                  31085245.0  10168559.0          3.8   \n",
       "Magic Shop                               31085242.0  10168559.0          3.8   \n",
       "Love Maze                                31085241.0  10168559.0          3.8   \n",
       "134340                                   31085239.0  10168559.0          3.8   \n",
       "Outro : Tear                             31085246.0  10168559.0          3.8   \n",
       "Airplane pt.2                            31085243.0  10168559.0          3.8   \n",
       "Anpanman                                 31085244.0  10168559.0          3.8   \n",
       "FAKE LOVE                                31085237.0  10168559.0          3.8   \n",
       "Way Back Home                            31151836.0  10179508.0          1.4   \n",
       "사랑을 했다 (LOVE SCENARIO)                   30859584.0  10132945.0          3.9   \n",
       "Trivia 起 : Just Dance                    31266292.0  10197480.0          3.8   \n",
       "Answer : Love Myself                     31266291.0  10197480.0          3.8   \n",
       "Epiphany                                 31266288.0  10197480.0          3.8   \n",
       "Trivia 轉 : Seesaw                        31266286.0  10197480.0          3.8   \n",
       "Euphoria                                 31266282.0  10197480.0          3.8   \n",
       "Trivia 承 : Love                          31266300.0  10197480.0          3.8   \n",
       "Serendipity (Full Length Edition)        31266295.0  10197480.0          3.8   \n",
       "I`m Fine                                 31266289.0  10197480.0          3.8   \n",
       "IDOL                                     31266290.0  10197480.0          3.8   \n",
       "너 없인 안 된다                                31133898.0  10175106.0          4.3   \n",
       "Call me                                  31133897.0  10175106.0          4.3   \n",
       "Blue Moon                                31133900.0  10175106.0          4.3   \n",
       "The Feeling                              31123630.0  10175106.0          4.3   \n",
       "에너제틱 (Energetic)                         30568338.0  10085951.0          4.0   \n",
       "1도 없어                                    31161280.0  10181013.0          3.9   \n",
       "Friend                                   31376228.0  10215293.0          4.3   \n",
       "제발                                       31417921.0  10215293.0          4.3   \n",
       "아름답고도 아프구나                               31417922.0  10215293.0          4.3   \n",
       "작은 것들을 위한 시 (Boy With Luv) feat. Halsey  31737197.0  10273641.0          3.9   \n",
       "Make It Right                            31737199.0  10273641.0          3.9   \n",
       "HOME                                     31737200.0  10273641.0          3.9   \n",
       "소우주 (Mikrokosmos)                        31737198.0  10273641.0          3.9   \n",
       "Dionysus                                 31737202.0  10273641.0          3.9   \n",
       "Intro : Persona                          31737196.0  10273641.0          3.9   \n",
       "Jamais Vu                                31737201.0  10273641.0          3.9   \n",
       "\n",
       "                                         album_score_count  album_reply  \\\n",
       "title                                                                     \n",
       "Ko Ko Bop                                         121533.0     262324.0   \n",
       "여름여름해 (Sunny Summer)                               11206.0     251167.0   \n",
       "밤 (Time for the moon night)                        20589.0     210444.0   \n",
       "봄날                                                 89222.0     200250.0   \n",
       "DNA                                                94678.0     148901.0   \n",
       "고민보다 Go                                            94678.0     148901.0   \n",
       "MIC Drop                                           94678.0     148901.0   \n",
       "해야 (Sunrise)                                       11461.0     131165.0   \n",
       "지나오다                                               92899.0     120742.0   \n",
       "빨간 맛 (Red Flavor)                                  33926.0     116821.0   \n",
       "그리워하다                                              33712.0     114177.0   \n",
       "전하지 못한 진심 (Feat. Steve Aoki)                       82103.0     104928.0   \n",
       "Intro : Singularity                                82103.0     104928.0   \n",
       "낙원                                                 82103.0     104928.0   \n",
       "So What                                            82103.0     104928.0   \n",
       "Magic Shop                                         82103.0     104928.0   \n",
       "Love Maze                                          82103.0     104928.0   \n",
       "134340                                             82103.0     104928.0   \n",
       "Outro : Tear                                       82103.0     104928.0   \n",
       "Airplane pt.2                                      82103.0     104928.0   \n",
       "Anpanman                                           82103.0     104928.0   \n",
       "FAKE LOVE                                          82103.0     104928.0   \n",
       "Way Back Home                                      67137.0      99392.0   \n",
       "사랑을 했다 (LOVE SCENARIO)                             36710.0      96712.0   \n",
       "Trivia 起 : Just Dance                              70250.0      93283.0   \n",
       "Answer : Love Myself                               70250.0      93283.0   \n",
       "Epiphany                                           70250.0      93283.0   \n",
       "Trivia 轉 : Seesaw                                  70250.0      93283.0   \n",
       "Euphoria                                           70250.0      93283.0   \n",
       "Trivia 承 : Love                                    70250.0      93283.0   \n",
       "Serendipity (Full Length Edition)                  70250.0      93283.0   \n",
       "I`m Fine                                           70250.0      93283.0   \n",
       "IDOL                                               70250.0      93283.0   \n",
       "너 없인 안 된다                                          25766.0      91389.0   \n",
       "Call me                                            25766.0      91389.0   \n",
       "Blue Moon                                          25766.0      91389.0   \n",
       "The Feeling                                        25766.0      91389.0   \n",
       "에너제틱 (Energetic)                                   84819.0      90343.0   \n",
       "1도 없어                                              14180.0      87016.0   \n",
       "Friend                                             25811.0      84638.0   \n",
       "제발                                                 25811.0      84638.0   \n",
       "아름답고도 아프구나                                         25811.0      84638.0   \n",
       "작은 것들을 위한 시 (Boy With Luv) feat. Halsey            68324.0      84397.0   \n",
       "Make It Right                                      68324.0      84397.0   \n",
       "HOME                                               68324.0      84397.0   \n",
       "소우주 (Mikrokosmos)                                  68324.0      84397.0   \n",
       "Dionysus                                           68324.0      84397.0   \n",
       "Intro : Persona                                    68324.0      84397.0   \n",
       "Jamais Vu                                          68324.0      84397.0   \n",
       "\n",
       "                                             like    reply  \n",
       "title                                                       \n",
       "Ko Ko Bop                                322208.0   6797.0  \n",
       "여름여름해 (Sunny Summer)                      56148.0    939.0  \n",
       "밤 (Time for the moon night)              141500.0   3571.0  \n",
       "봄날                                       440396.0   7133.0  \n",
       "DNA                                      355861.0   5872.0  \n",
       "고민보다 Go                                  201204.0   1066.0  \n",
       "MIC Drop                                 192565.0   1128.0  \n",
       "해야 (Sunrise)                              59144.0   1658.0  \n",
       "지나오다                                     216379.0   9616.0  \n",
       "빨간 맛 (Red Flavor)                        216152.0   2383.0  \n",
       "그리워하다                                    235913.0   4319.0  \n",
       "전하지 못한 진심 (Feat. Steve Aoki)             222445.0   2796.0  \n",
       "Intro : Singularity                      114666.0    669.0  \n",
       "낙원                                       136618.0   1049.0  \n",
       "So What                                  125800.0    734.0  \n",
       "Magic Shop                               150736.0   1945.0  \n",
       "Love Maze                                138904.0   1182.0  \n",
       "134340                                   130333.0   1100.0  \n",
       "Outro : Tear                             109862.0   1096.0  \n",
       "Airplane pt.2                            145436.0   1044.0  \n",
       "Anpanman                                 166327.0   1230.0  \n",
       "FAKE LOVE                                292376.0   6233.0  \n",
       "Way Back Home                            283480.0  12127.0  \n",
       "사랑을 했다 (LOVE SCENARIO)                   288511.0   5016.0  \n",
       "Trivia 起 : Just Dance                    114920.0   1152.0  \n",
       "Answer : Love Myself                     173402.0   2505.0  \n",
       "Epiphany                                 145732.0   2141.0  \n",
       "Trivia 轉 : Seesaw                        135883.0   2489.0  \n",
       "Euphoria                                 184163.0   2850.0  \n",
       "Trivia 承 : Love                          107374.0   1306.0  \n",
       "Serendipity (Full Length Edition)        100403.0   1147.0  \n",
       "I`m Fine                                 187223.0   1935.0  \n",
       "IDOL                                     271821.0   5055.0  \n",
       "너 없인 안 된다                                167561.0   2803.0  \n",
       "Call me                                   37852.0    343.0  \n",
       "Blue Moon                                 40344.0    705.0  \n",
       "The Feeling                               65981.0   1407.0  \n",
       "에너제틱 (Energetic)                         298166.0   4321.0  \n",
       "1도 없어                                    100358.0   1623.0  \n",
       "Friend                                    72168.0   1215.0  \n",
       "제발                                        40128.0    852.0  \n",
       "아름답고도 아프구나                               147689.0   2952.0  \n",
       "작은 것들을 위한 시 (Boy With Luv) feat. Halsey  317175.0   6588.0  \n",
       "Make It Right                            148827.0   1215.0  \n",
       "HOME                                     126879.0   1219.0  \n",
       "소우주 (Mikrokosmos)                        165641.0   1894.0  \n",
       "Dionysus                                 135304.0   1819.0  \n",
       "Intro : Persona                          112320.0   1048.0  \n",
       "Jamais Vu                                125905.0   1250.0  "
      ]
     },
     "execution_count": 23,
     "metadata": {},
     "output_type": "execute_result"
    }
   ],
   "source": [
    "댓글부자.groupby('title').mean().sort_values(by='album_reply',ascending = False)"
   ]
  },
  {
   "cell_type": "markdown",
   "metadata": {},
   "source": [
    "## 2.앨범 댓글수와 평점의 연관성 및 분포 "
   ]
  },
  {
   "cell_type": "code",
   "execution_count": 27,
   "metadata": {},
   "outputs": [
    {
     "data": {
      "text/plain": [
       "<seaborn.axisgrid.JointGrid at 0x123801590>"
      ]
     },
     "execution_count": 27,
     "metadata": {},
     "output_type": "execute_result"
    },
    {
     "data": {
      "image/png": "[encoded data removed]",
      "text/plain": [
       "<Figure size 432x432 with 3 Axes>"
      ]
     },
     "metadata": {
      "needs_background": "light"
     },
     "output_type": "display_data"
    }
   ],
   "source": [
    "#조인트플롯\n",
    "sns.jointplot(data = all, x='album_score', y='album_reply')"
   ]
  },
  {
   "cell_type": "markdown",
   "metadata": {},
   "source": [
    "### 평점은 낮은데 댓글은 9만이상인건 누구지 대체\n",
    "\n"
   ]
  },
  {
   "cell_type": "code",
   "execution_count": 28,
   "metadata": {},
   "outputs": [],
   "source": [
    "십만 = all['album_reply']>90000\n",
    "낮은평점 = all['album_score'] < 2"
   ]
  },
  {
   "cell_type": "code",
   "execution_count": 29,
   "metadata": {},
   "outputs": [
    {
     "data": {
      "text/plain": [
       "title\n",
       "Way Back Home    69\n",
       "지나오다             70\n",
       "dtype: int64"
      ]
     },
     "execution_count": 29,
     "metadata": {},
     "output_type": "execute_result"
    }
   ],
   "source": [
    "all[십만 & 낮은평점].groupby('title').size()"
   ]
  },
  {
   "cell_type": "markdown",
   "metadata": {},
   "source": [
    "# 앨범 좋아요"
   ]
  },
  {
   "cell_type": "markdown",
   "metadata": {},
   "source": [
    "## 1. 분포"
   ]
  },
  {
   "cell_type": "code",
   "execution_count": 32,
   "metadata": {},
   "outputs": [
    {
     "data": {
      "text/plain": [
       "<matplotlib.axes._subplots.AxesSubplot at 0x1262e3a50>"
      ]
     },
     "execution_count": 32,
     "metadata": {},
     "output_type": "execute_result"
    },
    {
     "data": {
      "image/png": "[encoded data removed]",
      "text/plain": [
       "<Figure size 432x288 with 1 Axes>"
      ]
     },
     "metadata": {
      "needs_background": "light"
     },
     "output_type": "display_data"
    }
   ],
   "source": [
    "all['like'].plot(kind='box')"
   ]
  },
  {
   "cell_type": "code",
   "execution_count": 33,
   "metadata": {},
   "outputs": [
    {
     "data": {
      "text/plain": [
       "<matplotlib.axes._subplots.AxesSubplot at 0x1264938d0>"
      ]
     },
     "execution_count": 33,
     "metadata": {},
     "output_type": "execute_result"
    },
    {
     "data": {
      "image/png": "[encoded data removed]",
      "text/plain": [
       "<Figure size 432x288 with 1 Axes>"
      ]
     },
     "metadata": {
      "needs_background": "light"
     },
     "output_type": "display_data"
    }
   ],
   "source": [
    "all['like'].hist()"
   ]
  },
  {
   "cell_type": "markdown",
   "metadata": {},
   "source": [
    "### 좋아요수가 많은 곡들은 대체로 인기가 많고 팬들도 많은 그런 곡인가보다"
   ]
  },
  {
   "cell_type": "code",
   "execution_count": 35,
   "metadata": {},
   "outputs": [],
   "source": [
    "좋아요 =all[all['like']>300000]"
   ]
  },
  {
   "cell_type": "code",
   "execution_count": 37,
   "metadata": {},
   "outputs": [
    {
     "data": {
      "text/plain": [
       "title\n",
       "봄날                                         85\n",
       "모든 날, 모든 순간 (Every day, Every Moment)      85\n",
       "밤편지                                        66\n",
       "DNA                                        54\n",
       "작은 것들을 위한 시 (Boy With Luv) feat. Halsey    32\n",
       "좋니                                         26\n",
       "벚꽃 엔딩                                      12\n",
       "Ko Ko Bop                                   3\n",
       "dtype: int64"
      ]
     },
     "execution_count": 37,
     "metadata": {},
     "output_type": "execute_result"
    }
   ],
   "source": [
    "좋아요.groupby('title').size().sort_values(ascending = False)"
   ]
  },
  {
   "cell_type": "markdown",
   "metadata": {},
   "source": [
    "## 2. 평점과 좋아요수의 관계"
   ]
  },
  {
   "cell_type": "code",
   "execution_count": 40,
   "metadata": {},
   "outputs": [
    {
     "data": {
      "text/plain": [
       "<matplotlib.axes._subplots.AxesSubplot at 0x126659d10>"
      ]
     },
     "execution_count": 40,
     "metadata": {},
     "output_type": "execute_result"
    },
    {
     "data": {
      "image/png": "[encoded data removed]",
      "text/plain": [
       "<Figure size 432x288 with 1 Axes>"
      ]
     },
     "metadata": {
      "needs_background": "light"
     },
     "output_type": "display_data"
    }
   ],
   "source": [
    "all.plot(kind = 'scatter',x='like', y='album_score')"
   ]
  },
  {
   "cell_type": "code",
   "execution_count": 43,
   "metadata": {},
   "outputs": [
    {
     "data": {
      "text/plain": [
       "-0.06227823744783701"
      ]
     },
     "execution_count": 43,
     "metadata": {},
     "output_type": "execute_result"
    }
   ],
   "source": [
    "all.corr().loc['like','album_score']"
   ]
  },
  {
   "cell_type": "markdown",
   "metadata": {},
   "source": [
    "* 어후 이건쓰면 안되겠다"
   ]
  },
  {
   "cell_type": "markdown",
   "metadata": {},
   "source": [
    "### (1) 좋아요가 많은 친구들은 대체로 평점도 좋네~"
   ]
  },
  {
   "cell_type": "code",
   "execution_count": 38,
   "metadata": {},
   "outputs": [
    {
     "data": {
      "text/plain": [
       "<matplotlib.axes._subplots.AxesSubplot at 0x1265987d0>"
      ]
     },
     "execution_count": 38,
     "metadata": {},
     "output_type": "execute_result"
    },
    {
     "data": {
      "image/png": "[encoded data removed]",
      "text/plain": [
       "<Figure size 432x288 with 1 Axes>"
      ]
     },
     "metadata": {
      "needs_background": "light"
     },
     "output_type": "display_data"
    }
   ],
   "source": [
    "좋아요.plot(kind = 'scatter',x='like', y='album_score')"
   ]
  },
  {
   "cell_type": "markdown",
   "metadata": {},
   "source": [
    "## (2)그렇담 좋아요가 적은 친구들은!?"
   ]
  },
  {
   "cell_type": "code",
   "execution_count": 101,
   "metadata": {},
   "outputs": [],
   "source": [
    "#좋아요수가 2만개 아래인수를 그냥그래로 저장\n",
    "그냥그래 = all[all['like']<20000]"
   ]
  },
  {
   "cell_type": "code",
   "execution_count": 100,
   "metadata": {},
   "outputs": [
    {
     "data": {
      "text/plain": [
       "<matplotlib.axes._subplots.AxesSubplot at 0x125f63450>"
      ]
     },
     "execution_count": 100,
     "metadata": {},
     "output_type": "execute_result"
    },
    {
     "data": {
      "image/png": "[encoded data removed]",
      "text/plain": [
       "<Figure size 432x288 with 1 Axes>"
      ]
     },
     "metadata": {
      "needs_background": "light"
     },
     "output_type": "display_data"
    }
   ],
   "source": [
    "그냥그래.plot(kind = 'scatter',x='like', y='album_score')"
   ]
  },
  {
   "cell_type": "markdown",
   "metadata": {},
   "source": [
    "## 그럼 평점이 높은 친구(노관심), 평점이 낮은친구를 나누어 보자"
   ]
  },
  {
   "cell_type": "markdown",
   "metadata": {},
   "source": [
    "### (2)-1 좋아요 2만아래 평점은 3.5이상"
   ]
  },
  {
   "cell_type": "code",
   "execution_count": 122,
   "metadata": {},
   "outputs": [],
   "source": [
    "노관심 = 그냥그래[그냥그래['album_score']>3.5]"
   ]
  },
  {
   "cell_type": "code",
   "execution_count": 126,
   "metadata": {},
   "outputs": [
    {
     "data": {
      "text/plain": [
       "genre\n",
       "['발라드']                   52\n",
       "['R&B/Soul']              24\n",
       "['랩/힙합']                  20\n",
       "['록/메탈']                  18\n",
       "['댄스']                    10\n",
       "['발라드', ' 국내드라마']          7\n",
       "['인디음악', ' 록/메탈']          6\n",
       "['발라드', ' 인디음악']           5\n",
       "['인디음악', ' 포크/블루스']        4\n",
       "['포크/블루스']                 2\n",
       "['R&B/Soul', ' 인디음악']      1\n",
       "['R&B/Soul', ' 국내드라마']     1\n",
       "dtype: int64"
      ]
     },
     "execution_count": 126,
     "metadata": {},
     "output_type": "execute_result"
    }
   ],
   "source": [
    "노관심.groupby('genre').size().sort_values(ascending=False)"
   ]
  },
  {
   "cell_type": "code",
   "execution_count": 129,
   "metadata": {},
   "outputs": [
    {
     "data": {
      "text/plain": [
       "rank\n",
       "95     9\n",
       "93     8\n",
       "92     7\n",
       "100    6\n",
       "87     6\n",
       "88     6\n",
       "89     6\n",
       "86     6\n",
       "98     6\n",
       "85     5\n",
       "91     5\n",
       "99     5\n",
       "90     4\n",
       "74     4\n",
       "97     4\n",
       "72     4\n",
       "84     4\n",
       "83     4\n",
       "69     4\n",
       "94     3\n",
       "78     3\n",
       "75     3\n",
       "64     3\n",
       "68     3\n",
       "80     3\n",
       "65     2\n",
       "63     2\n",
       "71     2\n",
       "81     2\n",
       "44     2\n",
       "79     2\n",
       "82     2\n",
       "51     1\n",
       "52     1\n",
       "53     1\n",
       "59     1\n",
       "43     1\n",
       "58     1\n",
       "77     1\n",
       "61     1\n",
       "62     1\n",
       "66     1\n",
       "70     1\n",
       "73     1\n",
       "76     1\n",
       "96     1\n",
       "39     1\n",
       "dtype: int64"
      ]
     },
     "execution_count": 129,
     "metadata": {},
     "output_type": "execute_result"
    }
   ],
   "source": [
    "노관심.groupby('rank').size().sort_values(ascending=False)"
   ]
  },
  {
   "cell_type": "markdown",
   "metadata": {},
   "source": [
    "### 평점이 높은 친구들은 노래는 좋은데 관심있는 사람들이 적은 ㅠㅠ"
   ]
  },
  {
   "cell_type": "markdown",
   "metadata": {},
   "source": [
    "## 근데 평점이 낮은친구들은 뭘까! 이거이거 뭔가 냄새가 나는데 -_-"
   ]
  },
  {
   "cell_type": "markdown",
   "metadata": {},
   "source": [
    "### (2)-2 좋아요 2만아래 평점은 2아래"
   ]
  },
  {
   "cell_type": "code",
   "execution_count": 110,
   "metadata": {},
   "outputs": [
    {
     "data": {
      "text/html": [
       "<div>\n",
       "<style scoped>\n",
       "    .dataframe tbody tr th:only-of-type {\n",
       "        vertical-align: middle;\n",
       "    }\n",
       "\n",
       "    .dataframe tbody tr th {\n",
       "        vertical-align: top;\n",
       "    }\n",
       "\n",
       "    .dataframe thead th {\n",
       "        text-align: right;\n",
       "    }\n",
       "</style>\n",
       "<table border=\"1\" class=\"dataframe\">\n",
       "  <thead>\n",
       "    <tr style=\"text-align: right;\">\n",
       "      <th></th>\n",
       "      <th>index</th>\n",
       "      <th>year</th>\n",
       "      <th>month</th>\n",
       "      <th>week</th>\n",
       "      <th>rank</th>\n",
       "      <th>song_id</th>\n",
       "      <th>title</th>\n",
       "      <th>artist</th>\n",
       "      <th>album</th>\n",
       "      <th>genre</th>\n",
       "      <th>album_id</th>\n",
       "      <th>album_score</th>\n",
       "      <th>album_score_count</th>\n",
       "      <th>album_reply</th>\n",
       "      <th>artist_id</th>\n",
       "      <th>fan</th>\n",
       "      <th>like</th>\n",
       "      <th>reply</th>\n",
       "    </tr>\n",
       "  </thead>\n",
       "  <tbody>\n",
       "  </tbody>\n",
       "</table>\n",
       "</div>"
      ],
      "text/plain": [
       "Empty DataFrame\n",
       "Columns: [index, year, month, week, rank, song_id, title, artist, album, genre, album_id, album_score, album_score_count, album_reply, artist_id, fan, like, reply]\n",
       "Index: []"
      ]
     },
     "execution_count": 110,
     "metadata": {},
     "output_type": "execute_result"
    }
   ],
   "source": [
    "그냥그래.head(0)"
   ]
  },
  {
   "cell_type": "code",
   "execution_count": 117,
   "metadata": {},
   "outputs": [
    {
     "data": {
      "text/html": [
       "<div>\n",
       "<style scoped>\n",
       "    .dataframe tbody tr th:only-of-type {\n",
       "        vertical-align: middle;\n",
       "    }\n",
       "\n",
       "    .dataframe tbody tr th {\n",
       "        vertical-align: top;\n",
       "    }\n",
       "\n",
       "    .dataframe thead th {\n",
       "        text-align: right;\n",
       "    }\n",
       "</style>\n",
       "<table border=\"1\" class=\"dataframe\">\n",
       "  <thead>\n",
       "    <tr style=\"text-align: right;\">\n",
       "      <th></th>\n",
       "      <th>index</th>\n",
       "      <th>year</th>\n",
       "      <th>rank</th>\n",
       "      <th>song_id</th>\n",
       "      <th>album_id</th>\n",
       "      <th>album_score</th>\n",
       "      <th>album_score_count</th>\n",
       "      <th>album_reply</th>\n",
       "      <th>like</th>\n",
       "      <th>reply</th>\n",
       "    </tr>\n",
       "    <tr>\n",
       "      <th>title</th>\n",
       "      <th></th>\n",
       "      <th></th>\n",
       "      <th></th>\n",
       "      <th></th>\n",
       "      <th></th>\n",
       "      <th></th>\n",
       "      <th></th>\n",
       "      <th></th>\n",
       "      <th></th>\n",
       "      <th></th>\n",
       "    </tr>\n",
       "  </thead>\n",
       "  <tbody>\n",
       "    <tr>\n",
       "      <th>그 날의 온도</th>\n",
       "      <td>2882.000000</td>\n",
       "      <td>2018.0</td>\n",
       "      <td>83.000000</td>\n",
       "      <td>31356460.0</td>\n",
       "      <td>10212204.0</td>\n",
       "      <td>1.5</td>\n",
       "      <td>4087.0</td>\n",
       "      <td>1973.0</td>\n",
       "      <td>17343.0</td>\n",
       "      <td>167.0</td>\n",
       "    </tr>\n",
       "    <tr>\n",
       "      <th>내 생애 가장 행복한 시간 Part.2 (Feat. 양다일)</th>\n",
       "      <td>8290.250000</td>\n",
       "      <td>2019.0</td>\n",
       "      <td>41.250000</td>\n",
       "      <td>32128107.0</td>\n",
       "      <td>10344095.0</td>\n",
       "      <td>1.9</td>\n",
       "      <td>36488.0</td>\n",
       "      <td>14728.0</td>\n",
       "      <td>17948.0</td>\n",
       "      <td>293.0</td>\n",
       "    </tr>\n",
       "    <tr>\n",
       "      <th>무인도 (Feat. MOON)</th>\n",
       "      <td>8329.000000</td>\n",
       "      <td>2019.0</td>\n",
       "      <td>80.000000</td>\n",
       "      <td>32128106.0</td>\n",
       "      <td>10344095.0</td>\n",
       "      <td>1.9</td>\n",
       "      <td>36488.0</td>\n",
       "      <td>14728.0</td>\n",
       "      <td>7421.0</td>\n",
       "      <td>108.0</td>\n",
       "    </tr>\n",
       "    <tr>\n",
       "      <th>알아 (Feat. HYNN(박혜원))</th>\n",
       "      <td>8282.000000</td>\n",
       "      <td>2019.0</td>\n",
       "      <td>83.000000</td>\n",
       "      <td>32128109.0</td>\n",
       "      <td>10344095.0</td>\n",
       "      <td>1.9</td>\n",
       "      <td>36488.0</td>\n",
       "      <td>14728.0</td>\n",
       "      <td>5253.0</td>\n",
       "      <td>67.0</td>\n",
       "    </tr>\n",
       "    <tr>\n",
       "      <th>온도 (Feat. 수란)</th>\n",
       "      <td>8373.333333</td>\n",
       "      <td>2019.0</td>\n",
       "      <td>74.333333</td>\n",
       "      <td>32128108.0</td>\n",
       "      <td>10344095.0</td>\n",
       "      <td>1.9</td>\n",
       "      <td>36488.0</td>\n",
       "      <td>14728.0</td>\n",
       "      <td>9366.0</td>\n",
       "      <td>123.0</td>\n",
       "    </tr>\n",
       "    <tr>\n",
       "      <th>전화를 할까봐</th>\n",
       "      <td>8069.000000</td>\n",
       "      <td>2019.0</td>\n",
       "      <td>70.000000</td>\n",
       "      <td>32080241.0</td>\n",
       "      <td>10335546.0</td>\n",
       "      <td>1.8</td>\n",
       "      <td>3398.0</td>\n",
       "      <td>624.0</td>\n",
       "      <td>15980.0</td>\n",
       "      <td>97.0</td>\n",
       "    </tr>\n",
       "    <tr>\n",
       "      <th>존버 (Feat. Coogie, Jiselle)</th>\n",
       "      <td>8339.000000</td>\n",
       "      <td>2019.0</td>\n",
       "      <td>90.000000</td>\n",
       "      <td>32128110.0</td>\n",
       "      <td>10344095.0</td>\n",
       "      <td>1.9</td>\n",
       "      <td>36488.0</td>\n",
       "      <td>14728.0</td>\n",
       "      <td>6605.0</td>\n",
       "      <td>141.0</td>\n",
       "    </tr>\n",
       "    <tr>\n",
       "      <th>혼코노 (Honkono)</th>\n",
       "      <td>8239.250000</td>\n",
       "      <td>2019.0</td>\n",
       "      <td>90.250000</td>\n",
       "      <td>32104350.0</td>\n",
       "      <td>10340024.0</td>\n",
       "      <td>1.3</td>\n",
       "      <td>3422.0</td>\n",
       "      <td>587.0</td>\n",
       "      <td>11407.0</td>\n",
       "      <td>96.0</td>\n",
       "    </tr>\n",
       "  </tbody>\n",
       "</table>\n",
       "</div>"
      ],
      "text/plain": [
       "                                         index    year       rank     song_id  \\\n",
       "title                                                                           \n",
       "그 날의 온도                            2882.000000  2018.0  83.000000  31356460.0   \n",
       "내 생애 가장 행복한 시간 Part.2 (Feat. 양다일)  8290.250000  2019.0  41.250000  32128107.0   \n",
       "무인도 (Feat. MOON)                   8329.000000  2019.0  80.000000  32128106.0   \n",
       "알아 (Feat. HYNN(박혜원))               8282.000000  2019.0  83.000000  32128109.0   \n",
       "온도 (Feat. 수란)                      8373.333333  2019.0  74.333333  32128108.0   \n",
       "전화를 할까봐                            8069.000000  2019.0  70.000000  32080241.0   \n",
       "존버 (Feat. Coogie, Jiselle)         8339.000000  2019.0  90.000000  32128110.0   \n",
       "혼코노 (Honkono)                      8239.250000  2019.0  90.250000  32104350.0   \n",
       "\n",
       "                                     album_id  album_score  album_score_count  \\\n",
       "title                                                                           \n",
       "그 날의 온도                            10212204.0          1.5             4087.0   \n",
       "내 생애 가장 행복한 시간 Part.2 (Feat. 양다일)  10344095.0          1.9            36488.0   \n",
       "무인도 (Feat. MOON)                   10344095.0          1.9            36488.0   \n",
       "알아 (Feat. HYNN(박혜원))               10344095.0          1.9            36488.0   \n",
       "온도 (Feat. 수란)                      10344095.0          1.9            36488.0   \n",
       "전화를 할까봐                            10335546.0          1.8             3398.0   \n",
       "존버 (Feat. Coogie, Jiselle)         10344095.0          1.9            36488.0   \n",
       "혼코노 (Honkono)                      10340024.0          1.3             3422.0   \n",
       "\n",
       "                                   album_reply     like  reply  \n",
       "title                                                           \n",
       "그 날의 온도                                 1973.0  17343.0  167.0  \n",
       "내 생애 가장 행복한 시간 Part.2 (Feat. 양다일)      14728.0  17948.0  293.0  \n",
       "무인도 (Feat. MOON)                       14728.0   7421.0  108.0  \n",
       "알아 (Feat. HYNN(박혜원))                   14728.0   5253.0   67.0  \n",
       "온도 (Feat. 수란)                          14728.0   9366.0  123.0  \n",
       "전화를 할까봐                                  624.0  15980.0   97.0  \n",
       "존버 (Feat. Coogie, Jiselle)             14728.0   6605.0  141.0  \n",
       "혼코노 (Honkono)                            587.0  11407.0   96.0  "
      ]
     },
     "execution_count": 117,
     "metadata": {},
     "output_type": "execute_result"
    }
   ],
   "source": [
    "#그냥그래중 평점이 낮은애들만 한번봐보자\n",
    "그냥그래[그냥그래['album_score']<2].groupby('title').mean()"
   ]
  },
  {
   "cell_type": "code",
   "execution_count": null,
   "metadata": {},
   "outputs": [],
   "source": []
  }
 ],
 "metadata": {
  "kernelspec": {
   "display_name": "Python 3",
   "language": "python",
   "name": "python3"
  },
  "language_info": {
   "codemirror_mode": {
    "name": "ipython",
    "version": 3
   },
   "file_extension": ".py",
   "mimetype": "text/x-python",
   "name": "python",
   "nbconvert_exporter": "python",
   "pygments_lexer": "ipython3",
   "version": "3.7.5"
  }
 },
 "nbformat": 4,
 "nbformat_minor": 2
}
