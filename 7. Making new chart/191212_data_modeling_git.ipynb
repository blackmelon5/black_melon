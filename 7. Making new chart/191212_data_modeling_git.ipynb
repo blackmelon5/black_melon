{
 "cells": [
  {
   "cell_type": "markdown",
   "metadata": {},
   "source": [
    "## abusing을 결정짓는 feature importance를 알아보기 위해 Decision Tree 이용"
   ]
  },
  {
   "cell_type": "code",
   "execution_count": 1,
   "metadata": {},
   "outputs": [],
   "source": [
    "%matplotlib inline\n",
    "import pandas as pd\n",
    "import seaborn as sns\n",
    "import matplotlib.pyplot as plt\n",
    "\n",
    "from sklearn.tree import DecisionTreeClassifier\n",
    "from sklearn.model_selection import train_test_split # 알아서 테스트랑 트래인 잘라주는거"
   ]
  },
  {
   "cell_type": "code",
   "execution_count": 27,
   "metadata": {},
   "outputs": [],
   "source": [
    "from sklearn.preprocessing import minmax_scale"
   ]
  },
  {
   "cell_type": "code",
   "execution_count": 29,
   "metadata": {},
   "outputs": [],
   "source": [
    "import numpy as np"
   ]
  },
  {
   "cell_type": "code",
   "execution_count": 61,
   "metadata": {},
   "outputs": [],
   "source": [
    "train = pd.read_csv('new_melon1819_unique.csv')"
   ]
  },
  {
   "cell_type": "code",
   "execution_count": 62,
   "metadata": {},
   "outputs": [
    {
     "data": {
      "text/html": [
       "<div>\n",
       "<style scoped>\n",
       "    .dataframe tbody tr th:only-of-type {\n",
       "        vertical-align: middle;\n",
       "    }\n",
       "\n",
       "    .dataframe tbody tr th {\n",
       "        vertical-align: top;\n",
       "    }\n",
       "\n",
       "    .dataframe thead th {\n",
       "        text-align: right;\n",
       "    }\n",
       "</style>\n",
       "<table border=\"1\" class=\"dataframe\">\n",
       "  <thead>\n",
       "    <tr style=\"text-align: right;\">\n",
       "      <th></th>\n",
       "      <th>song_id</th>\n",
       "      <th>title</th>\n",
       "      <th>like</th>\n",
       "      <th>reply</th>\n",
       "      <th>genre</th>\n",
       "      <th>artist_id</th>\n",
       "      <th>artist</th>\n",
       "      <th>fan</th>\n",
       "      <th>album_id</th>\n",
       "      <th>album</th>\n",
       "      <th>...</th>\n",
       "      <th>album_reply</th>\n",
       "      <th>album_score</th>\n",
       "      <th>album_score_count</th>\n",
       "      <th>abusing</th>\n",
       "      <th>count</th>\n",
       "      <th>fan_max</th>\n",
       "      <th>user_per</th>\n",
       "      <th>date</th>\n",
       "      <th>date_range</th>\n",
       "      <th>album_like</th>\n",
       "    </tr>\n",
       "  </thead>\n",
       "  <tbody>\n",
       "    <tr>\n",
       "      <th>641</th>\n",
       "      <td>31864628</td>\n",
       "      <td>BIRTHDAY</td>\n",
       "      <td>54294.0</td>\n",
       "      <td>736.0</td>\n",
       "      <td>['댄스']</td>\n",
       "      <td>[968260]</td>\n",
       "      <td>['전소미']</td>\n",
       "      <td>[21736]</td>\n",
       "      <td>10296482.0</td>\n",
       "      <td>BIRTHDAY</td>\n",
       "      <td>...</td>\n",
       "      <td>6552.0</td>\n",
       "      <td>3.6</td>\n",
       "      <td>11320.0</td>\n",
       "      <td>0</td>\n",
       "      <td>10</td>\n",
       "      <td>21736</td>\n",
       "      <td>1.994475</td>\n",
       "      <td>2019-06-10</td>\n",
       "      <td>176</td>\n",
       "      <td>9858.0</td>\n",
       "    </tr>\n",
       "  </tbody>\n",
       "</table>\n",
       "<p>1 rows × 21 columns</p>\n",
       "</div>"
      ],
      "text/plain": [
       "      song_id     title     like  reply   genre artist_id   artist      fan  \\\n",
       "641  31864628  BIRTHDAY  54294.0  736.0  ['댄스']  [968260]  ['전소미']  [21736]   \n",
       "\n",
       "       album_id     album     ...     album_reply  album_score  \\\n",
       "641  10296482.0  BIRTHDAY     ...          6552.0          3.6   \n",
       "\n",
       "     album_score_count  abusing  count  fan_max  user_per        date  \\\n",
       "641            11320.0        0     10    21736  1.994475  2019-06-10   \n",
       "\n",
       "    date_range  album_like  \n",
       "641        176      9858.0  \n",
       "\n",
       "[1 rows x 21 columns]"
      ]
     },
     "execution_count": 62,
     "metadata": {},
     "output_type": "execute_result"
    }
   ],
   "source": [
    "train.sample()"
   ]
  },
  {
   "cell_type": "code",
   "execution_count": 63,
   "metadata": {},
   "outputs": [],
   "source": [
    "train['album_like/like'] = train['album_like']/train['like']"
   ]
  },
  {
   "cell_type": "code",
   "execution_count": 64,
   "metadata": {},
   "outputs": [],
   "source": [
    "train['fan_per'] = minmax_scale(np.array(train['fan_max']), axis=0, copy=True)"
   ]
  },
  {
   "cell_type": "code",
   "execution_count": 65,
   "metadata": {},
   "outputs": [],
   "source": [
    "train['album_reply_per'] = minmax_scale(np.array(train['album_reply']), axis=0, copy=True)\n",
    "train['reply_per'] = minmax_scale(np.array(train['reply']), axis=0, copy=True)\n",
    "train['like_per'] = minmax_scale(np.array(train['like']), axis=0, copy=True)"
   ]
  },
  {
   "cell_type": "code",
   "execution_count": 66,
   "metadata": {},
   "outputs": [],
   "source": [
    "train['album_score_per'] = minmax_scale(np.array(train['album_score']), axis=0, copy=True)\n",
    "train['album_score_count_per'] = minmax_scale(np.array(train['album_score_count']), axis=0, copy=True)\n",
    "train['user_per_per'] = minmax_scale(np.array(train['user_per']), axis=0, copy=True)"
   ]
  },
  {
   "cell_type": "code",
   "execution_count": 67,
   "metadata": {},
   "outputs": [],
   "source": [
    "train['album_like_per'] = minmax_scale(np.array(train['album_like']), axis=0, copy=True)\n",
    "train['album_like_like_per'] = minmax_scale(np.array(train['album_like/like']), axis=0, copy=True)"
   ]
  },
  {
   "cell_type": "markdown",
   "metadata": {},
   "source": [
    "### Split train validation"
   ]
  },
  {
   "cell_type": "code",
   "execution_count": 68,
   "metadata": {},
   "outputs": [],
   "source": [
    "features = ['fan_per', 'like_per', 'album_score_per', 'album_like_like_per']"
   ]
  },
  {
   "cell_type": "code",
   "execution_count": 69,
   "metadata": {},
   "outputs": [],
   "source": [
    "X = train[features]\n",
    "y = train['abusing']"
   ]
  },
  {
   "cell_type": "code",
   "execution_count": 70,
   "metadata": {},
   "outputs": [],
   "source": [
    "X_train, X_test, y_train, y_test = train_test_split(X, y, test_size=0.2, random_state=42) # 섞어서 알아서 0.2비율로 만들어줌\n",
    "# random_sate를 정해주지 않으면 항상 달라져서 42로 줬다."
   ]
  },
  {
   "cell_type": "markdown",
   "metadata": {},
   "source": [
    "### Make classification model"
   ]
  },
  {
   "cell_type": "code",
   "execution_count": 71,
   "metadata": {},
   "outputs": [],
   "source": [
    "tree = DecisionTreeClassifier(random_state=42)"
   ]
  },
  {
   "cell_type": "code",
   "execution_count": 72,
   "metadata": {},
   "outputs": [
    {
     "data": {
      "text/plain": [
       "DecisionTreeClassifier(class_weight=None, criterion='gini', max_depth=None,\n",
       "                       max_features=None, max_leaf_nodes=None,\n",
       "                       min_impurity_decrease=0.0, min_impurity_split=None,\n",
       "                       min_samples_leaf=1, min_samples_split=2,\n",
       "                       min_weight_fraction_leaf=0.0, presort=False,\n",
       "                       random_state=42, splitter='best')"
      ]
     },
     "execution_count": 72,
     "metadata": {},
     "output_type": "execute_result"
    }
   ],
   "source": [
    "tree.fit(X_train, y_train)"
   ]
  },
  {
   "cell_type": "code",
   "execution_count": 73,
   "metadata": {},
   "outputs": [],
   "source": [
    "prediction = tree.predict(X_test) # threshold에 따라서 predict 달라진다"
   ]
  },
  {
   "cell_type": "code",
   "execution_count": 74,
   "metadata": {},
   "outputs": [],
   "source": [
    "prediction_proba = tree.predict_proba(X_test)[:,1] # 확률 구하기 "
   ]
  },
  {
   "cell_type": "code",
   "execution_count": 75,
   "metadata": {},
   "outputs": [],
   "source": [
    "y_test = pd.DataFrame(y_test)\n",
    "y_test.columns = ['Actual']"
   ]
  },
  {
   "cell_type": "code",
   "execution_count": 76,
   "metadata": {},
   "outputs": [],
   "source": [
    "y_test['Predict'] = prediction\n",
    "y_test['Predict_proba'] = prediction_proba"
   ]
  },
  {
   "cell_type": "markdown",
   "metadata": {},
   "source": [
    "### feature importance"
   ]
  },
  {
   "cell_type": "code",
   "execution_count": 77,
   "metadata": {},
   "outputs": [
    {
     "data": {
      "text/plain": [
       "array([0.06908332, 0.13545797, 0.54701395, 0.24844475])"
      ]
     },
     "execution_count": 77,
     "metadata": {},
     "output_type": "execute_result"
    }
   ],
   "source": [
    "tree.feature_importances_\n",
    "# ['fan_per', 'like_per', 'album_score_per', 'album_like_like_per'][0.06908332, 0.13545797, 0.54701395, 0.24844475"
   ]
  },
  {
   "cell_type": "markdown",
   "metadata": {},
   "source": [
    "### Confusion Matrix"
   ]
  },
  {
   "cell_type": "code",
   "execution_count": 78,
   "metadata": {},
   "outputs": [
    {
     "data": {
      "text/plain": [
       "Actual  Predict\n",
       "0       0          144\n",
       "        1            7\n",
       "1       0            3\n",
       "        1           13\n",
       "dtype: int64"
      ]
     },
     "execution_count": 78,
     "metadata": {},
     "output_type": "execute_result"
    }
   ],
   "source": [
    "y_test.groupby(['Actual', 'Predict']).size()\n",
    "# 0 false, 1 true\n",
    "# 0 nagative, 1 positive"
   ]
  }
 ],
 "metadata": {
  "kernelspec": {
   "display_name": "Python 3",
   "language": "python",
   "name": "python3"
  },
  "language_info": {
   "codemirror_mode": {
    "name": "ipython",
    "version": 3
   },
   "file_extension": ".py",
   "mimetype": "text/x-python",
   "name": "python",
   "nbconvert_exporter": "python",
   "pygments_lexer": "ipython3",
   "version": "3.7.0"
  }
 },
 "nbformat": 4,
 "nbformat_minor": 2
}
