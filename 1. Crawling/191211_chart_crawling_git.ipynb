{
 "cells": [
  {
   "cell_type": "markdown",
   "metadata": {},
   "source": [
    "# melon 차트 데이터 가져오기"
   ]
  },
  {
   "cell_type": "code",
   "execution_count": 1,
   "metadata": {},
   "outputs": [],
   "source": [
    "#!pip install bs4"
   ]
  },
  {
   "cell_type": "code",
   "execution_count": 2,
   "metadata": {},
   "outputs": [],
   "source": [
    "#!pip install selenium"
   ]
  },
  {
   "cell_type": "code",
   "execution_count": 1,
   "metadata": {},
   "outputs": [],
   "source": [
    "import pandas as pd"
   ]
  },
  {
   "cell_type": "code",
   "execution_count": 2,
   "metadata": {},
   "outputs": [],
   "source": [
    "from selenium import webdriver\n",
    "from bs4 import BeautifulSoup\n",
    "from time import sleep\n",
    "import requests\n",
    "import json\n",
    "import re"
   ]
  },
  {
   "cell_type": "code",
   "execution_count": 3,
   "metadata": {},
   "outputs": [],
   "source": [
    "# sqlite3 모듈 사용\n",
    "\n",
    "import sqlite3"
   ]
  },
  {
   "cell_type": "code",
   "execution_count": 4,
   "metadata": {},
   "outputs": [],
   "source": [
    "connection = sqlite3.connect('melon_chart_data.db')\n",
    "connection.row_factory = sqlite3.Row\n",
    "\n",
    "cursor = connection.cursor()"
   ]
  },
  {
   "cell_type": "code",
   "execution_count": 5,
   "metadata": {},
   "outputs": [
    {
     "data": {
      "text/plain": [
       "<sqlite3.Cursor at 0x11d7f49ec00>"
      ]
     },
     "execution_count": 5,
     "metadata": {},
     "output_type": "execute_result"
    }
   ],
   "source": [
    "sql = '''\n",
    "CREATE TABLE melonchart (\n",
    "    song_id INTEGER,\n",
    "    year INTEGER,\n",
    "    month TEXT,\n",
    "    week TEXT,\n",
    "\n",
    "    rank INTEGER\n",
    ")\n",
    "'''\n",
    "cursor.execute(sql)"
   ]
  },
  {
   "cell_type": "code",
   "execution_count": 6,
   "metadata": {
    "scrolled": true
   },
   "outputs": [],
   "source": [
    "cursor.execute('SELECT * FROM melonchart')\n",
    "\n",
    "rows = cursor.fetchall()\n"
   ]
  },
  {
   "cell_type": "code",
   "execution_count": 7,
   "metadata": {},
   "outputs": [],
   "source": [
    "header = {\n",
    "    'User-Agent': 'Mozilla/5.0 (Windows NT 10.0; Win64; x64) AppleWebKit/537.36 (KHTML, like Gecko) Chrome/78.0.3904.108 Safari/537.36'\n",
    "}\n",
    "\n",
    "\n",
    "d  = webdriver.Chrome('chromedriver.exe')\n",
    "d.implicitly_wait(3)"
   ]
  },
  {
   "cell_type": "code",
   "execution_count": 8,
   "metadata": {},
   "outputs": [],
   "source": [
    "driver = d\n",
    "\n",
    "def get_song_ids_and_ranks(bottom):\n",
    "    song_ids = driver.find_elements_by_xpath(f'//*[@id=\"lst{bottom}\"]/td[4]/div/a')\n",
    "    song_ids = [re.sub('[^0-9]', '', song_id.get_attribute(\"href\")) for song_id in song_ids]\n",
    "    ranks = driver.find_elements_by_xpath(f'//*[@id=\"lst{bottom}\"]/td[2]/div/span[1]')\n",
    "    return song_ids, ranks"
   ]
  },
  {
   "cell_type": "code",
   "execution_count": 9,
   "metadata": {},
   "outputs": [],
   "source": [
    "def insert_song_data(song_data):\n",
    "    fields = ', '.join(song_data.keys())\n",
    "    cursor.execute(f'INSERT INTO melonchart ({fields}) VALUES (?, ?, ?, ?, ?)', list(song_data.values()))\n",
    "    connection.commit()\n",
    "    "
   ]
  },
  {
   "cell_type": "code",
   "execution_count": 11,
   "metadata": {
    "scrolled": true
   },
   "outputs": [
    {
     "name": "stdout",
     "output_type": "stream",
     "text": [
      "{'song_id': '31477685', 'year': '2019', 'month': '01월', 'week': '12.31~01.06', 'rank': '1'}\n",
      "{'song_id': '31532643', 'year': '2019', 'month': '01월', 'week': '12.31~01.06', 'rank': '2'}\n",
      "{'song_id': '31406357', 'year': '2019', 'month': '01월', 'week': '12.31~01.06', 'rank': '3'}\n",
      "{'song_id': '31417871', 'year': '2019', 'month': '01월', 'week': '12.31~01.06', 'rank': '4'}\n",
      "{'song_id': '31448480', 'year': '2019', 'month': '01월', 'week': '12.31~01.06', 'rank': '5'}\n",
      "{'song_id': '31506637', 'year': '2019', 'month': '01월', 'week': '12.31~01.06', 'rank': '6'}\n",
      "{'song_id': '31532438', 'year': '2019', 'month': '01월', 'week': '12.31~01.06', 'rank': '7'}\n"
     ]
    },
    {
     "ename": "WebDriverException",
     "evalue": "Message: chrome not reachable\n  (Session info: chrome=78.0.3904.108)\n",
     "output_type": "error",
     "traceback": [
      "\u001b[1;31m---------------------------------------------------------------------------\u001b[0m",
      "\u001b[1;31mWebDriverException\u001b[0m                        Traceback (most recent call last)",
      "\u001b[1;32m<ipython-input-11-b7b59fbec124>\u001b[0m in \u001b[0;36m<module>\u001b[1;34m()\u001b[0m\n\u001b[0;32m     49\u001b[0m                     song_data = {\n\u001b[0;32m     50\u001b[0m                         \u001b[1;34m'song_id'\u001b[0m\u001b[1;33m:\u001b[0m \u001b[0msong_id\u001b[0m\u001b[1;33m,\u001b[0m\u001b[1;33m\u001b[0m\u001b[0m\n\u001b[1;32m---> 51\u001b[1;33m                         \u001b[1;34m'year'\u001b[0m\u001b[1;33m:\u001b[0m \u001b[0mre\u001b[0m\u001b[1;33m.\u001b[0m\u001b[0msub\u001b[0m\u001b[1;33m(\u001b[0m\u001b[1;34m'[^0-9]'\u001b[0m\u001b[1;33m,\u001b[0m \u001b[1;34m''\u001b[0m\u001b[1;33m,\u001b[0m \u001b[0myear\u001b[0m\u001b[1;33m.\u001b[0m\u001b[0mtext\u001b[0m\u001b[1;33m)\u001b[0m\u001b[1;33m,\u001b[0m\u001b[1;33m\u001b[0m\u001b[0m\n\u001b[0m\u001b[0;32m     52\u001b[0m                         \u001b[1;34m'month'\u001b[0m\u001b[1;33m:\u001b[0m \u001b[0mmonth\u001b[0m\u001b[1;33m.\u001b[0m\u001b[0mtext\u001b[0m\u001b[1;33m,\u001b[0m\u001b[1;33m\u001b[0m\u001b[0m\n\u001b[0;32m     53\u001b[0m                         \u001b[1;34m'week'\u001b[0m\u001b[1;33m:\u001b[0m \u001b[0mweek\u001b[0m\u001b[1;33m.\u001b[0m\u001b[0mtext\u001b[0m\u001b[1;33m,\u001b[0m\u001b[1;33m\u001b[0m\u001b[0m\n",
      "\u001b[1;32mC:\\python\\lib\\site-packages\\selenium\\webdriver\\remote\\webelement.py\u001b[0m in \u001b[0;36mtext\u001b[1;34m(self)\u001b[0m\n\u001b[0;32m     74\u001b[0m     \u001b[1;32mdef\u001b[0m \u001b[0mtext\u001b[0m\u001b[1;33m(\u001b[0m\u001b[0mself\u001b[0m\u001b[1;33m)\u001b[0m\u001b[1;33m:\u001b[0m\u001b[1;33m\u001b[0m\u001b[0m\n\u001b[0;32m     75\u001b[0m         \u001b[1;34m\"\"\"The text of the element.\"\"\"\u001b[0m\u001b[1;33m\u001b[0m\u001b[0m\n\u001b[1;32m---> 76\u001b[1;33m         \u001b[1;32mreturn\u001b[0m \u001b[0mself\u001b[0m\u001b[1;33m.\u001b[0m\u001b[0m_execute\u001b[0m\u001b[1;33m(\u001b[0m\u001b[0mCommand\u001b[0m\u001b[1;33m.\u001b[0m\u001b[0mGET_ELEMENT_TEXT\u001b[0m\u001b[1;33m)\u001b[0m\u001b[1;33m[\u001b[0m\u001b[1;34m'value'\u001b[0m\u001b[1;33m]\u001b[0m\u001b[1;33m\u001b[0m\u001b[0m\n\u001b[0m\u001b[0;32m     77\u001b[0m \u001b[1;33m\u001b[0m\u001b[0m\n\u001b[0;32m     78\u001b[0m     \u001b[1;32mdef\u001b[0m \u001b[0mclick\u001b[0m\u001b[1;33m(\u001b[0m\u001b[0mself\u001b[0m\u001b[1;33m)\u001b[0m\u001b[1;33m:\u001b[0m\u001b[1;33m\u001b[0m\u001b[0m\n",
      "\u001b[1;32mC:\\python\\lib\\site-packages\\selenium\\webdriver\\remote\\webelement.py\u001b[0m in \u001b[0;36m_execute\u001b[1;34m(self, command, params)\u001b[0m\n\u001b[0;32m    631\u001b[0m             \u001b[0mparams\u001b[0m \u001b[1;33m=\u001b[0m \u001b[1;33m{\u001b[0m\u001b[1;33m}\u001b[0m\u001b[1;33m\u001b[0m\u001b[0m\n\u001b[0;32m    632\u001b[0m         \u001b[0mparams\u001b[0m\u001b[1;33m[\u001b[0m\u001b[1;34m'id'\u001b[0m\u001b[1;33m]\u001b[0m \u001b[1;33m=\u001b[0m \u001b[0mself\u001b[0m\u001b[1;33m.\u001b[0m\u001b[0m_id\u001b[0m\u001b[1;33m\u001b[0m\u001b[0m\n\u001b[1;32m--> 633\u001b[1;33m         \u001b[1;32mreturn\u001b[0m \u001b[0mself\u001b[0m\u001b[1;33m.\u001b[0m\u001b[0m_parent\u001b[0m\u001b[1;33m.\u001b[0m\u001b[0mexecute\u001b[0m\u001b[1;33m(\u001b[0m\u001b[0mcommand\u001b[0m\u001b[1;33m,\u001b[0m \u001b[0mparams\u001b[0m\u001b[1;33m)\u001b[0m\u001b[1;33m\u001b[0m\u001b[0m\n\u001b[0m\u001b[0;32m    634\u001b[0m \u001b[1;33m\u001b[0m\u001b[0m\n\u001b[0;32m    635\u001b[0m     \u001b[1;32mdef\u001b[0m \u001b[0mfind_element\u001b[0m\u001b[1;33m(\u001b[0m\u001b[0mself\u001b[0m\u001b[1;33m,\u001b[0m \u001b[0mby\u001b[0m\u001b[1;33m=\u001b[0m\u001b[0mBy\u001b[0m\u001b[1;33m.\u001b[0m\u001b[0mID\u001b[0m\u001b[1;33m,\u001b[0m \u001b[0mvalue\u001b[0m\u001b[1;33m=\u001b[0m\u001b[1;32mNone\u001b[0m\u001b[1;33m)\u001b[0m\u001b[1;33m:\u001b[0m\u001b[1;33m\u001b[0m\u001b[0m\n",
      "\u001b[1;32mC:\\python\\lib\\site-packages\\selenium\\webdriver\\remote\\webdriver.py\u001b[0m in \u001b[0;36mexecute\u001b[1;34m(self, driver_command, params)\u001b[0m\n\u001b[0;32m    319\u001b[0m         \u001b[0mresponse\u001b[0m \u001b[1;33m=\u001b[0m \u001b[0mself\u001b[0m\u001b[1;33m.\u001b[0m\u001b[0mcommand_executor\u001b[0m\u001b[1;33m.\u001b[0m\u001b[0mexecute\u001b[0m\u001b[1;33m(\u001b[0m\u001b[0mdriver_command\u001b[0m\u001b[1;33m,\u001b[0m \u001b[0mparams\u001b[0m\u001b[1;33m)\u001b[0m\u001b[1;33m\u001b[0m\u001b[0m\n\u001b[0;32m    320\u001b[0m         \u001b[1;32mif\u001b[0m \u001b[0mresponse\u001b[0m\u001b[1;33m:\u001b[0m\u001b[1;33m\u001b[0m\u001b[0m\n\u001b[1;32m--> 321\u001b[1;33m             \u001b[0mself\u001b[0m\u001b[1;33m.\u001b[0m\u001b[0merror_handler\u001b[0m\u001b[1;33m.\u001b[0m\u001b[0mcheck_response\u001b[0m\u001b[1;33m(\u001b[0m\u001b[0mresponse\u001b[0m\u001b[1;33m)\u001b[0m\u001b[1;33m\u001b[0m\u001b[0m\n\u001b[0m\u001b[0;32m    322\u001b[0m             response['value'] = self._unwrap_value(\n\u001b[0;32m    323\u001b[0m                 response.get('value', None))\n",
      "\u001b[1;32mC:\\python\\lib\\site-packages\\selenium\\webdriver\\remote\\errorhandler.py\u001b[0m in \u001b[0;36mcheck_response\u001b[1;34m(self, response)\u001b[0m\n\u001b[0;32m    240\u001b[0m                 \u001b[0malert_text\u001b[0m \u001b[1;33m=\u001b[0m \u001b[0mvalue\u001b[0m\u001b[1;33m[\u001b[0m\u001b[1;34m'alert'\u001b[0m\u001b[1;33m]\u001b[0m\u001b[1;33m.\u001b[0m\u001b[0mget\u001b[0m\u001b[1;33m(\u001b[0m\u001b[1;34m'text'\u001b[0m\u001b[1;33m)\u001b[0m\u001b[1;33m\u001b[0m\u001b[0m\n\u001b[0;32m    241\u001b[0m             \u001b[1;32mraise\u001b[0m \u001b[0mexception_class\u001b[0m\u001b[1;33m(\u001b[0m\u001b[0mmessage\u001b[0m\u001b[1;33m,\u001b[0m \u001b[0mscreen\u001b[0m\u001b[1;33m,\u001b[0m \u001b[0mstacktrace\u001b[0m\u001b[1;33m,\u001b[0m \u001b[0malert_text\u001b[0m\u001b[1;33m)\u001b[0m\u001b[1;33m\u001b[0m\u001b[0m\n\u001b[1;32m--> 242\u001b[1;33m         \u001b[1;32mraise\u001b[0m \u001b[0mexception_class\u001b[0m\u001b[1;33m(\u001b[0m\u001b[0mmessage\u001b[0m\u001b[1;33m,\u001b[0m \u001b[0mscreen\u001b[0m\u001b[1;33m,\u001b[0m \u001b[0mstacktrace\u001b[0m\u001b[1;33m)\u001b[0m\u001b[1;33m\u001b[0m\u001b[0m\n\u001b[0m\u001b[0;32m    243\u001b[0m \u001b[1;33m\u001b[0m\u001b[0m\n\u001b[0;32m    244\u001b[0m     \u001b[1;32mdef\u001b[0m \u001b[0m_value_or_default\u001b[0m\u001b[1;33m(\u001b[0m\u001b[0mself\u001b[0m\u001b[1;33m,\u001b[0m \u001b[0mobj\u001b[0m\u001b[1;33m,\u001b[0m \u001b[0mkey\u001b[0m\u001b[1;33m,\u001b[0m \u001b[0mdefault\u001b[0m\u001b[1;33m)\u001b[0m\u001b[1;33m:\u001b[0m\u001b[1;33m\u001b[0m\u001b[0m\n",
      "\u001b[1;31mWebDriverException\u001b[0m: Message: chrome not reachable\n  (Session info: chrome=78.0.3904.108)\n"
     ]
    }
   ],
   "source": [
    "# melon 접속\n",
    "d.get('http://www.melon.com/chart/index.htm')\n",
    "d.get(\"http://www.melon.com/chart/search/index.htm\")\n",
    "\n",
    "d.find_element_by_xpath('//*[@id=\"d_chart_search\"]/div/h4[1]/a').click()\n",
    "\n",
    "age_xpath = '//*[@id=\"d_chart_search\"]/div/div/div[1]/div[1]/ul/li[1]/span/label'\n",
    "age = d.find_element_by_xpath(age_xpath)\n",
    "age.click()\n",
    "\n",
    "result = list()\n",
    "for i in range(1, 11):\n",
    "    year_xpath = '//*[@id=\"d_chart_search\"]/div/div/div[2]/div[1]/ul/li[' + str(i) + ']/span/label'\n",
    "    year = d.find_element_by_xpath(year_xpath)\n",
    "    year.click()\n",
    "\n",
    "    for i in range(1, 13):    \n",
    "        month_xpath = '//*[@id=\"d_chart_search\"]/div/div/div[3]/div[1]/ul/li[' + str(i) + ']/span/label'\n",
    "        month = d.find_element_by_xpath(month_xpath)\n",
    "        month.click()\n",
    "\n",
    "        for i in range(1, 6):\n",
    "            try:\n",
    "                week_xpath = '//*[@id=\"d_chart_search\"]/div/div/div[4]/div[1]/ul/li[' + str(i) + ']/span/label'\n",
    "                week = d.find_element_by_xpath(week_xpath)\n",
    "                week.click()\n",
    "\n",
    "            except:\n",
    "                print(\"week_xpath not found\")\n",
    "                continue\n",
    "\n",
    "\n",
    "            classCd = d.find_element_by_xpath('//label[@for = \"gnr_1\"]')\n",
    "            if '종합' not in classCd.text:\n",
    "                classCd = d.find_element_by_xpath('//label[@for = \"gnr_2\"]')\n",
    "\n",
    "            classCd.click()\n",
    "\n",
    "            d.find_element_by_xpath('//*[@id=\"d_srch_form\"]/div[2]/button/span/span').click() #검색 클릭\n",
    "            sleep(5) \n",
    "            count = 0\n",
    "\n",
    "            while count < 2: \n",
    "                song_ids, ranks = get_song_ids_and_ranks(count == 0 and 50 or 100)\n",
    "\n",
    "                for rank, song_id in zip(ranks, song_ids):\n",
    "                    sleep(5)\n",
    "\n",
    "                    song_data = {\n",
    "                        'song_id': song_id,\n",
    "                        'year': re.sub('[^0-9]', '', year.text),\n",
    "                        'month': month.text,\n",
    "                        'week': week.text,\n",
    "                        'rank': rank.text,\n",
    "                    }\n",
    "\n",
    "                    print(song_data)\n",
    "\n",
    "                    result.append(song_data)\n",
    "                    insert_song_data(song_data)\n",
    "\n",
    "                d.find_element_by_xpath('//*[@id=\"frm\"]/div[2]/span/a').click()\n",
    "                count += 1\n"
   ]
  },
  {
   "cell_type": "code",
   "execution_count": 12,
   "metadata": {},
   "outputs": [
    {
     "name": "stdout",
     "output_type": "stream",
     "text": [
      "\n",
      "song_id 31477685\n",
      "year 2019\n",
      "month 01월\n",
      "week 12.31~01.06\n",
      "rank 1\n",
      "\n",
      "song_id 31532643\n",
      "year 2019\n",
      "month 01월\n",
      "week 12.31~01.06\n",
      "rank 2\n",
      "\n",
      "song_id 31406357\n",
      "year 2019\n",
      "month 01월\n",
      "week 12.31~01.06\n",
      "rank 3\n",
      "\n",
      "song_id 31417871\n",
      "year 2019\n",
      "month 01월\n",
      "week 12.31~01.06\n",
      "rank 4\n",
      "\n",
      "song_id 31448480\n",
      "year 2019\n",
      "month 01월\n",
      "week 12.31~01.06\n",
      "rank 5\n",
      "\n",
      "song_id 31506637\n",
      "year 2019\n",
      "month 01월\n",
      "week 12.31~01.06\n",
      "rank 6\n",
      "\n",
      "song_id 31532438\n",
      "year 2019\n",
      "month 01월\n",
      "week 12.31~01.06\n",
      "rank 7\n"
     ]
    }
   ],
   "source": [
    "cursor.execute('SELECT * FROM melonchart')\n",
    "\n",
    "rows = cursor.fetchall()\n",
    "for row in rows:\n",
    "    print()\n",
    "    for key in row.keys():\n",
    "        print(key, row[key])"
   ]
  },
  {
   "cell_type": "code",
   "execution_count": 13,
   "metadata": {},
   "outputs": [
    {
     "data": {
      "text/html": [
       "<div>\n",
       "<style scoped>\n",
       "    .dataframe tbody tr th:only-of-type {\n",
       "        vertical-align: middle;\n",
       "    }\n",
       "\n",
       "    .dataframe tbody tr th {\n",
       "        vertical-align: top;\n",
       "    }\n",
       "\n",
       "    .dataframe thead th {\n",
       "        text-align: right;\n",
       "    }\n",
       "</style>\n",
       "<table border=\"1\" class=\"dataframe\">\n",
       "  <thead>\n",
       "    <tr style=\"text-align: right;\">\n",
       "      <th></th>\n",
       "      <th>song_id</th>\n",
       "      <th>year</th>\n",
       "      <th>month</th>\n",
       "      <th>week</th>\n",
       "      <th>rank</th>\n",
       "    </tr>\n",
       "  </thead>\n",
       "  <tbody>\n",
       "    <tr>\n",
       "      <th>0</th>\n",
       "      <td>31477685</td>\n",
       "      <td>2019</td>\n",
       "      <td>01월</td>\n",
       "      <td>12.31~01.06</td>\n",
       "      <td>1</td>\n",
       "    </tr>\n",
       "    <tr>\n",
       "      <th>1</th>\n",
       "      <td>31532643</td>\n",
       "      <td>2019</td>\n",
       "      <td>01월</td>\n",
       "      <td>12.31~01.06</td>\n",
       "      <td>2</td>\n",
       "    </tr>\n",
       "    <tr>\n",
       "      <th>2</th>\n",
       "      <td>31406357</td>\n",
       "      <td>2019</td>\n",
       "      <td>01월</td>\n",
       "      <td>12.31~01.06</td>\n",
       "      <td>3</td>\n",
       "    </tr>\n",
       "    <tr>\n",
       "      <th>3</th>\n",
       "      <td>31417871</td>\n",
       "      <td>2019</td>\n",
       "      <td>01월</td>\n",
       "      <td>12.31~01.06</td>\n",
       "      <td>4</td>\n",
       "    </tr>\n",
       "    <tr>\n",
       "      <th>4</th>\n",
       "      <td>31448480</td>\n",
       "      <td>2019</td>\n",
       "      <td>01월</td>\n",
       "      <td>12.31~01.06</td>\n",
       "      <td>5</td>\n",
       "    </tr>\n",
       "    <tr>\n",
       "      <th>5</th>\n",
       "      <td>31506637</td>\n",
       "      <td>2019</td>\n",
       "      <td>01월</td>\n",
       "      <td>12.31~01.06</td>\n",
       "      <td>6</td>\n",
       "    </tr>\n",
       "    <tr>\n",
       "      <th>6</th>\n",
       "      <td>31532438</td>\n",
       "      <td>2019</td>\n",
       "      <td>01월</td>\n",
       "      <td>12.31~01.06</td>\n",
       "      <td>7</td>\n",
       "    </tr>\n",
       "  </tbody>\n",
       "</table>\n",
       "</div>"
      ],
      "text/plain": [
       "    song_id  year month         week  rank\n",
       "0  31477685  2019   01월  12.31~01.06     1\n",
       "1  31532643  2019   01월  12.31~01.06     2\n",
       "2  31406357  2019   01월  12.31~01.06     3\n",
       "3  31417871  2019   01월  12.31~01.06     4\n",
       "4  31448480  2019   01월  12.31~01.06     5\n",
       "5  31506637  2019   01월  12.31~01.06     6\n",
       "6  31532438  2019   01월  12.31~01.06     7"
      ]
     },
     "execution_count": 13,
     "metadata": {},
     "output_type": "execute_result"
    }
   ],
   "source": [
    "df = pd.DataFrame(rows, columns=rows[0].keys())"
   ]
  },
  {
   "cell_type": "code",
   "execution_count": null,
   "metadata": {},
   "outputs": [],
   "source": [
    "df.to_csv('melon_chart.csv', index = False)"
   ]
  }
 ],
 "metadata": {
  "kernelspec": {
   "display_name": "Python 3",
   "language": "python",
   "name": "python3"
  },
  "language_info": {
   "codemirror_mode": {
    "name": "ipython",
    "version": 3
   },
   "file_extension": ".py",
   "mimetype": "text/x-python",
   "name": "python",
   "nbconvert_exporter": "python",
   "pygments_lexer": "ipython3",
   "version": "3.7.0"
  }
 },
 "nbformat": 4,
 "nbformat_minor": 2
}
